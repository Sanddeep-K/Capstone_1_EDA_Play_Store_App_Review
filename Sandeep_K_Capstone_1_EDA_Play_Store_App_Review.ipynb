{
  "nbformat": 4,
  "nbformat_minor": 0,
  "metadata": {
    "colab": {
      "provenance": [],
      "collapsed_sections": [
        "CYbXZIkOw3-p"
      ],
      "mount_file_id": "110kcmcgy0gZkYwRO2vriOkU88ZMZBe98",
      "authorship_tag": "ABX9TyN5a2q6j+Z1kIJDztsOZUOS",
      "include_colab_link": true
    },
    "kernelspec": {
      "name": "python3",
      "display_name": "Python 3"
    },
    "language_info": {
      "name": "python"
    }
  },
  "cells": [
    {
      "cell_type": "markdown",
      "metadata": {
        "id": "view-in-github",
        "colab_type": "text"
      },
      "source": [
        "<a href=\"https://colab.research.google.com/github/Sanddeep-K/Capstone_1_EDA_Play_Store_App_Review/blob/main/Sandeep_K_Capstone_1_EDA_Play_Store_App_Review.ipynb\" target=\"_parent\"><img src=\"https://colab.research.google.com/assets/colab-badge.svg\" alt=\"Open In Colab\"/></a>"
      ]
    },
    {
      "cell_type": "markdown",
      "source": [
        "# **Project Title : EDA of Play Store App Reviews**\n",
        "\n",
        "-----\n",
        "-----"
      ],
      "metadata": {
        "id": "CYbXZIkOw3-p"
      }
    },
    {
      "cell_type": "markdown",
      "source": [
        "## <b> Problem Description </b>\n",
        "\n",
        "The Play Store apps data has enormous potential to drive app-making businesses to success.\n",
        "\n",
        "New app maker company want to build a successful Mobile App, which should be accepted by huge customer base of Play Store and creatre a positive Brand Image among customers.\n",
        "\n",
        "This company has given this assignment to me and asked me to have a detailed EDA of given Play Store Data and submit a report to the Management with my Recommendations on below,\n",
        "\n",
        "1. Most Successful Genres, Categories & Apps on the Play Store\n",
        "2. Customer Segment wise most preferred App Categories\n",
        "3. Most reviewed and positively endorsed Genres / Categories & Apps\n",
        "4. Important factors leads to the success of Mobile App\n",
        "5. Technology, Specifications & Support requirements\n",
        "6. Things to be avoided by App Makers\n",
        "7. Actionable insights for the developers to work on and capture the Android market."
      ],
      "metadata": {
        "id": "3cYt3sphxJ-x"
      }
    },
    {
      "cell_type": "markdown",
      "source": [
        "# **Let's Start**\n",
        "\n",
        "-----\n",
        "-----"
      ],
      "metadata": {
        "id": "PCufhrYZxRwZ"
      }
    },
    {
      "cell_type": "markdown",
      "source": [
        "### First of all, let's mount the drive and import libraries those are required throughout the course of our analysis.\n",
        "-----"
      ],
      "metadata": {
        "id": "IS1r2Ko3xajZ"
      }
    },
    {
      "cell_type": "code",
      "source": [
        "# Let's mount Google Drive first\n",
        "\n",
        "from google.colab import drive\n",
        "drive.mount('/content/drive/', force_remount=True)"
      ],
      "metadata": {
        "colab": {
          "base_uri": "https://localhost:8080/"
        },
        "id": "hbRbcppWxidL",
        "outputId": "7431086c-5035-4f1a-caaf-7164d27f54ce"
      },
      "execution_count": 180,
      "outputs": [
        {
          "output_type": "stream",
          "name": "stdout",
          "text": [
            "Mounted at /content/drive/\n"
          ]
        }
      ]
    },
    {
      "cell_type": "markdown",
      "source": [
        "### Let's import required libraries to process data analysis and visualization\n",
        "-------"
      ],
      "metadata": {
        "id": "_saLT_uBTteE"
      }
    },
    {
      "cell_type": "code",
      "source": [
        "import pandas as pd                                                             # data processing, CSV file I/O (e.g. pd.read_csv)\n",
        "import numpy as np                                                              # linear algebra\n",
        "from matplotlib import pyplot as plt                                            # visualization tool\n",
        "plt.style.use('ggplot')\n",
        "%matplotlib inline\n",
        "import seaborn as sns                                                           # for making plots with seaborn\n",
        "color = sns.color_palette()\n",
        "sns.set(rc={'figure.figsize':(25,15)})\n",
        "\n",
        "import plotly                                                                   # visualization tool\n",
        "plotly.offline.init_notebook_mode(connected=True)\n",
        "import plotly.graph_objs as go                                                  # visualization tool\n",
        "\n",
        "import plotly.express as px\n",
        "\n",
        "import plotly.io as iplot\n",
        "iplot.renderers.default = 'colab'                                               # for visualization google colab\n",
        "\n",
        "import warnings\n",
        "warnings.filterwarnings('ignore')"
      ],
      "metadata": {
        "id": "nBRHm9j9yCAF",
        "colab": {
          "base_uri": "https://localhost:8080/",
          "height": 17
        },
        "outputId": "8a31011b-a185-4a51-d9be-2ca451a2ca3c"
      },
      "execution_count": 181,
      "outputs": [
        {
          "output_type": "display_data",
          "data": {
            "text/html": [
              "        <script type=\"text/javascript\">\n",
              "        window.PlotlyConfig = {MathJaxConfig: 'local'};\n",
              "        if (window.MathJax) {MathJax.Hub.Config({SVG: {font: \"STIX-Web\"}});}\n",
              "        if (typeof require !== 'undefined') {\n",
              "        require.undef(\"plotly\");\n",
              "        requirejs.config({\n",
              "            paths: {\n",
              "                'plotly': ['https://cdn.plot.ly/plotly-2.8.3.min']\n",
              "            }\n",
              "        });\n",
              "        require(['plotly'], function(Plotly) {\n",
              "            window._Plotly = Plotly;\n",
              "        });\n",
              "        }\n",
              "        </script>\n",
              "        "
            ]
          },
          "metadata": {}
        }
      ]
    },
    {
      "cell_type": "markdown",
      "source": [
        "## **Importing Datasets**\n",
        "\n",
        "-----\n",
        "-----"
      ],
      "metadata": {
        "id": "8GjPxNGuHrgM"
      }
    },
    {
      "cell_type": "code",
      "source": [
        "# Loading the file path and datasets for analysis.\n",
        "data_path = ('/content/drive/MyDrive/Colab Notebooks/Capstone_Project_1/Play_Store_App_Data/Play Store Data.csv')\n",
        "reviews_path = ('/content/drive/MyDrive/Colab Notebooks/Capstone_Project_1/Play_Store_App_Data/User Reviews.csv')\n",
        "\n",
        "psa_data_df = pd.read_csv(data_path)\n",
        "reviews_df = pd.read_csv(reviews_path)"
      ],
      "metadata": {
        "id": "iWkRMh7SHzuf"
      },
      "execution_count": 182,
      "outputs": []
    },
    {
      "cell_type": "markdown",
      "source": [
        "## **Exploring Dataset - 1**\n",
        "\n",
        "----------\n",
        "-----\n",
        "\n",
        "### Play Store App Data\n",
        "-----"
      ],
      "metadata": {
        "id": "RCCZtlX8NTOp"
      }
    },
    {
      "cell_type": "code",
      "source": [
        "## Let's have a glance over the number of rows and columns in our dataset\n",
        "\n",
        "shape = psa_data_df.shape\n",
        "print(\"The data set contains {} Records.\\nNumber of features are: {}. \".format(shape[0],(shape[1])))"
      ],
      "metadata": {
        "colab": {
          "base_uri": "https://localhost:8080/"
        },
        "id": "3TkqdK5sNgOG",
        "outputId": "de86155f-f0f3-4053-a1ed-bb6a68f0f05a"
      },
      "execution_count": 183,
      "outputs": [
        {
          "output_type": "stream",
          "name": "stdout",
          "text": [
            "The data set contains 10841 Records.\n",
            "Number of features are: 13. \n"
          ]
        }
      ]
    },
    {
      "cell_type": "code",
      "source": [
        "# Let's have a glance on first five rows of our dataset\n",
        "psa_data_df.head()"
      ],
      "metadata": {
        "colab": {
          "base_uri": "https://localhost:8080/",
          "height": 337
        },
        "id": "G-hV1ZoiNxeS",
        "outputId": "422110b1-4dfa-454f-fd7f-496abf790023"
      },
      "execution_count": 184,
      "outputs": [
        {
          "output_type": "execute_result",
          "data": {
            "text/plain": [
              "                                                 App        Category  Rating  \\\n",
              "0     Photo Editor & Candy Camera & Grid & ScrapBook  ART_AND_DESIGN     4.1   \n",
              "1                                Coloring book moana  ART_AND_DESIGN     3.9   \n",
              "2  U Launcher Lite – FREE Live Cool Themes, Hide ...  ART_AND_DESIGN     4.7   \n",
              "3                              Sketch - Draw & Paint  ART_AND_DESIGN     4.5   \n",
              "4              Pixel Draw - Number Art Coloring Book  ART_AND_DESIGN     4.3   \n",
              "\n",
              "  Reviews  Size     Installs  Type Price Content Rating  \\\n",
              "0     159   19M      10,000+  Free     0       Everyone   \n",
              "1     967   14M     500,000+  Free     0       Everyone   \n",
              "2   87510  8.7M   5,000,000+  Free     0       Everyone   \n",
              "3  215644   25M  50,000,000+  Free     0           Teen   \n",
              "4     967  2.8M     100,000+  Free     0       Everyone   \n",
              "\n",
              "                      Genres      Last Updated         Current Ver  \\\n",
              "0               Art & Design   January 7, 2018               1.0.0   \n",
              "1  Art & Design;Pretend Play  January 15, 2018               2.0.0   \n",
              "2               Art & Design    August 1, 2018               1.2.4   \n",
              "3               Art & Design      June 8, 2018  Varies with device   \n",
              "4    Art & Design;Creativity     June 20, 2018                 1.1   \n",
              "\n",
              "    Android Ver  \n",
              "0  4.0.3 and up  \n",
              "1  4.0.3 and up  \n",
              "2  4.0.3 and up  \n",
              "3    4.2 and up  \n",
              "4    4.4 and up  "
            ],
            "text/html": [
              "\n",
              "  <div id=\"df-2c1e4a79-afd9-40f7-a7ba-ff77354c3a40\">\n",
              "    <div class=\"colab-df-container\">\n",
              "      <div>\n",
              "<style scoped>\n",
              "    .dataframe tbody tr th:only-of-type {\n",
              "        vertical-align: middle;\n",
              "    }\n",
              "\n",
              "    .dataframe tbody tr th {\n",
              "        vertical-align: top;\n",
              "    }\n",
              "\n",
              "    .dataframe thead th {\n",
              "        text-align: right;\n",
              "    }\n",
              "</style>\n",
              "<table border=\"1\" class=\"dataframe\">\n",
              "  <thead>\n",
              "    <tr style=\"text-align: right;\">\n",
              "      <th></th>\n",
              "      <th>App</th>\n",
              "      <th>Category</th>\n",
              "      <th>Rating</th>\n",
              "      <th>Reviews</th>\n",
              "      <th>Size</th>\n",
              "      <th>Installs</th>\n",
              "      <th>Type</th>\n",
              "      <th>Price</th>\n",
              "      <th>Content Rating</th>\n",
              "      <th>Genres</th>\n",
              "      <th>Last Updated</th>\n",
              "      <th>Current Ver</th>\n",
              "      <th>Android Ver</th>\n",
              "    </tr>\n",
              "  </thead>\n",
              "  <tbody>\n",
              "    <tr>\n",
              "      <th>0</th>\n",
              "      <td>Photo Editor &amp; Candy Camera &amp; Grid &amp; ScrapBook</td>\n",
              "      <td>ART_AND_DESIGN</td>\n",
              "      <td>4.1</td>\n",
              "      <td>159</td>\n",
              "      <td>19M</td>\n",
              "      <td>10,000+</td>\n",
              "      <td>Free</td>\n",
              "      <td>0</td>\n",
              "      <td>Everyone</td>\n",
              "      <td>Art &amp; Design</td>\n",
              "      <td>January 7, 2018</td>\n",
              "      <td>1.0.0</td>\n",
              "      <td>4.0.3 and up</td>\n",
              "    </tr>\n",
              "    <tr>\n",
              "      <th>1</th>\n",
              "      <td>Coloring book moana</td>\n",
              "      <td>ART_AND_DESIGN</td>\n",
              "      <td>3.9</td>\n",
              "      <td>967</td>\n",
              "      <td>14M</td>\n",
              "      <td>500,000+</td>\n",
              "      <td>Free</td>\n",
              "      <td>0</td>\n",
              "      <td>Everyone</td>\n",
              "      <td>Art &amp; Design;Pretend Play</td>\n",
              "      <td>January 15, 2018</td>\n",
              "      <td>2.0.0</td>\n",
              "      <td>4.0.3 and up</td>\n",
              "    </tr>\n",
              "    <tr>\n",
              "      <th>2</th>\n",
              "      <td>U Launcher Lite – FREE Live Cool Themes, Hide ...</td>\n",
              "      <td>ART_AND_DESIGN</td>\n",
              "      <td>4.7</td>\n",
              "      <td>87510</td>\n",
              "      <td>8.7M</td>\n",
              "      <td>5,000,000+</td>\n",
              "      <td>Free</td>\n",
              "      <td>0</td>\n",
              "      <td>Everyone</td>\n",
              "      <td>Art &amp; Design</td>\n",
              "      <td>August 1, 2018</td>\n",
              "      <td>1.2.4</td>\n",
              "      <td>4.0.3 and up</td>\n",
              "    </tr>\n",
              "    <tr>\n",
              "      <th>3</th>\n",
              "      <td>Sketch - Draw &amp; Paint</td>\n",
              "      <td>ART_AND_DESIGN</td>\n",
              "      <td>4.5</td>\n",
              "      <td>215644</td>\n",
              "      <td>25M</td>\n",
              "      <td>50,000,000+</td>\n",
              "      <td>Free</td>\n",
              "      <td>0</td>\n",
              "      <td>Teen</td>\n",
              "      <td>Art &amp; Design</td>\n",
              "      <td>June 8, 2018</td>\n",
              "      <td>Varies with device</td>\n",
              "      <td>4.2 and up</td>\n",
              "    </tr>\n",
              "    <tr>\n",
              "      <th>4</th>\n",
              "      <td>Pixel Draw - Number Art Coloring Book</td>\n",
              "      <td>ART_AND_DESIGN</td>\n",
              "      <td>4.3</td>\n",
              "      <td>967</td>\n",
              "      <td>2.8M</td>\n",
              "      <td>100,000+</td>\n",
              "      <td>Free</td>\n",
              "      <td>0</td>\n",
              "      <td>Everyone</td>\n",
              "      <td>Art &amp; Design;Creativity</td>\n",
              "      <td>June 20, 2018</td>\n",
              "      <td>1.1</td>\n",
              "      <td>4.4 and up</td>\n",
              "    </tr>\n",
              "  </tbody>\n",
              "</table>\n",
              "</div>\n",
              "      <button class=\"colab-df-convert\" onclick=\"convertToInteractive('df-2c1e4a79-afd9-40f7-a7ba-ff77354c3a40')\"\n",
              "              title=\"Convert this dataframe to an interactive table.\"\n",
              "              style=\"display:none;\">\n",
              "        \n",
              "  <svg xmlns=\"http://www.w3.org/2000/svg\" height=\"24px\"viewBox=\"0 0 24 24\"\n",
              "       width=\"24px\">\n",
              "    <path d=\"M0 0h24v24H0V0z\" fill=\"none\"/>\n",
              "    <path d=\"M18.56 5.44l.94 2.06.94-2.06 2.06-.94-2.06-.94-.94-2.06-.94 2.06-2.06.94zm-11 1L8.5 8.5l.94-2.06 2.06-.94-2.06-.94L8.5 2.5l-.94 2.06-2.06.94zm10 10l.94 2.06.94-2.06 2.06-.94-2.06-.94-.94-2.06-.94 2.06-2.06.94z\"/><path d=\"M17.41 7.96l-1.37-1.37c-.4-.4-.92-.59-1.43-.59-.52 0-1.04.2-1.43.59L10.3 9.45l-7.72 7.72c-.78.78-.78 2.05 0 2.83L4 21.41c.39.39.9.59 1.41.59.51 0 1.02-.2 1.41-.59l7.78-7.78 2.81-2.81c.8-.78.8-2.07 0-2.86zM5.41 20L4 18.59l7.72-7.72 1.47 1.35L5.41 20z\"/>\n",
              "  </svg>\n",
              "      </button>\n",
              "      \n",
              "  <style>\n",
              "    .colab-df-container {\n",
              "      display:flex;\n",
              "      flex-wrap:wrap;\n",
              "      gap: 12px;\n",
              "    }\n",
              "\n",
              "    .colab-df-convert {\n",
              "      background-color: #E8F0FE;\n",
              "      border: none;\n",
              "      border-radius: 50%;\n",
              "      cursor: pointer;\n",
              "      display: none;\n",
              "      fill: #1967D2;\n",
              "      height: 32px;\n",
              "      padding: 0 0 0 0;\n",
              "      width: 32px;\n",
              "    }\n",
              "\n",
              "    .colab-df-convert:hover {\n",
              "      background-color: #E2EBFA;\n",
              "      box-shadow: 0px 1px 2px rgba(60, 64, 67, 0.3), 0px 1px 3px 1px rgba(60, 64, 67, 0.15);\n",
              "      fill: #174EA6;\n",
              "    }\n",
              "\n",
              "    [theme=dark] .colab-df-convert {\n",
              "      background-color: #3B4455;\n",
              "      fill: #D2E3FC;\n",
              "    }\n",
              "\n",
              "    [theme=dark] .colab-df-convert:hover {\n",
              "      background-color: #434B5C;\n",
              "      box-shadow: 0px 1px 3px 1px rgba(0, 0, 0, 0.15);\n",
              "      filter: drop-shadow(0px 1px 2px rgba(0, 0, 0, 0.3));\n",
              "      fill: #FFFFFF;\n",
              "    }\n",
              "  </style>\n",
              "\n",
              "      <script>\n",
              "        const buttonEl =\n",
              "          document.querySelector('#df-2c1e4a79-afd9-40f7-a7ba-ff77354c3a40 button.colab-df-convert');\n",
              "        buttonEl.style.display =\n",
              "          google.colab.kernel.accessAllowed ? 'block' : 'none';\n",
              "\n",
              "        async function convertToInteractive(key) {\n",
              "          const element = document.querySelector('#df-2c1e4a79-afd9-40f7-a7ba-ff77354c3a40');\n",
              "          const dataTable =\n",
              "            await google.colab.kernel.invokeFunction('convertToInteractive',\n",
              "                                                     [key], {});\n",
              "          if (!dataTable) return;\n",
              "\n",
              "          const docLinkHtml = 'Like what you see? Visit the ' +\n",
              "            '<a target=\"_blank\" href=https://colab.research.google.com/notebooks/data_table.ipynb>data table notebook</a>'\n",
              "            + ' to learn more about interactive tables.';\n",
              "          element.innerHTML = '';\n",
              "          dataTable['output_type'] = 'display_data';\n",
              "          await google.colab.output.renderOutput(dataTable, element);\n",
              "          const docLink = document.createElement('div');\n",
              "          docLink.innerHTML = docLinkHtml;\n",
              "          element.appendChild(docLink);\n",
              "        }\n",
              "      </script>\n",
              "    </div>\n",
              "  </div>\n",
              "  "
            ]
          },
          "metadata": {},
          "execution_count": 184
        }
      ]
    },
    {
      "cell_type": "code",
      "source": [
        "## Let's have a glance at last five rows of our dataset\n",
        "psa_data_df.tail()"
      ],
      "metadata": {
        "colab": {
          "base_uri": "https://localhost:8080/",
          "height": 337
        },
        "id": "NcgJEnf1N4Zb",
        "outputId": "cbd25f76-bc0f-4fe8-913f-5543b0e2fe60"
      },
      "execution_count": 185,
      "outputs": [
        {
          "output_type": "execute_result",
          "data": {
            "text/plain": [
              "                                                 App             Category  \\\n",
              "10836                               Sya9a Maroc - FR               FAMILY   \n",
              "10837               Fr. Mike Schmitz Audio Teachings               FAMILY   \n",
              "10838                         Parkinson Exercices FR              MEDICAL   \n",
              "10839                  The SCP Foundation DB fr nn5n  BOOKS_AND_REFERENCE   \n",
              "10840  iHoroscope - 2018 Daily Horoscope & Astrology            LIFESTYLE   \n",
              "\n",
              "       Rating Reviews                Size     Installs  Type Price  \\\n",
              "10836     4.5      38                 53M       5,000+  Free     0   \n",
              "10837     5.0       4                3.6M         100+  Free     0   \n",
              "10838     NaN       3                9.5M       1,000+  Free     0   \n",
              "10839     4.5     114  Varies with device       1,000+  Free     0   \n",
              "10840     4.5  398307                 19M  10,000,000+  Free     0   \n",
              "\n",
              "      Content Rating             Genres      Last Updated         Current Ver  \\\n",
              "10836       Everyone          Education     July 25, 2017                1.48   \n",
              "10837       Everyone          Education      July 6, 2018                 1.0   \n",
              "10838       Everyone            Medical  January 20, 2017                 1.0   \n",
              "10839     Mature 17+  Books & Reference  January 19, 2015  Varies with device   \n",
              "10840       Everyone          Lifestyle     July 25, 2018  Varies with device   \n",
              "\n",
              "              Android Ver  \n",
              "10836          4.1 and up  \n",
              "10837          4.1 and up  \n",
              "10838          2.2 and up  \n",
              "10839  Varies with device  \n",
              "10840  Varies with device  "
            ],
            "text/html": [
              "\n",
              "  <div id=\"df-289ad3ae-82cb-4c14-8ada-fc5428c6d453\">\n",
              "    <div class=\"colab-df-container\">\n",
              "      <div>\n",
              "<style scoped>\n",
              "    .dataframe tbody tr th:only-of-type {\n",
              "        vertical-align: middle;\n",
              "    }\n",
              "\n",
              "    .dataframe tbody tr th {\n",
              "        vertical-align: top;\n",
              "    }\n",
              "\n",
              "    .dataframe thead th {\n",
              "        text-align: right;\n",
              "    }\n",
              "</style>\n",
              "<table border=\"1\" class=\"dataframe\">\n",
              "  <thead>\n",
              "    <tr style=\"text-align: right;\">\n",
              "      <th></th>\n",
              "      <th>App</th>\n",
              "      <th>Category</th>\n",
              "      <th>Rating</th>\n",
              "      <th>Reviews</th>\n",
              "      <th>Size</th>\n",
              "      <th>Installs</th>\n",
              "      <th>Type</th>\n",
              "      <th>Price</th>\n",
              "      <th>Content Rating</th>\n",
              "      <th>Genres</th>\n",
              "      <th>Last Updated</th>\n",
              "      <th>Current Ver</th>\n",
              "      <th>Android Ver</th>\n",
              "    </tr>\n",
              "  </thead>\n",
              "  <tbody>\n",
              "    <tr>\n",
              "      <th>10836</th>\n",
              "      <td>Sya9a Maroc - FR</td>\n",
              "      <td>FAMILY</td>\n",
              "      <td>4.5</td>\n",
              "      <td>38</td>\n",
              "      <td>53M</td>\n",
              "      <td>5,000+</td>\n",
              "      <td>Free</td>\n",
              "      <td>0</td>\n",
              "      <td>Everyone</td>\n",
              "      <td>Education</td>\n",
              "      <td>July 25, 2017</td>\n",
              "      <td>1.48</td>\n",
              "      <td>4.1 and up</td>\n",
              "    </tr>\n",
              "    <tr>\n",
              "      <th>10837</th>\n",
              "      <td>Fr. Mike Schmitz Audio Teachings</td>\n",
              "      <td>FAMILY</td>\n",
              "      <td>5.0</td>\n",
              "      <td>4</td>\n",
              "      <td>3.6M</td>\n",
              "      <td>100+</td>\n",
              "      <td>Free</td>\n",
              "      <td>0</td>\n",
              "      <td>Everyone</td>\n",
              "      <td>Education</td>\n",
              "      <td>July 6, 2018</td>\n",
              "      <td>1.0</td>\n",
              "      <td>4.1 and up</td>\n",
              "    </tr>\n",
              "    <tr>\n",
              "      <th>10838</th>\n",
              "      <td>Parkinson Exercices FR</td>\n",
              "      <td>MEDICAL</td>\n",
              "      <td>NaN</td>\n",
              "      <td>3</td>\n",
              "      <td>9.5M</td>\n",
              "      <td>1,000+</td>\n",
              "      <td>Free</td>\n",
              "      <td>0</td>\n",
              "      <td>Everyone</td>\n",
              "      <td>Medical</td>\n",
              "      <td>January 20, 2017</td>\n",
              "      <td>1.0</td>\n",
              "      <td>2.2 and up</td>\n",
              "    </tr>\n",
              "    <tr>\n",
              "      <th>10839</th>\n",
              "      <td>The SCP Foundation DB fr nn5n</td>\n",
              "      <td>BOOKS_AND_REFERENCE</td>\n",
              "      <td>4.5</td>\n",
              "      <td>114</td>\n",
              "      <td>Varies with device</td>\n",
              "      <td>1,000+</td>\n",
              "      <td>Free</td>\n",
              "      <td>0</td>\n",
              "      <td>Mature 17+</td>\n",
              "      <td>Books &amp; Reference</td>\n",
              "      <td>January 19, 2015</td>\n",
              "      <td>Varies with device</td>\n",
              "      <td>Varies with device</td>\n",
              "    </tr>\n",
              "    <tr>\n",
              "      <th>10840</th>\n",
              "      <td>iHoroscope - 2018 Daily Horoscope &amp; Astrology</td>\n",
              "      <td>LIFESTYLE</td>\n",
              "      <td>4.5</td>\n",
              "      <td>398307</td>\n",
              "      <td>19M</td>\n",
              "      <td>10,000,000+</td>\n",
              "      <td>Free</td>\n",
              "      <td>0</td>\n",
              "      <td>Everyone</td>\n",
              "      <td>Lifestyle</td>\n",
              "      <td>July 25, 2018</td>\n",
              "      <td>Varies with device</td>\n",
              "      <td>Varies with device</td>\n",
              "    </tr>\n",
              "  </tbody>\n",
              "</table>\n",
              "</div>\n",
              "      <button class=\"colab-df-convert\" onclick=\"convertToInteractive('df-289ad3ae-82cb-4c14-8ada-fc5428c6d453')\"\n",
              "              title=\"Convert this dataframe to an interactive table.\"\n",
              "              style=\"display:none;\">\n",
              "        \n",
              "  <svg xmlns=\"http://www.w3.org/2000/svg\" height=\"24px\"viewBox=\"0 0 24 24\"\n",
              "       width=\"24px\">\n",
              "    <path d=\"M0 0h24v24H0V0z\" fill=\"none\"/>\n",
              "    <path d=\"M18.56 5.44l.94 2.06.94-2.06 2.06-.94-2.06-.94-.94-2.06-.94 2.06-2.06.94zm-11 1L8.5 8.5l.94-2.06 2.06-.94-2.06-.94L8.5 2.5l-.94 2.06-2.06.94zm10 10l.94 2.06.94-2.06 2.06-.94-2.06-.94-.94-2.06-.94 2.06-2.06.94z\"/><path d=\"M17.41 7.96l-1.37-1.37c-.4-.4-.92-.59-1.43-.59-.52 0-1.04.2-1.43.59L10.3 9.45l-7.72 7.72c-.78.78-.78 2.05 0 2.83L4 21.41c.39.39.9.59 1.41.59.51 0 1.02-.2 1.41-.59l7.78-7.78 2.81-2.81c.8-.78.8-2.07 0-2.86zM5.41 20L4 18.59l7.72-7.72 1.47 1.35L5.41 20z\"/>\n",
              "  </svg>\n",
              "      </button>\n",
              "      \n",
              "  <style>\n",
              "    .colab-df-container {\n",
              "      display:flex;\n",
              "      flex-wrap:wrap;\n",
              "      gap: 12px;\n",
              "    }\n",
              "\n",
              "    .colab-df-convert {\n",
              "      background-color: #E8F0FE;\n",
              "      border: none;\n",
              "      border-radius: 50%;\n",
              "      cursor: pointer;\n",
              "      display: none;\n",
              "      fill: #1967D2;\n",
              "      height: 32px;\n",
              "      padding: 0 0 0 0;\n",
              "      width: 32px;\n",
              "    }\n",
              "\n",
              "    .colab-df-convert:hover {\n",
              "      background-color: #E2EBFA;\n",
              "      box-shadow: 0px 1px 2px rgba(60, 64, 67, 0.3), 0px 1px 3px 1px rgba(60, 64, 67, 0.15);\n",
              "      fill: #174EA6;\n",
              "    }\n",
              "\n",
              "    [theme=dark] .colab-df-convert {\n",
              "      background-color: #3B4455;\n",
              "      fill: #D2E3FC;\n",
              "    }\n",
              "\n",
              "    [theme=dark] .colab-df-convert:hover {\n",
              "      background-color: #434B5C;\n",
              "      box-shadow: 0px 1px 3px 1px rgba(0, 0, 0, 0.15);\n",
              "      filter: drop-shadow(0px 1px 2px rgba(0, 0, 0, 0.3));\n",
              "      fill: #FFFFFF;\n",
              "    }\n",
              "  </style>\n",
              "\n",
              "      <script>\n",
              "        const buttonEl =\n",
              "          document.querySelector('#df-289ad3ae-82cb-4c14-8ada-fc5428c6d453 button.colab-df-convert');\n",
              "        buttonEl.style.display =\n",
              "          google.colab.kernel.accessAllowed ? 'block' : 'none';\n",
              "\n",
              "        async function convertToInteractive(key) {\n",
              "          const element = document.querySelector('#df-289ad3ae-82cb-4c14-8ada-fc5428c6d453');\n",
              "          const dataTable =\n",
              "            await google.colab.kernel.invokeFunction('convertToInteractive',\n",
              "                                                     [key], {});\n",
              "          if (!dataTable) return;\n",
              "\n",
              "          const docLinkHtml = 'Like what you see? Visit the ' +\n",
              "            '<a target=\"_blank\" href=https://colab.research.google.com/notebooks/data_table.ipynb>data table notebook</a>'\n",
              "            + ' to learn more about interactive tables.';\n",
              "          element.innerHTML = '';\n",
              "          dataTable['output_type'] = 'display_data';\n",
              "          await google.colab.output.renderOutput(dataTable, element);\n",
              "          const docLink = document.createElement('div');\n",
              "          docLink.innerHTML = docLinkHtml;\n",
              "          element.appendChild(docLink);\n",
              "        }\n",
              "      </script>\n",
              "    </div>\n",
              "  </div>\n",
              "  "
            ]
          },
          "metadata": {},
          "execution_count": 185
        }
      ]
    },
    {
      "cell_type": "markdown",
      "source": [
        "### Columns Description : Play Store App Data.\n",
        "-----\n",
        "\n",
        "1.  **App :** This column consist of the names of the Mobile Apps.\n",
        "2.   **Category :** This column consist of the category of the Mobile Apps.\n",
        "3.   **Rating :** This column consist of the user ratings of the Mobile Apps.\n",
        "4.   **Reviews :** This column consist of the user reviews of the Mobile Apps.\n",
        "5.   **Size :** This column consist of the size of the Mobile Apps in KB / MB.\n",
        "6.   **Install :** This column consist of the number of installations of the Mobile Apps.\n",
        "7.   **Type :** This column consist of the subscription type (free/paid)of the Mobile Apps.\n",
        "8.   **Price :** This column consist of the subscription cost of the Mobile Apps.\n",
        "9.   **Content Rating:** This column consist of the user group category of the Mobile Apps.\n",
        "10.  **Genres:** This column consist of the Genre type name of the Mobile Apps.\n",
        "11.  **Last Updated:** This column consist of the Last date of mobile app update performed for the Mobile App.\n",
        "12.  **Current Ver:** This column consist of the name of the current version of the Mobile App.\n",
        "13.  **Android Ver:** This column consist of the name of the android version for the Mobile App."
      ],
      "metadata": {
        "id": "BROBIqUJOAic"
      }
    },
    {
      "cell_type": "markdown",
      "source": [
        "## **Data Cleaning** - Play Store App Data\n",
        "\n",
        "----------\n",
        "-----"
      ],
      "metadata": {
        "id": "x6dYPNe6akIV"
      }
    },
    {
      "cell_type": "markdown",
      "source": [
        "### Checking Missing values - Play Store App Data\n",
        "-----"
      ],
      "metadata": {
        "id": "_X5S1vPTZXar"
      }
    },
    {
      "cell_type": "code",
      "source": [
        "# Let's check : Summary of Critical Information for the dataset.\n",
        "\n",
        "print(f'The below dataframe gives us feature wise data type, unique values, total count, missing count(NaN).')\n",
        "print('\\n')\n",
        "def psa_df():\n",
        "  temp = pd.DataFrame(index =psa_data_df.columns)\n",
        "  temp['Data_Type'] = psa_data_df.dtypes\n",
        "  temp['Unique_Count'] = psa_data_df.nunique()\n",
        "  temp['Count']= psa_data_df.isnull().count()\n",
        "  temp['Missing_Count'] = psa_data_df.isnull().sum()\n",
        "  temp['Missing_percentage']= round( temp['Missing_Count'] / temp['Count'] * 100, 2) \n",
        "  return temp\n",
        "psa_df()"
      ],
      "metadata": {
        "colab": {
          "base_uri": "https://localhost:8080/",
          "height": 509
        },
        "id": "bQlpf_YAOKsF",
        "outputId": "3e0b0752-4525-40b7-dee7-27a85ac4a539"
      },
      "execution_count": 186,
      "outputs": [
        {
          "output_type": "stream",
          "name": "stdout",
          "text": [
            "The below dataframe gives us feature wise data type, unique values, total count, missing count(NaN).\n",
            "\n",
            "\n"
          ]
        },
        {
          "output_type": "execute_result",
          "data": {
            "text/plain": [
              "               Data_Type  Unique_Count  Count  Missing_Count  \\\n",
              "App               object          9660  10841              0   \n",
              "Category          object            34  10841              0   \n",
              "Rating           float64            40  10841           1474   \n",
              "Reviews           object          6002  10841              0   \n",
              "Size              object           462  10841              0   \n",
              "Installs          object            22  10841              0   \n",
              "Type              object             3  10841              1   \n",
              "Price             object            93  10841              0   \n",
              "Content Rating    object             6  10841              1   \n",
              "Genres            object           120  10841              0   \n",
              "Last Updated      object          1378  10841              0   \n",
              "Current Ver       object          2832  10841              8   \n",
              "Android Ver       object            33  10841              3   \n",
              "\n",
              "                Missing_percentage  \n",
              "App                           0.00  \n",
              "Category                      0.00  \n",
              "Rating                       13.60  \n",
              "Reviews                       0.00  \n",
              "Size                          0.00  \n",
              "Installs                      0.00  \n",
              "Type                          0.01  \n",
              "Price                         0.00  \n",
              "Content Rating                0.01  \n",
              "Genres                        0.00  \n",
              "Last Updated                  0.00  \n",
              "Current Ver                   0.07  \n",
              "Android Ver                   0.03  "
            ],
            "text/html": [
              "\n",
              "  <div id=\"df-4a3655a3-3ff1-4527-a8a6-dc5b2968fb85\">\n",
              "    <div class=\"colab-df-container\">\n",
              "      <div>\n",
              "<style scoped>\n",
              "    .dataframe tbody tr th:only-of-type {\n",
              "        vertical-align: middle;\n",
              "    }\n",
              "\n",
              "    .dataframe tbody tr th {\n",
              "        vertical-align: top;\n",
              "    }\n",
              "\n",
              "    .dataframe thead th {\n",
              "        text-align: right;\n",
              "    }\n",
              "</style>\n",
              "<table border=\"1\" class=\"dataframe\">\n",
              "  <thead>\n",
              "    <tr style=\"text-align: right;\">\n",
              "      <th></th>\n",
              "      <th>Data_Type</th>\n",
              "      <th>Unique_Count</th>\n",
              "      <th>Count</th>\n",
              "      <th>Missing_Count</th>\n",
              "      <th>Missing_percentage</th>\n",
              "    </tr>\n",
              "  </thead>\n",
              "  <tbody>\n",
              "    <tr>\n",
              "      <th>App</th>\n",
              "      <td>object</td>\n",
              "      <td>9660</td>\n",
              "      <td>10841</td>\n",
              "      <td>0</td>\n",
              "      <td>0.00</td>\n",
              "    </tr>\n",
              "    <tr>\n",
              "      <th>Category</th>\n",
              "      <td>object</td>\n",
              "      <td>34</td>\n",
              "      <td>10841</td>\n",
              "      <td>0</td>\n",
              "      <td>0.00</td>\n",
              "    </tr>\n",
              "    <tr>\n",
              "      <th>Rating</th>\n",
              "      <td>float64</td>\n",
              "      <td>40</td>\n",
              "      <td>10841</td>\n",
              "      <td>1474</td>\n",
              "      <td>13.60</td>\n",
              "    </tr>\n",
              "    <tr>\n",
              "      <th>Reviews</th>\n",
              "      <td>object</td>\n",
              "      <td>6002</td>\n",
              "      <td>10841</td>\n",
              "      <td>0</td>\n",
              "      <td>0.00</td>\n",
              "    </tr>\n",
              "    <tr>\n",
              "      <th>Size</th>\n",
              "      <td>object</td>\n",
              "      <td>462</td>\n",
              "      <td>10841</td>\n",
              "      <td>0</td>\n",
              "      <td>0.00</td>\n",
              "    </tr>\n",
              "    <tr>\n",
              "      <th>Installs</th>\n",
              "      <td>object</td>\n",
              "      <td>22</td>\n",
              "      <td>10841</td>\n",
              "      <td>0</td>\n",
              "      <td>0.00</td>\n",
              "    </tr>\n",
              "    <tr>\n",
              "      <th>Type</th>\n",
              "      <td>object</td>\n",
              "      <td>3</td>\n",
              "      <td>10841</td>\n",
              "      <td>1</td>\n",
              "      <td>0.01</td>\n",
              "    </tr>\n",
              "    <tr>\n",
              "      <th>Price</th>\n",
              "      <td>object</td>\n",
              "      <td>93</td>\n",
              "      <td>10841</td>\n",
              "      <td>0</td>\n",
              "      <td>0.00</td>\n",
              "    </tr>\n",
              "    <tr>\n",
              "      <th>Content Rating</th>\n",
              "      <td>object</td>\n",
              "      <td>6</td>\n",
              "      <td>10841</td>\n",
              "      <td>1</td>\n",
              "      <td>0.01</td>\n",
              "    </tr>\n",
              "    <tr>\n",
              "      <th>Genres</th>\n",
              "      <td>object</td>\n",
              "      <td>120</td>\n",
              "      <td>10841</td>\n",
              "      <td>0</td>\n",
              "      <td>0.00</td>\n",
              "    </tr>\n",
              "    <tr>\n",
              "      <th>Last Updated</th>\n",
              "      <td>object</td>\n",
              "      <td>1378</td>\n",
              "      <td>10841</td>\n",
              "      <td>0</td>\n",
              "      <td>0.00</td>\n",
              "    </tr>\n",
              "    <tr>\n",
              "      <th>Current Ver</th>\n",
              "      <td>object</td>\n",
              "      <td>2832</td>\n",
              "      <td>10841</td>\n",
              "      <td>8</td>\n",
              "      <td>0.07</td>\n",
              "    </tr>\n",
              "    <tr>\n",
              "      <th>Android Ver</th>\n",
              "      <td>object</td>\n",
              "      <td>33</td>\n",
              "      <td>10841</td>\n",
              "      <td>3</td>\n",
              "      <td>0.03</td>\n",
              "    </tr>\n",
              "  </tbody>\n",
              "</table>\n",
              "</div>\n",
              "      <button class=\"colab-df-convert\" onclick=\"convertToInteractive('df-4a3655a3-3ff1-4527-a8a6-dc5b2968fb85')\"\n",
              "              title=\"Convert this dataframe to an interactive table.\"\n",
              "              style=\"display:none;\">\n",
              "        \n",
              "  <svg xmlns=\"http://www.w3.org/2000/svg\" height=\"24px\"viewBox=\"0 0 24 24\"\n",
              "       width=\"24px\">\n",
              "    <path d=\"M0 0h24v24H0V0z\" fill=\"none\"/>\n",
              "    <path d=\"M18.56 5.44l.94 2.06.94-2.06 2.06-.94-2.06-.94-.94-2.06-.94 2.06-2.06.94zm-11 1L8.5 8.5l.94-2.06 2.06-.94-2.06-.94L8.5 2.5l-.94 2.06-2.06.94zm10 10l.94 2.06.94-2.06 2.06-.94-2.06-.94-.94-2.06-.94 2.06-2.06.94z\"/><path d=\"M17.41 7.96l-1.37-1.37c-.4-.4-.92-.59-1.43-.59-.52 0-1.04.2-1.43.59L10.3 9.45l-7.72 7.72c-.78.78-.78 2.05 0 2.83L4 21.41c.39.39.9.59 1.41.59.51 0 1.02-.2 1.41-.59l7.78-7.78 2.81-2.81c.8-.78.8-2.07 0-2.86zM5.41 20L4 18.59l7.72-7.72 1.47 1.35L5.41 20z\"/>\n",
              "  </svg>\n",
              "      </button>\n",
              "      \n",
              "  <style>\n",
              "    .colab-df-container {\n",
              "      display:flex;\n",
              "      flex-wrap:wrap;\n",
              "      gap: 12px;\n",
              "    }\n",
              "\n",
              "    .colab-df-convert {\n",
              "      background-color: #E8F0FE;\n",
              "      border: none;\n",
              "      border-radius: 50%;\n",
              "      cursor: pointer;\n",
              "      display: none;\n",
              "      fill: #1967D2;\n",
              "      height: 32px;\n",
              "      padding: 0 0 0 0;\n",
              "      width: 32px;\n",
              "    }\n",
              "\n",
              "    .colab-df-convert:hover {\n",
              "      background-color: #E2EBFA;\n",
              "      box-shadow: 0px 1px 2px rgba(60, 64, 67, 0.3), 0px 1px 3px 1px rgba(60, 64, 67, 0.15);\n",
              "      fill: #174EA6;\n",
              "    }\n",
              "\n",
              "    [theme=dark] .colab-df-convert {\n",
              "      background-color: #3B4455;\n",
              "      fill: #D2E3FC;\n",
              "    }\n",
              "\n",
              "    [theme=dark] .colab-df-convert:hover {\n",
              "      background-color: #434B5C;\n",
              "      box-shadow: 0px 1px 3px 1px rgba(0, 0, 0, 0.15);\n",
              "      filter: drop-shadow(0px 1px 2px rgba(0, 0, 0, 0.3));\n",
              "      fill: #FFFFFF;\n",
              "    }\n",
              "  </style>\n",
              "\n",
              "      <script>\n",
              "        const buttonEl =\n",
              "          document.querySelector('#df-4a3655a3-3ff1-4527-a8a6-dc5b2968fb85 button.colab-df-convert');\n",
              "        buttonEl.style.display =\n",
              "          google.colab.kernel.accessAllowed ? 'block' : 'none';\n",
              "\n",
              "        async function convertToInteractive(key) {\n",
              "          const element = document.querySelector('#df-4a3655a3-3ff1-4527-a8a6-dc5b2968fb85');\n",
              "          const dataTable =\n",
              "            await google.colab.kernel.invokeFunction('convertToInteractive',\n",
              "                                                     [key], {});\n",
              "          if (!dataTable) return;\n",
              "\n",
              "          const docLinkHtml = 'Like what you see? Visit the ' +\n",
              "            '<a target=\"_blank\" href=https://colab.research.google.com/notebooks/data_table.ipynb>data table notebook</a>'\n",
              "            + ' to learn more about interactive tables.';\n",
              "          element.innerHTML = '';\n",
              "          dataTable['output_type'] = 'display_data';\n",
              "          await google.colab.output.renderOutput(dataTable, element);\n",
              "          const docLink = document.createElement('div');\n",
              "          docLink.innerHTML = docLinkHtml;\n",
              "          element.appendChild(docLink);\n",
              "        }\n",
              "      </script>\n",
              "    </div>\n",
              "  </div>\n",
              "  "
            ]
          },
          "metadata": {},
          "execution_count": 186
        }
      ]
    },
    {
      "cell_type": "markdown",
      "source": [
        "### Checking Duplicate values - Play Store App Data\n",
        "-----"
      ],
      "metadata": {
        "id": "YUaYr1PcZy5I"
      }
    },
    {
      "cell_type": "code",
      "source": [
        "# Let's check : Duplicated rows by taking only unique app and its last entry.\n",
        "\n",
        "psa_data_df[psa_data_df.duplicated(subset='App', keep='last')]                  #Keeping last record"
      ],
      "metadata": {
        "colab": {
          "base_uri": "https://localhost:8080/",
          "height": 676
        },
        "id": "bIyyyBV2OsN3",
        "outputId": "5664af73-115b-4918-e33b-455d8b2528bb"
      },
      "execution_count": 187,
      "outputs": [
        {
          "output_type": "execute_result",
          "data": {
            "text/plain": [
              "                                                 App             Category  \\\n",
              "1                                Coloring book moana       ART_AND_DESIGN   \n",
              "23                            Mcqueen Coloring pages       ART_AND_DESIGN   \n",
              "36    UNICORN - Color By Number & Pixel Art Coloring       ART_AND_DESIGN   \n",
              "42                        Textgram - write on photos       ART_AND_DESIGN   \n",
              "139                             Wattpad 📖 Free Books  BOOKS_AND_REFERENCE   \n",
              "...                                              ...                  ...   \n",
              "3825                  Transit: Real-Time Transit App  MAPS_AND_NAVIGATION   \n",
              "3826         Mapy.cz - Cycling & Hiking offline maps  MAPS_AND_NAVIGATION   \n",
              "3827                                            Uber  MAPS_AND_NAVIGATION   \n",
              "3865         Moovit: Bus Time & Train Time Live Info  MAPS_AND_NAVIGATION   \n",
              "3869                  Maps & GPS Navigation — OsmAnd  MAPS_AND_NAVIGATION   \n",
              "\n",
              "      Rating  Reviews                Size      Installs  Type Price  \\\n",
              "1        3.9      967                 14M      500,000+  Free     0   \n",
              "23       NaN       61                7.0M      100,000+  Free     0   \n",
              "36       4.7     8145                 24M      500,000+  Free     0   \n",
              "42       4.4   295221  Varies with device   10,000,000+  Free     0   \n",
              "139      4.6  2914724  Varies with device  100,000,000+  Free     0   \n",
              "...      ...      ...                 ...           ...   ...   ...   \n",
              "3825     4.2    43269  Varies with device    5,000,000+  Free     0   \n",
              "3826     4.5    56443                 43M    1,000,000+  Free     0   \n",
              "3827     4.2  4928420  Varies with device  100,000,000+  Free     0   \n",
              "3865     4.4   617477  Varies with device   10,000,000+  Free     0   \n",
              "3869     4.2    60838  Varies with device    5,000,000+  Free     0   \n",
              "\n",
              "     Content Rating                           Genres      Last Updated  \\\n",
              "1          Everyone        Art & Design;Pretend Play  January 15, 2018   \n",
              "23         Everyone  Art & Design;Action & Adventure     March 7, 2018   \n",
              "36         Everyone          Art & Design;Creativity    August 2, 2018   \n",
              "42         Everyone                     Art & Design     July 30, 2018   \n",
              "139            Teen                Books & Reference    August 1, 2018   \n",
              "...             ...                              ...               ...   \n",
              "3825       Everyone                Maps & Navigation     July 18, 2018   \n",
              "3826       Everyone                Maps & Navigation     June 26, 2018   \n",
              "3827       Everyone                Maps & Navigation    August 6, 2018   \n",
              "3865       Everyone                Maps & Navigation    August 5, 2018   \n",
              "3869       Everyone                Maps & Navigation    August 6, 2018   \n",
              "\n",
              "             Current Ver         Android Ver  \n",
              "1                  2.0.0        4.0.3 and up  \n",
              "23                 1.0.0          4.1 and up  \n",
              "36                 1.0.9          4.4 and up  \n",
              "42    Varies with device  Varies with device  \n",
              "139   Varies with device  Varies with device  \n",
              "...                  ...                 ...  \n",
              "3825               4.4.7  Varies with device  \n",
              "3826               6.2.0          4.1 and up  \n",
              "3827  Varies with device  Varies with device  \n",
              "3865  Varies with device  Varies with device  \n",
              "3869  Varies with device  Varies with device  \n",
              "\n",
              "[1181 rows x 13 columns]"
            ],
            "text/html": [
              "\n",
              "  <div id=\"df-70ce99a5-e97e-4f98-a0c7-65e3d1631d1a\">\n",
              "    <div class=\"colab-df-container\">\n",
              "      <div>\n",
              "<style scoped>\n",
              "    .dataframe tbody tr th:only-of-type {\n",
              "        vertical-align: middle;\n",
              "    }\n",
              "\n",
              "    .dataframe tbody tr th {\n",
              "        vertical-align: top;\n",
              "    }\n",
              "\n",
              "    .dataframe thead th {\n",
              "        text-align: right;\n",
              "    }\n",
              "</style>\n",
              "<table border=\"1\" class=\"dataframe\">\n",
              "  <thead>\n",
              "    <tr style=\"text-align: right;\">\n",
              "      <th></th>\n",
              "      <th>App</th>\n",
              "      <th>Category</th>\n",
              "      <th>Rating</th>\n",
              "      <th>Reviews</th>\n",
              "      <th>Size</th>\n",
              "      <th>Installs</th>\n",
              "      <th>Type</th>\n",
              "      <th>Price</th>\n",
              "      <th>Content Rating</th>\n",
              "      <th>Genres</th>\n",
              "      <th>Last Updated</th>\n",
              "      <th>Current Ver</th>\n",
              "      <th>Android Ver</th>\n",
              "    </tr>\n",
              "  </thead>\n",
              "  <tbody>\n",
              "    <tr>\n",
              "      <th>1</th>\n",
              "      <td>Coloring book moana</td>\n",
              "      <td>ART_AND_DESIGN</td>\n",
              "      <td>3.9</td>\n",
              "      <td>967</td>\n",
              "      <td>14M</td>\n",
              "      <td>500,000+</td>\n",
              "      <td>Free</td>\n",
              "      <td>0</td>\n",
              "      <td>Everyone</td>\n",
              "      <td>Art &amp; Design;Pretend Play</td>\n",
              "      <td>January 15, 2018</td>\n",
              "      <td>2.0.0</td>\n",
              "      <td>4.0.3 and up</td>\n",
              "    </tr>\n",
              "    <tr>\n",
              "      <th>23</th>\n",
              "      <td>Mcqueen Coloring pages</td>\n",
              "      <td>ART_AND_DESIGN</td>\n",
              "      <td>NaN</td>\n",
              "      <td>61</td>\n",
              "      <td>7.0M</td>\n",
              "      <td>100,000+</td>\n",
              "      <td>Free</td>\n",
              "      <td>0</td>\n",
              "      <td>Everyone</td>\n",
              "      <td>Art &amp; Design;Action &amp; Adventure</td>\n",
              "      <td>March 7, 2018</td>\n",
              "      <td>1.0.0</td>\n",
              "      <td>4.1 and up</td>\n",
              "    </tr>\n",
              "    <tr>\n",
              "      <th>36</th>\n",
              "      <td>UNICORN - Color By Number &amp; Pixel Art Coloring</td>\n",
              "      <td>ART_AND_DESIGN</td>\n",
              "      <td>4.7</td>\n",
              "      <td>8145</td>\n",
              "      <td>24M</td>\n",
              "      <td>500,000+</td>\n",
              "      <td>Free</td>\n",
              "      <td>0</td>\n",
              "      <td>Everyone</td>\n",
              "      <td>Art &amp; Design;Creativity</td>\n",
              "      <td>August 2, 2018</td>\n",
              "      <td>1.0.9</td>\n",
              "      <td>4.4 and up</td>\n",
              "    </tr>\n",
              "    <tr>\n",
              "      <th>42</th>\n",
              "      <td>Textgram - write on photos</td>\n",
              "      <td>ART_AND_DESIGN</td>\n",
              "      <td>4.4</td>\n",
              "      <td>295221</td>\n",
              "      <td>Varies with device</td>\n",
              "      <td>10,000,000+</td>\n",
              "      <td>Free</td>\n",
              "      <td>0</td>\n",
              "      <td>Everyone</td>\n",
              "      <td>Art &amp; Design</td>\n",
              "      <td>July 30, 2018</td>\n",
              "      <td>Varies with device</td>\n",
              "      <td>Varies with device</td>\n",
              "    </tr>\n",
              "    <tr>\n",
              "      <th>139</th>\n",
              "      <td>Wattpad 📖 Free Books</td>\n",
              "      <td>BOOKS_AND_REFERENCE</td>\n",
              "      <td>4.6</td>\n",
              "      <td>2914724</td>\n",
              "      <td>Varies with device</td>\n",
              "      <td>100,000,000+</td>\n",
              "      <td>Free</td>\n",
              "      <td>0</td>\n",
              "      <td>Teen</td>\n",
              "      <td>Books &amp; Reference</td>\n",
              "      <td>August 1, 2018</td>\n",
              "      <td>Varies with device</td>\n",
              "      <td>Varies with device</td>\n",
              "    </tr>\n",
              "    <tr>\n",
              "      <th>...</th>\n",
              "      <td>...</td>\n",
              "      <td>...</td>\n",
              "      <td>...</td>\n",
              "      <td>...</td>\n",
              "      <td>...</td>\n",
              "      <td>...</td>\n",
              "      <td>...</td>\n",
              "      <td>...</td>\n",
              "      <td>...</td>\n",
              "      <td>...</td>\n",
              "      <td>...</td>\n",
              "      <td>...</td>\n",
              "      <td>...</td>\n",
              "    </tr>\n",
              "    <tr>\n",
              "      <th>3825</th>\n",
              "      <td>Transit: Real-Time Transit App</td>\n",
              "      <td>MAPS_AND_NAVIGATION</td>\n",
              "      <td>4.2</td>\n",
              "      <td>43269</td>\n",
              "      <td>Varies with device</td>\n",
              "      <td>5,000,000+</td>\n",
              "      <td>Free</td>\n",
              "      <td>0</td>\n",
              "      <td>Everyone</td>\n",
              "      <td>Maps &amp; Navigation</td>\n",
              "      <td>July 18, 2018</td>\n",
              "      <td>4.4.7</td>\n",
              "      <td>Varies with device</td>\n",
              "    </tr>\n",
              "    <tr>\n",
              "      <th>3826</th>\n",
              "      <td>Mapy.cz - Cycling &amp; Hiking offline maps</td>\n",
              "      <td>MAPS_AND_NAVIGATION</td>\n",
              "      <td>4.5</td>\n",
              "      <td>56443</td>\n",
              "      <td>43M</td>\n",
              "      <td>1,000,000+</td>\n",
              "      <td>Free</td>\n",
              "      <td>0</td>\n",
              "      <td>Everyone</td>\n",
              "      <td>Maps &amp; Navigation</td>\n",
              "      <td>June 26, 2018</td>\n",
              "      <td>6.2.0</td>\n",
              "      <td>4.1 and up</td>\n",
              "    </tr>\n",
              "    <tr>\n",
              "      <th>3827</th>\n",
              "      <td>Uber</td>\n",
              "      <td>MAPS_AND_NAVIGATION</td>\n",
              "      <td>4.2</td>\n",
              "      <td>4928420</td>\n",
              "      <td>Varies with device</td>\n",
              "      <td>100,000,000+</td>\n",
              "      <td>Free</td>\n",
              "      <td>0</td>\n",
              "      <td>Everyone</td>\n",
              "      <td>Maps &amp; Navigation</td>\n",
              "      <td>August 6, 2018</td>\n",
              "      <td>Varies with device</td>\n",
              "      <td>Varies with device</td>\n",
              "    </tr>\n",
              "    <tr>\n",
              "      <th>3865</th>\n",
              "      <td>Moovit: Bus Time &amp; Train Time Live Info</td>\n",
              "      <td>MAPS_AND_NAVIGATION</td>\n",
              "      <td>4.4</td>\n",
              "      <td>617477</td>\n",
              "      <td>Varies with device</td>\n",
              "      <td>10,000,000+</td>\n",
              "      <td>Free</td>\n",
              "      <td>0</td>\n",
              "      <td>Everyone</td>\n",
              "      <td>Maps &amp; Navigation</td>\n",
              "      <td>August 5, 2018</td>\n",
              "      <td>Varies with device</td>\n",
              "      <td>Varies with device</td>\n",
              "    </tr>\n",
              "    <tr>\n",
              "      <th>3869</th>\n",
              "      <td>Maps &amp; GPS Navigation — OsmAnd</td>\n",
              "      <td>MAPS_AND_NAVIGATION</td>\n",
              "      <td>4.2</td>\n",
              "      <td>60838</td>\n",
              "      <td>Varies with device</td>\n",
              "      <td>5,000,000+</td>\n",
              "      <td>Free</td>\n",
              "      <td>0</td>\n",
              "      <td>Everyone</td>\n",
              "      <td>Maps &amp; Navigation</td>\n",
              "      <td>August 6, 2018</td>\n",
              "      <td>Varies with device</td>\n",
              "      <td>Varies with device</td>\n",
              "    </tr>\n",
              "  </tbody>\n",
              "</table>\n",
              "<p>1181 rows × 13 columns</p>\n",
              "</div>\n",
              "      <button class=\"colab-df-convert\" onclick=\"convertToInteractive('df-70ce99a5-e97e-4f98-a0c7-65e3d1631d1a')\"\n",
              "              title=\"Convert this dataframe to an interactive table.\"\n",
              "              style=\"display:none;\">\n",
              "        \n",
              "  <svg xmlns=\"http://www.w3.org/2000/svg\" height=\"24px\"viewBox=\"0 0 24 24\"\n",
              "       width=\"24px\">\n",
              "    <path d=\"M0 0h24v24H0V0z\" fill=\"none\"/>\n",
              "    <path d=\"M18.56 5.44l.94 2.06.94-2.06 2.06-.94-2.06-.94-.94-2.06-.94 2.06-2.06.94zm-11 1L8.5 8.5l.94-2.06 2.06-.94-2.06-.94L8.5 2.5l-.94 2.06-2.06.94zm10 10l.94 2.06.94-2.06 2.06-.94-2.06-.94-.94-2.06-.94 2.06-2.06.94z\"/><path d=\"M17.41 7.96l-1.37-1.37c-.4-.4-.92-.59-1.43-.59-.52 0-1.04.2-1.43.59L10.3 9.45l-7.72 7.72c-.78.78-.78 2.05 0 2.83L4 21.41c.39.39.9.59 1.41.59.51 0 1.02-.2 1.41-.59l7.78-7.78 2.81-2.81c.8-.78.8-2.07 0-2.86zM5.41 20L4 18.59l7.72-7.72 1.47 1.35L5.41 20z\"/>\n",
              "  </svg>\n",
              "      </button>\n",
              "      \n",
              "  <style>\n",
              "    .colab-df-container {\n",
              "      display:flex;\n",
              "      flex-wrap:wrap;\n",
              "      gap: 12px;\n",
              "    }\n",
              "\n",
              "    .colab-df-convert {\n",
              "      background-color: #E8F0FE;\n",
              "      border: none;\n",
              "      border-radius: 50%;\n",
              "      cursor: pointer;\n",
              "      display: none;\n",
              "      fill: #1967D2;\n",
              "      height: 32px;\n",
              "      padding: 0 0 0 0;\n",
              "      width: 32px;\n",
              "    }\n",
              "\n",
              "    .colab-df-convert:hover {\n",
              "      background-color: #E2EBFA;\n",
              "      box-shadow: 0px 1px 2px rgba(60, 64, 67, 0.3), 0px 1px 3px 1px rgba(60, 64, 67, 0.15);\n",
              "      fill: #174EA6;\n",
              "    }\n",
              "\n",
              "    [theme=dark] .colab-df-convert {\n",
              "      background-color: #3B4455;\n",
              "      fill: #D2E3FC;\n",
              "    }\n",
              "\n",
              "    [theme=dark] .colab-df-convert:hover {\n",
              "      background-color: #434B5C;\n",
              "      box-shadow: 0px 1px 3px 1px rgba(0, 0, 0, 0.15);\n",
              "      filter: drop-shadow(0px 1px 2px rgba(0, 0, 0, 0.3));\n",
              "      fill: #FFFFFF;\n",
              "    }\n",
              "  </style>\n",
              "\n",
              "      <script>\n",
              "        const buttonEl =\n",
              "          document.querySelector('#df-70ce99a5-e97e-4f98-a0c7-65e3d1631d1a button.colab-df-convert');\n",
              "        buttonEl.style.display =\n",
              "          google.colab.kernel.accessAllowed ? 'block' : 'none';\n",
              "\n",
              "        async function convertToInteractive(key) {\n",
              "          const element = document.querySelector('#df-70ce99a5-e97e-4f98-a0c7-65e3d1631d1a');\n",
              "          const dataTable =\n",
              "            await google.colab.kernel.invokeFunction('convertToInteractive',\n",
              "                                                     [key], {});\n",
              "          if (!dataTable) return;\n",
              "\n",
              "          const docLinkHtml = 'Like what you see? Visit the ' +\n",
              "            '<a target=\"_blank\" href=https://colab.research.google.com/notebooks/data_table.ipynb>data table notebook</a>'\n",
              "            + ' to learn more about interactive tables.';\n",
              "          element.innerHTML = '';\n",
              "          dataTable['output_type'] = 'display_data';\n",
              "          await google.colab.output.renderOutput(dataTable, element);\n",
              "          const docLink = document.createElement('div');\n",
              "          docLink.innerHTML = docLinkHtml;\n",
              "          element.appendChild(docLink);\n",
              "        }\n",
              "      </script>\n",
              "    </div>\n",
              "  </div>\n",
              "  "
            ]
          },
          "metadata": {},
          "execution_count": 187
        }
      ]
    },
    {
      "cell_type": "code",
      "source": [
        "# As per above table, there are 1181 duplicate records in the given dataset."
      ],
      "metadata": {
        "id": "1lvti6bTO79n"
      },
      "execution_count": 188,
      "outputs": []
    },
    {
      "cell_type": "markdown",
      "source": [
        "### **From the above review on dataset, I have got some observations as below:**\n",
        "\n",
        "-----\n",
        "1. Also found 1181 duplicate records in the dataset.\n",
        "2. Rating has total 1474 null values which contributes 13.60% of the ratings data.\n",
        "2. Columns names are having white spaces, which may create hurdles during Data Wrangling process\n",
        "2. Type has 1 null value which contributes 0.01% of the total records.\n",
        "3. Content_Rating has 1 null value which contributes 0.01% of the total records.\n",
        "4. Current_Ver has 8 null values which contributes 0.07% of the total records.\n",
        "5. Android_Ver has 3 null values which contributes 0.03% of the total records.\n",
        "6. Rating column has more than 10% missing values.\n",
        "8. Found some data impurities as well, like '+' sign in \"Installs\" Column, 'M / K' in Size column."
      ],
      "metadata": {
        "id": "J0hr-awFPKGl"
      }
    },
    {
      "cell_type": "markdown",
      "source": [
        "### **Handling Missing Values : Play_Store_Dataset**\n",
        "\n",
        "-----\n",
        "1. Creating a copy of original dataset to avoid disturbance in original dataset\n",
        "2. Finding and replacing missing values appropriately (with Mean / Median)\n",
        "3. Removing dupications to have correct data for analysis\n",
        "4. Correcting Column Names for effective data wrangling and analysis"
      ],
      "metadata": {
        "id": "YBoegaj0PXy1"
      }
    },
    {
      "cell_type": "code",
      "source": [
        "# Creating a copy of  Play Store App data dataset. \n",
        "\n",
        "ps_data_df = psa_data_df.copy() \n",
        "ps_data_df.head(5)"
      ],
      "metadata": {
        "colab": {
          "base_uri": "https://localhost:8080/",
          "height": 337
        },
        "id": "AMF5jq-EPfDm",
        "outputId": "b2ee27fb-ede1-4145-eb0b-8bd92cfecfcf"
      },
      "execution_count": 189,
      "outputs": [
        {
          "output_type": "execute_result",
          "data": {
            "text/plain": [
              "                                                 App        Category  Rating  \\\n",
              "0     Photo Editor & Candy Camera & Grid & ScrapBook  ART_AND_DESIGN     4.1   \n",
              "1                                Coloring book moana  ART_AND_DESIGN     3.9   \n",
              "2  U Launcher Lite – FREE Live Cool Themes, Hide ...  ART_AND_DESIGN     4.7   \n",
              "3                              Sketch - Draw & Paint  ART_AND_DESIGN     4.5   \n",
              "4              Pixel Draw - Number Art Coloring Book  ART_AND_DESIGN     4.3   \n",
              "\n",
              "  Reviews  Size     Installs  Type Price Content Rating  \\\n",
              "0     159   19M      10,000+  Free     0       Everyone   \n",
              "1     967   14M     500,000+  Free     0       Everyone   \n",
              "2   87510  8.7M   5,000,000+  Free     0       Everyone   \n",
              "3  215644   25M  50,000,000+  Free     0           Teen   \n",
              "4     967  2.8M     100,000+  Free     0       Everyone   \n",
              "\n",
              "                      Genres      Last Updated         Current Ver  \\\n",
              "0               Art & Design   January 7, 2018               1.0.0   \n",
              "1  Art & Design;Pretend Play  January 15, 2018               2.0.0   \n",
              "2               Art & Design    August 1, 2018               1.2.4   \n",
              "3               Art & Design      June 8, 2018  Varies with device   \n",
              "4    Art & Design;Creativity     June 20, 2018                 1.1   \n",
              "\n",
              "    Android Ver  \n",
              "0  4.0.3 and up  \n",
              "1  4.0.3 and up  \n",
              "2  4.0.3 and up  \n",
              "3    4.2 and up  \n",
              "4    4.4 and up  "
            ],
            "text/html": [
              "\n",
              "  <div id=\"df-2c439725-c0e5-4027-aa7d-bd2c84c94e5b\">\n",
              "    <div class=\"colab-df-container\">\n",
              "      <div>\n",
              "<style scoped>\n",
              "    .dataframe tbody tr th:only-of-type {\n",
              "        vertical-align: middle;\n",
              "    }\n",
              "\n",
              "    .dataframe tbody tr th {\n",
              "        vertical-align: top;\n",
              "    }\n",
              "\n",
              "    .dataframe thead th {\n",
              "        text-align: right;\n",
              "    }\n",
              "</style>\n",
              "<table border=\"1\" class=\"dataframe\">\n",
              "  <thead>\n",
              "    <tr style=\"text-align: right;\">\n",
              "      <th></th>\n",
              "      <th>App</th>\n",
              "      <th>Category</th>\n",
              "      <th>Rating</th>\n",
              "      <th>Reviews</th>\n",
              "      <th>Size</th>\n",
              "      <th>Installs</th>\n",
              "      <th>Type</th>\n",
              "      <th>Price</th>\n",
              "      <th>Content Rating</th>\n",
              "      <th>Genres</th>\n",
              "      <th>Last Updated</th>\n",
              "      <th>Current Ver</th>\n",
              "      <th>Android Ver</th>\n",
              "    </tr>\n",
              "  </thead>\n",
              "  <tbody>\n",
              "    <tr>\n",
              "      <th>0</th>\n",
              "      <td>Photo Editor &amp; Candy Camera &amp; Grid &amp; ScrapBook</td>\n",
              "      <td>ART_AND_DESIGN</td>\n",
              "      <td>4.1</td>\n",
              "      <td>159</td>\n",
              "      <td>19M</td>\n",
              "      <td>10,000+</td>\n",
              "      <td>Free</td>\n",
              "      <td>0</td>\n",
              "      <td>Everyone</td>\n",
              "      <td>Art &amp; Design</td>\n",
              "      <td>January 7, 2018</td>\n",
              "      <td>1.0.0</td>\n",
              "      <td>4.0.3 and up</td>\n",
              "    </tr>\n",
              "    <tr>\n",
              "      <th>1</th>\n",
              "      <td>Coloring book moana</td>\n",
              "      <td>ART_AND_DESIGN</td>\n",
              "      <td>3.9</td>\n",
              "      <td>967</td>\n",
              "      <td>14M</td>\n",
              "      <td>500,000+</td>\n",
              "      <td>Free</td>\n",
              "      <td>0</td>\n",
              "      <td>Everyone</td>\n",
              "      <td>Art &amp; Design;Pretend Play</td>\n",
              "      <td>January 15, 2018</td>\n",
              "      <td>2.0.0</td>\n",
              "      <td>4.0.3 and up</td>\n",
              "    </tr>\n",
              "    <tr>\n",
              "      <th>2</th>\n",
              "      <td>U Launcher Lite – FREE Live Cool Themes, Hide ...</td>\n",
              "      <td>ART_AND_DESIGN</td>\n",
              "      <td>4.7</td>\n",
              "      <td>87510</td>\n",
              "      <td>8.7M</td>\n",
              "      <td>5,000,000+</td>\n",
              "      <td>Free</td>\n",
              "      <td>0</td>\n",
              "      <td>Everyone</td>\n",
              "      <td>Art &amp; Design</td>\n",
              "      <td>August 1, 2018</td>\n",
              "      <td>1.2.4</td>\n",
              "      <td>4.0.3 and up</td>\n",
              "    </tr>\n",
              "    <tr>\n",
              "      <th>3</th>\n",
              "      <td>Sketch - Draw &amp; Paint</td>\n",
              "      <td>ART_AND_DESIGN</td>\n",
              "      <td>4.5</td>\n",
              "      <td>215644</td>\n",
              "      <td>25M</td>\n",
              "      <td>50,000,000+</td>\n",
              "      <td>Free</td>\n",
              "      <td>0</td>\n",
              "      <td>Teen</td>\n",
              "      <td>Art &amp; Design</td>\n",
              "      <td>June 8, 2018</td>\n",
              "      <td>Varies with device</td>\n",
              "      <td>4.2 and up</td>\n",
              "    </tr>\n",
              "    <tr>\n",
              "      <th>4</th>\n",
              "      <td>Pixel Draw - Number Art Coloring Book</td>\n",
              "      <td>ART_AND_DESIGN</td>\n",
              "      <td>4.3</td>\n",
              "      <td>967</td>\n",
              "      <td>2.8M</td>\n",
              "      <td>100,000+</td>\n",
              "      <td>Free</td>\n",
              "      <td>0</td>\n",
              "      <td>Everyone</td>\n",
              "      <td>Art &amp; Design;Creativity</td>\n",
              "      <td>June 20, 2018</td>\n",
              "      <td>1.1</td>\n",
              "      <td>4.4 and up</td>\n",
              "    </tr>\n",
              "  </tbody>\n",
              "</table>\n",
              "</div>\n",
              "      <button class=\"colab-df-convert\" onclick=\"convertToInteractive('df-2c439725-c0e5-4027-aa7d-bd2c84c94e5b')\"\n",
              "              title=\"Convert this dataframe to an interactive table.\"\n",
              "              style=\"display:none;\">\n",
              "        \n",
              "  <svg xmlns=\"http://www.w3.org/2000/svg\" height=\"24px\"viewBox=\"0 0 24 24\"\n",
              "       width=\"24px\">\n",
              "    <path d=\"M0 0h24v24H0V0z\" fill=\"none\"/>\n",
              "    <path d=\"M18.56 5.44l.94 2.06.94-2.06 2.06-.94-2.06-.94-.94-2.06-.94 2.06-2.06.94zm-11 1L8.5 8.5l.94-2.06 2.06-.94-2.06-.94L8.5 2.5l-.94 2.06-2.06.94zm10 10l.94 2.06.94-2.06 2.06-.94-2.06-.94-.94-2.06-.94 2.06-2.06.94z\"/><path d=\"M17.41 7.96l-1.37-1.37c-.4-.4-.92-.59-1.43-.59-.52 0-1.04.2-1.43.59L10.3 9.45l-7.72 7.72c-.78.78-.78 2.05 0 2.83L4 21.41c.39.39.9.59 1.41.59.51 0 1.02-.2 1.41-.59l7.78-7.78 2.81-2.81c.8-.78.8-2.07 0-2.86zM5.41 20L4 18.59l7.72-7.72 1.47 1.35L5.41 20z\"/>\n",
              "  </svg>\n",
              "      </button>\n",
              "      \n",
              "  <style>\n",
              "    .colab-df-container {\n",
              "      display:flex;\n",
              "      flex-wrap:wrap;\n",
              "      gap: 12px;\n",
              "    }\n",
              "\n",
              "    .colab-df-convert {\n",
              "      background-color: #E8F0FE;\n",
              "      border: none;\n",
              "      border-radius: 50%;\n",
              "      cursor: pointer;\n",
              "      display: none;\n",
              "      fill: #1967D2;\n",
              "      height: 32px;\n",
              "      padding: 0 0 0 0;\n",
              "      width: 32px;\n",
              "    }\n",
              "\n",
              "    .colab-df-convert:hover {\n",
              "      background-color: #E2EBFA;\n",
              "      box-shadow: 0px 1px 2px rgba(60, 64, 67, 0.3), 0px 1px 3px 1px rgba(60, 64, 67, 0.15);\n",
              "      fill: #174EA6;\n",
              "    }\n",
              "\n",
              "    [theme=dark] .colab-df-convert {\n",
              "      background-color: #3B4455;\n",
              "      fill: #D2E3FC;\n",
              "    }\n",
              "\n",
              "    [theme=dark] .colab-df-convert:hover {\n",
              "      background-color: #434B5C;\n",
              "      box-shadow: 0px 1px 3px 1px rgba(0, 0, 0, 0.15);\n",
              "      filter: drop-shadow(0px 1px 2px rgba(0, 0, 0, 0.3));\n",
              "      fill: #FFFFFF;\n",
              "    }\n",
              "  </style>\n",
              "\n",
              "      <script>\n",
              "        const buttonEl =\n",
              "          document.querySelector('#df-2c439725-c0e5-4027-aa7d-bd2c84c94e5b button.colab-df-convert');\n",
              "        buttonEl.style.display =\n",
              "          google.colab.kernel.accessAllowed ? 'block' : 'none';\n",
              "\n",
              "        async function convertToInteractive(key) {\n",
              "          const element = document.querySelector('#df-2c439725-c0e5-4027-aa7d-bd2c84c94e5b');\n",
              "          const dataTable =\n",
              "            await google.colab.kernel.invokeFunction('convertToInteractive',\n",
              "                                                     [key], {});\n",
              "          if (!dataTable) return;\n",
              "\n",
              "          const docLinkHtml = 'Like what you see? Visit the ' +\n",
              "            '<a target=\"_blank\" href=https://colab.research.google.com/notebooks/data_table.ipynb>data table notebook</a>'\n",
              "            + ' to learn more about interactive tables.';\n",
              "          element.innerHTML = '';\n",
              "          dataTable['output_type'] = 'display_data';\n",
              "          await google.colab.output.renderOutput(dataTable, element);\n",
              "          const docLink = document.createElement('div');\n",
              "          docLink.innerHTML = docLinkHtml;\n",
              "          element.appendChild(docLink);\n",
              "        }\n",
              "      </script>\n",
              "    </div>\n",
              "  </div>\n",
              "  "
            ]
          },
          "metadata": {},
          "execution_count": 189
        }
      ]
    },
    {
      "cell_type": "markdown",
      "source": [
        "1. Let's handle **1181** duplicate records of App Column\n",
        "\n",
        "-----"
      ],
      "metadata": {
        "id": "hFTpCA_APta7"
      }
    },
    {
      "cell_type": "code",
      "source": [
        "# Dropped duplicated apps from dataframe and keeping only last record.\n",
        "\n",
        "ps_data_df = ps_data_df.drop_duplicates(subset='App', keep = 'last')"
      ],
      "metadata": {
        "id": "d9Fm6zoMPpWN"
      },
      "execution_count": 190,
      "outputs": []
    },
    {
      "cell_type": "code",
      "source": [
        "# Let's check New shape of Play Store App data\n",
        "\n",
        "rows = ps_data_df.shape[0]\n",
        "columns = ps_data_df.shape[1]\n",
        "print(f'The number of rows in Play Store dataframe after removing duplicate App names are {rows}.') \n",
        "print(f'The number of columns in Play Store dataframe after keeping only required columns for EDA are {columns}.')"
      ],
      "metadata": {
        "colab": {
          "base_uri": "https://localhost:8080/"
        },
        "id": "YSdyO0BnQDLE",
        "outputId": "c4ffd927-3635-4734-96ff-42054ffac005"
      },
      "execution_count": 191,
      "outputs": [
        {
          "output_type": "stream",
          "name": "stdout",
          "text": [
            "The number of rows in Play Store dataframe after removing duplicate App names are 9660.\n",
            "The number of columns in Play Store dataframe after keeping only required columns for EDA are 13.\n"
          ]
        }
      ]
    },
    {
      "cell_type": "markdown",
      "source": [
        "2. Let's replace spaces in **'Column'** names with **'Underscore'** \n",
        "\n",
        "-----"
      ],
      "metadata": {
        "id": "jYe2mHWiQUB8"
      }
    },
    {
      "cell_type": "code",
      "source": [
        "ps_data_df.columns = ps_data_df.columns.str.replace(' ', '_')                   # It helps in coding while processing and analysing data"
      ],
      "metadata": {
        "id": "EddYd927QOTI"
      },
      "execution_count": 192,
      "outputs": []
    },
    {
      "cell_type": "markdown",
      "source": [
        "3. Handling total **1474** null values of column **'Rating'** **bold text**\n",
        "\n",
        "-----\n"
      ],
      "metadata": {
        "id": "DBCB5W7KE9ft"
      }
    },
    {
      "cell_type": "markdown",
      "source": [
        "As 'Rating' an important data to work-out further analysis, we can check central tendancy of the rating data and update these null values."
      ],
      "metadata": {
        "id": "XJs7tJPJGFqL"
      }
    },
    {
      "cell_type": "code",
      "source": [
        "# Let's have a glance on central tendancy of 'Rating' column with help of 'Box Plot', it will help us to quickly identify,\n",
        "\n",
        "# 1. Median value\n",
        "# 2. Dispersion  of dataset (it helps us to understand Range, interquartile range, and standard deviation of data)\n",
        "# 3. Skewness of dataset (it gives us the direction of the outlier)"
      ],
      "metadata": {
        "id": "B8rB8pATrC_n"
      },
      "execution_count": 193,
      "outputs": []
    },
    {
      "cell_type": "code",
      "source": [
        "# Plotting \"Box Plot\"\n",
        "\n",
        "sns.set_style(\"darkgrid\")\n",
        "fig, ax = plt.subplots()\n",
        "fig.set_size_inches(11.7, 8.27)\n",
        "ax = sns.boxplot(x='Type', y='Rating', data=ps_data_df, palette='Blues')\n",
        "title = ax.set_title('Sentiment Polarity Distribution')"
      ],
      "metadata": {
        "colab": {
          "base_uri": "https://localhost:8080/",
          "height": 533
        },
        "id": "1yZLNZeZq2b-",
        "outputId": "c509d359-7b4f-43f1-bc64-2d0330e1c225"
      },
      "execution_count": 194,
      "outputs": [
        {
          "output_type": "display_data",
          "data": {
            "text/plain": [
              "<Figure size 842.4x595.44 with 1 Axes>"
            ],
            "image/png": "[encoded data removed]"
          },
          "metadata": {}
        }
      ]
    },
    {
      "cell_type": "markdown",
      "source": [
        "In box plot we can see there a record with 'null' Type and having outlier rating value i.e. above 17.5.\n",
        "\n",
        "This valuse should not be a rating, as per above box plot Min Rating is 1 and Max range of Rating is 5."
      ],
      "metadata": {
        "id": "iHZ4VXr0GRSx"
      }
    },
    {
      "cell_type": "markdown",
      "source": [
        "Let's check unique values of Rating and identify this outlier value and their count."
      ],
      "metadata": {
        "id": "avIfZJqeGUFu"
      }
    },
    {
      "cell_type": "markdown",
      "source": [
        "Handling **Outlier Values** in Rating Column"
      ],
      "metadata": {
        "id": "gGGqvv1HGadV"
      }
    },
    {
      "cell_type": "code",
      "source": [
        "ps_data_df.Rating.unique()    # to find unique rating values"
      ],
      "metadata": {
        "colab": {
          "base_uri": "https://localhost:8080/"
        },
        "id": "M2ZcqopsGYEo",
        "outputId": "82636a5a-5358-4fc4-ee1b-297b2c4a6e16"
      },
      "execution_count": 195,
      "outputs": [
        {
          "output_type": "execute_result",
          "data": {
            "text/plain": [
              "array([ 4.1,  4.7,  4.5,  4.3,  4.4,  3.8,  4.2,  4.6,  3.2,  4. ,  4.8,\n",
              "        3.9,  4.9,  3.6,  3.7,  nan,  3.3,  3.4,  3.5,  3.1,  5. ,  2.5,\n",
              "        3. ,  1. ,  1.9,  2.7,  2.8,  2.9,  2.6,  2.3,  2.2,  1.7,  2. ,\n",
              "        1.8,  2.4,  1.6,  2.1,  1.4,  1.5,  1.2, 19. ])"
            ]
          },
          "metadata": {},
          "execution_count": 195
        }
      ]
    },
    {
      "cell_type": "code",
      "source": [
        "# There is only one outlier value 19 in the Rating data.\n",
        "\n",
        "# Let's check that record for more clarity\n",
        "\n",
        "ps_data_df[ps_data_df['Category']=='1.9']"
      ],
      "metadata": {
        "colab": {
          "base_uri": "https://localhost:8080/",
          "height": 125
        },
        "id": "SpcjRybuHE-1",
        "outputId": "69e77f93-56ed-4c95-8f8e-2b3c17ba23eb"
      },
      "execution_count": 196,
      "outputs": [
        {
          "output_type": "execute_result",
          "data": {
            "text/plain": [
              "                                           App Category  Rating Reviews  \\\n",
              "10472  Life Made WI-Fi Touchscreen Photo Frame      1.9    19.0    3.0M   \n",
              "\n",
              "         Size Installs Type     Price Content_Rating             Genres  \\\n",
              "10472  1,000+     Free    0  Everyone            NaN  February 11, 2018   \n",
              "\n",
              "      Last_Updated Current_Ver Android_Ver  \n",
              "10472       1.0.19  4.0 and up         NaN  "
            ],
            "text/html": [
              "\n",
              "  <div id=\"df-95ef483d-2532-473f-8684-1eaddbafc22c\">\n",
              "    <div class=\"colab-df-container\">\n",
              "      <div>\n",
              "<style scoped>\n",
              "    .dataframe tbody tr th:only-of-type {\n",
              "        vertical-align: middle;\n",
              "    }\n",
              "\n",
              "    .dataframe tbody tr th {\n",
              "        vertical-align: top;\n",
              "    }\n",
              "\n",
              "    .dataframe thead th {\n",
              "        text-align: right;\n",
              "    }\n",
              "</style>\n",
              "<table border=\"1\" class=\"dataframe\">\n",
              "  <thead>\n",
              "    <tr style=\"text-align: right;\">\n",
              "      <th></th>\n",
              "      <th>App</th>\n",
              "      <th>Category</th>\n",
              "      <th>Rating</th>\n",
              "      <th>Reviews</th>\n",
              "      <th>Size</th>\n",
              "      <th>Installs</th>\n",
              "      <th>Type</th>\n",
              "      <th>Price</th>\n",
              "      <th>Content_Rating</th>\n",
              "      <th>Genres</th>\n",
              "      <th>Last_Updated</th>\n",
              "      <th>Current_Ver</th>\n",
              "      <th>Android_Ver</th>\n",
              "    </tr>\n",
              "  </thead>\n",
              "  <tbody>\n",
              "    <tr>\n",
              "      <th>10472</th>\n",
              "      <td>Life Made WI-Fi Touchscreen Photo Frame</td>\n",
              "      <td>1.9</td>\n",
              "      <td>19.0</td>\n",
              "      <td>3.0M</td>\n",
              "      <td>1,000+</td>\n",
              "      <td>Free</td>\n",
              "      <td>0</td>\n",
              "      <td>Everyone</td>\n",
              "      <td>NaN</td>\n",
              "      <td>February 11, 2018</td>\n",
              "      <td>1.0.19</td>\n",
              "      <td>4.0 and up</td>\n",
              "      <td>NaN</td>\n",
              "    </tr>\n",
              "  </tbody>\n",
              "</table>\n",
              "</div>\n",
              "      <button class=\"colab-df-convert\" onclick=\"convertToInteractive('df-95ef483d-2532-473f-8684-1eaddbafc22c')\"\n",
              "              title=\"Convert this dataframe to an interactive table.\"\n",
              "              style=\"display:none;\">\n",
              "        \n",
              "  <svg xmlns=\"http://www.w3.org/2000/svg\" height=\"24px\"viewBox=\"0 0 24 24\"\n",
              "       width=\"24px\">\n",
              "    <path d=\"M0 0h24v24H0V0z\" fill=\"none\"/>\n",
              "    <path d=\"M18.56 5.44l.94 2.06.94-2.06 2.06-.94-2.06-.94-.94-2.06-.94 2.06-2.06.94zm-11 1L8.5 8.5l.94-2.06 2.06-.94-2.06-.94L8.5 2.5l-.94 2.06-2.06.94zm10 10l.94 2.06.94-2.06 2.06-.94-2.06-.94-.94-2.06-.94 2.06-2.06.94z\"/><path d=\"M17.41 7.96l-1.37-1.37c-.4-.4-.92-.59-1.43-.59-.52 0-1.04.2-1.43.59L10.3 9.45l-7.72 7.72c-.78.78-.78 2.05 0 2.83L4 21.41c.39.39.9.59 1.41.59.51 0 1.02-.2 1.41-.59l7.78-7.78 2.81-2.81c.8-.78.8-2.07 0-2.86zM5.41 20L4 18.59l7.72-7.72 1.47 1.35L5.41 20z\"/>\n",
              "  </svg>\n",
              "      </button>\n",
              "      \n",
              "  <style>\n",
              "    .colab-df-container {\n",
              "      display:flex;\n",
              "      flex-wrap:wrap;\n",
              "      gap: 12px;\n",
              "    }\n",
              "\n",
              "    .colab-df-convert {\n",
              "      background-color: #E8F0FE;\n",
              "      border: none;\n",
              "      border-radius: 50%;\n",
              "      cursor: pointer;\n",
              "      display: none;\n",
              "      fill: #1967D2;\n",
              "      height: 32px;\n",
              "      padding: 0 0 0 0;\n",
              "      width: 32px;\n",
              "    }\n",
              "\n",
              "    .colab-df-convert:hover {\n",
              "      background-color: #E2EBFA;\n",
              "      box-shadow: 0px 1px 2px rgba(60, 64, 67, 0.3), 0px 1px 3px 1px rgba(60, 64, 67, 0.15);\n",
              "      fill: #174EA6;\n",
              "    }\n",
              "\n",
              "    [theme=dark] .colab-df-convert {\n",
              "      background-color: #3B4455;\n",
              "      fill: #D2E3FC;\n",
              "    }\n",
              "\n",
              "    [theme=dark] .colab-df-convert:hover {\n",
              "      background-color: #434B5C;\n",
              "      box-shadow: 0px 1px 3px 1px rgba(0, 0, 0, 0.15);\n",
              "      filter: drop-shadow(0px 1px 2px rgba(0, 0, 0, 0.3));\n",
              "      fill: #FFFFFF;\n",
              "    }\n",
              "  </style>\n",
              "\n",
              "      <script>\n",
              "        const buttonEl =\n",
              "          document.querySelector('#df-95ef483d-2532-473f-8684-1eaddbafc22c button.colab-df-convert');\n",
              "        buttonEl.style.display =\n",
              "          google.colab.kernel.accessAllowed ? 'block' : 'none';\n",
              "\n",
              "        async function convertToInteractive(key) {\n",
              "          const element = document.querySelector('#df-95ef483d-2532-473f-8684-1eaddbafc22c');\n",
              "          const dataTable =\n",
              "            await google.colab.kernel.invokeFunction('convertToInteractive',\n",
              "                                                     [key], {});\n",
              "          if (!dataTable) return;\n",
              "\n",
              "          const docLinkHtml = 'Like what you see? Visit the ' +\n",
              "            '<a target=\"_blank\" href=https://colab.research.google.com/notebooks/data_table.ipynb>data table notebook</a>'\n",
              "            + ' to learn more about interactive tables.';\n",
              "          element.innerHTML = '';\n",
              "          dataTable['output_type'] = 'display_data';\n",
              "          await google.colab.output.renderOutput(dataTable, element);\n",
              "          const docLink = document.createElement('div');\n",
              "          docLink.innerHTML = docLinkHtml;\n",
              "          element.appendChild(docLink);\n",
              "        }\n",
              "      </script>\n",
              "    </div>\n",
              "  </div>\n",
              "  "
            ]
          },
          "metadata": {},
          "execution_count": 196
        }
      ]
    },
    {
      "cell_type": "code",
      "source": [
        "# This record looks like a Data Entry mistake, as per the details, here 'CATEGORY' entry has been missed \n",
        "# and hence all other entries also got shifted to one column ahead\n",
        "\n",
        "# let's delete this wrong category entry, shift other row entries and replace missing entry with appropriate category type\n",
        "\n",
        "# Deleting entry :\n",
        "\n",
        "from copy import deepcopy\n",
        "missing_entry = deepcopy(ps_data_df.loc[10472])\n",
        "missing_entry[1:] = missing_entry[1:].shift(periods=1)\n",
        "ps_data_df.loc[10472] = missing_entry\n",
        "\n",
        "# remove the temporary variable\n",
        "\n",
        "del missing_entry"
      ],
      "metadata": {
        "id": "Mj1E0M6tHJ8r"
      },
      "execution_count": 197,
      "outputs": []
    },
    {
      "cell_type": "code",
      "source": [
        "# As per App Name, this app can be categorised as \"LIFESTYLE\" category app\n",
        "\n",
        "# Updating appropriate actegory for missing entry\n",
        "\n",
        "ps_data_df.loc[10472, 'Category'] = 'LIFESTYLE'\n",
        "ps_data_df.loc[10472]"
      ],
      "metadata": {
        "colab": {
          "base_uri": "https://localhost:8080/"
        },
        "id": "_lDLrTF2HN7W",
        "outputId": "c70c8482-3659-4943-983b-b7313d68dd95"
      },
      "execution_count": 198,
      "outputs": [
        {
          "output_type": "execute_result",
          "data": {
            "text/plain": [
              "App               Life Made WI-Fi Touchscreen Photo Frame\n",
              "Category                                        LIFESTYLE\n",
              "Rating                                                1.9\n",
              "Reviews                                              19.0\n",
              "Size                                                 3.0M\n",
              "Installs                                           1,000+\n",
              "Type                                                 Free\n",
              "Price                                                   0\n",
              "Content_Rating                                   Everyone\n",
              "Genres                                                NaN\n",
              "Last_Updated                            February 11, 2018\n",
              "Current_Ver                                        1.0.19\n",
              "Android_Ver                                    4.0 and up\n",
              "Name: 10472, dtype: object"
            ]
          },
          "metadata": {},
          "execution_count": 198
        }
      ]
    },
    {
      "cell_type": "markdown",
      "source": [
        "Handling **1474** **null** values of Rating Column\n",
        "\n",
        "-----"
      ],
      "metadata": {
        "id": "9ONNFUSQHUPK"
      }
    },
    {
      "cell_type": "code",
      "source": [
        "# As per 'Box Plot' median value of the data is lying between 4 - 5, lets check the same update missing values accordingly."
      ],
      "metadata": {
        "id": "kKl7qHScHR-6"
      },
      "execution_count": 199,
      "outputs": []
    },
    {
      "cell_type": "code",
      "source": [
        "# Checking median rating of rating column.\n",
        "rating_median = ps_data_df['Rating'].median()\n",
        "print(f'The median of of Rating column is {rating_median}.')"
      ],
      "metadata": {
        "colab": {
          "base_uri": "https://localhost:8080/"
        },
        "id": "vhisE1ryHa19",
        "outputId": "27872919-74ea-432d-82bf-bc8fde34a013"
      },
      "execution_count": 200,
      "outputs": [
        {
          "output_type": "stream",
          "name": "stdout",
          "text": [
            "The median of of Rating column is 4.3.\n"
          ]
        }
      ]
    },
    {
      "cell_type": "code",
      "source": [
        "# Filled NaN values in rating column.\n",
        "ps_data_df.loc[ps_data_df['Rating'].isnull(), 'Rating'] = ps_data_df['Rating'].fillna(rating_median)"
      ],
      "metadata": {
        "id": "adAwzfqXHdQF"
      },
      "execution_count": 201,
      "outputs": []
    },
    {
      "cell_type": "markdown",
      "source": [
        "4. Handling **1 null** value of **Type** Column\n",
        "-----"
      ],
      "metadata": {
        "id": "xCfmiN8xHncD"
      }
    },
    {
      "cell_type": "code",
      "source": [
        "# Type\n",
        "ps_data_df[ps_data_df['Type'].isnull()]"
      ],
      "metadata": {
        "colab": {
          "base_uri": "https://localhost:8080/",
          "height": 81
        },
        "id": "dKKWpofbHu8R",
        "outputId": "8a46be49-2d0a-4b36-db89-4d09f932f524"
      },
      "execution_count": 202,
      "outputs": [
        {
          "output_type": "execute_result",
          "data": {
            "text/plain": [
              "                            App Category Rating Reviews                Size  \\\n",
              "9148  Command & Conquer: Rivals   FAMILY    4.3       0  Varies with device   \n",
              "\n",
              "     Installs Type Price Content_Rating    Genres   Last_Updated  \\\n",
              "9148        0  NaN     0   Everyone 10+  Strategy  June 28, 2018   \n",
              "\n",
              "             Current_Ver         Android_Ver  \n",
              "9148  Varies with device  Varies with device  "
            ],
            "text/html": [
              "\n",
              "  <div id=\"df-830ebdb2-a2d7-4e5f-822a-11011a35f7c1\">\n",
              "    <div class=\"colab-df-container\">\n",
              "      <div>\n",
              "<style scoped>\n",
              "    .dataframe tbody tr th:only-of-type {\n",
              "        vertical-align: middle;\n",
              "    }\n",
              "\n",
              "    .dataframe tbody tr th {\n",
              "        vertical-align: top;\n",
              "    }\n",
              "\n",
              "    .dataframe thead th {\n",
              "        text-align: right;\n",
              "    }\n",
              "</style>\n",
              "<table border=\"1\" class=\"dataframe\">\n",
              "  <thead>\n",
              "    <tr style=\"text-align: right;\">\n",
              "      <th></th>\n",
              "      <th>App</th>\n",
              "      <th>Category</th>\n",
              "      <th>Rating</th>\n",
              "      <th>Reviews</th>\n",
              "      <th>Size</th>\n",
              "      <th>Installs</th>\n",
              "      <th>Type</th>\n",
              "      <th>Price</th>\n",
              "      <th>Content_Rating</th>\n",
              "      <th>Genres</th>\n",
              "      <th>Last_Updated</th>\n",
              "      <th>Current_Ver</th>\n",
              "      <th>Android_Ver</th>\n",
              "    </tr>\n",
              "  </thead>\n",
              "  <tbody>\n",
              "    <tr>\n",
              "      <th>9148</th>\n",
              "      <td>Command &amp; Conquer: Rivals</td>\n",
              "      <td>FAMILY</td>\n",
              "      <td>4.3</td>\n",
              "      <td>0</td>\n",
              "      <td>Varies with device</td>\n",
              "      <td>0</td>\n",
              "      <td>NaN</td>\n",
              "      <td>0</td>\n",
              "      <td>Everyone 10+</td>\n",
              "      <td>Strategy</td>\n",
              "      <td>June 28, 2018</td>\n",
              "      <td>Varies with device</td>\n",
              "      <td>Varies with device</td>\n",
              "    </tr>\n",
              "  </tbody>\n",
              "</table>\n",
              "</div>\n",
              "      <button class=\"colab-df-convert\" onclick=\"convertToInteractive('df-830ebdb2-a2d7-4e5f-822a-11011a35f7c1')\"\n",
              "              title=\"Convert this dataframe to an interactive table.\"\n",
              "              style=\"display:none;\">\n",
              "        \n",
              "  <svg xmlns=\"http://www.w3.org/2000/svg\" height=\"24px\"viewBox=\"0 0 24 24\"\n",
              "       width=\"24px\">\n",
              "    <path d=\"M0 0h24v24H0V0z\" fill=\"none\"/>\n",
              "    <path d=\"M18.56 5.44l.94 2.06.94-2.06 2.06-.94-2.06-.94-.94-2.06-.94 2.06-2.06.94zm-11 1L8.5 8.5l.94-2.06 2.06-.94-2.06-.94L8.5 2.5l-.94 2.06-2.06.94zm10 10l.94 2.06.94-2.06 2.06-.94-2.06-.94-.94-2.06-.94 2.06-2.06.94z\"/><path d=\"M17.41 7.96l-1.37-1.37c-.4-.4-.92-.59-1.43-.59-.52 0-1.04.2-1.43.59L10.3 9.45l-7.72 7.72c-.78.78-.78 2.05 0 2.83L4 21.41c.39.39.9.59 1.41.59.51 0 1.02-.2 1.41-.59l7.78-7.78 2.81-2.81c.8-.78.8-2.07 0-2.86zM5.41 20L4 18.59l7.72-7.72 1.47 1.35L5.41 20z\"/>\n",
              "  </svg>\n",
              "      </button>\n",
              "      \n",
              "  <style>\n",
              "    .colab-df-container {\n",
              "      display:flex;\n",
              "      flex-wrap:wrap;\n",
              "      gap: 12px;\n",
              "    }\n",
              "\n",
              "    .colab-df-convert {\n",
              "      background-color: #E8F0FE;\n",
              "      border: none;\n",
              "      border-radius: 50%;\n",
              "      cursor: pointer;\n",
              "      display: none;\n",
              "      fill: #1967D2;\n",
              "      height: 32px;\n",
              "      padding: 0 0 0 0;\n",
              "      width: 32px;\n",
              "    }\n",
              "\n",
              "    .colab-df-convert:hover {\n",
              "      background-color: #E2EBFA;\n",
              "      box-shadow: 0px 1px 2px rgba(60, 64, 67, 0.3), 0px 1px 3px 1px rgba(60, 64, 67, 0.15);\n",
              "      fill: #174EA6;\n",
              "    }\n",
              "\n",
              "    [theme=dark] .colab-df-convert {\n",
              "      background-color: #3B4455;\n",
              "      fill: #D2E3FC;\n",
              "    }\n",
              "\n",
              "    [theme=dark] .colab-df-convert:hover {\n",
              "      background-color: #434B5C;\n",
              "      box-shadow: 0px 1px 3px 1px rgba(0, 0, 0, 0.15);\n",
              "      filter: drop-shadow(0px 1px 2px rgba(0, 0, 0, 0.3));\n",
              "      fill: #FFFFFF;\n",
              "    }\n",
              "  </style>\n",
              "\n",
              "      <script>\n",
              "        const buttonEl =\n",
              "          document.querySelector('#df-830ebdb2-a2d7-4e5f-822a-11011a35f7c1 button.colab-df-convert');\n",
              "        buttonEl.style.display =\n",
              "          google.colab.kernel.accessAllowed ? 'block' : 'none';\n",
              "\n",
              "        async function convertToInteractive(key) {\n",
              "          const element = document.querySelector('#df-830ebdb2-a2d7-4e5f-822a-11011a35f7c1');\n",
              "          const dataTable =\n",
              "            await google.colab.kernel.invokeFunction('convertToInteractive',\n",
              "                                                     [key], {});\n",
              "          if (!dataTable) return;\n",
              "\n",
              "          const docLinkHtml = 'Like what you see? Visit the ' +\n",
              "            '<a target=\"_blank\" href=https://colab.research.google.com/notebooks/data_table.ipynb>data table notebook</a>'\n",
              "            + ' to learn more about interactive tables.';\n",
              "          element.innerHTML = '';\n",
              "          dataTable['output_type'] = 'display_data';\n",
              "          await google.colab.output.renderOutput(dataTable, element);\n",
              "          const docLink = document.createElement('div');\n",
              "          docLink.innerHTML = docLinkHtml;\n",
              "          element.appendChild(docLink);\n",
              "        }\n",
              "      </script>\n",
              "    </div>\n",
              "  </div>\n",
              "  "
            ]
          },
          "metadata": {},
          "execution_count": 202
        }
      ]
    },
    {
      "cell_type": "code",
      "source": [
        "# In family category only Command & Conquer: Rivals app has NaN in its Type column.\n",
        "df_groupby_category = ps_data_df.groupby('Category')"
      ],
      "metadata": {
        "id": "K1OxG41xIrt8"
      },
      "execution_count": 203,
      "outputs": []
    },
    {
      "cell_type": "code",
      "source": [
        "# The number of Free and Paid apps in Family category.\n",
        "df_family = df_groupby_category.get_group('FAMILY')\n",
        "df_family['Type'].value_counts()"
      ],
      "metadata": {
        "colab": {
          "base_uri": "https://localhost:8080/"
        },
        "id": "r4uP459pItiV",
        "outputId": "8c44f548-78b7-40ea-860c-92c1379d4b9d"
      },
      "execution_count": 204,
      "outputs": [
        {
          "output_type": "execute_result",
          "data": {
            "text/plain": [
              "Free    1720\n",
              "Paid     185\n",
              "Name: Type, dtype: int64"
            ]
          },
          "metadata": {},
          "execution_count": 204
        }
      ]
    },
    {
      "cell_type": "code",
      "source": [
        "# NaN value in Type column filled with as Most number of apps are Free.\n",
        "ps_data_df['Type'] = ps_data_df['Type'].fillna('Free')"
      ],
      "metadata": {
        "id": "VK4QaVHwIvPo"
      },
      "execution_count": 205,
      "outputs": []
    },
    {
      "cell_type": "code",
      "source": [
        "# Type\n",
        "ps_data_df[ps_data_df['Type'].isnull()]"
      ],
      "metadata": {
        "colab": {
          "base_uri": "https://localhost:8080/",
          "height": 49
        },
        "id": "JzszJvuTI2zG",
        "outputId": "9f9de2e5-2583-4fab-885a-48373d85ab10"
      },
      "execution_count": 206,
      "outputs": [
        {
          "output_type": "execute_result",
          "data": {
            "text/plain": [
              "Empty DataFrame\n",
              "Columns: [App, Category, Rating, Reviews, Size, Installs, Type, Price, Content_Rating, Genres, Last_Updated, Current_Ver, Android_Ver]\n",
              "Index: []"
            ],
            "text/html": [
              "\n",
              "  <div id=\"df-cad61e40-fd94-426a-a129-b4e309eb70c2\">\n",
              "    <div class=\"colab-df-container\">\n",
              "      <div>\n",
              "<style scoped>\n",
              "    .dataframe tbody tr th:only-of-type {\n",
              "        vertical-align: middle;\n",
              "    }\n",
              "\n",
              "    .dataframe tbody tr th {\n",
              "        vertical-align: top;\n",
              "    }\n",
              "\n",
              "    .dataframe thead th {\n",
              "        text-align: right;\n",
              "    }\n",
              "</style>\n",
              "<table border=\"1\" class=\"dataframe\">\n",
              "  <thead>\n",
              "    <tr style=\"text-align: right;\">\n",
              "      <th></th>\n",
              "      <th>App</th>\n",
              "      <th>Category</th>\n",
              "      <th>Rating</th>\n",
              "      <th>Reviews</th>\n",
              "      <th>Size</th>\n",
              "      <th>Installs</th>\n",
              "      <th>Type</th>\n",
              "      <th>Price</th>\n",
              "      <th>Content_Rating</th>\n",
              "      <th>Genres</th>\n",
              "      <th>Last_Updated</th>\n",
              "      <th>Current_Ver</th>\n",
              "      <th>Android_Ver</th>\n",
              "    </tr>\n",
              "  </thead>\n",
              "  <tbody>\n",
              "  </tbody>\n",
              "</table>\n",
              "</div>\n",
              "      <button class=\"colab-df-convert\" onclick=\"convertToInteractive('df-cad61e40-fd94-426a-a129-b4e309eb70c2')\"\n",
              "              title=\"Convert this dataframe to an interactive table.\"\n",
              "              style=\"display:none;\">\n",
              "        \n",
              "  <svg xmlns=\"http://www.w3.org/2000/svg\" height=\"24px\"viewBox=\"0 0 24 24\"\n",
              "       width=\"24px\">\n",
              "    <path d=\"M0 0h24v24H0V0z\" fill=\"none\"/>\n",
              "    <path d=\"M18.56 5.44l.94 2.06.94-2.06 2.06-.94-2.06-.94-.94-2.06-.94 2.06-2.06.94zm-11 1L8.5 8.5l.94-2.06 2.06-.94-2.06-.94L8.5 2.5l-.94 2.06-2.06.94zm10 10l.94 2.06.94-2.06 2.06-.94-2.06-.94-.94-2.06-.94 2.06-2.06.94z\"/><path d=\"M17.41 7.96l-1.37-1.37c-.4-.4-.92-.59-1.43-.59-.52 0-1.04.2-1.43.59L10.3 9.45l-7.72 7.72c-.78.78-.78 2.05 0 2.83L4 21.41c.39.39.9.59 1.41.59.51 0 1.02-.2 1.41-.59l7.78-7.78 2.81-2.81c.8-.78.8-2.07 0-2.86zM5.41 20L4 18.59l7.72-7.72 1.47 1.35L5.41 20z\"/>\n",
              "  </svg>\n",
              "      </button>\n",
              "      \n",
              "  <style>\n",
              "    .colab-df-container {\n",
              "      display:flex;\n",
              "      flex-wrap:wrap;\n",
              "      gap: 12px;\n",
              "    }\n",
              "\n",
              "    .colab-df-convert {\n",
              "      background-color: #E8F0FE;\n",
              "      border: none;\n",
              "      border-radius: 50%;\n",
              "      cursor: pointer;\n",
              "      display: none;\n",
              "      fill: #1967D2;\n",
              "      height: 32px;\n",
              "      padding: 0 0 0 0;\n",
              "      width: 32px;\n",
              "    }\n",
              "\n",
              "    .colab-df-convert:hover {\n",
              "      background-color: #E2EBFA;\n",
              "      box-shadow: 0px 1px 2px rgba(60, 64, 67, 0.3), 0px 1px 3px 1px rgba(60, 64, 67, 0.15);\n",
              "      fill: #174EA6;\n",
              "    }\n",
              "\n",
              "    [theme=dark] .colab-df-convert {\n",
              "      background-color: #3B4455;\n",
              "      fill: #D2E3FC;\n",
              "    }\n",
              "\n",
              "    [theme=dark] .colab-df-convert:hover {\n",
              "      background-color: #434B5C;\n",
              "      box-shadow: 0px 1px 3px 1px rgba(0, 0, 0, 0.15);\n",
              "      filter: drop-shadow(0px 1px 2px rgba(0, 0, 0, 0.3));\n",
              "      fill: #FFFFFF;\n",
              "    }\n",
              "  </style>\n",
              "\n",
              "      <script>\n",
              "        const buttonEl =\n",
              "          document.querySelector('#df-cad61e40-fd94-426a-a129-b4e309eb70c2 button.colab-df-convert');\n",
              "        buttonEl.style.display =\n",
              "          google.colab.kernel.accessAllowed ? 'block' : 'none';\n",
              "\n",
              "        async function convertToInteractive(key) {\n",
              "          const element = document.querySelector('#df-cad61e40-fd94-426a-a129-b4e309eb70c2');\n",
              "          const dataTable =\n",
              "            await google.colab.kernel.invokeFunction('convertToInteractive',\n",
              "                                                     [key], {});\n",
              "          if (!dataTable) return;\n",
              "\n",
              "          const docLinkHtml = 'Like what you see? Visit the ' +\n",
              "            '<a target=\"_blank\" href=https://colab.research.google.com/notebooks/data_table.ipynb>data table notebook</a>'\n",
              "            + ' to learn more about interactive tables.';\n",
              "          element.innerHTML = '';\n",
              "          dataTable['output_type'] = 'display_data';\n",
              "          await google.colab.output.renderOutput(dataTable, element);\n",
              "          const docLink = document.createElement('div');\n",
              "          docLink.innerHTML = docLinkHtml;\n",
              "          element.appendChild(docLink);\n",
              "        }\n",
              "      </script>\n",
              "    </div>\n",
              "  </div>\n",
              "  "
            ]
          },
          "metadata": {},
          "execution_count": 206
        }
      ]
    },
    {
      "cell_type": "markdown",
      "source": [
        "5. Handling **8 Null** Values of **\"Current Version\"** Column\n",
        "-----"
      ],
      "metadata": {
        "id": "mfeA1CDsI_BH"
      }
    },
    {
      "cell_type": "code",
      "source": [
        "ps_data_df['Current_Ver'].isnull().value_counts()"
      ],
      "metadata": {
        "colab": {
          "base_uri": "https://localhost:8080/"
        },
        "id": "fCF1UxemI9EF",
        "outputId": "1697cbc2-869c-45fc-bb55-3be9af841d57"
      },
      "execution_count": 207,
      "outputs": [
        {
          "output_type": "execute_result",
          "data": {
            "text/plain": [
              "False    9652\n",
              "True        8\n",
              "Name: Current_Ver, dtype: int64"
            ]
          },
          "metadata": {},
          "execution_count": 207
        }
      ]
    },
    {
      "cell_type": "code",
      "source": [
        "ps_data_df['Current_Ver']"
      ],
      "metadata": {
        "colab": {
          "base_uri": "https://localhost:8080/"
        },
        "id": "tLKDw1dbJU2P",
        "outputId": "9f30741a-8aa4-41b0-a84e-ef6a6aa6c61d"
      },
      "execution_count": 208,
      "outputs": [
        {
          "output_type": "execute_result",
          "data": {
            "text/plain": [
              "0                     1.0.0\n",
              "2                     1.2.4\n",
              "3        Varies with device\n",
              "4                       1.1\n",
              "5                       1.0\n",
              "                ...        \n",
              "10836                  1.48\n",
              "10837                   1.0\n",
              "10838                   1.0\n",
              "10839    Varies with device\n",
              "10840    Varies with device\n",
              "Name: Current_Ver, Length: 9660, dtype: object"
            ]
          },
          "metadata": {},
          "execution_count": 208
        }
      ]
    },
    {
      "cell_type": "code",
      "source": [
        "# There are 8 NaN values and in some apps 'Current_Ver' is \"Varies with device\""
      ],
      "metadata": {
        "id": "DT5VzumzJbEZ"
      },
      "execution_count": 209,
      "outputs": []
    },
    {
      "cell_type": "code",
      "source": [
        "# Lets check count of \"Varies with Device\"\n",
        "\n",
        "ps_data_df[\"Current_Ver\"].value_counts()"
      ],
      "metadata": {
        "colab": {
          "base_uri": "https://localhost:8080/"
        },
        "id": "-18KVXDPJeMn",
        "outputId": "3dd1877d-db4b-4e05-d279-d9796bef1098"
      },
      "execution_count": 210,
      "outputs": [
        {
          "output_type": "execute_result",
          "data": {
            "text/plain": [
              "Varies with device    1054\n",
              "1.0                    797\n",
              "1.1                    260\n",
              "1.2                    176\n",
              "2.0                    149\n",
              "                      ... \n",
              "8.3                      1\n",
              "5.2.5                    1\n",
              "8.2.9                    1\n",
              "2.71                     1\n",
              "2.0.148.0                1\n",
              "Name: Current_Ver, Length: 2818, dtype: int64"
            ]
          },
          "metadata": {},
          "execution_count": 210
        }
      ]
    },
    {
      "cell_type": "code",
      "source": [
        "# Lets check count of \"Varies with Device\"\n",
        "\n",
        "ps_data_df[\"Current_Ver\"].mode()"
      ],
      "metadata": {
        "colab": {
          "base_uri": "https://localhost:8080/"
        },
        "id": "z4ZPHFbYJkCY",
        "outputId": "0856ffa6-d255-4b17-92c1-548deee73b7f"
      },
      "execution_count": 211,
      "outputs": [
        {
          "output_type": "execute_result",
          "data": {
            "text/plain": [
              "0    Varies with device\n",
              "dtype: object"
            ]
          },
          "metadata": {},
          "execution_count": 211
        }
      ]
    },
    {
      "cell_type": "code",
      "source": [
        "# As per data mode of the Current Version is \"Varies with device\", so lets keep this Version as it is."
      ],
      "metadata": {
        "id": "mTO61ghCJnHj"
      },
      "execution_count": 212,
      "outputs": []
    },
    {
      "cell_type": "code",
      "source": [
        "ps_data_df[ps_data_df.Current_Ver.isnull()]"
      ],
      "metadata": {
        "colab": {
          "base_uri": "https://localhost:8080/",
          "height": 414
        },
        "id": "pmKObm8JJrRB",
        "outputId": "1fe7bdd9-4943-4d78-9d9a-74ca7ff5a56e"
      },
      "execution_count": 213,
      "outputs": [
        {
          "output_type": "execute_result",
          "data": {
            "text/plain": [
              "                                   App             Category Rating Reviews  \\\n",
              "15     Learn To Draw Kawaii Characters       ART_AND_DESIGN    3.2      55   \n",
              "1553              Market Update Helper   LIBRARIES_AND_DEMO    4.1   20145   \n",
              "6322            Virtual DJ Sound Mixer                TOOLS    4.2    4010   \n",
              "6803                         BT Master               FAMILY    4.3       0   \n",
              "7333                       Dots puzzle               FAMILY    4.0     179   \n",
              "7407                   Calculate My IQ               FAMILY    4.3      44   \n",
              "7730                            UFO-CQ                TOOLS    4.3       1   \n",
              "10342                   La Fe de Jesus  BOOKS_AND_REFERENCE    4.3       8   \n",
              "\n",
              "       Size    Installs  Type  Price Content_Rating             Genres  \\\n",
              "15     2.7M      5,000+  Free      0       Everyone       Art & Design   \n",
              "1553    11k  1,000,000+  Free      0       Everyone   Libraries & Demo   \n",
              "6322   8.7M    500,000+  Free      0       Everyone              Tools   \n",
              "6803   222k        100+  Free      0       Everyone          Education   \n",
              "7333    14M     50,000+  Paid  $0.99       Everyone             Puzzle   \n",
              "7407   7.2M     10,000+  Free      0       Everyone      Entertainment   \n",
              "7730   237k         10+  Paid  $0.99       Everyone              Tools   \n",
              "10342  658k      1,000+  Free      0       Everyone  Books & Reference   \n",
              "\n",
              "            Last_Updated Current_Ver Android_Ver  \n",
              "15          June 6, 2018         NaN  4.2 and up  \n",
              "1553   February 12, 2013         NaN  1.5 and up  \n",
              "6322        May 10, 2017         NaN  4.0 and up  \n",
              "6803    November 6, 2016         NaN  1.6 and up  \n",
              "7333      April 18, 2018         NaN  4.0 and up  \n",
              "7407       April 3, 2017         NaN  2.3 and up  \n",
              "7730        July 4, 2016         NaN  2.0 and up  \n",
              "10342   January 31, 2017         NaN  3.0 and up  "
            ],
            "text/html": [
              "\n",
              "  <div id=\"df-55414c18-1a25-49b9-b210-3d0a8ce2b52a\">\n",
              "    <div class=\"colab-df-container\">\n",
              "      <div>\n",
              "<style scoped>\n",
              "    .dataframe tbody tr th:only-of-type {\n",
              "        vertical-align: middle;\n",
              "    }\n",
              "\n",
              "    .dataframe tbody tr th {\n",
              "        vertical-align: top;\n",
              "    }\n",
              "\n",
              "    .dataframe thead th {\n",
              "        text-align: right;\n",
              "    }\n",
              "</style>\n",
              "<table border=\"1\" class=\"dataframe\">\n",
              "  <thead>\n",
              "    <tr style=\"text-align: right;\">\n",
              "      <th></th>\n",
              "      <th>App</th>\n",
              "      <th>Category</th>\n",
              "      <th>Rating</th>\n",
              "      <th>Reviews</th>\n",
              "      <th>Size</th>\n",
              "      <th>Installs</th>\n",
              "      <th>Type</th>\n",
              "      <th>Price</th>\n",
              "      <th>Content_Rating</th>\n",
              "      <th>Genres</th>\n",
              "      <th>Last_Updated</th>\n",
              "      <th>Current_Ver</th>\n",
              "      <th>Android_Ver</th>\n",
              "    </tr>\n",
              "  </thead>\n",
              "  <tbody>\n",
              "    <tr>\n",
              "      <th>15</th>\n",
              "      <td>Learn To Draw Kawaii Characters</td>\n",
              "      <td>ART_AND_DESIGN</td>\n",
              "      <td>3.2</td>\n",
              "      <td>55</td>\n",
              "      <td>2.7M</td>\n",
              "      <td>5,000+</td>\n",
              "      <td>Free</td>\n",
              "      <td>0</td>\n",
              "      <td>Everyone</td>\n",
              "      <td>Art &amp; Design</td>\n",
              "      <td>June 6, 2018</td>\n",
              "      <td>NaN</td>\n",
              "      <td>4.2 and up</td>\n",
              "    </tr>\n",
              "    <tr>\n",
              "      <th>1553</th>\n",
              "      <td>Market Update Helper</td>\n",
              "      <td>LIBRARIES_AND_DEMO</td>\n",
              "      <td>4.1</td>\n",
              "      <td>20145</td>\n",
              "      <td>11k</td>\n",
              "      <td>1,000,000+</td>\n",
              "      <td>Free</td>\n",
              "      <td>0</td>\n",
              "      <td>Everyone</td>\n",
              "      <td>Libraries &amp; Demo</td>\n",
              "      <td>February 12, 2013</td>\n",
              "      <td>NaN</td>\n",
              "      <td>1.5 and up</td>\n",
              "    </tr>\n",
              "    <tr>\n",
              "      <th>6322</th>\n",
              "      <td>Virtual DJ Sound Mixer</td>\n",
              "      <td>TOOLS</td>\n",
              "      <td>4.2</td>\n",
              "      <td>4010</td>\n",
              "      <td>8.7M</td>\n",
              "      <td>500,000+</td>\n",
              "      <td>Free</td>\n",
              "      <td>0</td>\n",
              "      <td>Everyone</td>\n",
              "      <td>Tools</td>\n",
              "      <td>May 10, 2017</td>\n",
              "      <td>NaN</td>\n",
              "      <td>4.0 and up</td>\n",
              "    </tr>\n",
              "    <tr>\n",
              "      <th>6803</th>\n",
              "      <td>BT Master</td>\n",
              "      <td>FAMILY</td>\n",
              "      <td>4.3</td>\n",
              "      <td>0</td>\n",
              "      <td>222k</td>\n",
              "      <td>100+</td>\n",
              "      <td>Free</td>\n",
              "      <td>0</td>\n",
              "      <td>Everyone</td>\n",
              "      <td>Education</td>\n",
              "      <td>November 6, 2016</td>\n",
              "      <td>NaN</td>\n",
              "      <td>1.6 and up</td>\n",
              "    </tr>\n",
              "    <tr>\n",
              "      <th>7333</th>\n",
              "      <td>Dots puzzle</td>\n",
              "      <td>FAMILY</td>\n",
              "      <td>4.0</td>\n",
              "      <td>179</td>\n",
              "      <td>14M</td>\n",
              "      <td>50,000+</td>\n",
              "      <td>Paid</td>\n",
              "      <td>$0.99</td>\n",
              "      <td>Everyone</td>\n",
              "      <td>Puzzle</td>\n",
              "      <td>April 18, 2018</td>\n",
              "      <td>NaN</td>\n",
              "      <td>4.0 and up</td>\n",
              "    </tr>\n",
              "    <tr>\n",
              "      <th>7407</th>\n",
              "      <td>Calculate My IQ</td>\n",
              "      <td>FAMILY</td>\n",
              "      <td>4.3</td>\n",
              "      <td>44</td>\n",
              "      <td>7.2M</td>\n",
              "      <td>10,000+</td>\n",
              "      <td>Free</td>\n",
              "      <td>0</td>\n",
              "      <td>Everyone</td>\n",
              "      <td>Entertainment</td>\n",
              "      <td>April 3, 2017</td>\n",
              "      <td>NaN</td>\n",
              "      <td>2.3 and up</td>\n",
              "    </tr>\n",
              "    <tr>\n",
              "      <th>7730</th>\n",
              "      <td>UFO-CQ</td>\n",
              "      <td>TOOLS</td>\n",
              "      <td>4.3</td>\n",
              "      <td>1</td>\n",
              "      <td>237k</td>\n",
              "      <td>10+</td>\n",
              "      <td>Paid</td>\n",
              "      <td>$0.99</td>\n",
              "      <td>Everyone</td>\n",
              "      <td>Tools</td>\n",
              "      <td>July 4, 2016</td>\n",
              "      <td>NaN</td>\n",
              "      <td>2.0 and up</td>\n",
              "    </tr>\n",
              "    <tr>\n",
              "      <th>10342</th>\n",
              "      <td>La Fe de Jesus</td>\n",
              "      <td>BOOKS_AND_REFERENCE</td>\n",
              "      <td>4.3</td>\n",
              "      <td>8</td>\n",
              "      <td>658k</td>\n",
              "      <td>1,000+</td>\n",
              "      <td>Free</td>\n",
              "      <td>0</td>\n",
              "      <td>Everyone</td>\n",
              "      <td>Books &amp; Reference</td>\n",
              "      <td>January 31, 2017</td>\n",
              "      <td>NaN</td>\n",
              "      <td>3.0 and up</td>\n",
              "    </tr>\n",
              "  </tbody>\n",
              "</table>\n",
              "</div>\n",
              "      <button class=\"colab-df-convert\" onclick=\"convertToInteractive('df-55414c18-1a25-49b9-b210-3d0a8ce2b52a')\"\n",
              "              title=\"Convert this dataframe to an interactive table.\"\n",
              "              style=\"display:none;\">\n",
              "        \n",
              "  <svg xmlns=\"http://www.w3.org/2000/svg\" height=\"24px\"viewBox=\"0 0 24 24\"\n",
              "       width=\"24px\">\n",
              "    <path d=\"M0 0h24v24H0V0z\" fill=\"none\"/>\n",
              "    <path d=\"M18.56 5.44l.94 2.06.94-2.06 2.06-.94-2.06-.94-.94-2.06-.94 2.06-2.06.94zm-11 1L8.5 8.5l.94-2.06 2.06-.94-2.06-.94L8.5 2.5l-.94 2.06-2.06.94zm10 10l.94 2.06.94-2.06 2.06-.94-2.06-.94-.94-2.06-.94 2.06-2.06.94z\"/><path d=\"M17.41 7.96l-1.37-1.37c-.4-.4-.92-.59-1.43-.59-.52 0-1.04.2-1.43.59L10.3 9.45l-7.72 7.72c-.78.78-.78 2.05 0 2.83L4 21.41c.39.39.9.59 1.41.59.51 0 1.02-.2 1.41-.59l7.78-7.78 2.81-2.81c.8-.78.8-2.07 0-2.86zM5.41 20L4 18.59l7.72-7.72 1.47 1.35L5.41 20z\"/>\n",
              "  </svg>\n",
              "      </button>\n",
              "      \n",
              "  <style>\n",
              "    .colab-df-container {\n",
              "      display:flex;\n",
              "      flex-wrap:wrap;\n",
              "      gap: 12px;\n",
              "    }\n",
              "\n",
              "    .colab-df-convert {\n",
              "      background-color: #E8F0FE;\n",
              "      border: none;\n",
              "      border-radius: 50%;\n",
              "      cursor: pointer;\n",
              "      display: none;\n",
              "      fill: #1967D2;\n",
              "      height: 32px;\n",
              "      padding: 0 0 0 0;\n",
              "      width: 32px;\n",
              "    }\n",
              "\n",
              "    .colab-df-convert:hover {\n",
              "      background-color: #E2EBFA;\n",
              "      box-shadow: 0px 1px 2px rgba(60, 64, 67, 0.3), 0px 1px 3px 1px rgba(60, 64, 67, 0.15);\n",
              "      fill: #174EA6;\n",
              "    }\n",
              "\n",
              "    [theme=dark] .colab-df-convert {\n",
              "      background-color: #3B4455;\n",
              "      fill: #D2E3FC;\n",
              "    }\n",
              "\n",
              "    [theme=dark] .colab-df-convert:hover {\n",
              "      background-color: #434B5C;\n",
              "      box-shadow: 0px 1px 3px 1px rgba(0, 0, 0, 0.15);\n",
              "      filter: drop-shadow(0px 1px 2px rgba(0, 0, 0, 0.3));\n",
              "      fill: #FFFFFF;\n",
              "    }\n",
              "  </style>\n",
              "\n",
              "      <script>\n",
              "        const buttonEl =\n",
              "          document.querySelector('#df-55414c18-1a25-49b9-b210-3d0a8ce2b52a button.colab-df-convert');\n",
              "        buttonEl.style.display =\n",
              "          google.colab.kernel.accessAllowed ? 'block' : 'none';\n",
              "\n",
              "        async function convertToInteractive(key) {\n",
              "          const element = document.querySelector('#df-55414c18-1a25-49b9-b210-3d0a8ce2b52a');\n",
              "          const dataTable =\n",
              "            await google.colab.kernel.invokeFunction('convertToInteractive',\n",
              "                                                     [key], {});\n",
              "          if (!dataTable) return;\n",
              "\n",
              "          const docLinkHtml = 'Like what you see? Visit the ' +\n",
              "            '<a target=\"_blank\" href=https://colab.research.google.com/notebooks/data_table.ipynb>data table notebook</a>'\n",
              "            + ' to learn more about interactive tables.';\n",
              "          element.innerHTML = '';\n",
              "          dataTable['output_type'] = 'display_data';\n",
              "          await google.colab.output.renderOutput(dataTable, element);\n",
              "          const docLink = document.createElement('div');\n",
              "          docLink.innerHTML = docLinkHtml;\n",
              "          element.appendChild(docLink);\n",
              "        }\n",
              "      </script>\n",
              "    </div>\n",
              "  </div>\n",
              "  "
            ]
          },
          "metadata": {},
          "execution_count": 213
        }
      ]
    },
    {
      "cell_type": "code",
      "source": [
        "# Finding corresponding Median \"Current Versions\" basis given \"Android Versions\" for above 8 Records\n",
        "\n",
        "# Current_Ver Median for Android_Ver = '4.2 and up'\n",
        "app_current_ver_df = ps_data_df[ps_data_df['Android_Ver'] == '4.2 and up']\n",
        "app_current_ver_df['Current_Ver'].mode()"
      ],
      "metadata": {
        "colab": {
          "base_uri": "https://localhost:8080/"
        },
        "id": "Bzy_dmfKJwpP",
        "outputId": "2bc9eee6-a7b4-49af-98a6-4ca74b3000f7"
      },
      "execution_count": 214,
      "outputs": [
        {
          "output_type": "execute_result",
          "data": {
            "text/plain": [
              "0    1.0\n",
              "dtype: object"
            ]
          },
          "metadata": {},
          "execution_count": 214
        }
      ]
    },
    {
      "cell_type": "code",
      "source": [
        "# Current_Ver Median for Android_Ver = '1.5 and up'\n",
        "app_current_ver_df = ps_data_df[ps_data_df['Android_Ver'] == '1.5 and up']\n",
        "app_current_ver_df['Current_Ver'].mode()"
      ],
      "metadata": {
        "colab": {
          "base_uri": "https://localhost:8080/"
        },
        "id": "1SNoaUd1J0SL",
        "outputId": "d38b525a-8e1c-4a0b-9efa-69da0a65d316"
      },
      "execution_count": 215,
      "outputs": [
        {
          "output_type": "execute_result",
          "data": {
            "text/plain": [
              "0    1.0\n",
              "dtype: object"
            ]
          },
          "metadata": {},
          "execution_count": 215
        }
      ]
    },
    {
      "cell_type": "code",
      "source": [
        "# Current_Ver Median for Android_Ver = '4.0 and up'\n",
        "app_current_ver_df = ps_data_df[ps_data_df['Android_Ver'] == '4.0 and up']\n",
        "app_current_ver_df['Current_Ver'].mode()"
      ],
      "metadata": {
        "colab": {
          "base_uri": "https://localhost:8080/"
        },
        "id": "b7gtz4Z0J5fS",
        "outputId": "98eeda67-5f4e-4792-b53e-74b5011e4647"
      },
      "execution_count": 216,
      "outputs": [
        {
          "output_type": "execute_result",
          "data": {
            "text/plain": [
              "0    1.0\n",
              "dtype: object"
            ]
          },
          "metadata": {},
          "execution_count": 216
        }
      ]
    },
    {
      "cell_type": "code",
      "source": [
        "# Current_Ver Median for Android_Ver = '1.6 and up'\n",
        "app_current_ver_df = ps_data_df[ps_data_df['Android_Ver'] == '1.6 and up']\n",
        "app_current_ver_df['Current_Ver'].mode()"
      ],
      "metadata": {
        "colab": {
          "base_uri": "https://localhost:8080/"
        },
        "id": "rhj2u22YJ8z-",
        "outputId": "c821f2e0-5b6e-4f79-e35c-785cd5850363"
      },
      "execution_count": 217,
      "outputs": [
        {
          "output_type": "execute_result",
          "data": {
            "text/plain": [
              "0    2.3.2\n",
              "dtype: object"
            ]
          },
          "metadata": {},
          "execution_count": 217
        }
      ]
    },
    {
      "cell_type": "code",
      "source": [
        "# Current_Ver Median for Android_Ver = '2.3 and up'\n",
        "app_current_ver_df = ps_data_df[ps_data_df['Android_Ver'] == '2.3 and up']\n",
        "app_current_ver_df['Current_Ver'].mode()"
      ],
      "metadata": {
        "colab": {
          "base_uri": "https://localhost:8080/"
        },
        "id": "id9AmKGXKGAh",
        "outputId": "a44bd753-f1d7-4ec3-f649-6b2c7e61cf69"
      },
      "execution_count": 218,
      "outputs": [
        {
          "output_type": "execute_result",
          "data": {
            "text/plain": [
              "0    1.0\n",
              "dtype: object"
            ]
          },
          "metadata": {},
          "execution_count": 218
        }
      ]
    },
    {
      "cell_type": "code",
      "source": [
        "# Current_Ver Median for Android_Ver = '2.0 and up'\n",
        "app_current_ver_df = ps_data_df[ps_data_df['Android_Ver'] == '2.0 and up']\n",
        "app_current_ver_df['Current_Ver'].mode()"
      ],
      "metadata": {
        "colab": {
          "base_uri": "https://localhost:8080/"
        },
        "id": "GXaJIM91KIcF",
        "outputId": "19c7dd96-9757-4439-8234-efd7a6c323b4"
      },
      "execution_count": 219,
      "outputs": [
        {
          "output_type": "execute_result",
          "data": {
            "text/plain": [
              "0      1.0\n",
              "1    2.4.4\n",
              "dtype: object"
            ]
          },
          "metadata": {},
          "execution_count": 219
        }
      ]
    },
    {
      "cell_type": "code",
      "source": [
        "# Current_Ver Median for Android_Ver = '3.0 and up'\n",
        "app_current_ver_df = ps_data_df[ps_data_df['Android_Ver'] == '3.0 and up']\n",
        "app_current_ver_df['Current_Ver'].mode()"
      ],
      "metadata": {
        "colab": {
          "base_uri": "https://localhost:8080/"
        },
        "id": "88MD-41vKLA-",
        "outputId": "23aeea23-670a-4d26-8572-d8bff0a5fae6"
      },
      "execution_count": 220,
      "outputs": [
        {
          "output_type": "execute_result",
          "data": {
            "text/plain": [
              "0    1.0\n",
              "dtype: object"
            ]
          },
          "metadata": {},
          "execution_count": 220
        }
      ]
    },
    {
      "cell_type": "code",
      "source": [
        "# Updating 8 Null values of Current_Ver with corresponding Median derived as above,\n",
        "\n",
        "ps_data_df.loc[15,'Current_Ver'] = '1.0'         # '4.2 and up' - Android version corresponding Current Ver mode is \"1.0\"\n",
        "ps_data_df.loc[1553,'Current_Ver'] = '1.0'       # '1.5 and up' - Android version corresponding Current Ver mode is \"1.0\"\n",
        "ps_data_df.loc[6322,'Current_Ver'] = '1.0'       # '4.0 and up' - Android version corresponding Current Ver mode is \"1.0\"\n",
        "ps_data_df.loc[6803,'Current_Ver'] = '2.3.2'     # '1.6 and up' - Android version corresponding Current Ver mode is \"2.3.2\"\n",
        "ps_data_df.loc[7333,'Current_Ver'] = '1.0'       # '4.0 and up' - Android version corresponding Current Ver mode is \"1.0\"\n",
        "ps_data_df.loc[7407,'Current_Ver'] = '1.0'       # '2.3 and up' - Android version corresponding Current Ver mode is \"1.0\"\n",
        "ps_data_df.loc[7730,'Current_Ver'] = '1.0'       # '2.0 and up' - Android version corresponding Current Ver mode is \"1.0\"\n",
        "ps_data_df.loc[10342,'Current_Ver'] = '1.0'      # '3.0 and up' - Android version corresponding Current Ver mode is \"1.0\""
      ],
      "metadata": {
        "id": "VlTqLL_AKTGT"
      },
      "execution_count": 221,
      "outputs": []
    },
    {
      "cell_type": "markdown",
      "source": [
        "6. Handling **2 Null** values of **\"Android_Ver\"** column"
      ],
      "metadata": {
        "id": "ciirZf7BK8ax"
      }
    },
    {
      "cell_type": "code",
      "source": [
        "ps_data_df['Android_Ver'].isnull().value_counts()"
      ],
      "metadata": {
        "colab": {
          "base_uri": "https://localhost:8080/"
        },
        "id": "p5kBqceRLIc1",
        "outputId": "f068faf1-89a9-418f-9aff-08355cffbd1a"
      },
      "execution_count": 222,
      "outputs": [
        {
          "output_type": "execute_result",
          "data": {
            "text/plain": [
              "False    9658\n",
              "True        2\n",
              "Name: Android_Ver, dtype: int64"
            ]
          },
          "metadata": {},
          "execution_count": 222
        }
      ]
    },
    {
      "cell_type": "code",
      "source": [
        "ps_data_df[ps_data_df.Android_Ver.isnull()]"
      ],
      "metadata": {
        "colab": {
          "base_uri": "https://localhost:8080/",
          "height": 112
        },
        "id": "DMO12vo9LLLm",
        "outputId": "b04bb736-f485-493c-bf9d-ce96719a6441"
      },
      "execution_count": 223,
      "outputs": [
        {
          "output_type": "execute_result",
          "data": {
            "text/plain": [
              "                         App         Category Rating Reviews  Size Installs  \\\n",
              "4453  [substratum] Vacuum: P  PERSONALIZATION    4.4     230   11M   1,000+   \n",
              "4490    Pi Dark [substratum]  PERSONALIZATION    4.5     189  2.1M  10,000+   \n",
              "\n",
              "      Type  Price Content_Rating           Genres    Last_Updated Current_Ver  \\\n",
              "4453  Paid  $1.49       Everyone  Personalization   July 20, 2018         4.4   \n",
              "4490  Free      0       Everyone  Personalization  March 27, 2018         1.1   \n",
              "\n",
              "     Android_Ver  \n",
              "4453         NaN  \n",
              "4490         NaN  "
            ],
            "text/html": [
              "\n",
              "  <div id=\"df-4616ee81-babd-4b90-a356-db2b7700d08a\">\n",
              "    <div class=\"colab-df-container\">\n",
              "      <div>\n",
              "<style scoped>\n",
              "    .dataframe tbody tr th:only-of-type {\n",
              "        vertical-align: middle;\n",
              "    }\n",
              "\n",
              "    .dataframe tbody tr th {\n",
              "        vertical-align: top;\n",
              "    }\n",
              "\n",
              "    .dataframe thead th {\n",
              "        text-align: right;\n",
              "    }\n",
              "</style>\n",
              "<table border=\"1\" class=\"dataframe\">\n",
              "  <thead>\n",
              "    <tr style=\"text-align: right;\">\n",
              "      <th></th>\n",
              "      <th>App</th>\n",
              "      <th>Category</th>\n",
              "      <th>Rating</th>\n",
              "      <th>Reviews</th>\n",
              "      <th>Size</th>\n",
              "      <th>Installs</th>\n",
              "      <th>Type</th>\n",
              "      <th>Price</th>\n",
              "      <th>Content_Rating</th>\n",
              "      <th>Genres</th>\n",
              "      <th>Last_Updated</th>\n",
              "      <th>Current_Ver</th>\n",
              "      <th>Android_Ver</th>\n",
              "    </tr>\n",
              "  </thead>\n",
              "  <tbody>\n",
              "    <tr>\n",
              "      <th>4453</th>\n",
              "      <td>[substratum] Vacuum: P</td>\n",
              "      <td>PERSONALIZATION</td>\n",
              "      <td>4.4</td>\n",
              "      <td>230</td>\n",
              "      <td>11M</td>\n",
              "      <td>1,000+</td>\n",
              "      <td>Paid</td>\n",
              "      <td>$1.49</td>\n",
              "      <td>Everyone</td>\n",
              "      <td>Personalization</td>\n",
              "      <td>July 20, 2018</td>\n",
              "      <td>4.4</td>\n",
              "      <td>NaN</td>\n",
              "    </tr>\n",
              "    <tr>\n",
              "      <th>4490</th>\n",
              "      <td>Pi Dark [substratum]</td>\n",
              "      <td>PERSONALIZATION</td>\n",
              "      <td>4.5</td>\n",
              "      <td>189</td>\n",
              "      <td>2.1M</td>\n",
              "      <td>10,000+</td>\n",
              "      <td>Free</td>\n",
              "      <td>0</td>\n",
              "      <td>Everyone</td>\n",
              "      <td>Personalization</td>\n",
              "      <td>March 27, 2018</td>\n",
              "      <td>1.1</td>\n",
              "      <td>NaN</td>\n",
              "    </tr>\n",
              "  </tbody>\n",
              "</table>\n",
              "</div>\n",
              "      <button class=\"colab-df-convert\" onclick=\"convertToInteractive('df-4616ee81-babd-4b90-a356-db2b7700d08a')\"\n",
              "              title=\"Convert this dataframe to an interactive table.\"\n",
              "              style=\"display:none;\">\n",
              "        \n",
              "  <svg xmlns=\"http://www.w3.org/2000/svg\" height=\"24px\"viewBox=\"0 0 24 24\"\n",
              "       width=\"24px\">\n",
              "    <path d=\"M0 0h24v24H0V0z\" fill=\"none\"/>\n",
              "    <path d=\"M18.56 5.44l.94 2.06.94-2.06 2.06-.94-2.06-.94-.94-2.06-.94 2.06-2.06.94zm-11 1L8.5 8.5l.94-2.06 2.06-.94-2.06-.94L8.5 2.5l-.94 2.06-2.06.94zm10 10l.94 2.06.94-2.06 2.06-.94-2.06-.94-.94-2.06-.94 2.06-2.06.94z\"/><path d=\"M17.41 7.96l-1.37-1.37c-.4-.4-.92-.59-1.43-.59-.52 0-1.04.2-1.43.59L10.3 9.45l-7.72 7.72c-.78.78-.78 2.05 0 2.83L4 21.41c.39.39.9.59 1.41.59.51 0 1.02-.2 1.41-.59l7.78-7.78 2.81-2.81c.8-.78.8-2.07 0-2.86zM5.41 20L4 18.59l7.72-7.72 1.47 1.35L5.41 20z\"/>\n",
              "  </svg>\n",
              "      </button>\n",
              "      \n",
              "  <style>\n",
              "    .colab-df-container {\n",
              "      display:flex;\n",
              "      flex-wrap:wrap;\n",
              "      gap: 12px;\n",
              "    }\n",
              "\n",
              "    .colab-df-convert {\n",
              "      background-color: #E8F0FE;\n",
              "      border: none;\n",
              "      border-radius: 50%;\n",
              "      cursor: pointer;\n",
              "      display: none;\n",
              "      fill: #1967D2;\n",
              "      height: 32px;\n",
              "      padding: 0 0 0 0;\n",
              "      width: 32px;\n",
              "    }\n",
              "\n",
              "    .colab-df-convert:hover {\n",
              "      background-color: #E2EBFA;\n",
              "      box-shadow: 0px 1px 2px rgba(60, 64, 67, 0.3), 0px 1px 3px 1px rgba(60, 64, 67, 0.15);\n",
              "      fill: #174EA6;\n",
              "    }\n",
              "\n",
              "    [theme=dark] .colab-df-convert {\n",
              "      background-color: #3B4455;\n",
              "      fill: #D2E3FC;\n",
              "    }\n",
              "\n",
              "    [theme=dark] .colab-df-convert:hover {\n",
              "      background-color: #434B5C;\n",
              "      box-shadow: 0px 1px 3px 1px rgba(0, 0, 0, 0.15);\n",
              "      filter: drop-shadow(0px 1px 2px rgba(0, 0, 0, 0.3));\n",
              "      fill: #FFFFFF;\n",
              "    }\n",
              "  </style>\n",
              "\n",
              "      <script>\n",
              "        const buttonEl =\n",
              "          document.querySelector('#df-4616ee81-babd-4b90-a356-db2b7700d08a button.colab-df-convert');\n",
              "        buttonEl.style.display =\n",
              "          google.colab.kernel.accessAllowed ? 'block' : 'none';\n",
              "\n",
              "        async function convertToInteractive(key) {\n",
              "          const element = document.querySelector('#df-4616ee81-babd-4b90-a356-db2b7700d08a');\n",
              "          const dataTable =\n",
              "            await google.colab.kernel.invokeFunction('convertToInteractive',\n",
              "                                                     [key], {});\n",
              "          if (!dataTable) return;\n",
              "\n",
              "          const docLinkHtml = 'Like what you see? Visit the ' +\n",
              "            '<a target=\"_blank\" href=https://colab.research.google.com/notebooks/data_table.ipynb>data table notebook</a>'\n",
              "            + ' to learn more about interactive tables.';\n",
              "          element.innerHTML = '';\n",
              "          dataTable['output_type'] = 'display_data';\n",
              "          await google.colab.output.renderOutput(dataTable, element);\n",
              "          const docLink = document.createElement('div');\n",
              "          docLink.innerHTML = docLinkHtml;\n",
              "          element.appendChild(docLink);\n",
              "        }\n",
              "      </script>\n",
              "    </div>\n",
              "  </div>\n",
              "  "
            ]
          },
          "metadata": {},
          "execution_count": 223
        }
      ]
    },
    {
      "cell_type": "code",
      "source": [
        "# Finding corresponding Median \"Android Versions\" basis given \"Current Versions\" for above 2 Records\n",
        "\n",
        "# Android_Ver Median for Current_Ver = '4.4'\n",
        "\n",
        "app_android_ver_df = ps_data_df[ps_data_df['Current_Ver'] == '4.4']\n",
        "app_android_ver_df['Android_Ver'].mode()"
      ],
      "metadata": {
        "colab": {
          "base_uri": "https://localhost:8080/"
        },
        "id": "LTjqpVv3LQZQ",
        "outputId": "b742bb35-a1ff-4383-fab9-6e68c9517ee5"
      },
      "execution_count": 224,
      "outputs": [
        {
          "output_type": "execute_result",
          "data": {
            "text/plain": [
              "0    4.0.3 and up\n",
              "dtype: object"
            ]
          },
          "metadata": {},
          "execution_count": 224
        }
      ]
    },
    {
      "cell_type": "code",
      "source": [
        "# Android_Ver Median for Current_Ver = '1.1'\n",
        "\n",
        "app_android_ver_df = ps_data_df[ps_data_df['Current_Ver'] == '1.1']\n",
        "app_android_ver_df['Android_Ver'].mode()"
      ],
      "metadata": {
        "colab": {
          "base_uri": "https://localhost:8080/"
        },
        "id": "08kr-MhSLVbM",
        "outputId": "019cfd45-8d96-4fdd-83ef-0113a5464fcc"
      },
      "execution_count": 225,
      "outputs": [
        {
          "output_type": "execute_result",
          "data": {
            "text/plain": [
              "0    4.1 and up\n",
              "dtype: object"
            ]
          },
          "metadata": {},
          "execution_count": 225
        }
      ]
    },
    {
      "cell_type": "code",
      "source": [
        "# Replacing NaN values with mode of corresponding mode value of Android_Ver\n",
        "# For Current Version = 4.4 corresponding Mode of Android Version is \"4.0.3 and up\"\n",
        "# For Current Version = 1.1 corresponding Mode of Android Version is \"4.1 and up\"\n",
        "\n",
        "ps_data_df.loc[4453,'Android_Ver'] = '4.0.3 and up'\n",
        "ps_data_df.loc[4490,'Android_Ver'] = '4.1 and up'"
      ],
      "metadata": {
        "id": "3F7z1W54Lagc"
      },
      "execution_count": 226,
      "outputs": []
    },
    {
      "cell_type": "markdown",
      "source": [
        "## **Exploring Dataset - 2**\n",
        "-----\n",
        "-----\n",
        "\n",
        "## User Reviews Data\n",
        "-----"
      ],
      "metadata": {
        "id": "U4wYh0mDLhdM"
      }
    },
    {
      "cell_type": "code",
      "source": [
        "## Let's have a glance over the number of rows and columns in our dataset\n",
        "shape = reviews_df.shape\n",
        "print(\"The data set contains {} Records.\\nNumber of features are: {}. \".format(shape[0],(shape[1])))"
      ],
      "metadata": {
        "colab": {
          "base_uri": "https://localhost:8080/"
        },
        "id": "-sgNWS-wLfyZ",
        "outputId": "9d198eb3-6e3d-43c5-b724-14058b4d0c72"
      },
      "execution_count": 227,
      "outputs": [
        {
          "output_type": "stream",
          "name": "stdout",
          "text": [
            "The data set contains 64295 Records.\n",
            "Number of features are: 5. \n"
          ]
        }
      ]
    },
    {
      "cell_type": "code",
      "source": [
        "# Let's have a glance on first five rows of our dataset\n",
        "reviews_df.head()"
      ],
      "metadata": {
        "colab": {
          "base_uri": "https://localhost:8080/",
          "height": 206
        },
        "id": "zStK-tS4Lz7a",
        "outputId": "5535f4c8-4a8c-4037-ba9c-f849e4984b54"
      },
      "execution_count": 228,
      "outputs": [
        {
          "output_type": "execute_result",
          "data": {
            "text/plain": [
              "                     App                                  Translated_Review  \\\n",
              "0  10 Best Foods for You  I like eat delicious food. That's I'm cooking ...   \n",
              "1  10 Best Foods for You    This help eating healthy exercise regular basis   \n",
              "2  10 Best Foods for You                                                NaN   \n",
              "3  10 Best Foods for You         Works great especially going grocery store   \n",
              "4  10 Best Foods for You                                       Best idea us   \n",
              "\n",
              "  Sentiment  Sentiment_Polarity  Sentiment_Subjectivity  \n",
              "0  Positive                1.00                0.533333  \n",
              "1  Positive                0.25                0.288462  \n",
              "2       NaN                 NaN                     NaN  \n",
              "3  Positive                0.40                0.875000  \n",
              "4  Positive                1.00                0.300000  "
            ],
            "text/html": [
              "\n",
              "  <div id=\"df-d93db751-ba00-4aa8-9607-0354283ae7c2\">\n",
              "    <div class=\"colab-df-container\">\n",
              "      <div>\n",
              "<style scoped>\n",
              "    .dataframe tbody tr th:only-of-type {\n",
              "        vertical-align: middle;\n",
              "    }\n",
              "\n",
              "    .dataframe tbody tr th {\n",
              "        vertical-align: top;\n",
              "    }\n",
              "\n",
              "    .dataframe thead th {\n",
              "        text-align: right;\n",
              "    }\n",
              "</style>\n",
              "<table border=\"1\" class=\"dataframe\">\n",
              "  <thead>\n",
              "    <tr style=\"text-align: right;\">\n",
              "      <th></th>\n",
              "      <th>App</th>\n",
              "      <th>Translated_Review</th>\n",
              "      <th>Sentiment</th>\n",
              "      <th>Sentiment_Polarity</th>\n",
              "      <th>Sentiment_Subjectivity</th>\n",
              "    </tr>\n",
              "  </thead>\n",
              "  <tbody>\n",
              "    <tr>\n",
              "      <th>0</th>\n",
              "      <td>10 Best Foods for You</td>\n",
              "      <td>I like eat delicious food. That's I'm cooking ...</td>\n",
              "      <td>Positive</td>\n",
              "      <td>1.00</td>\n",
              "      <td>0.533333</td>\n",
              "    </tr>\n",
              "    <tr>\n",
              "      <th>1</th>\n",
              "      <td>10 Best Foods for You</td>\n",
              "      <td>This help eating healthy exercise regular basis</td>\n",
              "      <td>Positive</td>\n",
              "      <td>0.25</td>\n",
              "      <td>0.288462</td>\n",
              "    </tr>\n",
              "    <tr>\n",
              "      <th>2</th>\n",
              "      <td>10 Best Foods for You</td>\n",
              "      <td>NaN</td>\n",
              "      <td>NaN</td>\n",
              "      <td>NaN</td>\n",
              "      <td>NaN</td>\n",
              "    </tr>\n",
              "    <tr>\n",
              "      <th>3</th>\n",
              "      <td>10 Best Foods for You</td>\n",
              "      <td>Works great especially going grocery store</td>\n",
              "      <td>Positive</td>\n",
              "      <td>0.40</td>\n",
              "      <td>0.875000</td>\n",
              "    </tr>\n",
              "    <tr>\n",
              "      <th>4</th>\n",
              "      <td>10 Best Foods for You</td>\n",
              "      <td>Best idea us</td>\n",
              "      <td>Positive</td>\n",
              "      <td>1.00</td>\n",
              "      <td>0.300000</td>\n",
              "    </tr>\n",
              "  </tbody>\n",
              "</table>\n",
              "</div>\n",
              "      <button class=\"colab-df-convert\" onclick=\"convertToInteractive('df-d93db751-ba00-4aa8-9607-0354283ae7c2')\"\n",
              "              title=\"Convert this dataframe to an interactive table.\"\n",
              "              style=\"display:none;\">\n",
              "        \n",
              "  <svg xmlns=\"http://www.w3.org/2000/svg\" height=\"24px\"viewBox=\"0 0 24 24\"\n",
              "       width=\"24px\">\n",
              "    <path d=\"M0 0h24v24H0V0z\" fill=\"none\"/>\n",
              "    <path d=\"M18.56 5.44l.94 2.06.94-2.06 2.06-.94-2.06-.94-.94-2.06-.94 2.06-2.06.94zm-11 1L8.5 8.5l.94-2.06 2.06-.94-2.06-.94L8.5 2.5l-.94 2.06-2.06.94zm10 10l.94 2.06.94-2.06 2.06-.94-2.06-.94-.94-2.06-.94 2.06-2.06.94z\"/><path d=\"M17.41 7.96l-1.37-1.37c-.4-.4-.92-.59-1.43-.59-.52 0-1.04.2-1.43.59L10.3 9.45l-7.72 7.72c-.78.78-.78 2.05 0 2.83L4 21.41c.39.39.9.59 1.41.59.51 0 1.02-.2 1.41-.59l7.78-7.78 2.81-2.81c.8-.78.8-2.07 0-2.86zM5.41 20L4 18.59l7.72-7.72 1.47 1.35L5.41 20z\"/>\n",
              "  </svg>\n",
              "      </button>\n",
              "      \n",
              "  <style>\n",
              "    .colab-df-container {\n",
              "      display:flex;\n",
              "      flex-wrap:wrap;\n",
              "      gap: 12px;\n",
              "    }\n",
              "\n",
              "    .colab-df-convert {\n",
              "      background-color: #E8F0FE;\n",
              "      border: none;\n",
              "      border-radius: 50%;\n",
              "      cursor: pointer;\n",
              "      display: none;\n",
              "      fill: #1967D2;\n",
              "      height: 32px;\n",
              "      padding: 0 0 0 0;\n",
              "      width: 32px;\n",
              "    }\n",
              "\n",
              "    .colab-df-convert:hover {\n",
              "      background-color: #E2EBFA;\n",
              "      box-shadow: 0px 1px 2px rgba(60, 64, 67, 0.3), 0px 1px 3px 1px rgba(60, 64, 67, 0.15);\n",
              "      fill: #174EA6;\n",
              "    }\n",
              "\n",
              "    [theme=dark] .colab-df-convert {\n",
              "      background-color: #3B4455;\n",
              "      fill: #D2E3FC;\n",
              "    }\n",
              "\n",
              "    [theme=dark] .colab-df-convert:hover {\n",
              "      background-color: #434B5C;\n",
              "      box-shadow: 0px 1px 3px 1px rgba(0, 0, 0, 0.15);\n",
              "      filter: drop-shadow(0px 1px 2px rgba(0, 0, 0, 0.3));\n",
              "      fill: #FFFFFF;\n",
              "    }\n",
              "  </style>\n",
              "\n",
              "      <script>\n",
              "        const buttonEl =\n",
              "          document.querySelector('#df-d93db751-ba00-4aa8-9607-0354283ae7c2 button.colab-df-convert');\n",
              "        buttonEl.style.display =\n",
              "          google.colab.kernel.accessAllowed ? 'block' : 'none';\n",
              "\n",
              "        async function convertToInteractive(key) {\n",
              "          const element = document.querySelector('#df-d93db751-ba00-4aa8-9607-0354283ae7c2');\n",
              "          const dataTable =\n",
              "            await google.colab.kernel.invokeFunction('convertToInteractive',\n",
              "                                                     [key], {});\n",
              "          if (!dataTable) return;\n",
              "\n",
              "          const docLinkHtml = 'Like what you see? Visit the ' +\n",
              "            '<a target=\"_blank\" href=https://colab.research.google.com/notebooks/data_table.ipynb>data table notebook</a>'\n",
              "            + ' to learn more about interactive tables.';\n",
              "          element.innerHTML = '';\n",
              "          dataTable['output_type'] = 'display_data';\n",
              "          await google.colab.output.renderOutput(dataTable, element);\n",
              "          const docLink = document.createElement('div');\n",
              "          docLink.innerHTML = docLinkHtml;\n",
              "          element.appendChild(docLink);\n",
              "        }\n",
              "      </script>\n",
              "    </div>\n",
              "  </div>\n",
              "  "
            ]
          },
          "metadata": {},
          "execution_count": 228
        }
      ]
    },
    {
      "cell_type": "code",
      "source": [
        "## Let's have a glance at last five rows of our dataset\n",
        "reviews_df.tail()"
      ],
      "metadata": {
        "colab": {
          "base_uri": "https://localhost:8080/",
          "height": 206
        },
        "id": "aznmzzHZL5Kv",
        "outputId": "7e74e64b-f065-4d3d-95cc-624e1335e1c6"
      },
      "execution_count": 229,
      "outputs": [
        {
          "output_type": "execute_result",
          "data": {
            "text/plain": [
              "                               App Translated_Review Sentiment  \\\n",
              "64290  Houzz Interior Design Ideas               NaN       NaN   \n",
              "64291  Houzz Interior Design Ideas               NaN       NaN   \n",
              "64292  Houzz Interior Design Ideas               NaN       NaN   \n",
              "64293  Houzz Interior Design Ideas               NaN       NaN   \n",
              "64294  Houzz Interior Design Ideas               NaN       NaN   \n",
              "\n",
              "       Sentiment_Polarity  Sentiment_Subjectivity  \n",
              "64290                 NaN                     NaN  \n",
              "64291                 NaN                     NaN  \n",
              "64292                 NaN                     NaN  \n",
              "64293                 NaN                     NaN  \n",
              "64294                 NaN                     NaN  "
            ],
            "text/html": [
              "\n",
              "  <div id=\"df-e115cf0e-9a81-4d4b-a692-9259af953988\">\n",
              "    <div class=\"colab-df-container\">\n",
              "      <div>\n",
              "<style scoped>\n",
              "    .dataframe tbody tr th:only-of-type {\n",
              "        vertical-align: middle;\n",
              "    }\n",
              "\n",
              "    .dataframe tbody tr th {\n",
              "        vertical-align: top;\n",
              "    }\n",
              "\n",
              "    .dataframe thead th {\n",
              "        text-align: right;\n",
              "    }\n",
              "</style>\n",
              "<table border=\"1\" class=\"dataframe\">\n",
              "  <thead>\n",
              "    <tr style=\"text-align: right;\">\n",
              "      <th></th>\n",
              "      <th>App</th>\n",
              "      <th>Translated_Review</th>\n",
              "      <th>Sentiment</th>\n",
              "      <th>Sentiment_Polarity</th>\n",
              "      <th>Sentiment_Subjectivity</th>\n",
              "    </tr>\n",
              "  </thead>\n",
              "  <tbody>\n",
              "    <tr>\n",
              "      <th>64290</th>\n",
              "      <td>Houzz Interior Design Ideas</td>\n",
              "      <td>NaN</td>\n",
              "      <td>NaN</td>\n",
              "      <td>NaN</td>\n",
              "      <td>NaN</td>\n",
              "    </tr>\n",
              "    <tr>\n",
              "      <th>64291</th>\n",
              "      <td>Houzz Interior Design Ideas</td>\n",
              "      <td>NaN</td>\n",
              "      <td>NaN</td>\n",
              "      <td>NaN</td>\n",
              "      <td>NaN</td>\n",
              "    </tr>\n",
              "    <tr>\n",
              "      <th>64292</th>\n",
              "      <td>Houzz Interior Design Ideas</td>\n",
              "      <td>NaN</td>\n",
              "      <td>NaN</td>\n",
              "      <td>NaN</td>\n",
              "      <td>NaN</td>\n",
              "    </tr>\n",
              "    <tr>\n",
              "      <th>64293</th>\n",
              "      <td>Houzz Interior Design Ideas</td>\n",
              "      <td>NaN</td>\n",
              "      <td>NaN</td>\n",
              "      <td>NaN</td>\n",
              "      <td>NaN</td>\n",
              "    </tr>\n",
              "    <tr>\n",
              "      <th>64294</th>\n",
              "      <td>Houzz Interior Design Ideas</td>\n",
              "      <td>NaN</td>\n",
              "      <td>NaN</td>\n",
              "      <td>NaN</td>\n",
              "      <td>NaN</td>\n",
              "    </tr>\n",
              "  </tbody>\n",
              "</table>\n",
              "</div>\n",
              "      <button class=\"colab-df-convert\" onclick=\"convertToInteractive('df-e115cf0e-9a81-4d4b-a692-9259af953988')\"\n",
              "              title=\"Convert this dataframe to an interactive table.\"\n",
              "              style=\"display:none;\">\n",
              "        \n",
              "  <svg xmlns=\"http://www.w3.org/2000/svg\" height=\"24px\"viewBox=\"0 0 24 24\"\n",
              "       width=\"24px\">\n",
              "    <path d=\"M0 0h24v24H0V0z\" fill=\"none\"/>\n",
              "    <path d=\"M18.56 5.44l.94 2.06.94-2.06 2.06-.94-2.06-.94-.94-2.06-.94 2.06-2.06.94zm-11 1L8.5 8.5l.94-2.06 2.06-.94-2.06-.94L8.5 2.5l-.94 2.06-2.06.94zm10 10l.94 2.06.94-2.06 2.06-.94-2.06-.94-.94-2.06-.94 2.06-2.06.94z\"/><path d=\"M17.41 7.96l-1.37-1.37c-.4-.4-.92-.59-1.43-.59-.52 0-1.04.2-1.43.59L10.3 9.45l-7.72 7.72c-.78.78-.78 2.05 0 2.83L4 21.41c.39.39.9.59 1.41.59.51 0 1.02-.2 1.41-.59l7.78-7.78 2.81-2.81c.8-.78.8-2.07 0-2.86zM5.41 20L4 18.59l7.72-7.72 1.47 1.35L5.41 20z\"/>\n",
              "  </svg>\n",
              "      </button>\n",
              "      \n",
              "  <style>\n",
              "    .colab-df-container {\n",
              "      display:flex;\n",
              "      flex-wrap:wrap;\n",
              "      gap: 12px;\n",
              "    }\n",
              "\n",
              "    .colab-df-convert {\n",
              "      background-color: #E8F0FE;\n",
              "      border: none;\n",
              "      border-radius: 50%;\n",
              "      cursor: pointer;\n",
              "      display: none;\n",
              "      fill: #1967D2;\n",
              "      height: 32px;\n",
              "      padding: 0 0 0 0;\n",
              "      width: 32px;\n",
              "    }\n",
              "\n",
              "    .colab-df-convert:hover {\n",
              "      background-color: #E2EBFA;\n",
              "      box-shadow: 0px 1px 2px rgba(60, 64, 67, 0.3), 0px 1px 3px 1px rgba(60, 64, 67, 0.15);\n",
              "      fill: #174EA6;\n",
              "    }\n",
              "\n",
              "    [theme=dark] .colab-df-convert {\n",
              "      background-color: #3B4455;\n",
              "      fill: #D2E3FC;\n",
              "    }\n",
              "\n",
              "    [theme=dark] .colab-df-convert:hover {\n",
              "      background-color: #434B5C;\n",
              "      box-shadow: 0px 1px 3px 1px rgba(0, 0, 0, 0.15);\n",
              "      filter: drop-shadow(0px 1px 2px rgba(0, 0, 0, 0.3));\n",
              "      fill: #FFFFFF;\n",
              "    }\n",
              "  </style>\n",
              "\n",
              "      <script>\n",
              "        const buttonEl =\n",
              "          document.querySelector('#df-e115cf0e-9a81-4d4b-a692-9259af953988 button.colab-df-convert');\n",
              "        buttonEl.style.display =\n",
              "          google.colab.kernel.accessAllowed ? 'block' : 'none';\n",
              "\n",
              "        async function convertToInteractive(key) {\n",
              "          const element = document.querySelector('#df-e115cf0e-9a81-4d4b-a692-9259af953988');\n",
              "          const dataTable =\n",
              "            await google.colab.kernel.invokeFunction('convertToInteractive',\n",
              "                                                     [key], {});\n",
              "          if (!dataTable) return;\n",
              "\n",
              "          const docLinkHtml = 'Like what you see? Visit the ' +\n",
              "            '<a target=\"_blank\" href=https://colab.research.google.com/notebooks/data_table.ipynb>data table notebook</a>'\n",
              "            + ' to learn more about interactive tables.';\n",
              "          element.innerHTML = '';\n",
              "          dataTable['output_type'] = 'display_data';\n",
              "          await google.colab.output.renderOutput(dataTable, element);\n",
              "          const docLink = document.createElement('div');\n",
              "          docLink.innerHTML = docLinkHtml;\n",
              "          element.appendChild(docLink);\n",
              "        }\n",
              "      </script>\n",
              "    </div>\n",
              "  </div>\n",
              "  "
            ]
          },
          "metadata": {},
          "execution_count": 229
        }
      ]
    },
    {
      "cell_type": "markdown",
      "source": [
        "## Columns Description : Reviews Data.\n",
        "\n",
        "1.  **App :** This column consist of the names of the Mobile Apps.\n",
        "2. **Translated_Review :** This column consist of the system transltaed user reviews of the Mobile Apps.\n",
        "3. **Sentiment :** This column consist of the sentiment type (Positive / Negative / Neutral) of the user review for Mobile App.\n",
        "4. **Sentiment Polarity:** This column consist of the category of Sentiment Polarity for the user review.Sentiment polarity defines the orientation of the expressed sentiment. It defines the extent of the sentiment of the text in numrical data.\n",
        "5. **Sentiment Subjectivity :** This column consist of a measure of the intensity of the sentiment one expressed through their text. It refers to the text that contains text which is usually expressed by a human having typical moods, emotions, and feelings."
      ],
      "metadata": {
        "id": "p3NVKbTHMGk9"
      }
    },
    {
      "cell_type": "code",
      "source": [
        "# Summary of Critical Information for the dataset.\n",
        "\n",
        "print(f'The below dataframe gives us feature wise data type, unique values, total count, missing count(NaN).')\n",
        "print('\\n')\n",
        "def ur_df():\n",
        "  temp = pd.DataFrame(index = reviews_df.columns)\n",
        "  temp['Data_type'] = reviews_df.dtypes\n",
        "  temp['Unique_count'] = reviews_df.nunique()\n",
        "  temp['Count']= reviews_df.isnull().count()\n",
        "  temp['Missing_values_count'] = reviews_df.isnull().sum()\n",
        "  temp['Missing_percentage']= round( temp['Missing_values_count'] / temp['Count'] * 100, 2) \n",
        "  return temp\n",
        "ur_df()\n",
        "\n",
        "# This can also be obtained by - df.info()"
      ],
      "metadata": {
        "colab": {
          "base_uri": "https://localhost:8080/",
          "height": 258
        },
        "id": "tqMbYXobMX5Q",
        "outputId": "541cc1bc-c6f2-418d-9c3b-7056484de15d"
      },
      "execution_count": 230,
      "outputs": [
        {
          "output_type": "stream",
          "name": "stdout",
          "text": [
            "The below dataframe gives us feature wise data type, unique values, total count, missing count(NaN).\n",
            "\n",
            "\n"
          ]
        },
        {
          "output_type": "execute_result",
          "data": {
            "text/plain": [
              "                       Data_type  Unique_count  Count  Missing_values_count  \\\n",
              "App                       object          1074  64295                     0   \n",
              "Translated_Review         object         27994  64295                 26868   \n",
              "Sentiment                 object             3  64295                 26863   \n",
              "Sentiment_Polarity       float64          5410  64295                 26863   \n",
              "Sentiment_Subjectivity   float64          4474  64295                 26863   \n",
              "\n",
              "                        Missing_percentage  \n",
              "App                                   0.00  \n",
              "Translated_Review                    41.79  \n",
              "Sentiment                            41.78  \n",
              "Sentiment_Polarity                   41.78  \n",
              "Sentiment_Subjectivity               41.78  "
            ],
            "text/html": [
              "\n",
              "  <div id=\"df-f0857a30-1828-4011-8576-19b98dd7a94d\">\n",
              "    <div class=\"colab-df-container\">\n",
              "      <div>\n",
              "<style scoped>\n",
              "    .dataframe tbody tr th:only-of-type {\n",
              "        vertical-align: middle;\n",
              "    }\n",
              "\n",
              "    .dataframe tbody tr th {\n",
              "        vertical-align: top;\n",
              "    }\n",
              "\n",
              "    .dataframe thead th {\n",
              "        text-align: right;\n",
              "    }\n",
              "</style>\n",
              "<table border=\"1\" class=\"dataframe\">\n",
              "  <thead>\n",
              "    <tr style=\"text-align: right;\">\n",
              "      <th></th>\n",
              "      <th>Data_type</th>\n",
              "      <th>Unique_count</th>\n",
              "      <th>Count</th>\n",
              "      <th>Missing_values_count</th>\n",
              "      <th>Missing_percentage</th>\n",
              "    </tr>\n",
              "  </thead>\n",
              "  <tbody>\n",
              "    <tr>\n",
              "      <th>App</th>\n",
              "      <td>object</td>\n",
              "      <td>1074</td>\n",
              "      <td>64295</td>\n",
              "      <td>0</td>\n",
              "      <td>0.00</td>\n",
              "    </tr>\n",
              "    <tr>\n",
              "      <th>Translated_Review</th>\n",
              "      <td>object</td>\n",
              "      <td>27994</td>\n",
              "      <td>64295</td>\n",
              "      <td>26868</td>\n",
              "      <td>41.79</td>\n",
              "    </tr>\n",
              "    <tr>\n",
              "      <th>Sentiment</th>\n",
              "      <td>object</td>\n",
              "      <td>3</td>\n",
              "      <td>64295</td>\n",
              "      <td>26863</td>\n",
              "      <td>41.78</td>\n",
              "    </tr>\n",
              "    <tr>\n",
              "      <th>Sentiment_Polarity</th>\n",
              "      <td>float64</td>\n",
              "      <td>5410</td>\n",
              "      <td>64295</td>\n",
              "      <td>26863</td>\n",
              "      <td>41.78</td>\n",
              "    </tr>\n",
              "    <tr>\n",
              "      <th>Sentiment_Subjectivity</th>\n",
              "      <td>float64</td>\n",
              "      <td>4474</td>\n",
              "      <td>64295</td>\n",
              "      <td>26863</td>\n",
              "      <td>41.78</td>\n",
              "    </tr>\n",
              "  </tbody>\n",
              "</table>\n",
              "</div>\n",
              "      <button class=\"colab-df-convert\" onclick=\"convertToInteractive('df-f0857a30-1828-4011-8576-19b98dd7a94d')\"\n",
              "              title=\"Convert this dataframe to an interactive table.\"\n",
              "              style=\"display:none;\">\n",
              "        \n",
              "  <svg xmlns=\"http://www.w3.org/2000/svg\" height=\"24px\"viewBox=\"0 0 24 24\"\n",
              "       width=\"24px\">\n",
              "    <path d=\"M0 0h24v24H0V0z\" fill=\"none\"/>\n",
              "    <path d=\"M18.56 5.44l.94 2.06.94-2.06 2.06-.94-2.06-.94-.94-2.06-.94 2.06-2.06.94zm-11 1L8.5 8.5l.94-2.06 2.06-.94-2.06-.94L8.5 2.5l-.94 2.06-2.06.94zm10 10l.94 2.06.94-2.06 2.06-.94-2.06-.94-.94-2.06-.94 2.06-2.06.94z\"/><path d=\"M17.41 7.96l-1.37-1.37c-.4-.4-.92-.59-1.43-.59-.52 0-1.04.2-1.43.59L10.3 9.45l-7.72 7.72c-.78.78-.78 2.05 0 2.83L4 21.41c.39.39.9.59 1.41.59.51 0 1.02-.2 1.41-.59l7.78-7.78 2.81-2.81c.8-.78.8-2.07 0-2.86zM5.41 20L4 18.59l7.72-7.72 1.47 1.35L5.41 20z\"/>\n",
              "  </svg>\n",
              "      </button>\n",
              "      \n",
              "  <style>\n",
              "    .colab-df-container {\n",
              "      display:flex;\n",
              "      flex-wrap:wrap;\n",
              "      gap: 12px;\n",
              "    }\n",
              "\n",
              "    .colab-df-convert {\n",
              "      background-color: #E8F0FE;\n",
              "      border: none;\n",
              "      border-radius: 50%;\n",
              "      cursor: pointer;\n",
              "      display: none;\n",
              "      fill: #1967D2;\n",
              "      height: 32px;\n",
              "      padding: 0 0 0 0;\n",
              "      width: 32px;\n",
              "    }\n",
              "\n",
              "    .colab-df-convert:hover {\n",
              "      background-color: #E2EBFA;\n",
              "      box-shadow: 0px 1px 2px rgba(60, 64, 67, 0.3), 0px 1px 3px 1px rgba(60, 64, 67, 0.15);\n",
              "      fill: #174EA6;\n",
              "    }\n",
              "\n",
              "    [theme=dark] .colab-df-convert {\n",
              "      background-color: #3B4455;\n",
              "      fill: #D2E3FC;\n",
              "    }\n",
              "\n",
              "    [theme=dark] .colab-df-convert:hover {\n",
              "      background-color: #434B5C;\n",
              "      box-shadow: 0px 1px 3px 1px rgba(0, 0, 0, 0.15);\n",
              "      filter: drop-shadow(0px 1px 2px rgba(0, 0, 0, 0.3));\n",
              "      fill: #FFFFFF;\n",
              "    }\n",
              "  </style>\n",
              "\n",
              "      <script>\n",
              "        const buttonEl =\n",
              "          document.querySelector('#df-f0857a30-1828-4011-8576-19b98dd7a94d button.colab-df-convert');\n",
              "        buttonEl.style.display =\n",
              "          google.colab.kernel.accessAllowed ? 'block' : 'none';\n",
              "\n",
              "        async function convertToInteractive(key) {\n",
              "          const element = document.querySelector('#df-f0857a30-1828-4011-8576-19b98dd7a94d');\n",
              "          const dataTable =\n",
              "            await google.colab.kernel.invokeFunction('convertToInteractive',\n",
              "                                                     [key], {});\n",
              "          if (!dataTable) return;\n",
              "\n",
              "          const docLinkHtml = 'Like what you see? Visit the ' +\n",
              "            '<a target=\"_blank\" href=https://colab.research.google.com/notebooks/data_table.ipynb>data table notebook</a>'\n",
              "            + ' to learn more about interactive tables.';\n",
              "          element.innerHTML = '';\n",
              "          dataTable['output_type'] = 'display_data';\n",
              "          await google.colab.output.renderOutput(dataTable, element);\n",
              "          const docLink = document.createElement('div');\n",
              "          docLink.innerHTML = docLinkHtml;\n",
              "          element.appendChild(docLink);\n",
              "        }\n",
              "      </script>\n",
              "    </div>\n",
              "  </div>\n",
              "  "
            ]
          },
          "metadata": {},
          "execution_count": 230
        }
      ]
    },
    {
      "cell_type": "markdown",
      "source": [
        "### **From the above review on dataset, I have got some observations as below:**\n",
        "\n",
        "1. Translated_Review column has total 26868 null values which contributes 41.79% of the column data.\n",
        "2. Sentiment column has total 26863 null values which contributes 41.78% of the total records.\n",
        "3. Sentiment_Polarity column has total 26863 null values which contributes 41.78% of the total records.\n",
        "4. Sentiment_Subjectivity column also has total 26863 null values which contributes 41.78% of the total records.\n",
        "5. No discrepancies found in App Column data."
      ],
      "metadata": {
        "id": "t1jAL0EkMkoN"
      }
    },
    {
      "cell_type": "markdown",
      "source": [
        "### **Handling Missing Values : Reviews_Dataset**"
      ],
      "metadata": {
        "id": "d9ojMotuMtnA"
      }
    },
    {
      "cell_type": "code",
      "source": [
        "# Created a copy of User Reviews.\n",
        "reviews_data_copy = reviews_df.copy()"
      ],
      "metadata": {
        "id": "_E27y0r8Mi6x"
      },
      "execution_count": 231,
      "outputs": []
    },
    {
      "cell_type": "code",
      "source": [
        "# As checked above in sabset \"review_nan_value_check\" all 26868 records having \"NaN\" value\n",
        "# These records are unreviewed, hence to optimise master review data, dropping these unreviewed records\n",
        "\n",
        "# Count of Null Values from each columns.\n",
        "reviews_data_copy.isnull().sum()"
      ],
      "metadata": {
        "colab": {
          "base_uri": "https://localhost:8080/"
        },
        "id": "m08nM_RHM3Qw",
        "outputId": "1241f5ee-a6b7-4249-cb8b-b0951663a657"
      },
      "execution_count": 232,
      "outputs": [
        {
          "output_type": "execute_result",
          "data": {
            "text/plain": [
              "App                           0\n",
              "Translated_Review         26868\n",
              "Sentiment                 26863\n",
              "Sentiment_Polarity        26863\n",
              "Sentiment_Subjectivity    26863\n",
              "dtype: int64"
            ]
          },
          "metadata": {},
          "execution_count": 232
        }
      ]
    },
    {
      "cell_type": "code",
      "source": [
        "# Drooping Na rows having all NaN values in rows.\n",
        "reviews_data_copy = reviews_data_copy.dropna(subset=['Translated_Review', 'Sentiment', 'Sentiment_Polarity', 'Sentiment_Subjectivity'], how='all')"
      ],
      "metadata": {
        "id": "1cAVN8o9OfpR"
      },
      "execution_count": 233,
      "outputs": []
    },
    {
      "cell_type": "code",
      "source": [
        "# Checking if any NaN values in dataframe.\n",
        "reviews_data_copy.isnull().sum()"
      ],
      "metadata": {
        "colab": {
          "base_uri": "https://localhost:8080/"
        },
        "id": "tctFrYl2Ojt_",
        "outputId": "9afe15b8-742f-498f-e499-8d1fc5767593"
      },
      "execution_count": 234,
      "outputs": [
        {
          "output_type": "execute_result",
          "data": {
            "text/plain": [
              "App                       0\n",
              "Translated_Review         5\n",
              "Sentiment                 0\n",
              "Sentiment_Polarity        0\n",
              "Sentiment_Subjectivity    0\n",
              "dtype: int64"
            ]
          },
          "metadata": {},
          "execution_count": 234
        }
      ]
    },
    {
      "cell_type": "code",
      "source": [
        "# Dropped NaN from Translated column and created a clean User Reviews data.\n",
        "reviews_data_copy = reviews_data_copy.dropna(subset= [\"Translated_Review\"], how = \"all\")"
      ],
      "metadata": {
        "id": "OtZJq9czOq-k"
      },
      "execution_count": 235,
      "outputs": []
    },
    {
      "cell_type": "code",
      "source": [
        "# Checking if any NaN values in dataframe.\n",
        "reviews_data_copy.isnull().sum()"
      ],
      "metadata": {
        "colab": {
          "base_uri": "https://localhost:8080/"
        },
        "id": "gFKuz488OuPx",
        "outputId": "eb6111d4-afd7-4488-af79-bfcb913749fc"
      },
      "execution_count": 236,
      "outputs": [
        {
          "output_type": "execute_result",
          "data": {
            "text/plain": [
              "App                       0\n",
              "Translated_Review         0\n",
              "Sentiment                 0\n",
              "Sentiment_Polarity        0\n",
              "Sentiment_Subjectivity    0\n",
              "dtype: int64"
            ]
          },
          "metadata": {},
          "execution_count": 236
        }
      ]
    },
    {
      "cell_type": "code",
      "source": [
        "# Shape of dataframe after dropping NaN values.\n",
        "reviews_data_copy.shape"
      ],
      "metadata": {
        "colab": {
          "base_uri": "https://localhost:8080/"
        },
        "id": "G1rwlg9LOyeF",
        "outputId": "e6134c4d-2f5f-4a72-ba97-6934c4931377"
      },
      "execution_count": 237,
      "outputs": [
        {
          "output_type": "execute_result",
          "data": {
            "text/plain": [
              "(37427, 5)"
            ]
          },
          "metadata": {},
          "execution_count": 237
        }
      ]
    },
    {
      "cell_type": "code",
      "source": [
        "count_unique_apps = reviews_data_copy['App'].nunique()\n",
        "print(f'The count of Unique Apps in cleaned user reviews dataset {count_unique_apps}.')"
      ],
      "metadata": {
        "colab": {
          "base_uri": "https://localhost:8080/"
        },
        "id": "opED6jwOO2NY",
        "outputId": "b4cfdc4d-48b3-4c6b-96f8-9bda6e8ca3e7"
      },
      "execution_count": 238,
      "outputs": [
        {
          "output_type": "stream",
          "name": "stdout",
          "text": [
            "The count of Unique Apps in cleaned user reviews dataset 865.\n"
          ]
        }
      ]
    },
    {
      "cell_type": "code",
      "source": [
        "# A FINAL CHECK FOR REVIEWS DATA CLEANING\n",
        "# FIND UNIQUE, NULL COUNT & DATA TYPES\n",
        "\n",
        "print('Shape of Revies_Data is :', reviews_data_copy.shape)\n",
        "\n",
        "def reviews_info1():\n",
        "  temp_ps = pd.DataFrame(index=reviews_data_copy.columns)\n",
        "  temp_ps['DataType'] = reviews_data_copy.dtypes\n",
        "  temp_ps['Non-Null_Values'] = reviews_data_copy.count()\n",
        "  temp_ps['Unique_Values'] = reviews_data_copy.nunique()\n",
        "  temp_ps['NaN_Values'] = reviews_data_copy.isnull().sum()\n",
        "  temp_ps['NaN_Values_Percentage'] = (temp_ps['NaN_Values']/len(reviews_data_copy))*100\n",
        "  return temp_ps\n",
        "reviews_info1()"
      ],
      "metadata": {
        "colab": {
          "base_uri": "https://localhost:8080/",
          "height": 223
        },
        "id": "1h2BuLzpO6mD",
        "outputId": "c3787792-db81-412d-ae98-494ec0453f85"
      },
      "execution_count": 239,
      "outputs": [
        {
          "output_type": "stream",
          "name": "stdout",
          "text": [
            "Shape of Revies_Data is : (37427, 5)\n"
          ]
        },
        {
          "output_type": "execute_result",
          "data": {
            "text/plain": [
              "                       DataType  Non-Null_Values  Unique_Values  NaN_Values  \\\n",
              "App                      object            37427            865           0   \n",
              "Translated_Review        object            37427          27994           0   \n",
              "Sentiment                object            37427              3           0   \n",
              "Sentiment_Polarity      float64            37427           5410           0   \n",
              "Sentiment_Subjectivity  float64            37427           4474           0   \n",
              "\n",
              "                        NaN_Values_Percentage  \n",
              "App                                       0.0  \n",
              "Translated_Review                         0.0  \n",
              "Sentiment                                 0.0  \n",
              "Sentiment_Polarity                        0.0  \n",
              "Sentiment_Subjectivity                    0.0  "
            ],
            "text/html": [
              "\n",
              "  <div id=\"df-c631d5de-b18f-4bad-a65d-9bacdd5243e3\">\n",
              "    <div class=\"colab-df-container\">\n",
              "      <div>\n",
              "<style scoped>\n",
              "    .dataframe tbody tr th:only-of-type {\n",
              "        vertical-align: middle;\n",
              "    }\n",
              "\n",
              "    .dataframe tbody tr th {\n",
              "        vertical-align: top;\n",
              "    }\n",
              "\n",
              "    .dataframe thead th {\n",
              "        text-align: right;\n",
              "    }\n",
              "</style>\n",
              "<table border=\"1\" class=\"dataframe\">\n",
              "  <thead>\n",
              "    <tr style=\"text-align: right;\">\n",
              "      <th></th>\n",
              "      <th>DataType</th>\n",
              "      <th>Non-Null_Values</th>\n",
              "      <th>Unique_Values</th>\n",
              "      <th>NaN_Values</th>\n",
              "      <th>NaN_Values_Percentage</th>\n",
              "    </tr>\n",
              "  </thead>\n",
              "  <tbody>\n",
              "    <tr>\n",
              "      <th>App</th>\n",
              "      <td>object</td>\n",
              "      <td>37427</td>\n",
              "      <td>865</td>\n",
              "      <td>0</td>\n",
              "      <td>0.0</td>\n",
              "    </tr>\n",
              "    <tr>\n",
              "      <th>Translated_Review</th>\n",
              "      <td>object</td>\n",
              "      <td>37427</td>\n",
              "      <td>27994</td>\n",
              "      <td>0</td>\n",
              "      <td>0.0</td>\n",
              "    </tr>\n",
              "    <tr>\n",
              "      <th>Sentiment</th>\n",
              "      <td>object</td>\n",
              "      <td>37427</td>\n",
              "      <td>3</td>\n",
              "      <td>0</td>\n",
              "      <td>0.0</td>\n",
              "    </tr>\n",
              "    <tr>\n",
              "      <th>Sentiment_Polarity</th>\n",
              "      <td>float64</td>\n",
              "      <td>37427</td>\n",
              "      <td>5410</td>\n",
              "      <td>0</td>\n",
              "      <td>0.0</td>\n",
              "    </tr>\n",
              "    <tr>\n",
              "      <th>Sentiment_Subjectivity</th>\n",
              "      <td>float64</td>\n",
              "      <td>37427</td>\n",
              "      <td>4474</td>\n",
              "      <td>0</td>\n",
              "      <td>0.0</td>\n",
              "    </tr>\n",
              "  </tbody>\n",
              "</table>\n",
              "</div>\n",
              "      <button class=\"colab-df-convert\" onclick=\"convertToInteractive('df-c631d5de-b18f-4bad-a65d-9bacdd5243e3')\"\n",
              "              title=\"Convert this dataframe to an interactive table.\"\n",
              "              style=\"display:none;\">\n",
              "        \n",
              "  <svg xmlns=\"http://www.w3.org/2000/svg\" height=\"24px\"viewBox=\"0 0 24 24\"\n",
              "       width=\"24px\">\n",
              "    <path d=\"M0 0h24v24H0V0z\" fill=\"none\"/>\n",
              "    <path d=\"M18.56 5.44l.94 2.06.94-2.06 2.06-.94-2.06-.94-.94-2.06-.94 2.06-2.06.94zm-11 1L8.5 8.5l.94-2.06 2.06-.94-2.06-.94L8.5 2.5l-.94 2.06-2.06.94zm10 10l.94 2.06.94-2.06 2.06-.94-2.06-.94-.94-2.06-.94 2.06-2.06.94z\"/><path d=\"M17.41 7.96l-1.37-1.37c-.4-.4-.92-.59-1.43-.59-.52 0-1.04.2-1.43.59L10.3 9.45l-7.72 7.72c-.78.78-.78 2.05 0 2.83L4 21.41c.39.39.9.59 1.41.59.51 0 1.02-.2 1.41-.59l7.78-7.78 2.81-2.81c.8-.78.8-2.07 0-2.86zM5.41 20L4 18.59l7.72-7.72 1.47 1.35L5.41 20z\"/>\n",
              "  </svg>\n",
              "      </button>\n",
              "      \n",
              "  <style>\n",
              "    .colab-df-container {\n",
              "      display:flex;\n",
              "      flex-wrap:wrap;\n",
              "      gap: 12px;\n",
              "    }\n",
              "\n",
              "    .colab-df-convert {\n",
              "      background-color: #E8F0FE;\n",
              "      border: none;\n",
              "      border-radius: 50%;\n",
              "      cursor: pointer;\n",
              "      display: none;\n",
              "      fill: #1967D2;\n",
              "      height: 32px;\n",
              "      padding: 0 0 0 0;\n",
              "      width: 32px;\n",
              "    }\n",
              "\n",
              "    .colab-df-convert:hover {\n",
              "      background-color: #E2EBFA;\n",
              "      box-shadow: 0px 1px 2px rgba(60, 64, 67, 0.3), 0px 1px 3px 1px rgba(60, 64, 67, 0.15);\n",
              "      fill: #174EA6;\n",
              "    }\n",
              "\n",
              "    [theme=dark] .colab-df-convert {\n",
              "      background-color: #3B4455;\n",
              "      fill: #D2E3FC;\n",
              "    }\n",
              "\n",
              "    [theme=dark] .colab-df-convert:hover {\n",
              "      background-color: #434B5C;\n",
              "      box-shadow: 0px 1px 3px 1px rgba(0, 0, 0, 0.15);\n",
              "      filter: drop-shadow(0px 1px 2px rgba(0, 0, 0, 0.3));\n",
              "      fill: #FFFFFF;\n",
              "    }\n",
              "  </style>\n",
              "\n",
              "      <script>\n",
              "        const buttonEl =\n",
              "          document.querySelector('#df-c631d5de-b18f-4bad-a65d-9bacdd5243e3 button.colab-df-convert');\n",
              "        buttonEl.style.display =\n",
              "          google.colab.kernel.accessAllowed ? 'block' : 'none';\n",
              "\n",
              "        async function convertToInteractive(key) {\n",
              "          const element = document.querySelector('#df-c631d5de-b18f-4bad-a65d-9bacdd5243e3');\n",
              "          const dataTable =\n",
              "            await google.colab.kernel.invokeFunction('convertToInteractive',\n",
              "                                                     [key], {});\n",
              "          if (!dataTable) return;\n",
              "\n",
              "          const docLinkHtml = 'Like what you see? Visit the ' +\n",
              "            '<a target=\"_blank\" href=https://colab.research.google.com/notebooks/data_table.ipynb>data table notebook</a>'\n",
              "            + ' to learn more about interactive tables.';\n",
              "          element.innerHTML = '';\n",
              "          dataTable['output_type'] = 'display_data';\n",
              "          await google.colab.output.renderOutput(dataTable, element);\n",
              "          const docLink = document.createElement('div');\n",
              "          docLink.innerHTML = docLinkHtml;\n",
              "          element.appendChild(docLink);\n",
              "        }\n",
              "      </script>\n",
              "    </div>\n",
              "  </div>\n",
              "  "
            ]
          },
          "metadata": {},
          "execution_count": 239
        }
      ]
    },
    {
      "cell_type": "markdown",
      "source": [
        "**So, now we can see, Reviews Dataset is ready to process**\n",
        "1. No Null Values\n",
        "2. Correct Datatypes\n",
        "3. Same no of records in all columns\n",
        "\n",
        "-----"
      ],
      "metadata": {
        "id": "5oO1NTofPBLj"
      }
    },
    {
      "cell_type": "markdown",
      "source": [
        "## **[CHECK BELOW CODE CELL] Data Wrangling - Play Store Dataset**\n",
        "-----"
      ],
      "metadata": {
        "id": "bH36vtbaR4WG"
      }
    },
    {
      "cell_type": "markdown",
      "source": [
        "1. Creating a copy of original dataset.\n",
        "2. Merging Play Store & Reviews Data for effective Analysis of Data\n",
        "3. Removing special characters from values.\n",
        "4. Changing data types of columns"
      ],
      "metadata": {
        "id": "m1GUSguhSAwZ"
      }
    },
    {
      "cell_type": "code",
      "source": [
        "# Null values from each column.\n",
        "ps_data_df.isnull().sum()"
      ],
      "metadata": {
        "colab": {
          "base_uri": "https://localhost:8080/"
        },
        "id": "8Zl7GVkwSL4B",
        "outputId": "28f42363-9e1a-4bd9-f70d-34a79f31dcbd"
      },
      "execution_count": 240,
      "outputs": [
        {
          "output_type": "execute_result",
          "data": {
            "text/plain": [
              "App               0\n",
              "Category          0\n",
              "Rating            0\n",
              "Reviews           0\n",
              "Size              0\n",
              "Installs          0\n",
              "Type              0\n",
              "Price             0\n",
              "Content_Rating    0\n",
              "Genres            1\n",
              "Last_Updated      0\n",
              "Current_Ver       0\n",
              "Android_Ver       0\n",
              "dtype: int64"
            ]
          },
          "metadata": {},
          "execution_count": 240
        }
      ]
    },
    {
      "cell_type": "markdown",
      "source": [
        "### No Null values found in the Play Store dataset\n",
        "-----"
      ],
      "metadata": {
        "id": "tY5Ra4f_SfmA"
      }
    },
    {
      "cell_type": "code",
      "source": [
        "# Checking unique values in Category Column.\n",
        "ps_data_df['Category'].unique()"
      ],
      "metadata": {
        "colab": {
          "base_uri": "https://localhost:8080/"
        },
        "id": "0V_f-KK7SuCS",
        "outputId": "769fd7a0-1055-424c-c6a6-93bcc73e1ea5"
      },
      "execution_count": 241,
      "outputs": [
        {
          "output_type": "execute_result",
          "data": {
            "text/plain": [
              "array(['ART_AND_DESIGN', 'AUTO_AND_VEHICLES', 'BEAUTY',\n",
              "       'BOOKS_AND_REFERENCE', 'BUSINESS', 'COMICS', 'COMMUNICATION',\n",
              "       'DATING', 'EDUCATION', 'ENTERTAINMENT', 'EVENTS', 'FINANCE',\n",
              "       'FOOD_AND_DRINK', 'HEALTH_AND_FITNESS', 'HOUSE_AND_HOME',\n",
              "       'LIBRARIES_AND_DEMO', 'LIFESTYLE', 'GAME', 'FAMILY', 'MEDICAL',\n",
              "       'SOCIAL', 'SHOPPING', 'PHOTOGRAPHY', 'SPORTS', 'TRAVEL_AND_LOCAL',\n",
              "       'TOOLS', 'PERSONALIZATION', 'PRODUCTIVITY', 'PARENTING', 'WEATHER',\n",
              "       'VIDEO_PLAYERS', 'NEWS_AND_MAGAZINES', 'MAPS_AND_NAVIGATION'],\n",
              "      dtype=object)"
            ]
          },
          "metadata": {},
          "execution_count": 241
        }
      ]
    },
    {
      "cell_type": "markdown",
      "source": [
        "Found \"Category\" Column datatype correct.\n",
        "\n",
        "No other discrepancy found in \"Category\" Column"
      ],
      "metadata": {
        "id": "TI6cG6nVSx1t"
      }
    },
    {
      "cell_type": "code",
      "source": [
        "# Checking unique values in Category Column.\n",
        "ps_data_df['Rating'].unique()"
      ],
      "metadata": {
        "colab": {
          "base_uri": "https://localhost:8080/"
        },
        "id": "RmPzfFCzS-QB",
        "outputId": "5c6788a0-9415-4ae0-dac2-c24ca6f26379"
      },
      "execution_count": 242,
      "outputs": [
        {
          "output_type": "execute_result",
          "data": {
            "text/plain": [
              "array([4.1, 4.7, 4.5, 4.3, 4.4, 3.8, 4.2, 4.6, 3.2, 4.0, 4.8, 3.9, 4.9,\n",
              "       3.6, 3.7, 3.3, 3.4, 3.5, 3.1, 5.0, 2.5, 3.0, 1.0, 1.9, 2.7, 2.8,\n",
              "       2.9, 2.6, 2.3, 2.2, 1.7, 2.0, 1.8, 2.4, 1.6, 2.1, 1.4, 1.5, 1.2,\n",
              "       '1.9'], dtype=object)"
            ]
          },
          "metadata": {},
          "execution_count": 242
        }
      ]
    },
    {
      "cell_type": "code",
      "source": [
        "# Datatype is wrong in Rating column\n",
        "# All values are of \"float\" datatype, lets change datatype of ratings as 'float' datatype\n",
        "\n",
        "ps_data_df['Rating'] = ps_data_df['Rating'].astype('float')\n",
        "ps_data_df['Rating'].dtype"
      ],
      "metadata": {
        "colab": {
          "base_uri": "https://localhost:8080/"
        },
        "id": "5ZpQLK_BTCgE",
        "outputId": "43d02600-64ee-4bf6-8a86-0e6925751aca"
      },
      "execution_count": 243,
      "outputs": [
        {
          "output_type": "execute_result",
          "data": {
            "text/plain": [
              "dtype('float64')"
            ]
          },
          "metadata": {},
          "execution_count": 243
        }
      ]
    },
    {
      "cell_type": "code",
      "source": [
        "# let's check all Unique values in this column\n",
        "\n",
        "ps_data_df['Reviews'].describe()"
      ],
      "metadata": {
        "colab": {
          "base_uri": "https://localhost:8080/"
        },
        "id": "ViXoGADZTG3s",
        "outputId": "d1f177a2-27ac-4294-ba85-ca94bd88e8a9"
      },
      "execution_count": 244,
      "outputs": [
        {
          "output_type": "execute_result",
          "data": {
            "text/plain": [
              "count     9660\n",
              "unique    5333\n",
              "top          0\n",
              "freq       593\n",
              "Name: Reviews, dtype: object"
            ]
          },
          "metadata": {},
          "execution_count": 244
        }
      ]
    },
    {
      "cell_type": "code",
      "source": [
        "# No of Reviews must be 'integer' hence converting \"Reviews\" dtype from 'float' to 'int' for better numerical analysis\n",
        "ps_data_df[\"Reviews\"] = pd.to_numeric(ps_data_df[\"Reviews\"])"
      ],
      "metadata": {
        "id": "OOz311zfTVAI"
      },
      "execution_count": 245,
      "outputs": []
    },
    {
      "cell_type": "code",
      "source": [
        "# Size column.\n",
        "ps_data_df['Size'].unique() #Unique values in Size"
      ],
      "metadata": {
        "colab": {
          "base_uri": "https://localhost:8080/"
        },
        "id": "NICtxOskTX1y",
        "outputId": "5198c20d-2967-4f81-8bee-440cc1214cd1"
      },
      "execution_count": 246,
      "outputs": [
        {
          "output_type": "execute_result",
          "data": {
            "text/plain": [
              "array(['19M', '8.7M', '25M', '2.8M', '5.6M', '29M', '33M', '3.1M', '28M',\n",
              "       '12M', '20M', '21M', '37M', '2.7M', '5.5M', '17M', '39M', '31M',\n",
              "       '14M', '4.2M', '23M', '6.0M', '6.1M', '4.6M', '9.2M', '5.2M',\n",
              "       '11M', 'Varies with device', '9.4M', '15M', '10M', '1.2M', '24M',\n",
              "       '26M', '8.0M', '7.9M', '56M', '57M', '35M', '54M', '201k', '3.6M',\n",
              "       '5.7M', '8.6M', '2.4M', '27M', '2.5M', '7.0M', '16M', '3.4M',\n",
              "       '8.9M', '3.9M', '2.9M', '38M', '32M', '5.4M', '18M', '1.1M',\n",
              "       '2.2M', '4.5M', '9.8M', '52M', '9.0M', '6.7M', '30M', '2.6M',\n",
              "       '7.1M', '3.7M', '22M', '7.4M', '6.4M', '3.2M', '8.2M', '9.9M',\n",
              "       '4.9M', '9.5M', '5.0M', '5.9M', '13M', '73M', '6.8M', '3.5M',\n",
              "       '4.0M', '2.3M', '7.2M', '2.1M', '42M', '7.3M', '9.1M', '55M',\n",
              "       '23k', '6.5M', '1.5M', '7.5M', '46M', '51M', '48M', '8.5M', '41M',\n",
              "       '8.3M', '4.3M', '4.7M', '3.3M', '40M', '7.8M', '8.8M', '6.6M',\n",
              "       '5.1M', '61M', '8.4M', '118k', '44M', '695k', '1.6M', '18k', '53M',\n",
              "       '6.2M', '3.0M', '5.8M', '3.8M', '9.6M', '45M', '63M', '49M',\n",
              "       '4.4M', '70M', '6.9M', '9.3M', '10.0M', '8.1M', '4.8M', '36M',\n",
              "       '77M', '84M', '97M', '2.0M', '1.9M', '1.8M', '5.3M', '47M', '556k',\n",
              "       '526k', '7.6M', '76M', '9.7M', '78M', '72M', '43M', '7.7M', '6.3M',\n",
              "       '334k', '1.4M', '34M', '93M', '65M', '100M', '50M', '68M', '79M',\n",
              "       '64M', '67M', '94M', '59M', '60M', '58M', '232k', '99M', '624k',\n",
              "       '95M', '8.5k', '41k', '292k', '11k', '80M', '1.7M', '69M', '71M',\n",
              "       '62M', '98M', '85M', '86M', '82M', '81M', '96M', '91M', '83M',\n",
              "       '87M', '66M', '75M', '92M', '862k', '899k', '378k', '266k', '375k',\n",
              "       '74M', '1.3M', '975k', '980k', '4.1M', '89M', '88M', '696k',\n",
              "       '544k', '525k', '920k', '779k', '853k', '720k', '713k', '772k',\n",
              "       '318k', '58k', '241k', '196k', '857k', '51k', '953k', '865k',\n",
              "       '251k', '930k', '540k', '313k', '746k', '203k', '26k', '314k',\n",
              "       '79k', '239k', '371k', '220k', '730k', '756k', '91k', '293k',\n",
              "       '17k', '74k', '14k', '317k', '78k', '924k', '902k', '818k', '81k',\n",
              "       '939k', '169k', '45k', '475k', '965k', '90M', '545k', '61k',\n",
              "       '283k', '655k', '714k', '93k', '872k', '121k', '322k', '1.0M',\n",
              "       '976k', '172k', '238k', '549k', '206k', '954k', '444k', '717k',\n",
              "       '210k', '609k', '308k', '705k', '306k', '904k', '473k', '175k',\n",
              "       '350k', '383k', '454k', '421k', '70k', '812k', '442k', '842k',\n",
              "       '417k', '412k', '459k', '478k', '335k', '782k', '721k', '430k',\n",
              "       '429k', '192k', '200k', '460k', '728k', '496k', '816k', '414k',\n",
              "       '506k', '704k', '887k', '613k', '243k', '569k', '778k', '683k',\n",
              "       '592k', '319k', '186k', '840k', '647k', '191k', '373k', '437k',\n",
              "       '598k', '716k', '585k', '982k', '222k', '219k', '55k', '948k',\n",
              "       '323k', '691k', '511k', '951k', '963k', '25k', '554k', '351k',\n",
              "       '27k', '82k', '208k', '913k', '514k', '551k', '29k', '103k',\n",
              "       '898k', '743k', '116k', '153k', '209k', '353k', '499k', '173k',\n",
              "       '597k', '809k', '122k', '411k', '400k', '801k', '787k', '237k',\n",
              "       '50k', '643k', '986k', '97k', '516k', '837k', '780k', '961k',\n",
              "       '269k', '20k', '498k', '600k', '749k', '642k', '881k', '72k',\n",
              "       '656k', '601k', '221k', '228k', '108k', '940k', '176k', '33k',\n",
              "       '663k', '34k', '942k', '259k', '164k', '458k', '245k', '629k',\n",
              "       '28k', '288k', '775k', '785k', '636k', '916k', '994k', '309k',\n",
              "       '485k', '914k', '903k', '608k', '500k', '54k', '562k', '847k',\n",
              "       '957k', '688k', '811k', '270k', '48k', '329k', '523k', '921k',\n",
              "       '874k', '981k', '784k', '280k', '24k', '518k', '754k', '892k',\n",
              "       '154k', '860k', '364k', '387k', '626k', '161k', '879k', '39k',\n",
              "       '970k', '170k', '141k', '160k', '144k', '143k', '190k', '376k',\n",
              "       '193k', '246k', '73k', '658k', '992k', '253k', '420k', '404k',\n",
              "       '470k', '226k', '240k', '89k', '234k', '257k', '861k', '467k',\n",
              "       '157k', '44k', '676k', '67k', '552k', '885k', '1020k', '582k',\n",
              "       '619k'], dtype=object)"
            ]
          },
          "metadata": {},
          "execution_count": 246
        }
      ]
    },
    {
      "cell_type": "code",
      "source": [
        "# Replaced 'Varies with device' size with 'NaN'.\n",
        "ps_data_df['Size'] =  ps_data_df['Size'].replace('Varies with device', 'NaN', regex=True)"
      ],
      "metadata": {
        "id": "LHthAaDgTdfd"
      },
      "execution_count": 247,
      "outputs": []
    },
    {
      "cell_type": "code",
      "source": [
        "# Keeping apps with MB as it is and converting KB into MB.\n",
        "\n",
        "size =[]\n",
        "\n",
        "for i in ps_data_df['Size']:\n",
        "    if i == 'NaN':\n",
        "        size.append('NaN')\n",
        "    elif i[-1] == 'k':\n",
        "        size.append(float(i[:-1])/1000)\n",
        "    else:\n",
        "        size.append(float(i[:-1]))"
      ],
      "metadata": {
        "id": "pVLEgSNNThRs"
      },
      "execution_count": 248,
      "outputs": []
    },
    {
      "cell_type": "code",
      "source": [
        "# Size column data type changed.\n",
        "ps_data_df['Size'] = size \n",
        "ps_data_df['Size'] = ps_data_df['Size'].astype(float)"
      ],
      "metadata": {
        "id": "-3CQN7dhTlds"
      },
      "execution_count": 249,
      "outputs": []
    },
    {
      "cell_type": "code",
      "source": [
        "ps_data_df['Size'].describe()"
      ],
      "metadata": {
        "colab": {
          "base_uri": "https://localhost:8080/"
        },
        "id": "mW2drV4UTqBP",
        "outputId": "c6a1359f-2a6a-4bcb-b986-05e762b317d9"
      },
      "execution_count": 250,
      "outputs": [
        {
          "output_type": "execute_result",
          "data": {
            "text/plain": [
              "count    8433.000000\n",
              "mean       20.395906\n",
              "std        21.827699\n",
              "min         0.008500\n",
              "25%         4.600000\n",
              "50%        12.000000\n",
              "75%        28.000000\n",
              "max       100.000000\n",
              "Name: Size, dtype: float64"
            ]
          },
          "metadata": {},
          "execution_count": 250
        }
      ]
    },
    {
      "cell_type": "code",
      "source": [
        "# The median app size column.\n",
        "size_median = ps_data_df['Size'].median()\n",
        "print(size_median)"
      ],
      "metadata": {
        "colab": {
          "base_uri": "https://localhost:8080/"
        },
        "id": "gpcmKfrZTuBJ",
        "outputId": "2d2c7135-e0ed-4e62-e0cd-11c554557ed8"
      },
      "execution_count": 251,
      "outputs": [
        {
          "output_type": "stream",
          "name": "stdout",
          "text": [
            "12.0\n"
          ]
        }
      ]
    },
    {
      "cell_type": "code",
      "source": [
        "# NaN values filled with median of Size column.\n",
        "ps_data_df.loc[ps_data_df['Size'].isnull(), 'Size'] = ps_data_df['Size'].fillna(size_median)"
      ],
      "metadata": {
        "id": "Gix8D8L6Tx2d"
      },
      "execution_count": 252,
      "outputs": []
    },
    {
      "cell_type": "code",
      "source": [
        "ps_data_df['Size'].isnull().value_counts()"
      ],
      "metadata": {
        "colab": {
          "base_uri": "https://localhost:8080/"
        },
        "id": "C8HtCoUCT1TO",
        "outputId": "0116dc2a-c6b4-4fb1-8f35-e65379d71c2d"
      },
      "execution_count": 253,
      "outputs": [
        {
          "output_type": "execute_result",
          "data": {
            "text/plain": [
              "False    9660\n",
              "Name: Size, dtype: int64"
            ]
          },
          "metadata": {},
          "execution_count": 253
        }
      ]
    },
    {
      "cell_type": "code",
      "source": [
        "# Category unique count.\n",
        "catergory_unique_count = ps_data_df['Category'].nunique()\n",
        "print(f'The total unique categories are {catergory_unique_count}.')"
      ],
      "metadata": {
        "colab": {
          "base_uri": "https://localhost:8080/"
        },
        "id": "ALqWyqyLT3-N",
        "outputId": "4ed886af-485a-442d-f015-844cbdedeb96"
      },
      "execution_count": 254,
      "outputs": [
        {
          "output_type": "stream",
          "name": "stdout",
          "text": [
            "The total unique categories are 33.\n"
          ]
        }
      ]
    },
    {
      "cell_type": "code",
      "source": [
        "# Category Column unique value count.\n",
        "ps_data_df['Category'].value_counts()"
      ],
      "metadata": {
        "colab": {
          "base_uri": "https://localhost:8080/"
        },
        "id": "y3Z7xagXT7yS",
        "outputId": "3461e9c1-528a-45e6-dd63-2df7eb1ec201"
      },
      "execution_count": 255,
      "outputs": [
        {
          "output_type": "execute_result",
          "data": {
            "text/plain": [
              "FAMILY                 1906\n",
              "GAME                    926\n",
              "TOOLS                   829\n",
              "BUSINESS                419\n",
              "MEDICAL                 396\n",
              "PERSONALIZATION         376\n",
              "PRODUCTIVITY            374\n",
              "LIFESTYLE               370\n",
              "FINANCE                 345\n",
              "SPORTS                  327\n",
              "COMMUNICATION           316\n",
              "HEALTH_AND_FITNESS      287\n",
              "PHOTOGRAPHY             281\n",
              "NEWS_AND_MAGAZINES      254\n",
              "SOCIAL                  239\n",
              "BOOKS_AND_REFERENCE     222\n",
              "TRAVEL_AND_LOCAL        219\n",
              "SHOPPING                202\n",
              "DATING                  170\n",
              "VIDEO_PLAYERS           163\n",
              "MAPS_AND_NAVIGATION     131\n",
              "FOOD_AND_DRINK          112\n",
              "EDUCATION               102\n",
              "AUTO_AND_VEHICLES        85\n",
              "LIBRARIES_AND_DEMO       84\n",
              "ENTERTAINMENT            79\n",
              "WEATHER                  79\n",
              "HOUSE_AND_HOME           73\n",
              "EVENTS                   64\n",
              "ART_AND_DESIGN           61\n",
              "PARENTING                60\n",
              "COMICS                   56\n",
              "BEAUTY                   53\n",
              "Name: Category, dtype: int64"
            ]
          },
          "metadata": {},
          "execution_count": 255
        }
      ]
    },
    {
      "cell_type": "code",
      "source": [
        "# App column unique count of Apps.\n",
        "app_unique_count = ps_data_df['App'].nunique()\n",
        "print(f'Total unique app names in App column {app_unique_count}.')"
      ],
      "metadata": {
        "colab": {
          "base_uri": "https://localhost:8080/"
        },
        "id": "Fw7UPWU3UBdX",
        "outputId": "f5ffd693-de94-4218-f7e5-00f837974d0c"
      },
      "execution_count": 256,
      "outputs": [
        {
          "output_type": "stream",
          "name": "stdout",
          "text": [
            "Total unique app names in App column 9660.\n"
          ]
        }
      ]
    },
    {
      "cell_type": "code",
      "source": [
        "# Installs column unique entries.\n",
        "ps_data_df['Installs'].unique()"
      ],
      "metadata": {
        "colab": {
          "base_uri": "https://localhost:8080/"
        },
        "id": "R_LBpEiaUDyq",
        "outputId": "959f45ce-408d-4b8c-d95d-f65821e9e096"
      },
      "execution_count": 257,
      "outputs": [
        {
          "output_type": "execute_result",
          "data": {
            "text/plain": [
              "array(['10,000+', '5,000,000+', '50,000,000+', '100,000+', '50,000+',\n",
              "       '1,000,000+', '10,000,000+', '5,000+', '500,000+',\n",
              "       '1,000,000,000+', '100,000,000+', '1,000+', '50+', '100+', '500+',\n",
              "       '10+', '1+', '5+', '500,000,000+', '0+', '0'], dtype=object)"
            ]
          },
          "metadata": {},
          "execution_count": 257
        }
      ]
    },
    {
      "cell_type": "code",
      "source": [
        "# Convert Installs to numeric and remove special characters.\n",
        "ps_data_df['Installs'] = ps_data_df['Installs'].apply(lambda x : str(x).replace('+','') if '+' in str(x) else str(x))\n",
        "ps_data_df['Installs'] = ps_data_df['Installs'].apply(lambda x : str(x).replace(',','') if ',' in str(x) else str(x))\n",
        "ps_data_df['Installs'] = ps_data_df['Installs'].apply(lambda x : float(x))"
      ],
      "metadata": {
        "id": "z6T0tpFxUGpV"
      },
      "execution_count": 258,
      "outputs": []
    },
    {
      "cell_type": "code",
      "source": [
        "ps_data_df['Installs'].describe()"
      ],
      "metadata": {
        "colab": {
          "base_uri": "https://localhost:8080/"
        },
        "id": "92l2_L0MUJEY",
        "outputId": "1013eb9f-269b-478b-c8db-4feb57de97aa"
      },
      "execution_count": 259,
      "outputs": [
        {
          "output_type": "execute_result",
          "data": {
            "text/plain": [
              "count    9.660000e+03\n",
              "mean     7.793441e+06\n",
              "std      5.376719e+07\n",
              "min      0.000000e+00\n",
              "25%      1.000000e+03\n",
              "50%      1.000000e+05\n",
              "75%      1.000000e+06\n",
              "max      1.000000e+09\n",
              "Name: Installs, dtype: float64"
            ]
          },
          "metadata": {},
          "execution_count": 259
        }
      ]
    },
    {
      "cell_type": "code",
      "source": [
        "# Found datatype correct in \"Installs\" column\n",
        "# No other discrepancies found in the \"Install\" data"
      ],
      "metadata": {
        "id": "L3iHwiRaUNyM"
      },
      "execution_count": 260,
      "outputs": []
    },
    {
      "cell_type": "code",
      "source": [
        "# Now, we have only two unique types in Type column.\n",
        "ps_data_df['Type'].unique()"
      ],
      "metadata": {
        "colab": {
          "base_uri": "https://localhost:8080/"
        },
        "id": "JMIer-v9UQPM",
        "outputId": "b9bd1478-45b2-4f9c-e328-f075a13bbaf6"
      },
      "execution_count": 261,
      "outputs": [
        {
          "output_type": "execute_result",
          "data": {
            "text/plain": [
              "array(['Free', 'Paid'], dtype=object)"
            ]
          },
          "metadata": {},
          "execution_count": 261
        }
      ]
    },
    {
      "cell_type": "code",
      "source": [
        "# Checking unique values in Price.\n",
        "ps_data_df['Price'].unique()"
      ],
      "metadata": {
        "colab": {
          "base_uri": "https://localhost:8080/"
        },
        "id": "ZNCnZpbgUSoq",
        "outputId": "27fd3a70-203b-41bf-d2ff-4bcca93ef5ec"
      },
      "execution_count": 262,
      "outputs": [
        {
          "output_type": "execute_result",
          "data": {
            "text/plain": [
              "array(['0', '$4.99', '$3.99', '$1.49', '$2.99', '$7.99', '$3.49', '$1.99',\n",
              "       '$5.99', '$6.99', '$9.99', '$7.49', '$0.99', '$1.00', '$2.49',\n",
              "       '$10.99', '$1.50', '$14.99', '$15.99', '$79.99', '$9.00', '$10.00',\n",
              "       '$16.99', '$11.99', '$29.99', '$74.99', '$5.49', '$33.99',\n",
              "       '$24.99', '$39.99', '$19.99', '$4.49', '$1.70', '$8.99', '$2.00',\n",
              "       '$3.88', '$25.99', '$399.99', '$17.99', '$400.00', '$3.02',\n",
              "       '$1.76', '$4.84', '$4.77', '$1.61', '$2.50', '$1.59', '$6.49',\n",
              "       '$1.29', '$5.00', '$13.99', '$299.99', '$379.99', '$37.99',\n",
              "       '$18.99', '$389.99', '$19.90', '$8.49', '$1.75', '$14.00', '$4.85',\n",
              "       '$46.99', '$109.99', '$3.95', '$154.99', '$3.08', '$2.59', '$4.80',\n",
              "       '$1.96', '$19.40', '$3.90', '$4.59', '$15.46', '$3.04', '$12.99',\n",
              "       '$4.29', '$2.60', '$3.28', '$4.60', '$28.99', '$2.95', '$2.90',\n",
              "       '$1.97', '$200.00', '$89.99', '$2.56', '$30.99', '$3.61',\n",
              "       '$394.99', '$1.26', '$1.20', '$1.04'], dtype=object)"
            ]
          },
          "metadata": {},
          "execution_count": 262
        }
      ]
    },
    {
      "cell_type": "code",
      "source": [
        "# Converting Price into numerical values and replacing $.\n",
        "ps_data_df['Price'] = ps_data_df['Price'].apply(lambda x : str(x).replace('$','') if '$' in str(x) else str(x))\n",
        "ps_data_df['Price'] = ps_data_df['Price'].apply(lambda x : float(x))"
      ],
      "metadata": {
        "id": "O-ILKSgPUWav"
      },
      "execution_count": 263,
      "outputs": []
    },
    {
      "cell_type": "code",
      "source": [
        "#Price column description #51\n",
        "ps_data_df['Price'].describe()"
      ],
      "metadata": {
        "colab": {
          "base_uri": "https://localhost:8080/"
        },
        "id": "mjsSts3JUY1b",
        "outputId": "2b04e09b-bcfe-4eb8-e127-b83d3534781b"
      },
      "execution_count": 264,
      "outputs": [
        {
          "output_type": "execute_result",
          "data": {
            "text/plain": [
              "count    9660.000000\n",
              "mean        1.097117\n",
              "std        16.850750\n",
              "min         0.000000\n",
              "25%         0.000000\n",
              "50%         0.000000\n",
              "75%         0.000000\n",
              "max       400.000000\n",
              "Name: Price, dtype: float64"
            ]
          },
          "metadata": {},
          "execution_count": 264
        }
      ]
    },
    {
      "cell_type": "code",
      "source": [
        "# Checking unique Values.\n",
        "ps_data_df['Content_Rating'].unique()"
      ],
      "metadata": {
        "colab": {
          "base_uri": "https://localhost:8080/"
        },
        "id": "OU06d99pUdrs",
        "outputId": "9f95aaf2-202b-4a86-da0a-7c355653fa75"
      },
      "execution_count": 265,
      "outputs": [
        {
          "output_type": "execute_result",
          "data": {
            "text/plain": [
              "array(['Everyone', 'Teen', 'Everyone 10+', 'Mature 17+',\n",
              "       'Adults only 18+', 'Unrated'], dtype=object)"
            ]
          },
          "metadata": {},
          "execution_count": 265
        }
      ]
    },
    {
      "cell_type": "code",
      "source": [
        "# As per Unique values, there are some \"Unrated\" values.\n",
        "# Let's check those values\n",
        "\n",
        "ps_data_df['Content_Rating'].value_counts()"
      ],
      "metadata": {
        "colab": {
          "base_uri": "https://localhost:8080/"
        },
        "id": "LJ4JAL_RUhMh",
        "outputId": "70ff3f49-e085-4f8f-9ce5-105e87191700"
      },
      "execution_count": 266,
      "outputs": [
        {
          "output_type": "execute_result",
          "data": {
            "text/plain": [
              "Everyone           7904\n",
              "Teen               1036\n",
              "Mature 17+          393\n",
              "Everyone 10+        322\n",
              "Adults only 18+       3\n",
              "Unrated               2\n",
              "Name: Content_Rating, dtype: int64"
            ]
          },
          "metadata": {},
          "execution_count": 266
        }
      ]
    },
    {
      "cell_type": "code",
      "source": [
        "# There are two entries which are 'Unrated', lets check those records\n",
        "\n",
        "ps_data_df[ps_data_df['Content_Rating'] == 'Unrated']"
      ],
      "metadata": {
        "colab": {
          "base_uri": "https://localhost:8080/",
          "height": 112
        },
        "id": "FoNZSWoiUqGv",
        "outputId": "ee5e2ea9-1d54-41a8-bed0-87943a48d0da"
      },
      "execution_count": 267,
      "outputs": [
        {
          "output_type": "execute_result",
          "data": {
            "text/plain": [
              "                         App Category  Rating  Reviews  Size  Installs  Type  \\\n",
              "7312     Best CG Photography   FAMILY     4.3      1.0   2.5     500.0  Free   \n",
              "8266  DC Universe Online Map    TOOLS     4.1   1186.0   6.4   50000.0  Free   \n",
              "\n",
              "      Price Content_Rating         Genres       Last_Updated Current_Ver  \\\n",
              "7312    0.0        Unrated  Entertainment      June 24, 2015         5.2   \n",
              "8266    0.0        Unrated          Tools  February 27, 2012         1.3   \n",
              "\n",
              "       Android_Ver  \n",
              "7312    3.0 and up  \n",
              "8266  2.3.3 and up  "
            ],
            "text/html": [
              "\n",
              "  <div id=\"df-d4f99429-f21b-4cc2-8fa7-ae8860593efe\">\n",
              "    <div class=\"colab-df-container\">\n",
              "      <div>\n",
              "<style scoped>\n",
              "    .dataframe tbody tr th:only-of-type {\n",
              "        vertical-align: middle;\n",
              "    }\n",
              "\n",
              "    .dataframe tbody tr th {\n",
              "        vertical-align: top;\n",
              "    }\n",
              "\n",
              "    .dataframe thead th {\n",
              "        text-align: right;\n",
              "    }\n",
              "</style>\n",
              "<table border=\"1\" class=\"dataframe\">\n",
              "  <thead>\n",
              "    <tr style=\"text-align: right;\">\n",
              "      <th></th>\n",
              "      <th>App</th>\n",
              "      <th>Category</th>\n",
              "      <th>Rating</th>\n",
              "      <th>Reviews</th>\n",
              "      <th>Size</th>\n",
              "      <th>Installs</th>\n",
              "      <th>Type</th>\n",
              "      <th>Price</th>\n",
              "      <th>Content_Rating</th>\n",
              "      <th>Genres</th>\n",
              "      <th>Last_Updated</th>\n",
              "      <th>Current_Ver</th>\n",
              "      <th>Android_Ver</th>\n",
              "    </tr>\n",
              "  </thead>\n",
              "  <tbody>\n",
              "    <tr>\n",
              "      <th>7312</th>\n",
              "      <td>Best CG Photography</td>\n",
              "      <td>FAMILY</td>\n",
              "      <td>4.3</td>\n",
              "      <td>1.0</td>\n",
              "      <td>2.5</td>\n",
              "      <td>500.0</td>\n",
              "      <td>Free</td>\n",
              "      <td>0.0</td>\n",
              "      <td>Unrated</td>\n",
              "      <td>Entertainment</td>\n",
              "      <td>June 24, 2015</td>\n",
              "      <td>5.2</td>\n",
              "      <td>3.0 and up</td>\n",
              "    </tr>\n",
              "    <tr>\n",
              "      <th>8266</th>\n",
              "      <td>DC Universe Online Map</td>\n",
              "      <td>TOOLS</td>\n",
              "      <td>4.1</td>\n",
              "      <td>1186.0</td>\n",
              "      <td>6.4</td>\n",
              "      <td>50000.0</td>\n",
              "      <td>Free</td>\n",
              "      <td>0.0</td>\n",
              "      <td>Unrated</td>\n",
              "      <td>Tools</td>\n",
              "      <td>February 27, 2012</td>\n",
              "      <td>1.3</td>\n",
              "      <td>2.3.3 and up</td>\n",
              "    </tr>\n",
              "  </tbody>\n",
              "</table>\n",
              "</div>\n",
              "      <button class=\"colab-df-convert\" onclick=\"convertToInteractive('df-d4f99429-f21b-4cc2-8fa7-ae8860593efe')\"\n",
              "              title=\"Convert this dataframe to an interactive table.\"\n",
              "              style=\"display:none;\">\n",
              "        \n",
              "  <svg xmlns=\"http://www.w3.org/2000/svg\" height=\"24px\"viewBox=\"0 0 24 24\"\n",
              "       width=\"24px\">\n",
              "    <path d=\"M0 0h24v24H0V0z\" fill=\"none\"/>\n",
              "    <path d=\"M18.56 5.44l.94 2.06.94-2.06 2.06-.94-2.06-.94-.94-2.06-.94 2.06-2.06.94zm-11 1L8.5 8.5l.94-2.06 2.06-.94-2.06-.94L8.5 2.5l-.94 2.06-2.06.94zm10 10l.94 2.06.94-2.06 2.06-.94-2.06-.94-.94-2.06-.94 2.06-2.06.94z\"/><path d=\"M17.41 7.96l-1.37-1.37c-.4-.4-.92-.59-1.43-.59-.52 0-1.04.2-1.43.59L10.3 9.45l-7.72 7.72c-.78.78-.78 2.05 0 2.83L4 21.41c.39.39.9.59 1.41.59.51 0 1.02-.2 1.41-.59l7.78-7.78 2.81-2.81c.8-.78.8-2.07 0-2.86zM5.41 20L4 18.59l7.72-7.72 1.47 1.35L5.41 20z\"/>\n",
              "  </svg>\n",
              "      </button>\n",
              "      \n",
              "  <style>\n",
              "    .colab-df-container {\n",
              "      display:flex;\n",
              "      flex-wrap:wrap;\n",
              "      gap: 12px;\n",
              "    }\n",
              "\n",
              "    .colab-df-convert {\n",
              "      background-color: #E8F0FE;\n",
              "      border: none;\n",
              "      border-radius: 50%;\n",
              "      cursor: pointer;\n",
              "      display: none;\n",
              "      fill: #1967D2;\n",
              "      height: 32px;\n",
              "      padding: 0 0 0 0;\n",
              "      width: 32px;\n",
              "    }\n",
              "\n",
              "    .colab-df-convert:hover {\n",
              "      background-color: #E2EBFA;\n",
              "      box-shadow: 0px 1px 2px rgba(60, 64, 67, 0.3), 0px 1px 3px 1px rgba(60, 64, 67, 0.15);\n",
              "      fill: #174EA6;\n",
              "    }\n",
              "\n",
              "    [theme=dark] .colab-df-convert {\n",
              "      background-color: #3B4455;\n",
              "      fill: #D2E3FC;\n",
              "    }\n",
              "\n",
              "    [theme=dark] .colab-df-convert:hover {\n",
              "      background-color: #434B5C;\n",
              "      box-shadow: 0px 1px 3px 1px rgba(0, 0, 0, 0.15);\n",
              "      filter: drop-shadow(0px 1px 2px rgba(0, 0, 0, 0.3));\n",
              "      fill: #FFFFFF;\n",
              "    }\n",
              "  </style>\n",
              "\n",
              "      <script>\n",
              "        const buttonEl =\n",
              "          document.querySelector('#df-d4f99429-f21b-4cc2-8fa7-ae8860593efe button.colab-df-convert');\n",
              "        buttonEl.style.display =\n",
              "          google.colab.kernel.accessAllowed ? 'block' : 'none';\n",
              "\n",
              "        async function convertToInteractive(key) {\n",
              "          const element = document.querySelector('#df-d4f99429-f21b-4cc2-8fa7-ae8860593efe');\n",
              "          const dataTable =\n",
              "            await google.colab.kernel.invokeFunction('convertToInteractive',\n",
              "                                                     [key], {});\n",
              "          if (!dataTable) return;\n",
              "\n",
              "          const docLinkHtml = 'Like what you see? Visit the ' +\n",
              "            '<a target=\"_blank\" href=https://colab.research.google.com/notebooks/data_table.ipynb>data table notebook</a>'\n",
              "            + ' to learn more about interactive tables.';\n",
              "          element.innerHTML = '';\n",
              "          dataTable['output_type'] = 'display_data';\n",
              "          await google.colab.output.renderOutput(dataTable, element);\n",
              "          const docLink = document.createElement('div');\n",
              "          docLink.innerHTML = docLinkHtml;\n",
              "          element.appendChild(docLink);\n",
              "        }\n",
              "      </script>\n",
              "    </div>\n",
              "  </div>\n",
              "  "
            ]
          },
          "metadata": {},
          "execution_count": 267
        }
      ]
    },
    {
      "cell_type": "markdown",
      "source": [
        "## CHECK\n",
        "\n",
        "As per above records both the 'Unrated' apps are related to general use like \"Photography\" and \"Map\"\n",
        "\n",
        "Their Categories are 'FAMILY' & \"TOOLS\" respectively.\n",
        "\n",
        "Here we can check mode of the records having \"FAMILY\" & 'TOOLS'as their categories and accordingly we can update above 2 record."
      ],
      "metadata": {
        "id": "QEoF8vKeUthW"
      }
    },
    {
      "cell_type": "code",
      "source": [
        "# Let's check mode for the record belongs to 'Family' Category (Record No 7312)\n",
        "\n",
        "temp_cat_data1 = ps_data_df[ps_data_df['Category'] == 'FAMILY']\n",
        "temp_cat_data1['Content_Rating'].mode()"
      ],
      "metadata": {
        "colab": {
          "base_uri": "https://localhost:8080/"
        },
        "id": "mP-7HZ3B67Z3",
        "outputId": "1c04a9b7-4b0e-4161-f49f-6c8dd8cdf350"
      },
      "execution_count": 278,
      "outputs": [
        {
          "output_type": "execute_result",
          "data": {
            "text/plain": [
              "0    Everyone\n",
              "dtype: object"
            ]
          },
          "metadata": {},
          "execution_count": 278
        }
      ]
    },
    {
      "cell_type": "code",
      "source": [
        "# Let's check mode for the record belongs to 'Tools' Category (Record No 8266)\n",
        "\n",
        "temp_cat_data1 = ps_data_df[ps_data_df['Category'] == 'TOOLS']\n",
        "temp_cat_data1['Content_Rating'].mode()"
      ],
      "metadata": {
        "colab": {
          "base_uri": "https://localhost:8080/"
        },
        "id": "96CDm98w7UvG",
        "outputId": "5e2320e0-ce13-4119-e857-d047dcb5a594"
      },
      "execution_count": 279,
      "outputs": [
        {
          "output_type": "execute_result",
          "data": {
            "text/plain": [
              "0    Everyone\n",
              "dtype: object"
            ]
          },
          "metadata": {},
          "execution_count": 279
        }
      ]
    },
    {
      "cell_type": "code",
      "source": [
        "# As per above, both the Apps can be considered for 'Everyone' as content rating.\n",
        "# Let's correct 'Content Rating' records for both the records\n",
        "\n",
        "ps_data_df.loc[7312,'Content_Rating'] = 'Everyone'\n",
        "ps_data_df.loc[8266,'Content_Rating'] = 'Everyone'\n",
        "\n",
        "ps_data_df['Content_Rating'].value_counts()"
      ],
      "metadata": {
        "colab": {
          "base_uri": "https://localhost:8080/"
        },
        "id": "7BQQrB0AU7Mv",
        "outputId": "ff9e0b6a-f71a-4c5e-8225-fa2ff9fe0861"
      },
      "execution_count": 268,
      "outputs": [
        {
          "output_type": "execute_result",
          "data": {
            "text/plain": [
              "Everyone           7906\n",
              "Teen               1036\n",
              "Mature 17+          393\n",
              "Everyone 10+        322\n",
              "Adults only 18+       3\n",
              "Name: Content_Rating, dtype: int64"
            ]
          },
          "metadata": {},
          "execution_count": 268
        }
      ]
    },
    {
      "cell_type": "code",
      "source": [
        "# Here we checking the unique values in Genres.\n",
        "ps_data_df['Genres'].isnull().value_counts()"
      ],
      "metadata": {
        "colab": {
          "base_uri": "https://localhost:8080/"
        },
        "id": "FmiIzW_CU_w3",
        "outputId": "508db2d3-2fa1-413d-eb14-b24786cf98e6"
      },
      "execution_count": 269,
      "outputs": [
        {
          "output_type": "execute_result",
          "data": {
            "text/plain": [
              "False    9659\n",
              "True        1\n",
              "Name: Genres, dtype: int64"
            ]
          },
          "metadata": {},
          "execution_count": 269
        }
      ]
    },
    {
      "cell_type": "code",
      "source": [
        "# There is one entry which is null, lets check that record\n",
        "\n",
        "ps_data_df[ps_data_df.Genres.isnull()]"
      ],
      "metadata": {
        "colab": {
          "base_uri": "https://localhost:8080/",
          "height": 81
        },
        "id": "B4oSZJasVDQv",
        "outputId": "383aea9a-4099-4887-ea8d-56bbc7538926"
      },
      "execution_count": 270,
      "outputs": [
        {
          "output_type": "execute_result",
          "data": {
            "text/plain": [
              "                                           App   Category  Rating  Reviews  \\\n",
              "10472  Life Made WI-Fi Touchscreen Photo Frame  LIFESTYLE     1.9     19.0   \n",
              "\n",
              "       Size  Installs  Type  Price Content_Rating Genres       Last_Updated  \\\n",
              "10472   3.0    1000.0  Free    0.0       Everyone    NaN  February 11, 2018   \n",
              "\n",
              "      Current_Ver Android_Ver  \n",
              "10472      1.0.19  4.0 and up  "
            ],
            "text/html": [
              "\n",
              "  <div id=\"df-2b2892ac-2ab6-450d-a87d-495ccfb6feaf\">\n",
              "    <div class=\"colab-df-container\">\n",
              "      <div>\n",
              "<style scoped>\n",
              "    .dataframe tbody tr th:only-of-type {\n",
              "        vertical-align: middle;\n",
              "    }\n",
              "\n",
              "    .dataframe tbody tr th {\n",
              "        vertical-align: top;\n",
              "    }\n",
              "\n",
              "    .dataframe thead th {\n",
              "        text-align: right;\n",
              "    }\n",
              "</style>\n",
              "<table border=\"1\" class=\"dataframe\">\n",
              "  <thead>\n",
              "    <tr style=\"text-align: right;\">\n",
              "      <th></th>\n",
              "      <th>App</th>\n",
              "      <th>Category</th>\n",
              "      <th>Rating</th>\n",
              "      <th>Reviews</th>\n",
              "      <th>Size</th>\n",
              "      <th>Installs</th>\n",
              "      <th>Type</th>\n",
              "      <th>Price</th>\n",
              "      <th>Content_Rating</th>\n",
              "      <th>Genres</th>\n",
              "      <th>Last_Updated</th>\n",
              "      <th>Current_Ver</th>\n",
              "      <th>Android_Ver</th>\n",
              "    </tr>\n",
              "  </thead>\n",
              "  <tbody>\n",
              "    <tr>\n",
              "      <th>10472</th>\n",
              "      <td>Life Made WI-Fi Touchscreen Photo Frame</td>\n",
              "      <td>LIFESTYLE</td>\n",
              "      <td>1.9</td>\n",
              "      <td>19.0</td>\n",
              "      <td>3.0</td>\n",
              "      <td>1000.0</td>\n",
              "      <td>Free</td>\n",
              "      <td>0.0</td>\n",
              "      <td>Everyone</td>\n",
              "      <td>NaN</td>\n",
              "      <td>February 11, 2018</td>\n",
              "      <td>1.0.19</td>\n",
              "      <td>4.0 and up</td>\n",
              "    </tr>\n",
              "  </tbody>\n",
              "</table>\n",
              "</div>\n",
              "      <button class=\"colab-df-convert\" onclick=\"convertToInteractive('df-2b2892ac-2ab6-450d-a87d-495ccfb6feaf')\"\n",
              "              title=\"Convert this dataframe to an interactive table.\"\n",
              "              style=\"display:none;\">\n",
              "        \n",
              "  <svg xmlns=\"http://www.w3.org/2000/svg\" height=\"24px\"viewBox=\"0 0 24 24\"\n",
              "       width=\"24px\">\n",
              "    <path d=\"M0 0h24v24H0V0z\" fill=\"none\"/>\n",
              "    <path d=\"M18.56 5.44l.94 2.06.94-2.06 2.06-.94-2.06-.94-.94-2.06-.94 2.06-2.06.94zm-11 1L8.5 8.5l.94-2.06 2.06-.94-2.06-.94L8.5 2.5l-.94 2.06-2.06.94zm10 10l.94 2.06.94-2.06 2.06-.94-2.06-.94-.94-2.06-.94 2.06-2.06.94z\"/><path d=\"M17.41 7.96l-1.37-1.37c-.4-.4-.92-.59-1.43-.59-.52 0-1.04.2-1.43.59L10.3 9.45l-7.72 7.72c-.78.78-.78 2.05 0 2.83L4 21.41c.39.39.9.59 1.41.59.51 0 1.02-.2 1.41-.59l7.78-7.78 2.81-2.81c.8-.78.8-2.07 0-2.86zM5.41 20L4 18.59l7.72-7.72 1.47 1.35L5.41 20z\"/>\n",
              "  </svg>\n",
              "      </button>\n",
              "      \n",
              "  <style>\n",
              "    .colab-df-container {\n",
              "      display:flex;\n",
              "      flex-wrap:wrap;\n",
              "      gap: 12px;\n",
              "    }\n",
              "\n",
              "    .colab-df-convert {\n",
              "      background-color: #E8F0FE;\n",
              "      border: none;\n",
              "      border-radius: 50%;\n",
              "      cursor: pointer;\n",
              "      display: none;\n",
              "      fill: #1967D2;\n",
              "      height: 32px;\n",
              "      padding: 0 0 0 0;\n",
              "      width: 32px;\n",
              "    }\n",
              "\n",
              "    .colab-df-convert:hover {\n",
              "      background-color: #E2EBFA;\n",
              "      box-shadow: 0px 1px 2px rgba(60, 64, 67, 0.3), 0px 1px 3px 1px rgba(60, 64, 67, 0.15);\n",
              "      fill: #174EA6;\n",
              "    }\n",
              "\n",
              "    [theme=dark] .colab-df-convert {\n",
              "      background-color: #3B4455;\n",
              "      fill: #D2E3FC;\n",
              "    }\n",
              "\n",
              "    [theme=dark] .colab-df-convert:hover {\n",
              "      background-color: #434B5C;\n",
              "      box-shadow: 0px 1px 3px 1px rgba(0, 0, 0, 0.15);\n",
              "      filter: drop-shadow(0px 1px 2px rgba(0, 0, 0, 0.3));\n",
              "      fill: #FFFFFF;\n",
              "    }\n",
              "  </style>\n",
              "\n",
              "      <script>\n",
              "        const buttonEl =\n",
              "          document.querySelector('#df-2b2892ac-2ab6-450d-a87d-495ccfb6feaf button.colab-df-convert');\n",
              "        buttonEl.style.display =\n",
              "          google.colab.kernel.accessAllowed ? 'block' : 'none';\n",
              "\n",
              "        async function convertToInteractive(key) {\n",
              "          const element = document.querySelector('#df-2b2892ac-2ab6-450d-a87d-495ccfb6feaf');\n",
              "          const dataTable =\n",
              "            await google.colab.kernel.invokeFunction('convertToInteractive',\n",
              "                                                     [key], {});\n",
              "          if (!dataTable) return;\n",
              "\n",
              "          const docLinkHtml = 'Like what you see? Visit the ' +\n",
              "            '<a target=\"_blank\" href=https://colab.research.google.com/notebooks/data_table.ipynb>data table notebook</a>'\n",
              "            + ' to learn more about interactive tables.';\n",
              "          element.innerHTML = '';\n",
              "          dataTable['output_type'] = 'display_data';\n",
              "          await google.colab.output.renderOutput(dataTable, element);\n",
              "          const docLink = document.createElement('div');\n",
              "          docLink.innerHTML = docLinkHtml;\n",
              "          element.appendChild(docLink);\n",
              "        }\n",
              "      </script>\n",
              "    </div>\n",
              "  </div>\n",
              "  "
            ]
          },
          "metadata": {},
          "execution_count": 270
        }
      ]
    },
    {
      "cell_type": "code",
      "source": [
        "# During brief review of the data, its evident that 'Genre' and 'Category' corresponds to each other\n",
        "# Here we can check mode of the \"Genres\" column data for all the records having category mapped as \"LIFESTYLE\"\n",
        "\n",
        "temp_cat_data = ps_data_df[ps_data_df['Category'] == 'LIFESTYLE']\n",
        "temp_cat_data['Genres'].mode()"
      ],
      "metadata": {
        "colab": {
          "base_uri": "https://localhost:8080/"
        },
        "id": "UEEROUKWVME-",
        "outputId": "8ced3017-ccbe-4471-e98d-cc4fc851f685"
      },
      "execution_count": 271,
      "outputs": [
        {
          "output_type": "execute_result",
          "data": {
            "text/plain": [
              "0    Lifestyle\n",
              "dtype: object"
            ]
          },
          "metadata": {},
          "execution_count": 271
        }
      ]
    },
    {
      "cell_type": "code",
      "source": [
        "# As per above mode check, we can conclude that most of the \"Lifestyle\" category Apps having \"Lifestyle\" as Genre.\n",
        "\n",
        "# hence, lets update 'GENRES' for above 'NaN' record (index no = 10472) as 'Lifestyle'\n",
        "\n",
        "ps_data_df.loc[10472,'Genres'] = 'Lifestyle'"
      ],
      "metadata": {
        "id": "LMH78ZjmWFou"
      },
      "execution_count": 272,
      "outputs": []
    },
    {
      "cell_type": "code",
      "source": [
        "# Geners count\n",
        "geners_df = ps_data_df['Genres'].value_counts().sort_values(ascending=False).reset_index().head(30)\n",
        "geners_df.rename({'index': 'Genres', 'Genres': 'Total_Count'}, axis=1, inplace=True)"
      ],
      "metadata": {
        "id": "SrBAMtliW4AE"
      },
      "execution_count": 273,
      "outputs": []
    },
    {
      "cell_type": "code",
      "source": [
        "# As checked eralier, we also found some datatype discrepancies in column 'Last Updated'\n",
        "# 'Last Update' column is a date hence data type for this column should be 'datetime'\n",
        "# Let's convert the datatype of this column in 'datetime'\n",
        "\n",
        "ps_data_df['Last_Updated'] = pd.to_datetime(ps_data_df['Last_Updated'])\n",
        "ps_data_df['Last_Updated']"
      ],
      "metadata": {
        "colab": {
          "base_uri": "https://localhost:8080/"
        },
        "id": "eQqiSY_LW7OP",
        "outputId": "da86ee28-b728-412e-90ec-79ecb9552def"
      },
      "execution_count": 274,
      "outputs": [
        {
          "output_type": "execute_result",
          "data": {
            "text/plain": [
              "0       2018-01-07\n",
              "2       2018-08-01\n",
              "3       2018-06-08\n",
              "4       2018-06-20\n",
              "5       2017-03-26\n",
              "           ...    \n",
              "10836   2017-07-25\n",
              "10837   2018-07-06\n",
              "10838   2017-01-20\n",
              "10839   2015-01-19\n",
              "10840   2018-07-25\n",
              "Name: Last_Updated, Length: 9660, dtype: datetime64[ns]"
            ]
          },
          "metadata": {},
          "execution_count": 274
        }
      ]
    },
    {
      "cell_type": "code",
      "source": [
        "# In order to anlyse date and time realted trends effectively, let's seperate Year / Month / day and keep it in new columns\n",
        "\n",
        "ps_data_df['LastUpdated_Day'] = ps_data_df['Last_Updated'].dt.day\n",
        "ps_data_df['LastUpdated_Month'] = ps_data_df['Last_Updated'].dt.month\n",
        "ps_data_df['LastUpdated_Year'] = ps_data_df['Last_Updated'].dt.year"
      ],
      "metadata": {
        "id": "7cyDhA1WW-yQ"
      },
      "execution_count": 275,
      "outputs": []
    },
    {
      "cell_type": "code",
      "source": [
        "# let's check the corrections\n",
        "\n",
        "ps_data_df.head()"
      ],
      "metadata": {
        "colab": {
          "base_uri": "https://localhost:8080/",
          "height": 600
        },
        "id": "GjN04i3DXCHx",
        "outputId": "25697e0e-c174-4237-bb05-d63890c05ab5"
      },
      "execution_count": 276,
      "outputs": [
        {
          "output_type": "execute_result",
          "data": {
            "text/plain": [
              "                                                 App        Category  Rating  \\\n",
              "0     Photo Editor & Candy Camera & Grid & ScrapBook  ART_AND_DESIGN     4.1   \n",
              "2  U Launcher Lite – FREE Live Cool Themes, Hide ...  ART_AND_DESIGN     4.7   \n",
              "3                              Sketch - Draw & Paint  ART_AND_DESIGN     4.5   \n",
              "4              Pixel Draw - Number Art Coloring Book  ART_AND_DESIGN     4.3   \n",
              "5                         Paper flowers instructions  ART_AND_DESIGN     4.4   \n",
              "\n",
              "    Reviews  Size    Installs  Type  Price Content_Rating  \\\n",
              "0     159.0  19.0     10000.0  Free    0.0       Everyone   \n",
              "2   87510.0   8.7   5000000.0  Free    0.0       Everyone   \n",
              "3  215644.0  25.0  50000000.0  Free    0.0           Teen   \n",
              "4     967.0   2.8    100000.0  Free    0.0       Everyone   \n",
              "5     167.0   5.6     50000.0  Free    0.0       Everyone   \n",
              "\n",
              "                    Genres Last_Updated         Current_Ver   Android_Ver  \\\n",
              "0             Art & Design   2018-01-07               1.0.0  4.0.3 and up   \n",
              "2             Art & Design   2018-08-01               1.2.4  4.0.3 and up   \n",
              "3             Art & Design   2018-06-08  Varies with device    4.2 and up   \n",
              "4  Art & Design;Creativity   2018-06-20                 1.1    4.4 and up   \n",
              "5             Art & Design   2017-03-26                 1.0    2.3 and up   \n",
              "\n",
              "   LastUpdated_Day  LastUpdated_Month  LastUpdated_Year  \n",
              "0                7                  1              2018  \n",
              "2                1                  8              2018  \n",
              "3                8                  6              2018  \n",
              "4               20                  6              2018  \n",
              "5               26                  3              2017  "
            ],
            "text/html": [
              "\n",
              "  <div id=\"df-8cdd115d-d481-4f24-84ce-1903877f484d\">\n",
              "    <div class=\"colab-df-container\">\n",
              "      <div>\n",
              "<style scoped>\n",
              "    .dataframe tbody tr th:only-of-type {\n",
              "        vertical-align: middle;\n",
              "    }\n",
              "\n",
              "    .dataframe tbody tr th {\n",
              "        vertical-align: top;\n",
              "    }\n",
              "\n",
              "    .dataframe thead th {\n",
              "        text-align: right;\n",
              "    }\n",
              "</style>\n",
              "<table border=\"1\" class=\"dataframe\">\n",
              "  <thead>\n",
              "    <tr style=\"text-align: right;\">\n",
              "      <th></th>\n",
              "      <th>App</th>\n",
              "      <th>Category</th>\n",
              "      <th>Rating</th>\n",
              "      <th>Reviews</th>\n",
              "      <th>Size</th>\n",
              "      <th>Installs</th>\n",
              "      <th>Type</th>\n",
              "      <th>Price</th>\n",
              "      <th>Content_Rating</th>\n",
              "      <th>Genres</th>\n",
              "      <th>Last_Updated</th>\n",
              "      <th>Current_Ver</th>\n",
              "      <th>Android_Ver</th>\n",
              "      <th>LastUpdated_Day</th>\n",
              "      <th>LastUpdated_Month</th>\n",
              "      <th>LastUpdated_Year</th>\n",
              "    </tr>\n",
              "  </thead>\n",
              "  <tbody>\n",
              "    <tr>\n",
              "      <th>0</th>\n",
              "      <td>Photo Editor &amp; Candy Camera &amp; Grid &amp; ScrapBook</td>\n",
              "      <td>ART_AND_DESIGN</td>\n",
              "      <td>4.1</td>\n",
              "      <td>159.0</td>\n",
              "      <td>19.0</td>\n",
              "      <td>10000.0</td>\n",
              "      <td>Free</td>\n",
              "      <td>0.0</td>\n",
              "      <td>Everyone</td>\n",
              "      <td>Art &amp; Design</td>\n",
              "      <td>2018-01-07</td>\n",
              "      <td>1.0.0</td>\n",
              "      <td>4.0.3 and up</td>\n",
              "      <td>7</td>\n",
              "      <td>1</td>\n",
              "      <td>2018</td>\n",
              "    </tr>\n",
              "    <tr>\n",
              "      <th>2</th>\n",
              "      <td>U Launcher Lite – FREE Live Cool Themes, Hide ...</td>\n",
              "      <td>ART_AND_DESIGN</td>\n",
              "      <td>4.7</td>\n",
              "      <td>87510.0</td>\n",
              "      <td>8.7</td>\n",
              "      <td>5000000.0</td>\n",
              "      <td>Free</td>\n",
              "      <td>0.0</td>\n",
              "      <td>Everyone</td>\n",
              "      <td>Art &amp; Design</td>\n",
              "      <td>2018-08-01</td>\n",
              "      <td>1.2.4</td>\n",
              "      <td>4.0.3 and up</td>\n",
              "      <td>1</td>\n",
              "      <td>8</td>\n",
              "      <td>2018</td>\n",
              "    </tr>\n",
              "    <tr>\n",
              "      <th>3</th>\n",
              "      <td>Sketch - Draw &amp; Paint</td>\n",
              "      <td>ART_AND_DESIGN</td>\n",
              "      <td>4.5</td>\n",
              "      <td>215644.0</td>\n",
              "      <td>25.0</td>\n",
              "      <td>50000000.0</td>\n",
              "      <td>Free</td>\n",
              "      <td>0.0</td>\n",
              "      <td>Teen</td>\n",
              "      <td>Art &amp; Design</td>\n",
              "      <td>2018-06-08</td>\n",
              "      <td>Varies with device</td>\n",
              "      <td>4.2 and up</td>\n",
              "      <td>8</td>\n",
              "      <td>6</td>\n",
              "      <td>2018</td>\n",
              "    </tr>\n",
              "    <tr>\n",
              "      <th>4</th>\n",
              "      <td>Pixel Draw - Number Art Coloring Book</td>\n",
              "      <td>ART_AND_DESIGN</td>\n",
              "      <td>4.3</td>\n",
              "      <td>967.0</td>\n",
              "      <td>2.8</td>\n",
              "      <td>100000.0</td>\n",
              "      <td>Free</td>\n",
              "      <td>0.0</td>\n",
              "      <td>Everyone</td>\n",
              "      <td>Art &amp; Design;Creativity</td>\n",
              "      <td>2018-06-20</td>\n",
              "      <td>1.1</td>\n",
              "      <td>4.4 and up</td>\n",
              "      <td>20</td>\n",
              "      <td>6</td>\n",
              "      <td>2018</td>\n",
              "    </tr>\n",
              "    <tr>\n",
              "      <th>5</th>\n",
              "      <td>Paper flowers instructions</td>\n",
              "      <td>ART_AND_DESIGN</td>\n",
              "      <td>4.4</td>\n",
              "      <td>167.0</td>\n",
              "      <td>5.6</td>\n",
              "      <td>50000.0</td>\n",
              "      <td>Free</td>\n",
              "      <td>0.0</td>\n",
              "      <td>Everyone</td>\n",
              "      <td>Art &amp; Design</td>\n",
              "      <td>2017-03-26</td>\n",
              "      <td>1.0</td>\n",
              "      <td>2.3 and up</td>\n",
              "      <td>26</td>\n",
              "      <td>3</td>\n",
              "      <td>2017</td>\n",
              "    </tr>\n",
              "  </tbody>\n",
              "</table>\n",
              "</div>\n",
              "      <button class=\"colab-df-convert\" onclick=\"convertToInteractive('df-8cdd115d-d481-4f24-84ce-1903877f484d')\"\n",
              "              title=\"Convert this dataframe to an interactive table.\"\n",
              "              style=\"display:none;\">\n",
              "        \n",
              "  <svg xmlns=\"http://www.w3.org/2000/svg\" height=\"24px\"viewBox=\"0 0 24 24\"\n",
              "       width=\"24px\">\n",
              "    <path d=\"M0 0h24v24H0V0z\" fill=\"none\"/>\n",
              "    <path d=\"M18.56 5.44l.94 2.06.94-2.06 2.06-.94-2.06-.94-.94-2.06-.94 2.06-2.06.94zm-11 1L8.5 8.5l.94-2.06 2.06-.94-2.06-.94L8.5 2.5l-.94 2.06-2.06.94zm10 10l.94 2.06.94-2.06 2.06-.94-2.06-.94-.94-2.06-.94 2.06-2.06.94z\"/><path d=\"M17.41 7.96l-1.37-1.37c-.4-.4-.92-.59-1.43-.59-.52 0-1.04.2-1.43.59L10.3 9.45l-7.72 7.72c-.78.78-.78 2.05 0 2.83L4 21.41c.39.39.9.59 1.41.59.51 0 1.02-.2 1.41-.59l7.78-7.78 2.81-2.81c.8-.78.8-2.07 0-2.86zM5.41 20L4 18.59l7.72-7.72 1.47 1.35L5.41 20z\"/>\n",
              "  </svg>\n",
              "      </button>\n",
              "      \n",
              "  <style>\n",
              "    .colab-df-container {\n",
              "      display:flex;\n",
              "      flex-wrap:wrap;\n",
              "      gap: 12px;\n",
              "    }\n",
              "\n",
              "    .colab-df-convert {\n",
              "      background-color: #E8F0FE;\n",
              "      border: none;\n",
              "      border-radius: 50%;\n",
              "      cursor: pointer;\n",
              "      display: none;\n",
              "      fill: #1967D2;\n",
              "      height: 32px;\n",
              "      padding: 0 0 0 0;\n",
              "      width: 32px;\n",
              "    }\n",
              "\n",
              "    .colab-df-convert:hover {\n",
              "      background-color: #E2EBFA;\n",
              "      box-shadow: 0px 1px 2px rgba(60, 64, 67, 0.3), 0px 1px 3px 1px rgba(60, 64, 67, 0.15);\n",
              "      fill: #174EA6;\n",
              "    }\n",
              "\n",
              "    [theme=dark] .colab-df-convert {\n",
              "      background-color: #3B4455;\n",
              "      fill: #D2E3FC;\n",
              "    }\n",
              "\n",
              "    [theme=dark] .colab-df-convert:hover {\n",
              "      background-color: #434B5C;\n",
              "      box-shadow: 0px 1px 3px 1px rgba(0, 0, 0, 0.15);\n",
              "      filter: drop-shadow(0px 1px 2px rgba(0, 0, 0, 0.3));\n",
              "      fill: #FFFFFF;\n",
              "    }\n",
              "  </style>\n",
              "\n",
              "      <script>\n",
              "        const buttonEl =\n",
              "          document.querySelector('#df-8cdd115d-d481-4f24-84ce-1903877f484d button.colab-df-convert');\n",
              "        buttonEl.style.display =\n",
              "          google.colab.kernel.accessAllowed ? 'block' : 'none';\n",
              "\n",
              "        async function convertToInteractive(key) {\n",
              "          const element = document.querySelector('#df-8cdd115d-d481-4f24-84ce-1903877f484d');\n",
              "          const dataTable =\n",
              "            await google.colab.kernel.invokeFunction('convertToInteractive',\n",
              "                                                     [key], {});\n",
              "          if (!dataTable) return;\n",
              "\n",
              "          const docLinkHtml = 'Like what you see? Visit the ' +\n",
              "            '<a target=\"_blank\" href=https://colab.research.google.com/notebooks/data_table.ipynb>data table notebook</a>'\n",
              "            + ' to learn more about interactive tables.';\n",
              "          element.innerHTML = '';\n",
              "          dataTable['output_type'] = 'display_data';\n",
              "          await google.colab.output.renderOutput(dataTable, element);\n",
              "          const docLink = document.createElement('div');\n",
              "          docLink.innerHTML = docLinkHtml;\n",
              "          element.appendChild(docLink);\n",
              "        }\n",
              "      </script>\n",
              "    </div>\n",
              "  </div>\n",
              "  "
            ]
          },
          "metadata": {},
          "execution_count": 276
        }
      ]
    },
    {
      "cell_type": "code",
      "source": [
        "# A FINAL CHECK FOR PLAY STORE DATA CLEANING\n",
        "# FIND UNIQUE, NULL COUNT & DATA TYPES\n",
        "\n",
        "print('Shape of Play_Store_Data is :', ps_data_df.shape)\n",
        "\n",
        "def playstoreinfo1():\n",
        "  temp_ps = pd.DataFrame(index=ps_data_df.columns)\n",
        "  temp_ps['DataType'] = ps_data_df.dtypes\n",
        "  temp_ps['Non-Null_Values'] = ps_data_df.count()\n",
        "  temp_ps['Unique_Values'] = ps_data_df.nunique()\n",
        "  temp_ps['NaN_Values'] = ps_data_df.isnull().sum()\n",
        "  temp_ps['NaN_Values_Percentage'] = (temp_ps['NaN_Values']/len(ps_data_df))*100\n",
        "  return temp_ps\n",
        "playstoreinfo1()"
      ],
      "metadata": {
        "colab": {
          "base_uri": "https://localhost:8080/",
          "height": 568
        },
        "id": "1C8LZBTGXJr-",
        "outputId": "87e1234f-afdc-417e-c2c1-14185c85eda1"
      },
      "execution_count": 277,
      "outputs": [
        {
          "output_type": "stream",
          "name": "stdout",
          "text": [
            "Shape of Play_Store_Data is : (9660, 16)\n"
          ]
        },
        {
          "output_type": "execute_result",
          "data": {
            "text/plain": [
              "                         DataType  Non-Null_Values  Unique_Values  NaN_Values  \\\n",
              "App                        object             9660           9660           0   \n",
              "Category                   object             9660             33           0   \n",
              "Rating                    float64             9660             39           0   \n",
              "Reviews                   float64             9660           5332           0   \n",
              "Size                      float64             9660            459           0   \n",
              "Installs                  float64             9660             20           0   \n",
              "Type                       object             9660              2           0   \n",
              "Price                     float64             9660             92           0   \n",
              "Content_Rating             object             9660              5           0   \n",
              "Genres                     object             9660            118           0   \n",
              "Last_Updated       datetime64[ns]             9660           1377           0   \n",
              "Current_Ver                object             9660           2818           0   \n",
              "Android_Ver                object             9660             33           0   \n",
              "LastUpdated_Day             int64             9660             31           0   \n",
              "LastUpdated_Month           int64             9660             12           0   \n",
              "LastUpdated_Year            int64             9660              9           0   \n",
              "\n",
              "                   NaN_Values_Percentage  \n",
              "App                                  0.0  \n",
              "Category                             0.0  \n",
              "Rating                               0.0  \n",
              "Reviews                              0.0  \n",
              "Size                                 0.0  \n",
              "Installs                             0.0  \n",
              "Type                                 0.0  \n",
              "Price                                0.0  \n",
              "Content_Rating                       0.0  \n",
              "Genres                               0.0  \n",
              "Last_Updated                         0.0  \n",
              "Current_Ver                          0.0  \n",
              "Android_Ver                          0.0  \n",
              "LastUpdated_Day                      0.0  \n",
              "LastUpdated_Month                    0.0  \n",
              "LastUpdated_Year                     0.0  "
            ],
            "text/html": [
              "\n",
              "  <div id=\"df-eb23aca2-d770-46b5-b0c7-4fad93a5c4ed\">\n",
              "    <div class=\"colab-df-container\">\n",
              "      <div>\n",
              "<style scoped>\n",
              "    .dataframe tbody tr th:only-of-type {\n",
              "        vertical-align: middle;\n",
              "    }\n",
              "\n",
              "    .dataframe tbody tr th {\n",
              "        vertical-align: top;\n",
              "    }\n",
              "\n",
              "    .dataframe thead th {\n",
              "        text-align: right;\n",
              "    }\n",
              "</style>\n",
              "<table border=\"1\" class=\"dataframe\">\n",
              "  <thead>\n",
              "    <tr style=\"text-align: right;\">\n",
              "      <th></th>\n",
              "      <th>DataType</th>\n",
              "      <th>Non-Null_Values</th>\n",
              "      <th>Unique_Values</th>\n",
              "      <th>NaN_Values</th>\n",
              "      <th>NaN_Values_Percentage</th>\n",
              "    </tr>\n",
              "  </thead>\n",
              "  <tbody>\n",
              "    <tr>\n",
              "      <th>App</th>\n",
              "      <td>object</td>\n",
              "      <td>9660</td>\n",
              "      <td>9660</td>\n",
              "      <td>0</td>\n",
              "      <td>0.0</td>\n",
              "    </tr>\n",
              "    <tr>\n",
              "      <th>Category</th>\n",
              "      <td>object</td>\n",
              "      <td>9660</td>\n",
              "      <td>33</td>\n",
              "      <td>0</td>\n",
              "      <td>0.0</td>\n",
              "    </tr>\n",
              "    <tr>\n",
              "      <th>Rating</th>\n",
              "      <td>float64</td>\n",
              "      <td>9660</td>\n",
              "      <td>39</td>\n",
              "      <td>0</td>\n",
              "      <td>0.0</td>\n",
              "    </tr>\n",
              "    <tr>\n",
              "      <th>Reviews</th>\n",
              "      <td>float64</td>\n",
              "      <td>9660</td>\n",
              "      <td>5332</td>\n",
              "      <td>0</td>\n",
              "      <td>0.0</td>\n",
              "    </tr>\n",
              "    <tr>\n",
              "      <th>Size</th>\n",
              "      <td>float64</td>\n",
              "      <td>9660</td>\n",
              "      <td>459</td>\n",
              "      <td>0</td>\n",
              "      <td>0.0</td>\n",
              "    </tr>\n",
              "    <tr>\n",
              "      <th>Installs</th>\n",
              "      <td>float64</td>\n",
              "      <td>9660</td>\n",
              "      <td>20</td>\n",
              "      <td>0</td>\n",
              "      <td>0.0</td>\n",
              "    </tr>\n",
              "    <tr>\n",
              "      <th>Type</th>\n",
              "      <td>object</td>\n",
              "      <td>9660</td>\n",
              "      <td>2</td>\n",
              "      <td>0</td>\n",
              "      <td>0.0</td>\n",
              "    </tr>\n",
              "    <tr>\n",
              "      <th>Price</th>\n",
              "      <td>float64</td>\n",
              "      <td>9660</td>\n",
              "      <td>92</td>\n",
              "      <td>0</td>\n",
              "      <td>0.0</td>\n",
              "    </tr>\n",
              "    <tr>\n",
              "      <th>Content_Rating</th>\n",
              "      <td>object</td>\n",
              "      <td>9660</td>\n",
              "      <td>5</td>\n",
              "      <td>0</td>\n",
              "      <td>0.0</td>\n",
              "    </tr>\n",
              "    <tr>\n",
              "      <th>Genres</th>\n",
              "      <td>object</td>\n",
              "      <td>9660</td>\n",
              "      <td>118</td>\n",
              "      <td>0</td>\n",
              "      <td>0.0</td>\n",
              "    </tr>\n",
              "    <tr>\n",
              "      <th>Last_Updated</th>\n",
              "      <td>datetime64[ns]</td>\n",
              "      <td>9660</td>\n",
              "      <td>1377</td>\n",
              "      <td>0</td>\n",
              "      <td>0.0</td>\n",
              "    </tr>\n",
              "    <tr>\n",
              "      <th>Current_Ver</th>\n",
              "      <td>object</td>\n",
              "      <td>9660</td>\n",
              "      <td>2818</td>\n",
              "      <td>0</td>\n",
              "      <td>0.0</td>\n",
              "    </tr>\n",
              "    <tr>\n",
              "      <th>Android_Ver</th>\n",
              "      <td>object</td>\n",
              "      <td>9660</td>\n",
              "      <td>33</td>\n",
              "      <td>0</td>\n",
              "      <td>0.0</td>\n",
              "    </tr>\n",
              "    <tr>\n",
              "      <th>LastUpdated_Day</th>\n",
              "      <td>int64</td>\n",
              "      <td>9660</td>\n",
              "      <td>31</td>\n",
              "      <td>0</td>\n",
              "      <td>0.0</td>\n",
              "    </tr>\n",
              "    <tr>\n",
              "      <th>LastUpdated_Month</th>\n",
              "      <td>int64</td>\n",
              "      <td>9660</td>\n",
              "      <td>12</td>\n",
              "      <td>0</td>\n",
              "      <td>0.0</td>\n",
              "    </tr>\n",
              "    <tr>\n",
              "      <th>LastUpdated_Year</th>\n",
              "      <td>int64</td>\n",
              "      <td>9660</td>\n",
              "      <td>9</td>\n",
              "      <td>0</td>\n",
              "      <td>0.0</td>\n",
              "    </tr>\n",
              "  </tbody>\n",
              "</table>\n",
              "</div>\n",
              "      <button class=\"colab-df-convert\" onclick=\"convertToInteractive('df-eb23aca2-d770-46b5-b0c7-4fad93a5c4ed')\"\n",
              "              title=\"Convert this dataframe to an interactive table.\"\n",
              "              style=\"display:none;\">\n",
              "        \n",
              "  <svg xmlns=\"http://www.w3.org/2000/svg\" height=\"24px\"viewBox=\"0 0 24 24\"\n",
              "       width=\"24px\">\n",
              "    <path d=\"M0 0h24v24H0V0z\" fill=\"none\"/>\n",
              "    <path d=\"M18.56 5.44l.94 2.06.94-2.06 2.06-.94-2.06-.94-.94-2.06-.94 2.06-2.06.94zm-11 1L8.5 8.5l.94-2.06 2.06-.94-2.06-.94L8.5 2.5l-.94 2.06-2.06.94zm10 10l.94 2.06.94-2.06 2.06-.94-2.06-.94-.94-2.06-.94 2.06-2.06.94z\"/><path d=\"M17.41 7.96l-1.37-1.37c-.4-.4-.92-.59-1.43-.59-.52 0-1.04.2-1.43.59L10.3 9.45l-7.72 7.72c-.78.78-.78 2.05 0 2.83L4 21.41c.39.39.9.59 1.41.59.51 0 1.02-.2 1.41-.59l7.78-7.78 2.81-2.81c.8-.78.8-2.07 0-2.86zM5.41 20L4 18.59l7.72-7.72 1.47 1.35L5.41 20z\"/>\n",
              "  </svg>\n",
              "      </button>\n",
              "      \n",
              "  <style>\n",
              "    .colab-df-container {\n",
              "      display:flex;\n",
              "      flex-wrap:wrap;\n",
              "      gap: 12px;\n",
              "    }\n",
              "\n",
              "    .colab-df-convert {\n",
              "      background-color: #E8F0FE;\n",
              "      border: none;\n",
              "      border-radius: 50%;\n",
              "      cursor: pointer;\n",
              "      display: none;\n",
              "      fill: #1967D2;\n",
              "      height: 32px;\n",
              "      padding: 0 0 0 0;\n",
              "      width: 32px;\n",
              "    }\n",
              "\n",
              "    .colab-df-convert:hover {\n",
              "      background-color: #E2EBFA;\n",
              "      box-shadow: 0px 1px 2px rgba(60, 64, 67, 0.3), 0px 1px 3px 1px rgba(60, 64, 67, 0.15);\n",
              "      fill: #174EA6;\n",
              "    }\n",
              "\n",
              "    [theme=dark] .colab-df-convert {\n",
              "      background-color: #3B4455;\n",
              "      fill: #D2E3FC;\n",
              "    }\n",
              "\n",
              "    [theme=dark] .colab-df-convert:hover {\n",
              "      background-color: #434B5C;\n",
              "      box-shadow: 0px 1px 3px 1px rgba(0, 0, 0, 0.15);\n",
              "      filter: drop-shadow(0px 1px 2px rgba(0, 0, 0, 0.3));\n",
              "      fill: #FFFFFF;\n",
              "    }\n",
              "  </style>\n",
              "\n",
              "      <script>\n",
              "        const buttonEl =\n",
              "          document.querySelector('#df-eb23aca2-d770-46b5-b0c7-4fad93a5c4ed button.colab-df-convert');\n",
              "        buttonEl.style.display =\n",
              "          google.colab.kernel.accessAllowed ? 'block' : 'none';\n",
              "\n",
              "        async function convertToInteractive(key) {\n",
              "          const element = document.querySelector('#df-eb23aca2-d770-46b5-b0c7-4fad93a5c4ed');\n",
              "          const dataTable =\n",
              "            await google.colab.kernel.invokeFunction('convertToInteractive',\n",
              "                                                     [key], {});\n",
              "          if (!dataTable) return;\n",
              "\n",
              "          const docLinkHtml = 'Like what you see? Visit the ' +\n",
              "            '<a target=\"_blank\" href=https://colab.research.google.com/notebooks/data_table.ipynb>data table notebook</a>'\n",
              "            + ' to learn more about interactive tables.';\n",
              "          element.innerHTML = '';\n",
              "          dataTable['output_type'] = 'display_data';\n",
              "          await google.colab.output.renderOutput(dataTable, element);\n",
              "          const docLink = document.createElement('div');\n",
              "          docLink.innerHTML = docLinkHtml;\n",
              "          element.appendChild(docLink);\n",
              "        }\n",
              "      </script>\n",
              "    </div>\n",
              "  </div>\n",
              "  "
            ]
          },
          "metadata": {},
          "execution_count": 277
        }
      ]
    },
    {
      "cell_type": "markdown",
      "source": [
        "So, Now we can see, Play Store Dataset is ready to process\n",
        "1. No Null Values\n",
        "2. Correct Datatypes\n",
        "3. Same no of records in all columns\n",
        "-----"
      ],
      "metadata": {
        "id": "CJooZjdQXSns"
      }
    },
    {
      "cell_type": "markdown",
      "source": [
        "# **App Business Model Analysis (Free & Paid)**"
      ],
      "metadata": {
        "id": "wqCK1SeDa7Up"
      }
    },
    {
      "cell_type": "markdown",
      "source": [
        "Finalizing Business Model is one of the important cornerstone for any Business, hence before proceeding further with App Development, one need to finalize appropriate Mobile App Business Model (Free / Paid) for the desired \"Success\" of his / her App Business\n",
        "\n",
        "There are two types of App Development Business Models. \n",
        "1. Free Apps\n",
        "2. Paid Apps\n",
        "\n",
        "Will follow below stpes to finalize the same,\n",
        "\n",
        "1. Analyse available statistical data for both the Apps (Free & Paid). \n",
        "\n",
        "2. Understand their Pro-Cons with the help of stats\n",
        "\n",
        "3. Recommend best Mobile App Business Model and Successful Genres / Categories / Apps to App Makers Management Team."
      ],
      "metadata": {
        "id": "KRkC76AdbWVd"
      }
    },
    {
      "cell_type": "markdown",
      "source": [
        "**App Type wise - Market Share**"
      ],
      "metadata": {
        "id": "X39oilJzbcBu"
      }
    },
    {
      "cell_type": "code",
      "source": [
        "# Let's check Market share of Paid & Free Apps on Play Store\n",
        "\n",
        "app_market_pivot = pd.pivot_table(ps_data_df, values=['App'], index='Type',aggfunc='count')\n",
        "app_market_pivot"
      ],
      "metadata": {
        "colab": {
          "base_uri": "https://localhost:8080/",
          "height": 143
        },
        "id": "JzdtzwMabgnR",
        "outputId": "cdaed8f8-e91c-4b32-b69c-d6d1f3a22119"
      },
      "execution_count": 99,
      "outputs": [
        {
          "output_type": "execute_result",
          "data": {
            "text/plain": [
              "       App\n",
              "Type      \n",
              "Free  8906\n",
              "Paid   754"
            ],
            "text/html": [
              "\n",
              "  <div id=\"df-7b3aea6a-71e9-4139-a73b-e5bcdadcdfcd\">\n",
              "    <div class=\"colab-df-container\">\n",
              "      <div>\n",
              "<style scoped>\n",
              "    .dataframe tbody tr th:only-of-type {\n",
              "        vertical-align: middle;\n",
              "    }\n",
              "\n",
              "    .dataframe tbody tr th {\n",
              "        vertical-align: top;\n",
              "    }\n",
              "\n",
              "    .dataframe thead th {\n",
              "        text-align: right;\n",
              "    }\n",
              "</style>\n",
              "<table border=\"1\" class=\"dataframe\">\n",
              "  <thead>\n",
              "    <tr style=\"text-align: right;\">\n",
              "      <th></th>\n",
              "      <th>App</th>\n",
              "    </tr>\n",
              "    <tr>\n",
              "      <th>Type</th>\n",
              "      <th></th>\n",
              "    </tr>\n",
              "  </thead>\n",
              "  <tbody>\n",
              "    <tr>\n",
              "      <th>Free</th>\n",
              "      <td>8906</td>\n",
              "    </tr>\n",
              "    <tr>\n",
              "      <th>Paid</th>\n",
              "      <td>754</td>\n",
              "    </tr>\n",
              "  </tbody>\n",
              "</table>\n",
              "</div>\n",
              "      <button class=\"colab-df-convert\" onclick=\"convertToInteractive('df-7b3aea6a-71e9-4139-a73b-e5bcdadcdfcd')\"\n",
              "              title=\"Convert this dataframe to an interactive table.\"\n",
              "              style=\"display:none;\">\n",
              "        \n",
              "  <svg xmlns=\"http://www.w3.org/2000/svg\" height=\"24px\"viewBox=\"0 0 24 24\"\n",
              "       width=\"24px\">\n",
              "    <path d=\"M0 0h24v24H0V0z\" fill=\"none\"/>\n",
              "    <path d=\"M18.56 5.44l.94 2.06.94-2.06 2.06-.94-2.06-.94-.94-2.06-.94 2.06-2.06.94zm-11 1L8.5 8.5l.94-2.06 2.06-.94-2.06-.94L8.5 2.5l-.94 2.06-2.06.94zm10 10l.94 2.06.94-2.06 2.06-.94-2.06-.94-.94-2.06-.94 2.06-2.06.94z\"/><path d=\"M17.41 7.96l-1.37-1.37c-.4-.4-.92-.59-1.43-.59-.52 0-1.04.2-1.43.59L10.3 9.45l-7.72 7.72c-.78.78-.78 2.05 0 2.83L4 21.41c.39.39.9.59 1.41.59.51 0 1.02-.2 1.41-.59l7.78-7.78 2.81-2.81c.8-.78.8-2.07 0-2.86zM5.41 20L4 18.59l7.72-7.72 1.47 1.35L5.41 20z\"/>\n",
              "  </svg>\n",
              "      </button>\n",
              "      \n",
              "  <style>\n",
              "    .colab-df-container {\n",
              "      display:flex;\n",
              "      flex-wrap:wrap;\n",
              "      gap: 12px;\n",
              "    }\n",
              "\n",
              "    .colab-df-convert {\n",
              "      background-color: #E8F0FE;\n",
              "      border: none;\n",
              "      border-radius: 50%;\n",
              "      cursor: pointer;\n",
              "      display: none;\n",
              "      fill: #1967D2;\n",
              "      height: 32px;\n",
              "      padding: 0 0 0 0;\n",
              "      width: 32px;\n",
              "    }\n",
              "\n",
              "    .colab-df-convert:hover {\n",
              "      background-color: #E2EBFA;\n",
              "      box-shadow: 0px 1px 2px rgba(60, 64, 67, 0.3), 0px 1px 3px 1px rgba(60, 64, 67, 0.15);\n",
              "      fill: #174EA6;\n",
              "    }\n",
              "\n",
              "    [theme=dark] .colab-df-convert {\n",
              "      background-color: #3B4455;\n",
              "      fill: #D2E3FC;\n",
              "    }\n",
              "\n",
              "    [theme=dark] .colab-df-convert:hover {\n",
              "      background-color: #434B5C;\n",
              "      box-shadow: 0px 1px 3px 1px rgba(0, 0, 0, 0.15);\n",
              "      filter: drop-shadow(0px 1px 2px rgba(0, 0, 0, 0.3));\n",
              "      fill: #FFFFFF;\n",
              "    }\n",
              "  </style>\n",
              "\n",
              "      <script>\n",
              "        const buttonEl =\n",
              "          document.querySelector('#df-7b3aea6a-71e9-4139-a73b-e5bcdadcdfcd button.colab-df-convert');\n",
              "        buttonEl.style.display =\n",
              "          google.colab.kernel.accessAllowed ? 'block' : 'none';\n",
              "\n",
              "        async function convertToInteractive(key) {\n",
              "          const element = document.querySelector('#df-7b3aea6a-71e9-4139-a73b-e5bcdadcdfcd');\n",
              "          const dataTable =\n",
              "            await google.colab.kernel.invokeFunction('convertToInteractive',\n",
              "                                                     [key], {});\n",
              "          if (!dataTable) return;\n",
              "\n",
              "          const docLinkHtml = 'Like what you see? Visit the ' +\n",
              "            '<a target=\"_blank\" href=https://colab.research.google.com/notebooks/data_table.ipynb>data table notebook</a>'\n",
              "            + ' to learn more about interactive tables.';\n",
              "          element.innerHTML = '';\n",
              "          dataTable['output_type'] = 'display_data';\n",
              "          await google.colab.output.renderOutput(dataTable, element);\n",
              "          const docLink = document.createElement('div');\n",
              "          docLink.innerHTML = docLinkHtml;\n",
              "          element.appendChild(docLink);\n",
              "        }\n",
              "      </script>\n",
              "    </div>\n",
              "  </div>\n",
              "  "
            ]
          },
          "metadata": {},
          "execution_count": 99
        }
      ]
    },
    {
      "cell_type": "code",
      "source": [
        "#Let's understand Market Share through a pie chart visualization\n",
        "# fig=plt.figure(figsize=(10,5))\n",
        "# plt.pie(app_market_pivot,labels=App,explode=[0.02,0.1],autopct='%.3f%%')\n",
        "# plt.title(\"App Type wise Market Share\",fontsize=15,fontweight='bold')                           #showing graph title\n",
        "# plt.legend(fontsize=14)                                                                         #show legend\n",
        "# plt.show()"
      ],
      "metadata": {
        "id": "vuQuuRcWbmvW"
      },
      "execution_count": 100,
      "outputs": []
    },
    {
      "cell_type": "markdown",
      "source": [
        "**App Type wise - Quantitative Analysis**"
      ],
      "metadata": {
        "id": "Yqtu2l7xbvG-"
      }
    },
    {
      "cell_type": "code",
      "source": [
        "# Let's summaries related App Business parameters for further understanding of Business Models\n",
        "\n",
        "free_paid_stat_df = ps_data_df.groupby(['Type']).mean()\n",
        "free_paid_stat_df"
      ],
      "metadata": {
        "colab": {
          "base_uri": "https://localhost:8080/",
          "height": 143
        },
        "id": "Y3m_XYTBbs-0",
        "outputId": "2b0f8ac9-d048-411f-d166-e84a1b729e1f"
      },
      "execution_count": 101,
      "outputs": [
        {
          "output_type": "execute_result",
          "data": {
            "text/plain": [
              "        Rating        Reviews       Size      Installs      Price  \\\n",
              "Type                                                                \n",
              "Free  4.185616  234228.538738  19.409362  8.446808e+06   0.000000   \n",
              "Paid  4.269761    8746.374005  18.385809  7.607929e+04  14.055902   \n",
              "\n",
              "      LastUpdated_Day  LastUpdated_Month  LastUpdated_Year  \n",
              "Type                                                        \n",
              "Free        15.634965           6.367617       2017.402650  \n",
              "Paid        15.555703           6.316976       2016.677719  "
            ],
            "text/html": [
              "\n",
              "  <div id=\"df-b41980eb-3f3b-4e94-a1f9-7698efcf6e64\">\n",
              "    <div class=\"colab-df-container\">\n",
              "      <div>\n",
              "<style scoped>\n",
              "    .dataframe tbody tr th:only-of-type {\n",
              "        vertical-align: middle;\n",
              "    }\n",
              "\n",
              "    .dataframe tbody tr th {\n",
              "        vertical-align: top;\n",
              "    }\n",
              "\n",
              "    .dataframe thead th {\n",
              "        text-align: right;\n",
              "    }\n",
              "</style>\n",
              "<table border=\"1\" class=\"dataframe\">\n",
              "  <thead>\n",
              "    <tr style=\"text-align: right;\">\n",
              "      <th></th>\n",
              "      <th>Rating</th>\n",
              "      <th>Reviews</th>\n",
              "      <th>Size</th>\n",
              "      <th>Installs</th>\n",
              "      <th>Price</th>\n",
              "      <th>LastUpdated_Day</th>\n",
              "      <th>LastUpdated_Month</th>\n",
              "      <th>LastUpdated_Year</th>\n",
              "    </tr>\n",
              "    <tr>\n",
              "      <th>Type</th>\n",
              "      <th></th>\n",
              "      <th></th>\n",
              "      <th></th>\n",
              "      <th></th>\n",
              "      <th></th>\n",
              "      <th></th>\n",
              "      <th></th>\n",
              "      <th></th>\n",
              "    </tr>\n",
              "  </thead>\n",
              "  <tbody>\n",
              "    <tr>\n",
              "      <th>Free</th>\n",
              "      <td>4.185616</td>\n",
              "      <td>234228.538738</td>\n",
              "      <td>19.409362</td>\n",
              "      <td>8.446808e+06</td>\n",
              "      <td>0.000000</td>\n",
              "      <td>15.634965</td>\n",
              "      <td>6.367617</td>\n",
              "      <td>2017.402650</td>\n",
              "    </tr>\n",
              "    <tr>\n",
              "      <th>Paid</th>\n",
              "      <td>4.269761</td>\n",
              "      <td>8746.374005</td>\n",
              "      <td>18.385809</td>\n",
              "      <td>7.607929e+04</td>\n",
              "      <td>14.055902</td>\n",
              "      <td>15.555703</td>\n",
              "      <td>6.316976</td>\n",
              "      <td>2016.677719</td>\n",
              "    </tr>\n",
              "  </tbody>\n",
              "</table>\n",
              "</div>\n",
              "      <button class=\"colab-df-convert\" onclick=\"convertToInteractive('df-b41980eb-3f3b-4e94-a1f9-7698efcf6e64')\"\n",
              "              title=\"Convert this dataframe to an interactive table.\"\n",
              "              style=\"display:none;\">\n",
              "        \n",
              "  <svg xmlns=\"http://www.w3.org/2000/svg\" height=\"24px\"viewBox=\"0 0 24 24\"\n",
              "       width=\"24px\">\n",
              "    <path d=\"M0 0h24v24H0V0z\" fill=\"none\"/>\n",
              "    <path d=\"M18.56 5.44l.94 2.06.94-2.06 2.06-.94-2.06-.94-.94-2.06-.94 2.06-2.06.94zm-11 1L8.5 8.5l.94-2.06 2.06-.94-2.06-.94L8.5 2.5l-.94 2.06-2.06.94zm10 10l.94 2.06.94-2.06 2.06-.94-2.06-.94-.94-2.06-.94 2.06-2.06.94z\"/><path d=\"M17.41 7.96l-1.37-1.37c-.4-.4-.92-.59-1.43-.59-.52 0-1.04.2-1.43.59L10.3 9.45l-7.72 7.72c-.78.78-.78 2.05 0 2.83L4 21.41c.39.39.9.59 1.41.59.51 0 1.02-.2 1.41-.59l7.78-7.78 2.81-2.81c.8-.78.8-2.07 0-2.86zM5.41 20L4 18.59l7.72-7.72 1.47 1.35L5.41 20z\"/>\n",
              "  </svg>\n",
              "      </button>\n",
              "      \n",
              "  <style>\n",
              "    .colab-df-container {\n",
              "      display:flex;\n",
              "      flex-wrap:wrap;\n",
              "      gap: 12px;\n",
              "    }\n",
              "\n",
              "    .colab-df-convert {\n",
              "      background-color: #E8F0FE;\n",
              "      border: none;\n",
              "      border-radius: 50%;\n",
              "      cursor: pointer;\n",
              "      display: none;\n",
              "      fill: #1967D2;\n",
              "      height: 32px;\n",
              "      padding: 0 0 0 0;\n",
              "      width: 32px;\n",
              "    }\n",
              "\n",
              "    .colab-df-convert:hover {\n",
              "      background-color: #E2EBFA;\n",
              "      box-shadow: 0px 1px 2px rgba(60, 64, 67, 0.3), 0px 1px 3px 1px rgba(60, 64, 67, 0.15);\n",
              "      fill: #174EA6;\n",
              "    }\n",
              "\n",
              "    [theme=dark] .colab-df-convert {\n",
              "      background-color: #3B4455;\n",
              "      fill: #D2E3FC;\n",
              "    }\n",
              "\n",
              "    [theme=dark] .colab-df-convert:hover {\n",
              "      background-color: #434B5C;\n",
              "      box-shadow: 0px 1px 3px 1px rgba(0, 0, 0, 0.15);\n",
              "      filter: drop-shadow(0px 1px 2px rgba(0, 0, 0, 0.3));\n",
              "      fill: #FFFFFF;\n",
              "    }\n",
              "  </style>\n",
              "\n",
              "      <script>\n",
              "        const buttonEl =\n",
              "          document.querySelector('#df-b41980eb-3f3b-4e94-a1f9-7698efcf6e64 button.colab-df-convert');\n",
              "        buttonEl.style.display =\n",
              "          google.colab.kernel.accessAllowed ? 'block' : 'none';\n",
              "\n",
              "        async function convertToInteractive(key) {\n",
              "          const element = document.querySelector('#df-b41980eb-3f3b-4e94-a1f9-7698efcf6e64');\n",
              "          const dataTable =\n",
              "            await google.colab.kernel.invokeFunction('convertToInteractive',\n",
              "                                                     [key], {});\n",
              "          if (!dataTable) return;\n",
              "\n",
              "          const docLinkHtml = 'Like what you see? Visit the ' +\n",
              "            '<a target=\"_blank\" href=https://colab.research.google.com/notebooks/data_table.ipynb>data table notebook</a>'\n",
              "            + ' to learn more about interactive tables.';\n",
              "          element.innerHTML = '';\n",
              "          dataTable['output_type'] = 'display_data';\n",
              "          await google.colab.output.renderOutput(dataTable, element);\n",
              "          const docLink = document.createElement('div');\n",
              "          docLink.innerHTML = docLinkHtml;\n",
              "          element.appendChild(docLink);\n",
              "        }\n",
              "      </script>\n",
              "    </div>\n",
              "  </div>\n",
              "  "
            ]
          },
          "metadata": {},
          "execution_count": 101
        }
      ]
    },
    {
      "cell_type": "markdown",
      "source": [
        "**CHECK - LINKED WITH MERGED SENTIMENT DATA**"
      ],
      "metadata": {
        "id": "4FJHrWaWcN4q"
      }
    },
    {
      "cell_type": "code",
      "source": [
        "# free_paid_sentiment_pivot = pd.pivot_table(merg_sent_df, values=['Sentiment_Polarity','Sentiment_Subjectivity'], index='Type',aggfunc='mean')\n",
        "# free_paid_sentiment_pivot"
      ],
      "metadata": {
        "id": "xxX7WzoHb-xM"
      },
      "execution_count": 102,
      "outputs": []
    },
    {
      "cell_type": "code",
      "source": [
        "paid_app_df = ps_data_df[ps_data_df['Type'] == 'Paid']\n",
        "\n",
        "paid_app_df[[\"Price\"]].describe(include=\"all\")"
      ],
      "metadata": {
        "colab": {
          "base_uri": "https://localhost:8080/",
          "height": 300
        },
        "id": "SovzL7aJcWid",
        "outputId": "23bfbc59-1001-4b5f-fa7c-7ebc33422fea"
      },
      "execution_count": 103,
      "outputs": [
        {
          "output_type": "execute_result",
          "data": {
            "text/plain": [
              "            Price\n",
              "count  754.000000\n",
              "mean    14.055902\n",
              "std     58.821000\n",
              "min      0.990000\n",
              "25%      1.490000\n",
              "50%      2.990000\n",
              "75%      4.990000\n",
              "max    400.000000"
            ],
            "text/html": [
              "\n",
              "  <div id=\"df-e636e5c0-9ce4-4b63-8157-557c5ecaa70f\">\n",
              "    <div class=\"colab-df-container\">\n",
              "      <div>\n",
              "<style scoped>\n",
              "    .dataframe tbody tr th:only-of-type {\n",
              "        vertical-align: middle;\n",
              "    }\n",
              "\n",
              "    .dataframe tbody tr th {\n",
              "        vertical-align: top;\n",
              "    }\n",
              "\n",
              "    .dataframe thead th {\n",
              "        text-align: right;\n",
              "    }\n",
              "</style>\n",
              "<table border=\"1\" class=\"dataframe\">\n",
              "  <thead>\n",
              "    <tr style=\"text-align: right;\">\n",
              "      <th></th>\n",
              "      <th>Price</th>\n",
              "    </tr>\n",
              "  </thead>\n",
              "  <tbody>\n",
              "    <tr>\n",
              "      <th>count</th>\n",
              "      <td>754.000000</td>\n",
              "    </tr>\n",
              "    <tr>\n",
              "      <th>mean</th>\n",
              "      <td>14.055902</td>\n",
              "    </tr>\n",
              "    <tr>\n",
              "      <th>std</th>\n",
              "      <td>58.821000</td>\n",
              "    </tr>\n",
              "    <tr>\n",
              "      <th>min</th>\n",
              "      <td>0.990000</td>\n",
              "    </tr>\n",
              "    <tr>\n",
              "      <th>25%</th>\n",
              "      <td>1.490000</td>\n",
              "    </tr>\n",
              "    <tr>\n",
              "      <th>50%</th>\n",
              "      <td>2.990000</td>\n",
              "    </tr>\n",
              "    <tr>\n",
              "      <th>75%</th>\n",
              "      <td>4.990000</td>\n",
              "    </tr>\n",
              "    <tr>\n",
              "      <th>max</th>\n",
              "      <td>400.000000</td>\n",
              "    </tr>\n",
              "  </tbody>\n",
              "</table>\n",
              "</div>\n",
              "      <button class=\"colab-df-convert\" onclick=\"convertToInteractive('df-e636e5c0-9ce4-4b63-8157-557c5ecaa70f')\"\n",
              "              title=\"Convert this dataframe to an interactive table.\"\n",
              "              style=\"display:none;\">\n",
              "        \n",
              "  <svg xmlns=\"http://www.w3.org/2000/svg\" height=\"24px\"viewBox=\"0 0 24 24\"\n",
              "       width=\"24px\">\n",
              "    <path d=\"M0 0h24v24H0V0z\" fill=\"none\"/>\n",
              "    <path d=\"M18.56 5.44l.94 2.06.94-2.06 2.06-.94-2.06-.94-.94-2.06-.94 2.06-2.06.94zm-11 1L8.5 8.5l.94-2.06 2.06-.94-2.06-.94L8.5 2.5l-.94 2.06-2.06.94zm10 10l.94 2.06.94-2.06 2.06-.94-2.06-.94-.94-2.06-.94 2.06-2.06.94z\"/><path d=\"M17.41 7.96l-1.37-1.37c-.4-.4-.92-.59-1.43-.59-.52 0-1.04.2-1.43.59L10.3 9.45l-7.72 7.72c-.78.78-.78 2.05 0 2.83L4 21.41c.39.39.9.59 1.41.59.51 0 1.02-.2 1.41-.59l7.78-7.78 2.81-2.81c.8-.78.8-2.07 0-2.86zM5.41 20L4 18.59l7.72-7.72 1.47 1.35L5.41 20z\"/>\n",
              "  </svg>\n",
              "      </button>\n",
              "      \n",
              "  <style>\n",
              "    .colab-df-container {\n",
              "      display:flex;\n",
              "      flex-wrap:wrap;\n",
              "      gap: 12px;\n",
              "    }\n",
              "\n",
              "    .colab-df-convert {\n",
              "      background-color: #E8F0FE;\n",
              "      border: none;\n",
              "      border-radius: 50%;\n",
              "      cursor: pointer;\n",
              "      display: none;\n",
              "      fill: #1967D2;\n",
              "      height: 32px;\n",
              "      padding: 0 0 0 0;\n",
              "      width: 32px;\n",
              "    }\n",
              "\n",
              "    .colab-df-convert:hover {\n",
              "      background-color: #E2EBFA;\n",
              "      box-shadow: 0px 1px 2px rgba(60, 64, 67, 0.3), 0px 1px 3px 1px rgba(60, 64, 67, 0.15);\n",
              "      fill: #174EA6;\n",
              "    }\n",
              "\n",
              "    [theme=dark] .colab-df-convert {\n",
              "      background-color: #3B4455;\n",
              "      fill: #D2E3FC;\n",
              "    }\n",
              "\n",
              "    [theme=dark] .colab-df-convert:hover {\n",
              "      background-color: #434B5C;\n",
              "      box-shadow: 0px 1px 3px 1px rgba(0, 0, 0, 0.15);\n",
              "      filter: drop-shadow(0px 1px 2px rgba(0, 0, 0, 0.3));\n",
              "      fill: #FFFFFF;\n",
              "    }\n",
              "  </style>\n",
              "\n",
              "      <script>\n",
              "        const buttonEl =\n",
              "          document.querySelector('#df-e636e5c0-9ce4-4b63-8157-557c5ecaa70f button.colab-df-convert');\n",
              "        buttonEl.style.display =\n",
              "          google.colab.kernel.accessAllowed ? 'block' : 'none';\n",
              "\n",
              "        async function convertToInteractive(key) {\n",
              "          const element = document.querySelector('#df-e636e5c0-9ce4-4b63-8157-557c5ecaa70f');\n",
              "          const dataTable =\n",
              "            await google.colab.kernel.invokeFunction('convertToInteractive',\n",
              "                                                     [key], {});\n",
              "          if (!dataTable) return;\n",
              "\n",
              "          const docLinkHtml = 'Like what you see? Visit the ' +\n",
              "            '<a target=\"_blank\" href=https://colab.research.google.com/notebooks/data_table.ipynb>data table notebook</a>'\n",
              "            + ' to learn more about interactive tables.';\n",
              "          element.innerHTML = '';\n",
              "          dataTable['output_type'] = 'display_data';\n",
              "          await google.colab.output.renderOutput(dataTable, element);\n",
              "          const docLink = document.createElement('div');\n",
              "          docLink.innerHTML = docLinkHtml;\n",
              "          element.appendChild(docLink);\n",
              "        }\n",
              "      </script>\n",
              "    </div>\n",
              "  </div>\n",
              "  "
            ]
          },
          "metadata": {},
          "execution_count": 103
        }
      ]
    },
    {
      "cell_type": "code",
      "source": [
        "# Let's understand statistical differences with graphical visualization\n",
        "\n",
        "top_categories = ps_data_df.groupby(\"Type\").filter(lambda x: len(x) > 0).reset_index()\n",
        "array = top_categories['Rating'].hist(by=top_categories['Type'], sharex=True, figsize=(7,5))\n",
        "array = top_categories['Reviews'].hist(by=top_categories['Type'], sharex=True, figsize=(7,5))\n",
        "array = top_categories['Size'].hist(by=top_categories['Type'], sharex=True, figsize=(7,5))"
      ],
      "metadata": {
        "colab": {
          "base_uri": "https://localhost:8080/",
          "height": 992
        },
        "id": "r69IbcM7ccHt",
        "outputId": "d8fe3083-9a8d-4b3a-f51a-c1ae7ca99387"
      },
      "execution_count": 104,
      "outputs": [
        {
          "output_type": "display_data",
          "data": {
            "text/plain": [
              "<Figure size 504x360 with 2 Axes>"
            ],
            "image/png": "[encoded data removed]"
          },
          "metadata": {}
        },
        {
          "output_type": "display_data",
          "data": {
            "text/plain": [
              "<Figure size 504x360 with 2 Axes>"
            ],
            "image/png": "[encoded data removed]"
          },
          "metadata": {}
        },
        {
          "output_type": "display_data",
          "data": {
            "text/plain": [
              "<Figure size 504x360 with 2 Axes>"
            ],
            "image/png": "[encoded data removed]"
          },
          "metadata": {}
        }
      ]
    },
    {
      "cell_type": "markdown",
      "source": [
        "**Inference :** \n",
        "From above stats and grpahs it's pretty clear that both the Free & Paid Apps have drastical diffrence in some basic parameters fo App Business. Some of the Imporant parameters like below,\n",
        "\n",
        "1. Average Installation count\n",
        "2. Average Review Count\n",
        "3. Average Rating\n",
        "\n",
        "**From above diffreneces we can easily make out below Pros-Cons of respective Business Model.**"
      ],
      "metadata": {
        "id": "qgJUF3TRcr6d"
      }
    },
    {
      "cell_type": "markdown",
      "source": [
        "![Image 1 - Free App Pro Cons.png](data:image/png;base64,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)"
      ],
      "metadata": {
        "id": "ikuaT0YndCsn"
      }
    },
    {
      "cell_type": "markdown",
      "source": [
        "![Image 2 - Paid App Pro Cons.png](data:image/png;base64,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)"
      ],
      "metadata": {
        "id": "wCe7R7qZdJct"
      }
    },
    {
      "cell_type": "markdown",
      "source": [
        "In view of above, both the Business Models have there own Pros & Cons as well as other factors; which makes them Successful / Un-successful in their App making Business.\n",
        "\n",
        "Hence, both the **Business Models (Free / Paid) are unique** in their own business environment.\n",
        "\n",
        "Therefore, we cant analyse both as a whole, to understand **Success and Engagement factors of App making Business.**\n",
        "\n",
        "in order to analyse the Success & Engagement Factors, we need to analyse both the App \"Types\" separately for respective success factors."
      ],
      "metadata": {
        "id": "6u618eUhdS68"
      }
    },
    {
      "cell_type": "markdown",
      "source": [
        "# **DataFrames - Free & Paid Apps**"
      ],
      "metadata": {
        "id": "vUNU8eyndwyG"
      }
    },
    {
      "cell_type": "code",
      "source": [
        "# Let's make separate DataFrames for Free Apps and Paid Apps\n",
        "\n",
        "# Free App Dataframe :\n",
        "\n",
        "free_app_df = ps_data_df[ps_data_df['Type'] == 'Free']\n",
        "\n",
        "# Paid App Dataframe :\n",
        "\n",
        "paid_app_df = ps_data_df[ps_data_df['Type'] == 'Paid']"
      ],
      "metadata": {
        "id": "3mlVqw_ad6ME"
      },
      "execution_count": 155,
      "outputs": []
    },
    {
      "cell_type": "markdown",
      "source": [
        "### **Identify Top 10 Performing : Genres | Catgories | Apps**\n",
        "-----"
      ],
      "metadata": {
        "id": "2qCpB_DTeOn_"
      }
    },
    {
      "cell_type": "markdown",
      "source": [
        "### Free Apps\n",
        "-----"
      ],
      "metadata": {
        "id": "o1lvw8xceYVb"
      }
    },
    {
      "cell_type": "markdown",
      "source": [
        "**1. Identify Top Performing - Genres**"
      ],
      "metadata": {
        "id": "tgvP_YiTiEEw"
      }
    },
    {
      "cell_type": "code",
      "source": [
        "# Checked Free App data Stat to understand the \"Genres\" having Above Average success on Important parameters like,\n",
        "# Installs | Rating | Reviews\n",
        "\n",
        "free_app_df.describe()"
      ],
      "metadata": {
        "colab": {
          "base_uri": "https://localhost:8080/",
          "height": 300
        },
        "id": "zMSLP5XJedNa",
        "outputId": "98406a10-d8ac-4221-88f0-f94b465016b4"
      },
      "execution_count": 156,
      "outputs": [
        {
          "output_type": "execute_result",
          "data": {
            "text/plain": [
              "            Rating       Reviews         Size      Installs   Price  \\\n",
              "count  8906.000000  8.906000e+03  8906.000000  8.906000e+03  8906.0   \n",
              "mean      4.185616  2.342285e+05    19.409362  8.446808e+06     0.0   \n",
              "std       0.495977  1.905351e+06    20.528382  5.594814e+07     0.0   \n",
              "min       1.000000  0.000000e+00     0.008500  0.000000e+00     0.0   \n",
              "25%       4.000000  2.900000e+01     5.500000  1.000000e+03     0.0   \n",
              "50%       4.300000  1.366500e+03    12.000000  1.000000e+05     0.0   \n",
              "75%       4.500000  3.517175e+04    25.000000  1.000000e+06     0.0   \n",
              "max       5.000000  7.812821e+07   100.000000  1.000000e+09     0.0   \n",
              "\n",
              "       LastUpdated_Day  LastUpdated_Month  LastUpdated_Year  \n",
              "count      8906.000000        8906.000000       8906.000000  \n",
              "mean         15.634965           6.367617       2017.402650  \n",
              "std           9.484396           2.624773          1.075797  \n",
              "min           1.000000           1.000000       2010.000000  \n",
              "25%           6.000000           5.000000       2017.000000  \n",
              "50%          16.000000           7.000000       2018.000000  \n",
              "75%          24.000000           8.000000       2018.000000  \n",
              "max          31.000000          12.000000       2018.000000  "
            ],
            "text/html": [
              "\n",
              "  <div id=\"df-1718fc21-09da-4a86-9079-c6095c8f49ee\">\n",
              "    <div class=\"colab-df-container\">\n",
              "      <div>\n",
              "<style scoped>\n",
              "    .dataframe tbody tr th:only-of-type {\n",
              "        vertical-align: middle;\n",
              "    }\n",
              "\n",
              "    .dataframe tbody tr th {\n",
              "        vertical-align: top;\n",
              "    }\n",
              "\n",
              "    .dataframe thead th {\n",
              "        text-align: right;\n",
              "    }\n",
              "</style>\n",
              "<table border=\"1\" class=\"dataframe\">\n",
              "  <thead>\n",
              "    <tr style=\"text-align: right;\">\n",
              "      <th></th>\n",
              "      <th>Rating</th>\n",
              "      <th>Reviews</th>\n",
              "      <th>Size</th>\n",
              "      <th>Installs</th>\n",
              "      <th>Price</th>\n",
              "      <th>LastUpdated_Day</th>\n",
              "      <th>LastUpdated_Month</th>\n",
              "      <th>LastUpdated_Year</th>\n",
              "    </tr>\n",
              "  </thead>\n",
              "  <tbody>\n",
              "    <tr>\n",
              "      <th>count</th>\n",
              "      <td>8906.000000</td>\n",
              "      <td>8.906000e+03</td>\n",
              "      <td>8906.000000</td>\n",
              "      <td>8.906000e+03</td>\n",
              "      <td>8906.0</td>\n",
              "      <td>8906.000000</td>\n",
              "      <td>8906.000000</td>\n",
              "      <td>8906.000000</td>\n",
              "    </tr>\n",
              "    <tr>\n",
              "      <th>mean</th>\n",
              "      <td>4.185616</td>\n",
              "      <td>2.342285e+05</td>\n",
              "      <td>19.409362</td>\n",
              "      <td>8.446808e+06</td>\n",
              "      <td>0.0</td>\n",
              "      <td>15.634965</td>\n",
              "      <td>6.367617</td>\n",
              "      <td>2017.402650</td>\n",
              "    </tr>\n",
              "    <tr>\n",
              "      <th>std</th>\n",
              "      <td>0.495977</td>\n",
              "      <td>1.905351e+06</td>\n",
              "      <td>20.528382</td>\n",
              "      <td>5.594814e+07</td>\n",
              "      <td>0.0</td>\n",
              "      <td>9.484396</td>\n",
              "      <td>2.624773</td>\n",
              "      <td>1.075797</td>\n",
              "    </tr>\n",
              "    <tr>\n",
              "      <th>min</th>\n",
              "      <td>1.000000</td>\n",
              "      <td>0.000000e+00</td>\n",
              "      <td>0.008500</td>\n",
              "      <td>0.000000e+00</td>\n",
              "      <td>0.0</td>\n",
              "      <td>1.000000</td>\n",
              "      <td>1.000000</td>\n",
              "      <td>2010.000000</td>\n",
              "    </tr>\n",
              "    <tr>\n",
              "      <th>25%</th>\n",
              "      <td>4.000000</td>\n",
              "      <td>2.900000e+01</td>\n",
              "      <td>5.500000</td>\n",
              "      <td>1.000000e+03</td>\n",
              "      <td>0.0</td>\n",
              "      <td>6.000000</td>\n",
              "      <td>5.000000</td>\n",
              "      <td>2017.000000</td>\n",
              "    </tr>\n",
              "    <tr>\n",
              "      <th>50%</th>\n",
              "      <td>4.300000</td>\n",
              "      <td>1.366500e+03</td>\n",
              "      <td>12.000000</td>\n",
              "      <td>1.000000e+05</td>\n",
              "      <td>0.0</td>\n",
              "      <td>16.000000</td>\n",
              "      <td>7.000000</td>\n",
              "      <td>2018.000000</td>\n",
              "    </tr>\n",
              "    <tr>\n",
              "      <th>75%</th>\n",
              "      <td>4.500000</td>\n",
              "      <td>3.517175e+04</td>\n",
              "      <td>25.000000</td>\n",
              "      <td>1.000000e+06</td>\n",
              "      <td>0.0</td>\n",
              "      <td>24.000000</td>\n",
              "      <td>8.000000</td>\n",
              "      <td>2018.000000</td>\n",
              "    </tr>\n",
              "    <tr>\n",
              "      <th>max</th>\n",
              "      <td>5.000000</td>\n",
              "      <td>7.812821e+07</td>\n",
              "      <td>100.000000</td>\n",
              "      <td>1.000000e+09</td>\n",
              "      <td>0.0</td>\n",
              "      <td>31.000000</td>\n",
              "      <td>12.000000</td>\n",
              "      <td>2018.000000</td>\n",
              "    </tr>\n",
              "  </tbody>\n",
              "</table>\n",
              "</div>\n",
              "      <button class=\"colab-df-convert\" onclick=\"convertToInteractive('df-1718fc21-09da-4a86-9079-c6095c8f49ee')\"\n",
              "              title=\"Convert this dataframe to an interactive table.\"\n",
              "              style=\"display:none;\">\n",
              "        \n",
              "  <svg xmlns=\"http://www.w3.org/2000/svg\" height=\"24px\"viewBox=\"0 0 24 24\"\n",
              "       width=\"24px\">\n",
              "    <path d=\"M0 0h24v24H0V0z\" fill=\"none\"/>\n",
              "    <path d=\"M18.56 5.44l.94 2.06.94-2.06 2.06-.94-2.06-.94-.94-2.06-.94 2.06-2.06.94zm-11 1L8.5 8.5l.94-2.06 2.06-.94-2.06-.94L8.5 2.5l-.94 2.06-2.06.94zm10 10l.94 2.06.94-2.06 2.06-.94-2.06-.94-.94-2.06-.94 2.06-2.06.94z\"/><path d=\"M17.41 7.96l-1.37-1.37c-.4-.4-.92-.59-1.43-.59-.52 0-1.04.2-1.43.59L10.3 9.45l-7.72 7.72c-.78.78-.78 2.05 0 2.83L4 21.41c.39.39.9.59 1.41.59.51 0 1.02-.2 1.41-.59l7.78-7.78 2.81-2.81c.8-.78.8-2.07 0-2.86zM5.41 20L4 18.59l7.72-7.72 1.47 1.35L5.41 20z\"/>\n",
              "  </svg>\n",
              "      </button>\n",
              "      \n",
              "  <style>\n",
              "    .colab-df-container {\n",
              "      display:flex;\n",
              "      flex-wrap:wrap;\n",
              "      gap: 12px;\n",
              "    }\n",
              "\n",
              "    .colab-df-convert {\n",
              "      background-color: #E8F0FE;\n",
              "      border: none;\n",
              "      border-radius: 50%;\n",
              "      cursor: pointer;\n",
              "      display: none;\n",
              "      fill: #1967D2;\n",
              "      height: 32px;\n",
              "      padding: 0 0 0 0;\n",
              "      width: 32px;\n",
              "    }\n",
              "\n",
              "    .colab-df-convert:hover {\n",
              "      background-color: #E2EBFA;\n",
              "      box-shadow: 0px 1px 2px rgba(60, 64, 67, 0.3), 0px 1px 3px 1px rgba(60, 64, 67, 0.15);\n",
              "      fill: #174EA6;\n",
              "    }\n",
              "\n",
              "    [theme=dark] .colab-df-convert {\n",
              "      background-color: #3B4455;\n",
              "      fill: #D2E3FC;\n",
              "    }\n",
              "\n",
              "    [theme=dark] .colab-df-convert:hover {\n",
              "      background-color: #434B5C;\n",
              "      box-shadow: 0px 1px 3px 1px rgba(0, 0, 0, 0.15);\n",
              "      filter: drop-shadow(0px 1px 2px rgba(0, 0, 0, 0.3));\n",
              "      fill: #FFFFFF;\n",
              "    }\n",
              "  </style>\n",
              "\n",
              "      <script>\n",
              "        const buttonEl =\n",
              "          document.querySelector('#df-1718fc21-09da-4a86-9079-c6095c8f49ee button.colab-df-convert');\n",
              "        buttonEl.style.display =\n",
              "          google.colab.kernel.accessAllowed ? 'block' : 'none';\n",
              "\n",
              "        async function convertToInteractive(key) {\n",
              "          const element = document.querySelector('#df-1718fc21-09da-4a86-9079-c6095c8f49ee');\n",
              "          const dataTable =\n",
              "            await google.colab.kernel.invokeFunction('convertToInteractive',\n",
              "                                                     [key], {});\n",
              "          if (!dataTable) return;\n",
              "\n",
              "          const docLinkHtml = 'Like what you see? Visit the ' +\n",
              "            '<a target=\"_blank\" href=https://colab.research.google.com/notebooks/data_table.ipynb>data table notebook</a>'\n",
              "            + ' to learn more about interactive tables.';\n",
              "          element.innerHTML = '';\n",
              "          dataTable['output_type'] = 'display_data';\n",
              "          await google.colab.output.renderOutput(dataTable, element);\n",
              "          const docLink = document.createElement('div');\n",
              "          docLink.innerHTML = docLinkHtml;\n",
              "          element.appendChild(docLink);\n",
              "        }\n",
              "      </script>\n",
              "    </div>\n",
              "  </div>\n",
              "  "
            ]
          },
          "metadata": {},
          "execution_count": 156
        }
      ]
    },
    {
      "cell_type": "markdown",
      "source": [
        "**There are three important parameters, which \"Customers\" check before subscribing any App**\n",
        "1. No of Installs / Subscriptions\n",
        "2. Rating of the App\n",
        "3. No of Reviews recieved by App\n",
        "\n",
        "-------------------------------------------------------------------------------------------------------------------------------------\n",
        "\n",
        "**Hence, as per above stat description table, we need to filter out above average performers (Genres | Cateogory | Apps) on below parameters KPIs**\n",
        "\n",
        "1. Avg Installs = 8.446808e+06\n",
        "2. Mean Rating = 4.185616 \n",
        "3. Avg Reviews = 2.342285e+05\n",
        "-----"
      ],
      "metadata": {
        "id": "-_jXhcl_ejGs"
      }
    },
    {
      "cell_type": "code",
      "source": [
        "# Filter free app data as per above criteria & check shape of dataset to understand output data\n",
        "\n",
        "abv_avg_free_app_data_df = free_app_df[ (free_app_df['Installs'] > 8.446808e+06) & (free_app_df['Rating'] > 4.185616) & (free_app_df['Reviews'] > 2.342285e+05)]\n",
        "abv_avg_free_app_data_df.shape"
      ],
      "metadata": {
        "colab": {
          "base_uri": "https://localhost:8080/"
        },
        "id": "9I6_dQ7tfGa6",
        "outputId": "0ccf9196-636e-4ea4-fb95-21fe9b42d50e"
      },
      "execution_count": 157,
      "outputs": [
        {
          "output_type": "execute_result",
          "data": {
            "text/plain": [
              "(784, 16)"
            ]
          },
          "metadata": {},
          "execution_count": 157
        }
      ]
    },
    {
      "cell_type": "code",
      "source": [
        "# We have found 784 - Above Average performing free Apps\n",
        "\n",
        "# Now, let's sort this data in below order and identify Top 10 high performing \"Genres\" in Free App Business Model\n",
        "\n",
        "abv_avg_free_app_data_df1 = abv_avg_free_app_data_df.groupby(\"Genres\").mean().sort_values(by = ['Installs','Rating','Reviews'], axis=0, ascending=[False, False, False], inplace=False)\n",
        "top10_genres_free_df = abv_avg_free_app_data_df1.head(10)\n",
        "top10_genres_free_df"
      ],
      "metadata": {
        "colab": {
          "base_uri": "https://localhost:8080/",
          "height": 394
        },
        "id": "ADO-ayHjfVjV",
        "outputId": "17ccfe9f-85d8-48b8-9506-60b239ed943f"
      },
      "execution_count": 158,
      "outputs": [
        {
          "output_type": "execute_result",
          "data": {
            "text/plain": [
              "                                Rating       Reviews       Size      Installs  \\\n",
              "Genres                                                                          \n",
              "Communication                 4.374000  4.177945e+06  14.092000  1.520000e+08   \n",
              "Travel & Local                4.447059  1.343522e+06  15.458824  1.470588e+08   \n",
              "Productivity                  4.438889  1.273366e+06  16.936111  1.250000e+08   \n",
              "Social                        4.366667  3.945468e+06  22.176667  1.200000e+08   \n",
              "Education;Education           4.700000  6.297590e+06  12.000000  1.000000e+08   \n",
              "Adventure;Action & Adventure  4.500000  4.443407e+06  67.000000  1.000000e+08   \n",
              "News & Magazines              4.383333  1.449862e+06  12.275000  9.500000e+07   \n",
              "Tools                         4.470149  3.214588e+06  12.208955  9.373134e+07   \n",
              "Video Players & Editors       4.492000  2.511820e+06  21.896000  9.320000e+07   \n",
              "Casual                        4.440000  4.215430e+06  43.023333  8.966667e+07   \n",
              "\n",
              "                              Price  LastUpdated_Day  LastUpdated_Month  \\\n",
              "Genres                                                                    \n",
              "Communication                   0.0        13.660000           7.020000   \n",
              "Travel & Local                  0.0        10.764706           7.588235   \n",
              "Productivity                    0.0        10.416667           7.250000   \n",
              "Social                          0.0        13.300000           7.466667   \n",
              "Education;Education             0.0         6.000000           8.000000   \n",
              "Adventure;Action & Adventure    0.0        31.000000           7.000000   \n",
              "News & Magazines                0.0        16.666667           7.333333   \n",
              "Tools                           0.0        13.417910           6.865672   \n",
              "Video Players & Editors         0.0        12.640000           7.800000   \n",
              "Casual                          0.0        15.733333           6.533333   \n",
              "\n",
              "                              LastUpdated_Year  \n",
              "Genres                                          \n",
              "Communication                      2017.960000  \n",
              "Travel & Local                     2018.000000  \n",
              "Productivity                       2017.888889  \n",
              "Social                             2017.966667  \n",
              "Education;Education                2018.000000  \n",
              "Adventure;Action & Adventure       2018.000000  \n",
              "News & Magazines                   2018.000000  \n",
              "Tools                              2017.910448  \n",
              "Video Players & Editors            2017.760000  \n",
              "Casual                             2017.866667  "
            ],
            "text/html": [
              "\n",
              "  <div id=\"df-5a03e175-ba7e-419b-8dc9-e9b9ce2c406b\">\n",
              "    <div class=\"colab-df-container\">\n",
              "      <div>\n",
              "<style scoped>\n",
              "    .dataframe tbody tr th:only-of-type {\n",
              "        vertical-align: middle;\n",
              "    }\n",
              "\n",
              "    .dataframe tbody tr th {\n",
              "        vertical-align: top;\n",
              "    }\n",
              "\n",
              "    .dataframe thead th {\n",
              "        text-align: right;\n",
              "    }\n",
              "</style>\n",
              "<table border=\"1\" class=\"dataframe\">\n",
              "  <thead>\n",
              "    <tr style=\"text-align: right;\">\n",
              "      <th></th>\n",
              "      <th>Rating</th>\n",
              "      <th>Reviews</th>\n",
              "      <th>Size</th>\n",
              "      <th>Installs</th>\n",
              "      <th>Price</th>\n",
              "      <th>LastUpdated_Day</th>\n",
              "      <th>LastUpdated_Month</th>\n",
              "      <th>LastUpdated_Year</th>\n",
              "    </tr>\n",
              "    <tr>\n",
              "      <th>Genres</th>\n",
              "      <th></th>\n",
              "      <th></th>\n",
              "      <th></th>\n",
              "      <th></th>\n",
              "      <th></th>\n",
              "      <th></th>\n",
              "      <th></th>\n",
              "      <th></th>\n",
              "    </tr>\n",
              "  </thead>\n",
              "  <tbody>\n",
              "    <tr>\n",
              "      <th>Communication</th>\n",
              "      <td>4.374000</td>\n",
              "      <td>4.177945e+06</td>\n",
              "      <td>14.092000</td>\n",
              "      <td>1.520000e+08</td>\n",
              "      <td>0.0</td>\n",
              "      <td>13.660000</td>\n",
              "      <td>7.020000</td>\n",
              "      <td>2017.960000</td>\n",
              "    </tr>\n",
              "    <tr>\n",
              "      <th>Travel &amp; Local</th>\n",
              "      <td>4.447059</td>\n",
              "      <td>1.343522e+06</td>\n",
              "      <td>15.458824</td>\n",
              "      <td>1.470588e+08</td>\n",
              "      <td>0.0</td>\n",
              "      <td>10.764706</td>\n",
              "      <td>7.588235</td>\n",
              "      <td>2018.000000</td>\n",
              "    </tr>\n",
              "    <tr>\n",
              "      <th>Productivity</th>\n",
              "      <td>4.438889</td>\n",
              "      <td>1.273366e+06</td>\n",
              "      <td>16.936111</td>\n",
              "      <td>1.250000e+08</td>\n",
              "      <td>0.0</td>\n",
              "      <td>10.416667</td>\n",
              "      <td>7.250000</td>\n",
              "      <td>2017.888889</td>\n",
              "    </tr>\n",
              "    <tr>\n",
              "      <th>Social</th>\n",
              "      <td>4.366667</td>\n",
              "      <td>3.945468e+06</td>\n",
              "      <td>22.176667</td>\n",
              "      <td>1.200000e+08</td>\n",
              "      <td>0.0</td>\n",
              "      <td>13.300000</td>\n",
              "      <td>7.466667</td>\n",
              "      <td>2017.966667</td>\n",
              "    </tr>\n",
              "    <tr>\n",
              "      <th>Education;Education</th>\n",
              "      <td>4.700000</td>\n",
              "      <td>6.297590e+06</td>\n",
              "      <td>12.000000</td>\n",
              "      <td>1.000000e+08</td>\n",
              "      <td>0.0</td>\n",
              "      <td>6.000000</td>\n",
              "      <td>8.000000</td>\n",
              "      <td>2018.000000</td>\n",
              "    </tr>\n",
              "    <tr>\n",
              "      <th>Adventure;Action &amp; Adventure</th>\n",
              "      <td>4.500000</td>\n",
              "      <td>4.443407e+06</td>\n",
              "      <td>67.000000</td>\n",
              "      <td>1.000000e+08</td>\n",
              "      <td>0.0</td>\n",
              "      <td>31.000000</td>\n",
              "      <td>7.000000</td>\n",
              "      <td>2018.000000</td>\n",
              "    </tr>\n",
              "    <tr>\n",
              "      <th>News &amp; Magazines</th>\n",
              "      <td>4.383333</td>\n",
              "      <td>1.449862e+06</td>\n",
              "      <td>12.275000</td>\n",
              "      <td>9.500000e+07</td>\n",
              "      <td>0.0</td>\n",
              "      <td>16.666667</td>\n",
              "      <td>7.333333</td>\n",
              "      <td>2018.000000</td>\n",
              "    </tr>\n",
              "    <tr>\n",
              "      <th>Tools</th>\n",
              "      <td>4.470149</td>\n",
              "      <td>3.214588e+06</td>\n",
              "      <td>12.208955</td>\n",
              "      <td>9.373134e+07</td>\n",
              "      <td>0.0</td>\n",
              "      <td>13.417910</td>\n",
              "      <td>6.865672</td>\n",
              "      <td>2017.910448</td>\n",
              "    </tr>\n",
              "    <tr>\n",
              "      <th>Video Players &amp; Editors</th>\n",
              "      <td>4.492000</td>\n",
              "      <td>2.511820e+06</td>\n",
              "      <td>21.896000</td>\n",
              "      <td>9.320000e+07</td>\n",
              "      <td>0.0</td>\n",
              "      <td>12.640000</td>\n",
              "      <td>7.800000</td>\n",
              "      <td>2017.760000</td>\n",
              "    </tr>\n",
              "    <tr>\n",
              "      <th>Casual</th>\n",
              "      <td>4.440000</td>\n",
              "      <td>4.215430e+06</td>\n",
              "      <td>43.023333</td>\n",
              "      <td>8.966667e+07</td>\n",
              "      <td>0.0</td>\n",
              "      <td>15.733333</td>\n",
              "      <td>6.533333</td>\n",
              "      <td>2017.866667</td>\n",
              "    </tr>\n",
              "  </tbody>\n",
              "</table>\n",
              "</div>\n",
              "      <button class=\"colab-df-convert\" onclick=\"convertToInteractive('df-5a03e175-ba7e-419b-8dc9-e9b9ce2c406b')\"\n",
              "              title=\"Convert this dataframe to an interactive table.\"\n",
              "              style=\"display:none;\">\n",
              "        \n",
              "  <svg xmlns=\"http://www.w3.org/2000/svg\" height=\"24px\"viewBox=\"0 0 24 24\"\n",
              "       width=\"24px\">\n",
              "    <path d=\"M0 0h24v24H0V0z\" fill=\"none\"/>\n",
              "    <path d=\"M18.56 5.44l.94 2.06.94-2.06 2.06-.94-2.06-.94-.94-2.06-.94 2.06-2.06.94zm-11 1L8.5 8.5l.94-2.06 2.06-.94-2.06-.94L8.5 2.5l-.94 2.06-2.06.94zm10 10l.94 2.06.94-2.06 2.06-.94-2.06-.94-.94-2.06-.94 2.06-2.06.94z\"/><path d=\"M17.41 7.96l-1.37-1.37c-.4-.4-.92-.59-1.43-.59-.52 0-1.04.2-1.43.59L10.3 9.45l-7.72 7.72c-.78.78-.78 2.05 0 2.83L4 21.41c.39.39.9.59 1.41.59.51 0 1.02-.2 1.41-.59l7.78-7.78 2.81-2.81c.8-.78.8-2.07 0-2.86zM5.41 20L4 18.59l7.72-7.72 1.47 1.35L5.41 20z\"/>\n",
              "  </svg>\n",
              "      </button>\n",
              "      \n",
              "  <style>\n",
              "    .colab-df-container {\n",
              "      display:flex;\n",
              "      flex-wrap:wrap;\n",
              "      gap: 12px;\n",
              "    }\n",
              "\n",
              "    .colab-df-convert {\n",
              "      background-color: #E8F0FE;\n",
              "      border: none;\n",
              "      border-radius: 50%;\n",
              "      cursor: pointer;\n",
              "      display: none;\n",
              "      fill: #1967D2;\n",
              "      height: 32px;\n",
              "      padding: 0 0 0 0;\n",
              "      width: 32px;\n",
              "    }\n",
              "\n",
              "    .colab-df-convert:hover {\n",
              "      background-color: #E2EBFA;\n",
              "      box-shadow: 0px 1px 2px rgba(60, 64, 67, 0.3), 0px 1px 3px 1px rgba(60, 64, 67, 0.15);\n",
              "      fill: #174EA6;\n",
              "    }\n",
              "\n",
              "    [theme=dark] .colab-df-convert {\n",
              "      background-color: #3B4455;\n",
              "      fill: #D2E3FC;\n",
              "    }\n",
              "\n",
              "    [theme=dark] .colab-df-convert:hover {\n",
              "      background-color: #434B5C;\n",
              "      box-shadow: 0px 1px 3px 1px rgba(0, 0, 0, 0.15);\n",
              "      filter: drop-shadow(0px 1px 2px rgba(0, 0, 0, 0.3));\n",
              "      fill: #FFFFFF;\n",
              "    }\n",
              "  </style>\n",
              "\n",
              "      <script>\n",
              "        const buttonEl =\n",
              "          document.querySelector('#df-5a03e175-ba7e-419b-8dc9-e9b9ce2c406b button.colab-df-convert');\n",
              "        buttonEl.style.display =\n",
              "          google.colab.kernel.accessAllowed ? 'block' : 'none';\n",
              "\n",
              "        async function convertToInteractive(key) {\n",
              "          const element = document.querySelector('#df-5a03e175-ba7e-419b-8dc9-e9b9ce2c406b');\n",
              "          const dataTable =\n",
              "            await google.colab.kernel.invokeFunction('convertToInteractive',\n",
              "                                                     [key], {});\n",
              "          if (!dataTable) return;\n",
              "\n",
              "          const docLinkHtml = 'Like what you see? Visit the ' +\n",
              "            '<a target=\"_blank\" href=https://colab.research.google.com/notebooks/data_table.ipynb>data table notebook</a>'\n",
              "            + ' to learn more about interactive tables.';\n",
              "          element.innerHTML = '';\n",
              "          dataTable['output_type'] = 'display_data';\n",
              "          await google.colab.output.renderOutput(dataTable, element);\n",
              "          const docLink = document.createElement('div');\n",
              "          docLink.innerHTML = docLinkHtml;\n",
              "          element.appendChild(docLink);\n",
              "        }\n",
              "      </script>\n",
              "    </div>\n",
              "  </div>\n",
              "  "
            ]
          },
          "metadata": {},
          "execution_count": 158
        }
      ]
    },
    {
      "cell_type": "code",
      "source": [
        "top10_genres_free_df1 = top10_genres_free_df.iloc[0:,:0]\n",
        "top10_genres_free_df1.reset_index()"
      ],
      "metadata": {
        "colab": {
          "base_uri": "https://localhost:8080/",
          "height": 363
        },
        "id": "E0CINhFRfa_6",
        "outputId": "609cd8fb-946f-4e45-f5c7-d4e6ff449428"
      },
      "execution_count": 159,
      "outputs": [
        {
          "output_type": "execute_result",
          "data": {
            "text/plain": [
              "                         Genres\n",
              "0                 Communication\n",
              "1                Travel & Local\n",
              "2                  Productivity\n",
              "3                        Social\n",
              "4           Education;Education\n",
              "5  Adventure;Action & Adventure\n",
              "6              News & Magazines\n",
              "7                         Tools\n",
              "8       Video Players & Editors\n",
              "9                        Casual"
            ],
            "text/html": [
              "\n",
              "  <div id=\"df-802f62e8-9c3c-41ff-8e2d-2cbf49f1310a\">\n",
              "    <div class=\"colab-df-container\">\n",
              "      <div>\n",
              "<style scoped>\n",
              "    .dataframe tbody tr th:only-of-type {\n",
              "        vertical-align: middle;\n",
              "    }\n",
              "\n",
              "    .dataframe tbody tr th {\n",
              "        vertical-align: top;\n",
              "    }\n",
              "\n",
              "    .dataframe thead th {\n",
              "        text-align: right;\n",
              "    }\n",
              "</style>\n",
              "<table border=\"1\" class=\"dataframe\">\n",
              "  <thead>\n",
              "    <tr style=\"text-align: right;\">\n",
              "      <th></th>\n",
              "      <th>Genres</th>\n",
              "    </tr>\n",
              "  </thead>\n",
              "  <tbody>\n",
              "    <tr>\n",
              "      <th>0</th>\n",
              "      <td>Communication</td>\n",
              "    </tr>\n",
              "    <tr>\n",
              "      <th>1</th>\n",
              "      <td>Travel &amp; Local</td>\n",
              "    </tr>\n",
              "    <tr>\n",
              "      <th>2</th>\n",
              "      <td>Productivity</td>\n",
              "    </tr>\n",
              "    <tr>\n",
              "      <th>3</th>\n",
              "      <td>Social</td>\n",
              "    </tr>\n",
              "    <tr>\n",
              "      <th>4</th>\n",
              "      <td>Education;Education</td>\n",
              "    </tr>\n",
              "    <tr>\n",
              "      <th>5</th>\n",
              "      <td>Adventure;Action &amp; Adventure</td>\n",
              "    </tr>\n",
              "    <tr>\n",
              "      <th>6</th>\n",
              "      <td>News &amp; Magazines</td>\n",
              "    </tr>\n",
              "    <tr>\n",
              "      <th>7</th>\n",
              "      <td>Tools</td>\n",
              "    </tr>\n",
              "    <tr>\n",
              "      <th>8</th>\n",
              "      <td>Video Players &amp; Editors</td>\n",
              "    </tr>\n",
              "    <tr>\n",
              "      <th>9</th>\n",
              "      <td>Casual</td>\n",
              "    </tr>\n",
              "  </tbody>\n",
              "</table>\n",
              "</div>\n",
              "      <button class=\"colab-df-convert\" onclick=\"convertToInteractive('df-802f62e8-9c3c-41ff-8e2d-2cbf49f1310a')\"\n",
              "              title=\"Convert this dataframe to an interactive table.\"\n",
              "              style=\"display:none;\">\n",
              "        \n",
              "  <svg xmlns=\"http://www.w3.org/2000/svg\" height=\"24px\"viewBox=\"0 0 24 24\"\n",
              "       width=\"24px\">\n",
              "    <path d=\"M0 0h24v24H0V0z\" fill=\"none\"/>\n",
              "    <path d=\"M18.56 5.44l.94 2.06.94-2.06 2.06-.94-2.06-.94-.94-2.06-.94 2.06-2.06.94zm-11 1L8.5 8.5l.94-2.06 2.06-.94-2.06-.94L8.5 2.5l-.94 2.06-2.06.94zm10 10l.94 2.06.94-2.06 2.06-.94-2.06-.94-.94-2.06-.94 2.06-2.06.94z\"/><path d=\"M17.41 7.96l-1.37-1.37c-.4-.4-.92-.59-1.43-.59-.52 0-1.04.2-1.43.59L10.3 9.45l-7.72 7.72c-.78.78-.78 2.05 0 2.83L4 21.41c.39.39.9.59 1.41.59.51 0 1.02-.2 1.41-.59l7.78-7.78 2.81-2.81c.8-.78.8-2.07 0-2.86zM5.41 20L4 18.59l7.72-7.72 1.47 1.35L5.41 20z\"/>\n",
              "  </svg>\n",
              "      </button>\n",
              "      \n",
              "  <style>\n",
              "    .colab-df-container {\n",
              "      display:flex;\n",
              "      flex-wrap:wrap;\n",
              "      gap: 12px;\n",
              "    }\n",
              "\n",
              "    .colab-df-convert {\n",
              "      background-color: #E8F0FE;\n",
              "      border: none;\n",
              "      border-radius: 50%;\n",
              "      cursor: pointer;\n",
              "      display: none;\n",
              "      fill: #1967D2;\n",
              "      height: 32px;\n",
              "      padding: 0 0 0 0;\n",
              "      width: 32px;\n",
              "    }\n",
              "\n",
              "    .colab-df-convert:hover {\n",
              "      background-color: #E2EBFA;\n",
              "      box-shadow: 0px 1px 2px rgba(60, 64, 67, 0.3), 0px 1px 3px 1px rgba(60, 64, 67, 0.15);\n",
              "      fill: #174EA6;\n",
              "    }\n",
              "\n",
              "    [theme=dark] .colab-df-convert {\n",
              "      background-color: #3B4455;\n",
              "      fill: #D2E3FC;\n",
              "    }\n",
              "\n",
              "    [theme=dark] .colab-df-convert:hover {\n",
              "      background-color: #434B5C;\n",
              "      box-shadow: 0px 1px 3px 1px rgba(0, 0, 0, 0.15);\n",
              "      filter: drop-shadow(0px 1px 2px rgba(0, 0, 0, 0.3));\n",
              "      fill: #FFFFFF;\n",
              "    }\n",
              "  </style>\n",
              "\n",
              "      <script>\n",
              "        const buttonEl =\n",
              "          document.querySelector('#df-802f62e8-9c3c-41ff-8e2d-2cbf49f1310a button.colab-df-convert');\n",
              "        buttonEl.style.display =\n",
              "          google.colab.kernel.accessAllowed ? 'block' : 'none';\n",
              "\n",
              "        async function convertToInteractive(key) {\n",
              "          const element = document.querySelector('#df-802f62e8-9c3c-41ff-8e2d-2cbf49f1310a');\n",
              "          const dataTable =\n",
              "            await google.colab.kernel.invokeFunction('convertToInteractive',\n",
              "                                                     [key], {});\n",
              "          if (!dataTable) return;\n",
              "\n",
              "          const docLinkHtml = 'Like what you see? Visit the ' +\n",
              "            '<a target=\"_blank\" href=https://colab.research.google.com/notebooks/data_table.ipynb>data table notebook</a>'\n",
              "            + ' to learn more about interactive tables.';\n",
              "          element.innerHTML = '';\n",
              "          dataTable['output_type'] = 'display_data';\n",
              "          await google.colab.output.renderOutput(dataTable, element);\n",
              "          const docLink = document.createElement('div');\n",
              "          docLink.innerHTML = docLinkHtml;\n",
              "          element.appendChild(docLink);\n",
              "        }\n",
              "      </script>\n",
              "    </div>\n",
              "  </div>\n",
              "  "
            ]
          },
          "metadata": {},
          "execution_count": 159
        }
      ]
    },
    {
      "cell_type": "markdown",
      "source": [
        "**2. Identify Top Performing - Categories**\n",
        "\n",
        "-----"
      ],
      "metadata": {
        "id": "f9LgCmfsjA0i"
      }
    },
    {
      "cell_type": "markdown",
      "source": [
        "Let's identify Top Performing Free App categories within above Top 10 Genres"
      ],
      "metadata": {
        "id": "bxDL0bH2f5Rd"
      }
    },
    {
      "cell_type": "code",
      "source": [
        "# Merging Top10 genres dataframe with base dataframe (abv_avg_free_app_data_df) to filter App data belongs to these Top10 Genres.\n",
        "\n",
        "merged_free_top10_genres_df = pd.merge(abv_avg_free_app_data_df, top10_genres_free_df1, how='inner', left_on='Genres', right_on='Genres')\n",
        "merged_free_top10_genres_df.shape"
      ],
      "metadata": {
        "colab": {
          "base_uri": "https://localhost:8080/"
        },
        "id": "Nj33KSTMf83Q",
        "outputId": "5228a9e6-9443-4e5b-811f-1d6e3c72d28b"
      },
      "execution_count": 160,
      "outputs": [
        {
          "output_type": "execute_result",
          "data": {
            "text/plain": [
              "(269, 16)"
            ]
          },
          "metadata": {},
          "execution_count": 160
        }
      ]
    },
    {
      "cell_type": "code",
      "source": [
        "# Now, we have found 269 - Above Average performing free Apps\n",
        "\n",
        "# Now, let's sort this data in below order and identify Top high performing \"Categories\" in Free App Business Model\n",
        "\n",
        "# top_perf_cat_free_df1 = merged_free_top10_genres_df.groupby(\"Category\").mean().sort_values(by = ['Install','Rating','Reviews'], axis=0, ascending=[False, False, False], inplace=False)\n",
        "# top10_cat_free_df = top_perf_cat_free_df.head(10)\n",
        "# top10_cat_free_df\n",
        "\n",
        "abv_avg_free_app_data_df1 = merged_free_top10_genres_df.groupby(\"Category\").mean().sort_values(by = ['Installs','Rating','Reviews'], axis=0, ascending=[False, False, False], inplace=False)\n",
        "top10_cat_free_df = abv_avg_free_app_data_df1.head(10)\n",
        "top10_cat_free_df\n"
      ],
      "metadata": {
        "colab": {
          "base_uri": "https://localhost:8080/",
          "height": 363
        },
        "id": "6zPDnkxJgBfj",
        "outputId": "568298fe-e1aa-441f-8416-0a27fa6edac5"
      },
      "execution_count": 161,
      "outputs": [
        {
          "output_type": "execute_result",
          "data": {
            "text/plain": [
              "                      Rating       Reviews       Size      Installs  Price  \\\n",
              "Category                                                                     \n",
              "COMMUNICATION       4.374000  4.177945e+06  14.092000  1.520000e+08    0.0   \n",
              "TRAVEL_AND_LOCAL    4.447059  1.343522e+06  15.458824  1.470588e+08    0.0   \n",
              "PRODUCTIVITY        4.438889  1.273366e+06  16.936111  1.250000e+08    0.0   \n",
              "SOCIAL              4.366667  3.945468e+06  22.176667  1.200000e+08    0.0   \n",
              "FAMILY              4.430769  4.273849e+06  42.680769  1.003846e+08    0.0   \n",
              "NEWS_AND_MAGAZINES  4.383333  1.449862e+06  12.275000  9.500000e+07    0.0   \n",
              "TOOLS               4.470149  3.214588e+06  12.208955  9.373134e+07    0.0   \n",
              "VIDEO_PLAYERS       4.492000  2.511820e+06  21.896000  9.320000e+07    0.0   \n",
              "GAME                4.533333  4.347306e+06  43.333333  4.666667e+07    0.0   \n",
              "\n",
              "                    LastUpdated_Day  LastUpdated_Month  LastUpdated_Year  \n",
              "Category                                                                  \n",
              "COMMUNICATION             13.660000           7.020000       2017.960000  \n",
              "TRAVEL_AND_LOCAL          10.764706           7.588235       2018.000000  \n",
              "PRODUCTIVITY              10.416667           7.250000       2017.888889  \n",
              "SOCIAL                    13.300000           7.466667       2017.966667  \n",
              "FAMILY                    16.846154           6.500000       2017.846154  \n",
              "NEWS_AND_MAGAZINES        16.666667           7.333333       2018.000000  \n",
              "TOOLS                     13.417910           6.865672       2017.910448  \n",
              "VIDEO_PLAYERS             12.640000           7.800000       2017.760000  \n",
              "GAME                      11.833333           7.000000       2018.000000  "
            ],
            "text/html": [
              "\n",
              "  <div id=\"df-0b852432-f9f3-49aa-8f09-f18843c33fa9\">\n",
              "    <div class=\"colab-df-container\">\n",
              "      <div>\n",
              "<style scoped>\n",
              "    .dataframe tbody tr th:only-of-type {\n",
              "        vertical-align: middle;\n",
              "    }\n",
              "\n",
              "    .dataframe tbody tr th {\n",
              "        vertical-align: top;\n",
              "    }\n",
              "\n",
              "    .dataframe thead th {\n",
              "        text-align: right;\n",
              "    }\n",
              "</style>\n",
              "<table border=\"1\" class=\"dataframe\">\n",
              "  <thead>\n",
              "    <tr style=\"text-align: right;\">\n",
              "      <th></th>\n",
              "      <th>Rating</th>\n",
              "      <th>Reviews</th>\n",
              "      <th>Size</th>\n",
              "      <th>Installs</th>\n",
              "      <th>Price</th>\n",
              "      <th>LastUpdated_Day</th>\n",
              "      <th>LastUpdated_Month</th>\n",
              "      <th>LastUpdated_Year</th>\n",
              "    </tr>\n",
              "    <tr>\n",
              "      <th>Category</th>\n",
              "      <th></th>\n",
              "      <th></th>\n",
              "      <th></th>\n",
              "      <th></th>\n",
              "      <th></th>\n",
              "      <th></th>\n",
              "      <th></th>\n",
              "      <th></th>\n",
              "    </tr>\n",
              "  </thead>\n",
              "  <tbody>\n",
              "    <tr>\n",
              "      <th>COMMUNICATION</th>\n",
              "      <td>4.374000</td>\n",
              "      <td>4.177945e+06</td>\n",
              "      <td>14.092000</td>\n",
              "      <td>1.520000e+08</td>\n",
              "      <td>0.0</td>\n",
              "      <td>13.660000</td>\n",
              "      <td>7.020000</td>\n",
              "      <td>2017.960000</td>\n",
              "    </tr>\n",
              "    <tr>\n",
              "      <th>TRAVEL_AND_LOCAL</th>\n",
              "      <td>4.447059</td>\n",
              "      <td>1.343522e+06</td>\n",
              "      <td>15.458824</td>\n",
              "      <td>1.470588e+08</td>\n",
              "      <td>0.0</td>\n",
              "      <td>10.764706</td>\n",
              "      <td>7.588235</td>\n",
              "      <td>2018.000000</td>\n",
              "    </tr>\n",
              "    <tr>\n",
              "      <th>PRODUCTIVITY</th>\n",
              "      <td>4.438889</td>\n",
              "      <td>1.273366e+06</td>\n",
              "      <td>16.936111</td>\n",
              "      <td>1.250000e+08</td>\n",
              "      <td>0.0</td>\n",
              "      <td>10.416667</td>\n",
              "      <td>7.250000</td>\n",
              "      <td>2017.888889</td>\n",
              "    </tr>\n",
              "    <tr>\n",
              "      <th>SOCIAL</th>\n",
              "      <td>4.366667</td>\n",
              "      <td>3.945468e+06</td>\n",
              "      <td>22.176667</td>\n",
              "      <td>1.200000e+08</td>\n",
              "      <td>0.0</td>\n",
              "      <td>13.300000</td>\n",
              "      <td>7.466667</td>\n",
              "      <td>2017.966667</td>\n",
              "    </tr>\n",
              "    <tr>\n",
              "      <th>FAMILY</th>\n",
              "      <td>4.430769</td>\n",
              "      <td>4.273849e+06</td>\n",
              "      <td>42.680769</td>\n",
              "      <td>1.003846e+08</td>\n",
              "      <td>0.0</td>\n",
              "      <td>16.846154</td>\n",
              "      <td>6.500000</td>\n",
              "      <td>2017.846154</td>\n",
              "    </tr>\n",
              "    <tr>\n",
              "      <th>NEWS_AND_MAGAZINES</th>\n",
              "      <td>4.383333</td>\n",
              "      <td>1.449862e+06</td>\n",
              "      <td>12.275000</td>\n",
              "      <td>9.500000e+07</td>\n",
              "      <td>0.0</td>\n",
              "      <td>16.666667</td>\n",
              "      <td>7.333333</td>\n",
              "      <td>2018.000000</td>\n",
              "    </tr>\n",
              "    <tr>\n",
              "      <th>TOOLS</th>\n",
              "      <td>4.470149</td>\n",
              "      <td>3.214588e+06</td>\n",
              "      <td>12.208955</td>\n",
              "      <td>9.373134e+07</td>\n",
              "      <td>0.0</td>\n",
              "      <td>13.417910</td>\n",
              "      <td>6.865672</td>\n",
              "      <td>2017.910448</td>\n",
              "    </tr>\n",
              "    <tr>\n",
              "      <th>VIDEO_PLAYERS</th>\n",
              "      <td>4.492000</td>\n",
              "      <td>2.511820e+06</td>\n",
              "      <td>21.896000</td>\n",
              "      <td>9.320000e+07</td>\n",
              "      <td>0.0</td>\n",
              "      <td>12.640000</td>\n",
              "      <td>7.800000</td>\n",
              "      <td>2017.760000</td>\n",
              "    </tr>\n",
              "    <tr>\n",
              "      <th>GAME</th>\n",
              "      <td>4.533333</td>\n",
              "      <td>4.347306e+06</td>\n",
              "      <td>43.333333</td>\n",
              "      <td>4.666667e+07</td>\n",
              "      <td>0.0</td>\n",
              "      <td>11.833333</td>\n",
              "      <td>7.000000</td>\n",
              "      <td>2018.000000</td>\n",
              "    </tr>\n",
              "  </tbody>\n",
              "</table>\n",
              "</div>\n",
              "      <button class=\"colab-df-convert\" onclick=\"convertToInteractive('df-0b852432-f9f3-49aa-8f09-f18843c33fa9')\"\n",
              "              title=\"Convert this dataframe to an interactive table.\"\n",
              "              style=\"display:none;\">\n",
              "        \n",
              "  <svg xmlns=\"http://www.w3.org/2000/svg\" height=\"24px\"viewBox=\"0 0 24 24\"\n",
              "       width=\"24px\">\n",
              "    <path d=\"M0 0h24v24H0V0z\" fill=\"none\"/>\n",
              "    <path d=\"M18.56 5.44l.94 2.06.94-2.06 2.06-.94-2.06-.94-.94-2.06-.94 2.06-2.06.94zm-11 1L8.5 8.5l.94-2.06 2.06-.94-2.06-.94L8.5 2.5l-.94 2.06-2.06.94zm10 10l.94 2.06.94-2.06 2.06-.94-2.06-.94-.94-2.06-.94 2.06-2.06.94z\"/><path d=\"M17.41 7.96l-1.37-1.37c-.4-.4-.92-.59-1.43-.59-.52 0-1.04.2-1.43.59L10.3 9.45l-7.72 7.72c-.78.78-.78 2.05 0 2.83L4 21.41c.39.39.9.59 1.41.59.51 0 1.02-.2 1.41-.59l7.78-7.78 2.81-2.81c.8-.78.8-2.07 0-2.86zM5.41 20L4 18.59l7.72-7.72 1.47 1.35L5.41 20z\"/>\n",
              "  </svg>\n",
              "      </button>\n",
              "      \n",
              "  <style>\n",
              "    .colab-df-container {\n",
              "      display:flex;\n",
              "      flex-wrap:wrap;\n",
              "      gap: 12px;\n",
              "    }\n",
              "\n",
              "    .colab-df-convert {\n",
              "      background-color: #E8F0FE;\n",
              "      border: none;\n",
              "      border-radius: 50%;\n",
              "      cursor: pointer;\n",
              "      display: none;\n",
              "      fill: #1967D2;\n",
              "      height: 32px;\n",
              "      padding: 0 0 0 0;\n",
              "      width: 32px;\n",
              "    }\n",
              "\n",
              "    .colab-df-convert:hover {\n",
              "      background-color: #E2EBFA;\n",
              "      box-shadow: 0px 1px 2px rgba(60, 64, 67, 0.3), 0px 1px 3px 1px rgba(60, 64, 67, 0.15);\n",
              "      fill: #174EA6;\n",
              "    }\n",
              "\n",
              "    [theme=dark] .colab-df-convert {\n",
              "      background-color: #3B4455;\n",
              "      fill: #D2E3FC;\n",
              "    }\n",
              "\n",
              "    [theme=dark] .colab-df-convert:hover {\n",
              "      background-color: #434B5C;\n",
              "      box-shadow: 0px 1px 3px 1px rgba(0, 0, 0, 0.15);\n",
              "      filter: drop-shadow(0px 1px 2px rgba(0, 0, 0, 0.3));\n",
              "      fill: #FFFFFF;\n",
              "    }\n",
              "  </style>\n",
              "\n",
              "      <script>\n",
              "        const buttonEl =\n",
              "          document.querySelector('#df-0b852432-f9f3-49aa-8f09-f18843c33fa9 button.colab-df-convert');\n",
              "        buttonEl.style.display =\n",
              "          google.colab.kernel.accessAllowed ? 'block' : 'none';\n",
              "\n",
              "        async function convertToInteractive(key) {\n",
              "          const element = document.querySelector('#df-0b852432-f9f3-49aa-8f09-f18843c33fa9');\n",
              "          const dataTable =\n",
              "            await google.colab.kernel.invokeFunction('convertToInteractive',\n",
              "                                                     [key], {});\n",
              "          if (!dataTable) return;\n",
              "\n",
              "          const docLinkHtml = 'Like what you see? Visit the ' +\n",
              "            '<a target=\"_blank\" href=https://colab.research.google.com/notebooks/data_table.ipynb>data table notebook</a>'\n",
              "            + ' to learn more about interactive tables.';\n",
              "          element.innerHTML = '';\n",
              "          dataTable['output_type'] = 'display_data';\n",
              "          await google.colab.output.renderOutput(dataTable, element);\n",
              "          const docLink = document.createElement('div');\n",
              "          docLink.innerHTML = docLinkHtml;\n",
              "          element.appendChild(docLink);\n",
              "        }\n",
              "      </script>\n",
              "    </div>\n",
              "  </div>\n",
              "  "
            ]
          },
          "metadata": {},
          "execution_count": 161
        }
      ]
    },
    {
      "cell_type": "code",
      "source": [
        "# Let's get Top 10 Category names in Free Apps\n",
        "\n",
        "top10_cat_free_df1 = top10_cat_free_df.iloc[0:,:0]\n",
        "top10_cat_free_df1.reset_index()"
      ],
      "metadata": {
        "colab": {
          "base_uri": "https://localhost:8080/",
          "height": 332
        },
        "id": "TJoXJMq2gHvb",
        "outputId": "2569aaaf-e9be-4a9f-8e9f-92cb98577825"
      },
      "execution_count": 162,
      "outputs": [
        {
          "output_type": "execute_result",
          "data": {
            "text/plain": [
              "             Category\n",
              "0       COMMUNICATION\n",
              "1    TRAVEL_AND_LOCAL\n",
              "2        PRODUCTIVITY\n",
              "3              SOCIAL\n",
              "4              FAMILY\n",
              "5  NEWS_AND_MAGAZINES\n",
              "6               TOOLS\n",
              "7       VIDEO_PLAYERS\n",
              "8                GAME"
            ],
            "text/html": [
              "\n",
              "  <div id=\"df-336cc2ac-b4ab-40a1-bdca-e8e6d57492e0\">\n",
              "    <div class=\"colab-df-container\">\n",
              "      <div>\n",
              "<style scoped>\n",
              "    .dataframe tbody tr th:only-of-type {\n",
              "        vertical-align: middle;\n",
              "    }\n",
              "\n",
              "    .dataframe tbody tr th {\n",
              "        vertical-align: top;\n",
              "    }\n",
              "\n",
              "    .dataframe thead th {\n",
              "        text-align: right;\n",
              "    }\n",
              "</style>\n",
              "<table border=\"1\" class=\"dataframe\">\n",
              "  <thead>\n",
              "    <tr style=\"text-align: right;\">\n",
              "      <th></th>\n",
              "      <th>Category</th>\n",
              "    </tr>\n",
              "  </thead>\n",
              "  <tbody>\n",
              "    <tr>\n",
              "      <th>0</th>\n",
              "      <td>COMMUNICATION</td>\n",
              "    </tr>\n",
              "    <tr>\n",
              "      <th>1</th>\n",
              "      <td>TRAVEL_AND_LOCAL</td>\n",
              "    </tr>\n",
              "    <tr>\n",
              "      <th>2</th>\n",
              "      <td>PRODUCTIVITY</td>\n",
              "    </tr>\n",
              "    <tr>\n",
              "      <th>3</th>\n",
              "      <td>SOCIAL</td>\n",
              "    </tr>\n",
              "    <tr>\n",
              "      <th>4</th>\n",
              "      <td>FAMILY</td>\n",
              "    </tr>\n",
              "    <tr>\n",
              "      <th>5</th>\n",
              "      <td>NEWS_AND_MAGAZINES</td>\n",
              "    </tr>\n",
              "    <tr>\n",
              "      <th>6</th>\n",
              "      <td>TOOLS</td>\n",
              "    </tr>\n",
              "    <tr>\n",
              "      <th>7</th>\n",
              "      <td>VIDEO_PLAYERS</td>\n",
              "    </tr>\n",
              "    <tr>\n",
              "      <th>8</th>\n",
              "      <td>GAME</td>\n",
              "    </tr>\n",
              "  </tbody>\n",
              "</table>\n",
              "</div>\n",
              "      <button class=\"colab-df-convert\" onclick=\"convertToInteractive('df-336cc2ac-b4ab-40a1-bdca-e8e6d57492e0')\"\n",
              "              title=\"Convert this dataframe to an interactive table.\"\n",
              "              style=\"display:none;\">\n",
              "        \n",
              "  <svg xmlns=\"http://www.w3.org/2000/svg\" height=\"24px\"viewBox=\"0 0 24 24\"\n",
              "       width=\"24px\">\n",
              "    <path d=\"M0 0h24v24H0V0z\" fill=\"none\"/>\n",
              "    <path d=\"M18.56 5.44l.94 2.06.94-2.06 2.06-.94-2.06-.94-.94-2.06-.94 2.06-2.06.94zm-11 1L8.5 8.5l.94-2.06 2.06-.94-2.06-.94L8.5 2.5l-.94 2.06-2.06.94zm10 10l.94 2.06.94-2.06 2.06-.94-2.06-.94-.94-2.06-.94 2.06-2.06.94z\"/><path d=\"M17.41 7.96l-1.37-1.37c-.4-.4-.92-.59-1.43-.59-.52 0-1.04.2-1.43.59L10.3 9.45l-7.72 7.72c-.78.78-.78 2.05 0 2.83L4 21.41c.39.39.9.59 1.41.59.51 0 1.02-.2 1.41-.59l7.78-7.78 2.81-2.81c.8-.78.8-2.07 0-2.86zM5.41 20L4 18.59l7.72-7.72 1.47 1.35L5.41 20z\"/>\n",
              "  </svg>\n",
              "      </button>\n",
              "      \n",
              "  <style>\n",
              "    .colab-df-container {\n",
              "      display:flex;\n",
              "      flex-wrap:wrap;\n",
              "      gap: 12px;\n",
              "    }\n",
              "\n",
              "    .colab-df-convert {\n",
              "      background-color: #E8F0FE;\n",
              "      border: none;\n",
              "      border-radius: 50%;\n",
              "      cursor: pointer;\n",
              "      display: none;\n",
              "      fill: #1967D2;\n",
              "      height: 32px;\n",
              "      padding: 0 0 0 0;\n",
              "      width: 32px;\n",
              "    }\n",
              "\n",
              "    .colab-df-convert:hover {\n",
              "      background-color: #E2EBFA;\n",
              "      box-shadow: 0px 1px 2px rgba(60, 64, 67, 0.3), 0px 1px 3px 1px rgba(60, 64, 67, 0.15);\n",
              "      fill: #174EA6;\n",
              "    }\n",
              "\n",
              "    [theme=dark] .colab-df-convert {\n",
              "      background-color: #3B4455;\n",
              "      fill: #D2E3FC;\n",
              "    }\n",
              "\n",
              "    [theme=dark] .colab-df-convert:hover {\n",
              "      background-color: #434B5C;\n",
              "      box-shadow: 0px 1px 3px 1px rgba(0, 0, 0, 0.15);\n",
              "      filter: drop-shadow(0px 1px 2px rgba(0, 0, 0, 0.3));\n",
              "      fill: #FFFFFF;\n",
              "    }\n",
              "  </style>\n",
              "\n",
              "      <script>\n",
              "        const buttonEl =\n",
              "          document.querySelector('#df-336cc2ac-b4ab-40a1-bdca-e8e6d57492e0 button.colab-df-convert');\n",
              "        buttonEl.style.display =\n",
              "          google.colab.kernel.accessAllowed ? 'block' : 'none';\n",
              "\n",
              "        async function convertToInteractive(key) {\n",
              "          const element = document.querySelector('#df-336cc2ac-b4ab-40a1-bdca-e8e6d57492e0');\n",
              "          const dataTable =\n",
              "            await google.colab.kernel.invokeFunction('convertToInteractive',\n",
              "                                                     [key], {});\n",
              "          if (!dataTable) return;\n",
              "\n",
              "          const docLinkHtml = 'Like what you see? Visit the ' +\n",
              "            '<a target=\"_blank\" href=https://colab.research.google.com/notebooks/data_table.ipynb>data table notebook</a>'\n",
              "            + ' to learn more about interactive tables.';\n",
              "          element.innerHTML = '';\n",
              "          dataTable['output_type'] = 'display_data';\n",
              "          await google.colab.output.renderOutput(dataTable, element);\n",
              "          const docLink = document.createElement('div');\n",
              "          docLink.innerHTML = docLinkHtml;\n",
              "          element.appendChild(docLink);\n",
              "        }\n",
              "      </script>\n",
              "    </div>\n",
              "  </div>\n",
              "  "
            ]
          },
          "metadata": {},
          "execution_count": 162
        }
      ]
    },
    {
      "cell_type": "markdown",
      "source": [
        "**3. Identify Top Performing - Apps**\n",
        "\n",
        "-----"
      ],
      "metadata": {
        "id": "9QyVIRphgwJO"
      }
    },
    {
      "cell_type": "markdown",
      "source": [
        "Let's identify Top Performing Free App categories within above Top 10 Genres"
      ],
      "metadata": {
        "id": "_6NOhVjig1M0"
      }
    },
    {
      "cell_type": "code",
      "source": [
        "# Merging Top categories dataframe with base dataframe (abv_avg_free_app_data_df) to filter App data belongs to these Top Categories.\n",
        "\n",
        "merged_free_top_cat_df = pd.merge(merged_free_top10_genres_df, top10_cat_free_df1, how='inner', left_on='Category', right_on='Category')\n",
        "merged_free_top_cat_df.shape"
      ],
      "metadata": {
        "colab": {
          "base_uri": "https://localhost:8080/"
        },
        "id": "vy_pV8N2g3W8",
        "outputId": "1f0a32c2-1e9b-41ca-eec2-c3380a1f8007"
      },
      "execution_count": 163,
      "outputs": [
        {
          "output_type": "execute_result",
          "data": {
            "text/plain": [
              "(269, 16)"
            ]
          },
          "metadata": {},
          "execution_count": 163
        }
      ]
    },
    {
      "cell_type": "code",
      "source": [
        "# Now, we have found 269 - Above Average performing free Apps\n",
        "\n",
        "# Now, let's sort this data in below order and identify Top high performing Top 10 \"Apps\" in Free App Business Model\n",
        "\n",
        "top10_app_free_df = merged_free_top_cat_df.groupby(\"App\").sum().sort_values(by = ['Installs','Rating','Reviews'], axis=0, ascending=[False, False, False], inplace=False).head(10).reset_index()\n",
        "top10_app_free_df"
      ],
      "metadata": {
        "colab": {
          "base_uri": "https://localhost:8080/",
          "height": 363
        },
        "id": "kQuXeQjsg_df",
        "outputId": "905f4009-73ff-47a5-eac9-231007571402"
      },
      "execution_count": 164,
      "outputs": [
        {
          "output_type": "execute_result",
          "data": {
            "text/plain": [
              "                            App  Rating     Reviews  Size      Installs  \\\n",
              "0                     Instagram     4.5  66509917.0  12.0  1.000000e+09   \n",
              "1            WhatsApp Messenger     4.4  69109672.0  12.0  1.000000e+09   \n",
              "2                        Google     4.4   8021623.0  12.0  1.000000e+09   \n",
              "3                  Google Drive     4.4   2728941.0  12.0  1.000000e+09   \n",
              "4                       YouTube     4.3  25623548.0  12.0  1.000000e+09   \n",
              "5  Google Chrome: Fast & Secure     4.3   9642112.0  12.0  1.000000e+09   \n",
              "6     Maps - Navigate & Explore     4.3   9231613.0  12.0  1.000000e+09   \n",
              "7                         Gmail     4.3   4604324.0  12.0  1.000000e+09   \n",
              "8                       Google+     4.2   4828372.0  12.0  1.000000e+09   \n",
              "9            Google Street View     4.2   2129707.0  12.0  1.000000e+09   \n",
              "\n",
              "   Price  LastUpdated_Day  LastUpdated_Month  LastUpdated_Year  \n",
              "0    0.0               31                  7              2018  \n",
              "1    0.0                3                  8              2018  \n",
              "2    0.0                3                  8              2018  \n",
              "3    0.0               30                  7              2018  \n",
              "4    0.0                2                  8              2018  \n",
              "5    0.0                1                  8              2018  \n",
              "6    0.0               31                  7              2018  \n",
              "7    0.0                2                  8              2018  \n",
              "8    0.0               26                  7              2018  \n",
              "9    0.0                6                  8              2018  "
            ],
            "text/html": [
              "\n",
              "  <div id=\"df-f3da9ab3-5380-48db-ba24-e75808c55e6f\">\n",
              "    <div class=\"colab-df-container\">\n",
              "      <div>\n",
              "<style scoped>\n",
              "    .dataframe tbody tr th:only-of-type {\n",
              "        vertical-align: middle;\n",
              "    }\n",
              "\n",
              "    .dataframe tbody tr th {\n",
              "        vertical-align: top;\n",
              "    }\n",
              "\n",
              "    .dataframe thead th {\n",
              "        text-align: right;\n",
              "    }\n",
              "</style>\n",
              "<table border=\"1\" class=\"dataframe\">\n",
              "  <thead>\n",
              "    <tr style=\"text-align: right;\">\n",
              "      <th></th>\n",
              "      <th>App</th>\n",
              "      <th>Rating</th>\n",
              "      <th>Reviews</th>\n",
              "      <th>Size</th>\n",
              "      <th>Installs</th>\n",
              "      <th>Price</th>\n",
              "      <th>LastUpdated_Day</th>\n",
              "      <th>LastUpdated_Month</th>\n",
              "      <th>LastUpdated_Year</th>\n",
              "    </tr>\n",
              "  </thead>\n",
              "  <tbody>\n",
              "    <tr>\n",
              "      <th>0</th>\n",
              "      <td>Instagram</td>\n",
              "      <td>4.5</td>\n",
              "      <td>66509917.0</td>\n",
              "      <td>12.0</td>\n",
              "      <td>1.000000e+09</td>\n",
              "      <td>0.0</td>\n",
              "      <td>31</td>\n",
              "      <td>7</td>\n",
              "      <td>2018</td>\n",
              "    </tr>\n",
              "    <tr>\n",
              "      <th>1</th>\n",
              "      <td>WhatsApp Messenger</td>\n",
              "      <td>4.4</td>\n",
              "      <td>69109672.0</td>\n",
              "      <td>12.0</td>\n",
              "      <td>1.000000e+09</td>\n",
              "      <td>0.0</td>\n",
              "      <td>3</td>\n",
              "      <td>8</td>\n",
              "      <td>2018</td>\n",
              "    </tr>\n",
              "    <tr>\n",
              "      <th>2</th>\n",
              "      <td>Google</td>\n",
              "      <td>4.4</td>\n",
              "      <td>8021623.0</td>\n",
              "      <td>12.0</td>\n",
              "      <td>1.000000e+09</td>\n",
              "      <td>0.0</td>\n",
              "      <td>3</td>\n",
              "      <td>8</td>\n",
              "      <td>2018</td>\n",
              "    </tr>\n",
              "    <tr>\n",
              "      <th>3</th>\n",
              "      <td>Google Drive</td>\n",
              "      <td>4.4</td>\n",
              "      <td>2728941.0</td>\n",
              "      <td>12.0</td>\n",
              "      <td>1.000000e+09</td>\n",
              "      <td>0.0</td>\n",
              "      <td>30</td>\n",
              "      <td>7</td>\n",
              "      <td>2018</td>\n",
              "    </tr>\n",
              "    <tr>\n",
              "      <th>4</th>\n",
              "      <td>YouTube</td>\n",
              "      <td>4.3</td>\n",
              "      <td>25623548.0</td>\n",
              "      <td>12.0</td>\n",
              "      <td>1.000000e+09</td>\n",
              "      <td>0.0</td>\n",
              "      <td>2</td>\n",
              "      <td>8</td>\n",
              "      <td>2018</td>\n",
              "    </tr>\n",
              "    <tr>\n",
              "      <th>5</th>\n",
              "      <td>Google Chrome: Fast &amp; Secure</td>\n",
              "      <td>4.3</td>\n",
              "      <td>9642112.0</td>\n",
              "      <td>12.0</td>\n",
              "      <td>1.000000e+09</td>\n",
              "      <td>0.0</td>\n",
              "      <td>1</td>\n",
              "      <td>8</td>\n",
              "      <td>2018</td>\n",
              "    </tr>\n",
              "    <tr>\n",
              "      <th>6</th>\n",
              "      <td>Maps - Navigate &amp; Explore</td>\n",
              "      <td>4.3</td>\n",
              "      <td>9231613.0</td>\n",
              "      <td>12.0</td>\n",
              "      <td>1.000000e+09</td>\n",
              "      <td>0.0</td>\n",
              "      <td>31</td>\n",
              "      <td>7</td>\n",
              "      <td>2018</td>\n",
              "    </tr>\n",
              "    <tr>\n",
              "      <th>7</th>\n",
              "      <td>Gmail</td>\n",
              "      <td>4.3</td>\n",
              "      <td>4604324.0</td>\n",
              "      <td>12.0</td>\n",
              "      <td>1.000000e+09</td>\n",
              "      <td>0.0</td>\n",
              "      <td>2</td>\n",
              "      <td>8</td>\n",
              "      <td>2018</td>\n",
              "    </tr>\n",
              "    <tr>\n",
              "      <th>8</th>\n",
              "      <td>Google+</td>\n",
              "      <td>4.2</td>\n",
              "      <td>4828372.0</td>\n",
              "      <td>12.0</td>\n",
              "      <td>1.000000e+09</td>\n",
              "      <td>0.0</td>\n",
              "      <td>26</td>\n",
              "      <td>7</td>\n",
              "      <td>2018</td>\n",
              "    </tr>\n",
              "    <tr>\n",
              "      <th>9</th>\n",
              "      <td>Google Street View</td>\n",
              "      <td>4.2</td>\n",
              "      <td>2129707.0</td>\n",
              "      <td>12.0</td>\n",
              "      <td>1.000000e+09</td>\n",
              "      <td>0.0</td>\n",
              "      <td>6</td>\n",
              "      <td>8</td>\n",
              "      <td>2018</td>\n",
              "    </tr>\n",
              "  </tbody>\n",
              "</table>\n",
              "</div>\n",
              "      <button class=\"colab-df-convert\" onclick=\"convertToInteractive('df-f3da9ab3-5380-48db-ba24-e75808c55e6f')\"\n",
              "              title=\"Convert this dataframe to an interactive table.\"\n",
              "              style=\"display:none;\">\n",
              "        \n",
              "  <svg xmlns=\"http://www.w3.org/2000/svg\" height=\"24px\"viewBox=\"0 0 24 24\"\n",
              "       width=\"24px\">\n",
              "    <path d=\"M0 0h24v24H0V0z\" fill=\"none\"/>\n",
              "    <path d=\"M18.56 5.44l.94 2.06.94-2.06 2.06-.94-2.06-.94-.94-2.06-.94 2.06-2.06.94zm-11 1L8.5 8.5l.94-2.06 2.06-.94-2.06-.94L8.5 2.5l-.94 2.06-2.06.94zm10 10l.94 2.06.94-2.06 2.06-.94-2.06-.94-.94-2.06-.94 2.06-2.06.94z\"/><path d=\"M17.41 7.96l-1.37-1.37c-.4-.4-.92-.59-1.43-.59-.52 0-1.04.2-1.43.59L10.3 9.45l-7.72 7.72c-.78.78-.78 2.05 0 2.83L4 21.41c.39.39.9.59 1.41.59.51 0 1.02-.2 1.41-.59l7.78-7.78 2.81-2.81c.8-.78.8-2.07 0-2.86zM5.41 20L4 18.59l7.72-7.72 1.47 1.35L5.41 20z\"/>\n",
              "  </svg>\n",
              "      </button>\n",
              "      \n",
              "  <style>\n",
              "    .colab-df-container {\n",
              "      display:flex;\n",
              "      flex-wrap:wrap;\n",
              "      gap: 12px;\n",
              "    }\n",
              "\n",
              "    .colab-df-convert {\n",
              "      background-color: #E8F0FE;\n",
              "      border: none;\n",
              "      border-radius: 50%;\n",
              "      cursor: pointer;\n",
              "      display: none;\n",
              "      fill: #1967D2;\n",
              "      height: 32px;\n",
              "      padding: 0 0 0 0;\n",
              "      width: 32px;\n",
              "    }\n",
              "\n",
              "    .colab-df-convert:hover {\n",
              "      background-color: #E2EBFA;\n",
              "      box-shadow: 0px 1px 2px rgba(60, 64, 67, 0.3), 0px 1px 3px 1px rgba(60, 64, 67, 0.15);\n",
              "      fill: #174EA6;\n",
              "    }\n",
              "\n",
              "    [theme=dark] .colab-df-convert {\n",
              "      background-color: #3B4455;\n",
              "      fill: #D2E3FC;\n",
              "    }\n",
              "\n",
              "    [theme=dark] .colab-df-convert:hover {\n",
              "      background-color: #434B5C;\n",
              "      box-shadow: 0px 1px 3px 1px rgba(0, 0, 0, 0.15);\n",
              "      filter: drop-shadow(0px 1px 2px rgba(0, 0, 0, 0.3));\n",
              "      fill: #FFFFFF;\n",
              "    }\n",
              "  </style>\n",
              "\n",
              "      <script>\n",
              "        const buttonEl =\n",
              "          document.querySelector('#df-f3da9ab3-5380-48db-ba24-e75808c55e6f button.colab-df-convert');\n",
              "        buttonEl.style.display =\n",
              "          google.colab.kernel.accessAllowed ? 'block' : 'none';\n",
              "\n",
              "        async function convertToInteractive(key) {\n",
              "          const element = document.querySelector('#df-f3da9ab3-5380-48db-ba24-e75808c55e6f');\n",
              "          const dataTable =\n",
              "            await google.colab.kernel.invokeFunction('convertToInteractive',\n",
              "                                                     [key], {});\n",
              "          if (!dataTable) return;\n",
              "\n",
              "          const docLinkHtml = 'Like what you see? Visit the ' +\n",
              "            '<a target=\"_blank\" href=https://colab.research.google.com/notebooks/data_table.ipynb>data table notebook</a>'\n",
              "            + ' to learn more about interactive tables.';\n",
              "          element.innerHTML = '';\n",
              "          dataTable['output_type'] = 'display_data';\n",
              "          await google.colab.output.renderOutput(dataTable, element);\n",
              "          const docLink = document.createElement('div');\n",
              "          docLink.innerHTML = docLinkHtml;\n",
              "          element.appendChild(docLink);\n",
              "        }\n",
              "      </script>\n",
              "    </div>\n",
              "  </div>\n",
              "  "
            ]
          },
          "metadata": {},
          "execution_count": 164
        }
      ]
    },
    {
      "cell_type": "markdown",
      "source": [
        "### Free Apps\n",
        "-----"
      ],
      "metadata": {
        "id": "6rsvDK6rjuT0"
      }
    },
    {
      "cell_type": "markdown",
      "source": [
        "**1. Identify Top Performing - Genres**\n",
        "\n",
        "-----"
      ],
      "metadata": {
        "id": "oTQBLGXHj16_"
      }
    },
    {
      "cell_type": "code",
      "source": [
        "# Checked Paid App data Stat to understand the \"Genres\" having Above Average success on Important parameters like,\n",
        "# Installs | Rating | Reviews\n",
        "\n",
        "paid_app_df.describe()"
      ],
      "metadata": {
        "colab": {
          "base_uri": "https://localhost:8080/",
          "height": 300
        },
        "id": "2FgNdJFej_ta",
        "outputId": "21e4ab20-37a2-4f83-8e0e-216c37c44a6a"
      },
      "execution_count": 165,
      "outputs": [
        {
          "output_type": "execute_result",
          "data": {
            "text/plain": [
              "           Rating       Reviews        Size      Installs       Price  \\\n",
              "count  754.000000  7.540000e+02  754.000000  7.540000e+02  754.000000   \n",
              "mean     4.269761  8.746374e+03   18.385809  7.607929e+04   14.055902   \n",
              "std      0.497631  8.996140e+04   21.233397  5.396857e+05   58.821000   \n",
              "min      1.000000  0.000000e+00    0.014000  0.000000e+00    0.990000   \n",
              "25%      4.200000  6.000000e+00    3.300000  1.000000e+02    1.490000   \n",
              "50%      4.300000  8.850000e+01   12.000000  1.000000e+03    2.990000   \n",
              "75%      4.600000  1.215250e+03   25.000000  1.000000e+04    4.990000   \n",
              "max      5.000000  2.375336e+06  100.000000  1.000000e+07  400.000000   \n",
              "\n",
              "       LastUpdated_Day  LastUpdated_Month  LastUpdated_Year  \n",
              "count       754.000000         754.000000        754.000000  \n",
              "mean         15.555703           6.316976       2016.677719  \n",
              "std           8.871980           3.050100          1.555817  \n",
              "min           1.000000           1.000000       2011.000000  \n",
              "25%           8.000000           4.000000       2016.000000  \n",
              "50%          16.000000           6.000000       2017.000000  \n",
              "75%          23.000000           8.000000       2018.000000  \n",
              "max          31.000000          12.000000       2018.000000  "
            ],
            "text/html": [
              "\n",
              "  <div id=\"df-730bf301-f4aa-49ba-b124-dd4a94c6e35d\">\n",
              "    <div class=\"colab-df-container\">\n",
              "      <div>\n",
              "<style scoped>\n",
              "    .dataframe tbody tr th:only-of-type {\n",
              "        vertical-align: middle;\n",
              "    }\n",
              "\n",
              "    .dataframe tbody tr th {\n",
              "        vertical-align: top;\n",
              "    }\n",
              "\n",
              "    .dataframe thead th {\n",
              "        text-align: right;\n",
              "    }\n",
              "</style>\n",
              "<table border=\"1\" class=\"dataframe\">\n",
              "  <thead>\n",
              "    <tr style=\"text-align: right;\">\n",
              "      <th></th>\n",
              "      <th>Rating</th>\n",
              "      <th>Reviews</th>\n",
              "      <th>Size</th>\n",
              "      <th>Installs</th>\n",
              "      <th>Price</th>\n",
              "      <th>LastUpdated_Day</th>\n",
              "      <th>LastUpdated_Month</th>\n",
              "      <th>LastUpdated_Year</th>\n",
              "    </tr>\n",
              "  </thead>\n",
              "  <tbody>\n",
              "    <tr>\n",
              "      <th>count</th>\n",
              "      <td>754.000000</td>\n",
              "      <td>7.540000e+02</td>\n",
              "      <td>754.000000</td>\n",
              "      <td>7.540000e+02</td>\n",
              "      <td>754.000000</td>\n",
              "      <td>754.000000</td>\n",
              "      <td>754.000000</td>\n",
              "      <td>754.000000</td>\n",
              "    </tr>\n",
              "    <tr>\n",
              "      <th>mean</th>\n",
              "      <td>4.269761</td>\n",
              "      <td>8.746374e+03</td>\n",
              "      <td>18.385809</td>\n",
              "      <td>7.607929e+04</td>\n",
              "      <td>14.055902</td>\n",
              "      <td>15.555703</td>\n",
              "      <td>6.316976</td>\n",
              "      <td>2016.677719</td>\n",
              "    </tr>\n",
              "    <tr>\n",
              "      <th>std</th>\n",
              "      <td>0.497631</td>\n",
              "      <td>8.996140e+04</td>\n",
              "      <td>21.233397</td>\n",
              "      <td>5.396857e+05</td>\n",
              "      <td>58.821000</td>\n",
              "      <td>8.871980</td>\n",
              "      <td>3.050100</td>\n",
              "      <td>1.555817</td>\n",
              "    </tr>\n",
              "    <tr>\n",
              "      <th>min</th>\n",
              "      <td>1.000000</td>\n",
              "      <td>0.000000e+00</td>\n",
              "      <td>0.014000</td>\n",
              "      <td>0.000000e+00</td>\n",
              "      <td>0.990000</td>\n",
              "      <td>1.000000</td>\n",
              "      <td>1.000000</td>\n",
              "      <td>2011.000000</td>\n",
              "    </tr>\n",
              "    <tr>\n",
              "      <th>25%</th>\n",
              "      <td>4.200000</td>\n",
              "      <td>6.000000e+00</td>\n",
              "      <td>3.300000</td>\n",
              "      <td>1.000000e+02</td>\n",
              "      <td>1.490000</td>\n",
              "      <td>8.000000</td>\n",
              "      <td>4.000000</td>\n",
              "      <td>2016.000000</td>\n",
              "    </tr>\n",
              "    <tr>\n",
              "      <th>50%</th>\n",
              "      <td>4.300000</td>\n",
              "      <td>8.850000e+01</td>\n",
              "      <td>12.000000</td>\n",
              "      <td>1.000000e+03</td>\n",
              "      <td>2.990000</td>\n",
              "      <td>16.000000</td>\n",
              "      <td>6.000000</td>\n",
              "      <td>2017.000000</td>\n",
              "    </tr>\n",
              "    <tr>\n",
              "      <th>75%</th>\n",
              "      <td>4.600000</td>\n",
              "      <td>1.215250e+03</td>\n",
              "      <td>25.000000</td>\n",
              "      <td>1.000000e+04</td>\n",
              "      <td>4.990000</td>\n",
              "      <td>23.000000</td>\n",
              "      <td>8.000000</td>\n",
              "      <td>2018.000000</td>\n",
              "    </tr>\n",
              "    <tr>\n",
              "      <th>max</th>\n",
              "      <td>5.000000</td>\n",
              "      <td>2.375336e+06</td>\n",
              "      <td>100.000000</td>\n",
              "      <td>1.000000e+07</td>\n",
              "      <td>400.000000</td>\n",
              "      <td>31.000000</td>\n",
              "      <td>12.000000</td>\n",
              "      <td>2018.000000</td>\n",
              "    </tr>\n",
              "  </tbody>\n",
              "</table>\n",
              "</div>\n",
              "      <button class=\"colab-df-convert\" onclick=\"convertToInteractive('df-730bf301-f4aa-49ba-b124-dd4a94c6e35d')\"\n",
              "              title=\"Convert this dataframe to an interactive table.\"\n",
              "              style=\"display:none;\">\n",
              "        \n",
              "  <svg xmlns=\"http://www.w3.org/2000/svg\" height=\"24px\"viewBox=\"0 0 24 24\"\n",
              "       width=\"24px\">\n",
              "    <path d=\"M0 0h24v24H0V0z\" fill=\"none\"/>\n",
              "    <path d=\"M18.56 5.44l.94 2.06.94-2.06 2.06-.94-2.06-.94-.94-2.06-.94 2.06-2.06.94zm-11 1L8.5 8.5l.94-2.06 2.06-.94-2.06-.94L8.5 2.5l-.94 2.06-2.06.94zm10 10l.94 2.06.94-2.06 2.06-.94-2.06-.94-.94-2.06-.94 2.06-2.06.94z\"/><path d=\"M17.41 7.96l-1.37-1.37c-.4-.4-.92-.59-1.43-.59-.52 0-1.04.2-1.43.59L10.3 9.45l-7.72 7.72c-.78.78-.78 2.05 0 2.83L4 21.41c.39.39.9.59 1.41.59.51 0 1.02-.2 1.41-.59l7.78-7.78 2.81-2.81c.8-.78.8-2.07 0-2.86zM5.41 20L4 18.59l7.72-7.72 1.47 1.35L5.41 20z\"/>\n",
              "  </svg>\n",
              "      </button>\n",
              "      \n",
              "  <style>\n",
              "    .colab-df-container {\n",
              "      display:flex;\n",
              "      flex-wrap:wrap;\n",
              "      gap: 12px;\n",
              "    }\n",
              "\n",
              "    .colab-df-convert {\n",
              "      background-color: #E8F0FE;\n",
              "      border: none;\n",
              "      border-radius: 50%;\n",
              "      cursor: pointer;\n",
              "      display: none;\n",
              "      fill: #1967D2;\n",
              "      height: 32px;\n",
              "      padding: 0 0 0 0;\n",
              "      width: 32px;\n",
              "    }\n",
              "\n",
              "    .colab-df-convert:hover {\n",
              "      background-color: #E2EBFA;\n",
              "      box-shadow: 0px 1px 2px rgba(60, 64, 67, 0.3), 0px 1px 3px 1px rgba(60, 64, 67, 0.15);\n",
              "      fill: #174EA6;\n",
              "    }\n",
              "\n",
              "    [theme=dark] .colab-df-convert {\n",
              "      background-color: #3B4455;\n",
              "      fill: #D2E3FC;\n",
              "    }\n",
              "\n",
              "    [theme=dark] .colab-df-convert:hover {\n",
              "      background-color: #434B5C;\n",
              "      box-shadow: 0px 1px 3px 1px rgba(0, 0, 0, 0.15);\n",
              "      filter: drop-shadow(0px 1px 2px rgba(0, 0, 0, 0.3));\n",
              "      fill: #FFFFFF;\n",
              "    }\n",
              "  </style>\n",
              "\n",
              "      <script>\n",
              "        const buttonEl =\n",
              "          document.querySelector('#df-730bf301-f4aa-49ba-b124-dd4a94c6e35d button.colab-df-convert');\n",
              "        buttonEl.style.display =\n",
              "          google.colab.kernel.accessAllowed ? 'block' : 'none';\n",
              "\n",
              "        async function convertToInteractive(key) {\n",
              "          const element = document.querySelector('#df-730bf301-f4aa-49ba-b124-dd4a94c6e35d');\n",
              "          const dataTable =\n",
              "            await google.colab.kernel.invokeFunction('convertToInteractive',\n",
              "                                                     [key], {});\n",
              "          if (!dataTable) return;\n",
              "\n",
              "          const docLinkHtml = 'Like what you see? Visit the ' +\n",
              "            '<a target=\"_blank\" href=https://colab.research.google.com/notebooks/data_table.ipynb>data table notebook</a>'\n",
              "            + ' to learn more about interactive tables.';\n",
              "          element.innerHTML = '';\n",
              "          dataTable['output_type'] = 'display_data';\n",
              "          await google.colab.output.renderOutput(dataTable, element);\n",
              "          const docLink = document.createElement('div');\n",
              "          docLink.innerHTML = docLinkHtml;\n",
              "          element.appendChild(docLink);\n",
              "        }\n",
              "      </script>\n",
              "    </div>\n",
              "  </div>\n",
              "  "
            ]
          },
          "metadata": {},
          "execution_count": 165
        }
      ]
    },
    {
      "cell_type": "markdown",
      "source": [
        "There are three important parameters, which \"Customers\" check before subscribing any App\n",
        "1. No of Installs / Subscriptions\n",
        "2. Rating of the App\n",
        "3. No of Reviews recieved by App\n",
        "\n",
        "-------------------------------------------------------------------------------------------------------------------------------------\n",
        "\n",
        "Hence, as per above stat description table, we need to filter out above average performers (Genres | Cateogory | Apps) on below parameters KPIs\n",
        "\n",
        "1. Avg Installs = 7.607929e+04\n",
        "2. Median Rating = 4.269761 \n",
        "3. Avg Reviews = 8.746374e+03\n",
        "-----"
      ],
      "metadata": {
        "id": "A32mc-GykEvf"
      }
    },
    {
      "cell_type": "code",
      "source": [
        "# Filter paid app data as per above criteria & check shape of dataset to understand output data\n",
        "\n",
        "abv_avg_paid_app_data_df = paid_app_df[ (paid_app_df['Installs'] > 7.607929e+04) & (paid_app_df['Rating'] > 4.269761) & (paid_app_df['Reviews'] > 8.746374e+03)]\n",
        "abv_avg_paid_app_data_df.shape"
      ],
      "metadata": {
        "colab": {
          "base_uri": "https://localhost:8080/"
        },
        "id": "7Uo30b1IkUcH",
        "outputId": "2d19c707-bce5-49aa-80a1-3196d0db82ae"
      },
      "execution_count": 166,
      "outputs": [
        {
          "output_type": "execute_result",
          "data": {
            "text/plain": [
              "(73, 16)"
            ]
          },
          "metadata": {},
          "execution_count": 166
        }
      ]
    },
    {
      "cell_type": "code",
      "source": [
        "# We have found 73 - Above Average performing paid Apps\n",
        "\n",
        "# Now, let's sort this data in below order and \n",
        "# identify Top 20 high performing \"Genres\" in paid App Business Model (Due to Low App data and to have good sample size to filter it down)\n",
        "\n",
        "top20_genres_paid_df = abv_avg_paid_app_data_df.groupby(\"Genres\").mean().sort_values(by = ['Installs','Rating','Reviews'], axis=0, ascending=[False, False, False], inplace=False).head(20)\n",
        "top20_genres_paid_df1= top20_genres_paid_df.iloc[0:,:0]\n",
        "top20_genres_paid_df1"
      ],
      "metadata": {
        "colab": {
          "base_uri": "https://localhost:8080/",
          "height": 690
        },
        "id": "nI4P9wklkYAc",
        "outputId": "0696234e-90bf-4e75-aa1a-73d51d1e3b24"
      },
      "execution_count": 167,
      "outputs": [
        {
          "output_type": "execute_result",
          "data": {
            "text/plain": [
              "Empty DataFrame\n",
              "Columns: []\n",
              "Index: [Arcade;Action & Adventure, Action, Communication, Lifestyle, Sports, Card;Action & Adventure, Arcade, Strategy, Puzzle;Brain Games, Photography, Education;Pretend Play, Sports;Action & Adventure, Adventure, Personalization, Tools, Productivity, Puzzle, Role Playing, Weather, Business]"
            ],
            "text/html": [
              "\n",
              "  <div id=\"df-ee5c46c6-2842-4de2-9c97-8d7b0e3adb28\">\n",
              "    <div class=\"colab-df-container\">\n",
              "      <div>\n",
              "<style scoped>\n",
              "    .dataframe tbody tr th:only-of-type {\n",
              "        vertical-align: middle;\n",
              "    }\n",
              "\n",
              "    .dataframe tbody tr th {\n",
              "        vertical-align: top;\n",
              "    }\n",
              "\n",
              "    .dataframe thead th {\n",
              "        text-align: right;\n",
              "    }\n",
              "</style>\n",
              "<table border=\"1\" class=\"dataframe\">\n",
              "  <thead>\n",
              "    <tr style=\"text-align: right;\">\n",
              "      <th></th>\n",
              "    </tr>\n",
              "    <tr>\n",
              "      <th>Genres</th>\n",
              "    </tr>\n",
              "  </thead>\n",
              "  <tbody>\n",
              "    <tr>\n",
              "      <th>Arcade;Action &amp; Adventure</th>\n",
              "    </tr>\n",
              "    <tr>\n",
              "      <th>Action</th>\n",
              "    </tr>\n",
              "    <tr>\n",
              "      <th>Communication</th>\n",
              "    </tr>\n",
              "    <tr>\n",
              "      <th>Lifestyle</th>\n",
              "    </tr>\n",
              "    <tr>\n",
              "      <th>Sports</th>\n",
              "    </tr>\n",
              "    <tr>\n",
              "      <th>Card;Action &amp; Adventure</th>\n",
              "    </tr>\n",
              "    <tr>\n",
              "      <th>Arcade</th>\n",
              "    </tr>\n",
              "    <tr>\n",
              "      <th>Strategy</th>\n",
              "    </tr>\n",
              "    <tr>\n",
              "      <th>Puzzle;Brain Games</th>\n",
              "    </tr>\n",
              "    <tr>\n",
              "      <th>Photography</th>\n",
              "    </tr>\n",
              "    <tr>\n",
              "      <th>Education;Pretend Play</th>\n",
              "    </tr>\n",
              "    <tr>\n",
              "      <th>Sports;Action &amp; Adventure</th>\n",
              "    </tr>\n",
              "    <tr>\n",
              "      <th>Adventure</th>\n",
              "    </tr>\n",
              "    <tr>\n",
              "      <th>Personalization</th>\n",
              "    </tr>\n",
              "    <tr>\n",
              "      <th>Tools</th>\n",
              "    </tr>\n",
              "    <tr>\n",
              "      <th>Productivity</th>\n",
              "    </tr>\n",
              "    <tr>\n",
              "      <th>Puzzle</th>\n",
              "    </tr>\n",
              "    <tr>\n",
              "      <th>Role Playing</th>\n",
              "    </tr>\n",
              "    <tr>\n",
              "      <th>Weather</th>\n",
              "    </tr>\n",
              "    <tr>\n",
              "      <th>Business</th>\n",
              "    </tr>\n",
              "  </tbody>\n",
              "</table>\n",
              "</div>\n",
              "      <button class=\"colab-df-convert\" onclick=\"convertToInteractive('df-ee5c46c6-2842-4de2-9c97-8d7b0e3adb28')\"\n",
              "              title=\"Convert this dataframe to an interactive table.\"\n",
              "              style=\"display:none;\">\n",
              "        \n",
              "  <svg xmlns=\"http://www.w3.org/2000/svg\" height=\"24px\"viewBox=\"0 0 24 24\"\n",
              "       width=\"24px\">\n",
              "    <path d=\"M0 0h24v24H0V0z\" fill=\"none\"/>\n",
              "    <path d=\"M18.56 5.44l.94 2.06.94-2.06 2.06-.94-2.06-.94-.94-2.06-.94 2.06-2.06.94zm-11 1L8.5 8.5l.94-2.06 2.06-.94-2.06-.94L8.5 2.5l-.94 2.06-2.06.94zm10 10l.94 2.06.94-2.06 2.06-.94-2.06-.94-.94-2.06-.94 2.06-2.06.94z\"/><path d=\"M17.41 7.96l-1.37-1.37c-.4-.4-.92-.59-1.43-.59-.52 0-1.04.2-1.43.59L10.3 9.45l-7.72 7.72c-.78.78-.78 2.05 0 2.83L4 21.41c.39.39.9.59 1.41.59.51 0 1.02-.2 1.41-.59l7.78-7.78 2.81-2.81c.8-.78.8-2.07 0-2.86zM5.41 20L4 18.59l7.72-7.72 1.47 1.35L5.41 20z\"/>\n",
              "  </svg>\n",
              "      </button>\n",
              "      \n",
              "  <style>\n",
              "    .colab-df-container {\n",
              "      display:flex;\n",
              "      flex-wrap:wrap;\n",
              "      gap: 12px;\n",
              "    }\n",
              "\n",
              "    .colab-df-convert {\n",
              "      background-color: #E8F0FE;\n",
              "      border: none;\n",
              "      border-radius: 50%;\n",
              "      cursor: pointer;\n",
              "      display: none;\n",
              "      fill: #1967D2;\n",
              "      height: 32px;\n",
              "      padding: 0 0 0 0;\n",
              "      width: 32px;\n",
              "    }\n",
              "\n",
              "    .colab-df-convert:hover {\n",
              "      background-color: #E2EBFA;\n",
              "      box-shadow: 0px 1px 2px rgba(60, 64, 67, 0.3), 0px 1px 3px 1px rgba(60, 64, 67, 0.15);\n",
              "      fill: #174EA6;\n",
              "    }\n",
              "\n",
              "    [theme=dark] .colab-df-convert {\n",
              "      background-color: #3B4455;\n",
              "      fill: #D2E3FC;\n",
              "    }\n",
              "\n",
              "    [theme=dark] .colab-df-convert:hover {\n",
              "      background-color: #434B5C;\n",
              "      box-shadow: 0px 1px 3px 1px rgba(0, 0, 0, 0.15);\n",
              "      filter: drop-shadow(0px 1px 2px rgba(0, 0, 0, 0.3));\n",
              "      fill: #FFFFFF;\n",
              "    }\n",
              "  </style>\n",
              "\n",
              "      <script>\n",
              "        const buttonEl =\n",
              "          document.querySelector('#df-ee5c46c6-2842-4de2-9c97-8d7b0e3adb28 button.colab-df-convert');\n",
              "        buttonEl.style.display =\n",
              "          google.colab.kernel.accessAllowed ? 'block' : 'none';\n",
              "\n",
              "        async function convertToInteractive(key) {\n",
              "          const element = document.querySelector('#df-ee5c46c6-2842-4de2-9c97-8d7b0e3adb28');\n",
              "          const dataTable =\n",
              "            await google.colab.kernel.invokeFunction('convertToInteractive',\n",
              "                                                     [key], {});\n",
              "          if (!dataTable) return;\n",
              "\n",
              "          const docLinkHtml = 'Like what you see? Visit the ' +\n",
              "            '<a target=\"_blank\" href=https://colab.research.google.com/notebooks/data_table.ipynb>data table notebook</a>'\n",
              "            + ' to learn more about interactive tables.';\n",
              "          element.innerHTML = '';\n",
              "          dataTable['output_type'] = 'display_data';\n",
              "          await google.colab.output.renderOutput(dataTable, element);\n",
              "          const docLink = document.createElement('div');\n",
              "          docLink.innerHTML = docLinkHtml;\n",
              "          element.appendChild(docLink);\n",
              "        }\n",
              "      </script>\n",
              "    </div>\n",
              "  </div>\n",
              "  "
            ]
          },
          "metadata": {},
          "execution_count": 167
        }
      ]
    },
    {
      "cell_type": "markdown",
      "source": [
        "**2. Identify Top Performing - Categories**\n",
        "\n",
        "-----"
      ],
      "metadata": {
        "id": "Hbo80Wdtkk5L"
      }
    },
    {
      "cell_type": "markdown",
      "source": [
        "Let's identify Top Performing Free App categories within above Top 10 Genres"
      ],
      "metadata": {
        "id": "fNhQB9sVkqpe"
      }
    },
    {
      "cell_type": "code",
      "source": [
        "# Merging Top20 genres dataframe with base dataframe (abv_avg_paid_app_data_df) to filter App data belongs to these Top20 Genres.\n",
        "\n",
        "merged_paid_top20_genres_df = pd.merge(abv_avg_paid_app_data_df, top20_genres_paid_df1, how='inner', left_on='Genres', right_on='Genres')\n",
        "merged_paid_top20_genres_df.shape"
      ],
      "metadata": {
        "colab": {
          "base_uri": "https://localhost:8080/"
        },
        "id": "uZ8_jpnNkrQJ",
        "outputId": "45308d85-c0b9-49cb-ef39-162f7291cdb7"
      },
      "execution_count": 168,
      "outputs": [
        {
          "output_type": "execute_result",
          "data": {
            "text/plain": [
              "(60, 16)"
            ]
          },
          "metadata": {},
          "execution_count": 168
        }
      ]
    },
    {
      "cell_type": "code",
      "source": [
        "# Now, we have found 60 - Above Average performing paid Apps\n",
        "\n",
        "# Now, let's sort this data in below order and identify Top 10 high performing \"Categories\" in Paid App Business Model\n",
        "\n",
        "top10_cat_paid_df = merged_paid_top20_genres_df.groupby(\"Category\").mean().sort_values(by = ['Installs','Rating','Reviews'], axis=0, ascending=[False, False, False], inplace=False).head(10)\n",
        "top10_cat_paid_df1 = top10_cat_paid_df.iloc[0:,:0]\n",
        "top10_cat_paid_df1"
      ],
      "metadata": {
        "colab": {
          "base_uri": "https://localhost:8080/",
          "height": 377
        },
        "id": "T-_9mFj2kx2c",
        "outputId": "b2c37d18-5fe8-4b79-c9d5-b7acf6f3c7b2"
      },
      "execution_count": 169,
      "outputs": [
        {
          "output_type": "execute_result",
          "data": {
            "text/plain": [
              "Empty DataFrame\n",
              "Columns: []\n",
              "Index: [GAME, COMMUNICATION, LIFESTYLE, SPORTS, FAMILY, PHOTOGRAPHY, PERSONALIZATION, TOOLS, PRODUCTIVITY, WEATHER]"
            ],
            "text/html": [
              "\n",
              "  <div id=\"df-8fef8b93-6ba8-449f-a135-376c0a2dc75b\">\n",
              "    <div class=\"colab-df-container\">\n",
              "      <div>\n",
              "<style scoped>\n",
              "    .dataframe tbody tr th:only-of-type {\n",
              "        vertical-align: middle;\n",
              "    }\n",
              "\n",
              "    .dataframe tbody tr th {\n",
              "        vertical-align: top;\n",
              "    }\n",
              "\n",
              "    .dataframe thead th {\n",
              "        text-align: right;\n",
              "    }\n",
              "</style>\n",
              "<table border=\"1\" class=\"dataframe\">\n",
              "  <thead>\n",
              "    <tr style=\"text-align: right;\">\n",
              "      <th></th>\n",
              "    </tr>\n",
              "    <tr>\n",
              "      <th>Category</th>\n",
              "    </tr>\n",
              "  </thead>\n",
              "  <tbody>\n",
              "    <tr>\n",
              "      <th>GAME</th>\n",
              "    </tr>\n",
              "    <tr>\n",
              "      <th>COMMUNICATION</th>\n",
              "    </tr>\n",
              "    <tr>\n",
              "      <th>LIFESTYLE</th>\n",
              "    </tr>\n",
              "    <tr>\n",
              "      <th>SPORTS</th>\n",
              "    </tr>\n",
              "    <tr>\n",
              "      <th>FAMILY</th>\n",
              "    </tr>\n",
              "    <tr>\n",
              "      <th>PHOTOGRAPHY</th>\n",
              "    </tr>\n",
              "    <tr>\n",
              "      <th>PERSONALIZATION</th>\n",
              "    </tr>\n",
              "    <tr>\n",
              "      <th>TOOLS</th>\n",
              "    </tr>\n",
              "    <tr>\n",
              "      <th>PRODUCTIVITY</th>\n",
              "    </tr>\n",
              "    <tr>\n",
              "      <th>WEATHER</th>\n",
              "    </tr>\n",
              "  </tbody>\n",
              "</table>\n",
              "</div>\n",
              "      <button class=\"colab-df-convert\" onclick=\"convertToInteractive('df-8fef8b93-6ba8-449f-a135-376c0a2dc75b')\"\n",
              "              title=\"Convert this dataframe to an interactive table.\"\n",
              "              style=\"display:none;\">\n",
              "        \n",
              "  <svg xmlns=\"http://www.w3.org/2000/svg\" height=\"24px\"viewBox=\"0 0 24 24\"\n",
              "       width=\"24px\">\n",
              "    <path d=\"M0 0h24v24H0V0z\" fill=\"none\"/>\n",
              "    <path d=\"M18.56 5.44l.94 2.06.94-2.06 2.06-.94-2.06-.94-.94-2.06-.94 2.06-2.06.94zm-11 1L8.5 8.5l.94-2.06 2.06-.94-2.06-.94L8.5 2.5l-.94 2.06-2.06.94zm10 10l.94 2.06.94-2.06 2.06-.94-2.06-.94-.94-2.06-.94 2.06-2.06.94z\"/><path d=\"M17.41 7.96l-1.37-1.37c-.4-.4-.92-.59-1.43-.59-.52 0-1.04.2-1.43.59L10.3 9.45l-7.72 7.72c-.78.78-.78 2.05 0 2.83L4 21.41c.39.39.9.59 1.41.59.51 0 1.02-.2 1.41-.59l7.78-7.78 2.81-2.81c.8-.78.8-2.07 0-2.86zM5.41 20L4 18.59l7.72-7.72 1.47 1.35L5.41 20z\"/>\n",
              "  </svg>\n",
              "      </button>\n",
              "      \n",
              "  <style>\n",
              "    .colab-df-container {\n",
              "      display:flex;\n",
              "      flex-wrap:wrap;\n",
              "      gap: 12px;\n",
              "    }\n",
              "\n",
              "    .colab-df-convert {\n",
              "      background-color: #E8F0FE;\n",
              "      border: none;\n",
              "      border-radius: 50%;\n",
              "      cursor: pointer;\n",
              "      display: none;\n",
              "      fill: #1967D2;\n",
              "      height: 32px;\n",
              "      padding: 0 0 0 0;\n",
              "      width: 32px;\n",
              "    }\n",
              "\n",
              "    .colab-df-convert:hover {\n",
              "      background-color: #E2EBFA;\n",
              "      box-shadow: 0px 1px 2px rgba(60, 64, 67, 0.3), 0px 1px 3px 1px rgba(60, 64, 67, 0.15);\n",
              "      fill: #174EA6;\n",
              "    }\n",
              "\n",
              "    [theme=dark] .colab-df-convert {\n",
              "      background-color: #3B4455;\n",
              "      fill: #D2E3FC;\n",
              "    }\n",
              "\n",
              "    [theme=dark] .colab-df-convert:hover {\n",
              "      background-color: #434B5C;\n",
              "      box-shadow: 0px 1px 3px 1px rgba(0, 0, 0, 0.15);\n",
              "      filter: drop-shadow(0px 1px 2px rgba(0, 0, 0, 0.3));\n",
              "      fill: #FFFFFF;\n",
              "    }\n",
              "  </style>\n",
              "\n",
              "      <script>\n",
              "        const buttonEl =\n",
              "          document.querySelector('#df-8fef8b93-6ba8-449f-a135-376c0a2dc75b button.colab-df-convert');\n",
              "        buttonEl.style.display =\n",
              "          google.colab.kernel.accessAllowed ? 'block' : 'none';\n",
              "\n",
              "        async function convertToInteractive(key) {\n",
              "          const element = document.querySelector('#df-8fef8b93-6ba8-449f-a135-376c0a2dc75b');\n",
              "          const dataTable =\n",
              "            await google.colab.kernel.invokeFunction('convertToInteractive',\n",
              "                                                     [key], {});\n",
              "          if (!dataTable) return;\n",
              "\n",
              "          const docLinkHtml = 'Like what you see? Visit the ' +\n",
              "            '<a target=\"_blank\" href=https://colab.research.google.com/notebooks/data_table.ipynb>data table notebook</a>'\n",
              "            + ' to learn more about interactive tables.';\n",
              "          element.innerHTML = '';\n",
              "          dataTable['output_type'] = 'display_data';\n",
              "          await google.colab.output.renderOutput(dataTable, element);\n",
              "          const docLink = document.createElement('div');\n",
              "          docLink.innerHTML = docLinkHtml;\n",
              "          element.appendChild(docLink);\n",
              "        }\n",
              "      </script>\n",
              "    </div>\n",
              "  </div>\n",
              "  "
            ]
          },
          "metadata": {},
          "execution_count": 169
        }
      ]
    },
    {
      "cell_type": "markdown",
      "source": [
        "**3. Identify Top Performing - Apps**\n",
        "\n",
        "-----"
      ],
      "metadata": {
        "id": "hacbZFy2k7xP"
      }
    },
    {
      "cell_type": "code",
      "source": [
        "# Merging Top categories dataframe with base dataframe (merged_paid_top20_genres_df) to filter App data belongs to these Top Categories.\n",
        "\n",
        "merged_paid_top_cat_df = pd.merge(merged_paid_top20_genres_df, top10_cat_paid_df1, how='inner', left_on='Category', right_on='Category')\n",
        "merged_paid_top_cat_df.shape"
      ],
      "metadata": {
        "colab": {
          "base_uri": "https://localhost:8080/"
        },
        "id": "lRZDgwVok_Ng",
        "outputId": "65699398-e443-4e16-a8c3-f3716cd12e08"
      },
      "execution_count": 170,
      "outputs": [
        {
          "output_type": "execute_result",
          "data": {
            "text/plain": [
              "(58, 16)"
            ]
          },
          "metadata": {},
          "execution_count": 170
        }
      ]
    },
    {
      "cell_type": "code",
      "source": [
        "# Now, we have found 58 - Above Average performing paid Apps\n",
        "\n",
        "# Now, let's sort this data in below order and identify high performing Top 10 \"Apps\" in Paid App Business Model\n",
        "\n",
        "top10_app_paid_df = merged_paid_top_cat_df.groupby(\"App\").sum().sort_values(by = ['Installs','Rating','Reviews'], axis=0, ascending=[False, False, False], inplace=False).head(10)\n",
        "top10_app_paid_df1 = top10_app_paid_df.iloc[0:,:0]\n",
        "top10_app_paid_df1"
      ],
      "metadata": {
        "colab": {
          "base_uri": "https://localhost:8080/",
          "height": 377
        },
        "id": "dbRrPezAlCkD",
        "outputId": "efd47086-9b6e-4bb3-b911-06a5457a3d66"
      },
      "execution_count": 171,
      "outputs": [
        {
          "output_type": "execute_result",
          "data": {
            "text/plain": [
              "Empty DataFrame\n",
              "Columns: []\n",
              "Index: [Hitman Sniper, Minecraft, Where's My Water?, Bloons TD 5, Five Nights at Freddy's, DraStic DS Emulator, Cut the Rope GOLD, Tasker, Threema, Lost Journey (Dreamsky)]"
            ],
            "text/html": [
              "\n",
              "  <div id=\"df-3f31933a-ea91-4699-971e-6a5314f2082c\">\n",
              "    <div class=\"colab-df-container\">\n",
              "      <div>\n",
              "<style scoped>\n",
              "    .dataframe tbody tr th:only-of-type {\n",
              "        vertical-align: middle;\n",
              "    }\n",
              "\n",
              "    .dataframe tbody tr th {\n",
              "        vertical-align: top;\n",
              "    }\n",
              "\n",
              "    .dataframe thead th {\n",
              "        text-align: right;\n",
              "    }\n",
              "</style>\n",
              "<table border=\"1\" class=\"dataframe\">\n",
              "  <thead>\n",
              "    <tr style=\"text-align: right;\">\n",
              "      <th></th>\n",
              "    </tr>\n",
              "    <tr>\n",
              "      <th>App</th>\n",
              "    </tr>\n",
              "  </thead>\n",
              "  <tbody>\n",
              "    <tr>\n",
              "      <th>Hitman Sniper</th>\n",
              "    </tr>\n",
              "    <tr>\n",
              "      <th>Minecraft</th>\n",
              "    </tr>\n",
              "    <tr>\n",
              "      <th>Where's My Water?</th>\n",
              "    </tr>\n",
              "    <tr>\n",
              "      <th>Bloons TD 5</th>\n",
              "    </tr>\n",
              "    <tr>\n",
              "      <th>Five Nights at Freddy's</th>\n",
              "    </tr>\n",
              "    <tr>\n",
              "      <th>DraStic DS Emulator</th>\n",
              "    </tr>\n",
              "    <tr>\n",
              "      <th>Cut the Rope GOLD</th>\n",
              "    </tr>\n",
              "    <tr>\n",
              "      <th>Tasker</th>\n",
              "    </tr>\n",
              "    <tr>\n",
              "      <th>Threema</th>\n",
              "    </tr>\n",
              "    <tr>\n",
              "      <th>Lost Journey (Dreamsky)</th>\n",
              "    </tr>\n",
              "  </tbody>\n",
              "</table>\n",
              "</div>\n",
              "      <button class=\"colab-df-convert\" onclick=\"convertToInteractive('df-3f31933a-ea91-4699-971e-6a5314f2082c')\"\n",
              "              title=\"Convert this dataframe to an interactive table.\"\n",
              "              style=\"display:none;\">\n",
              "        \n",
              "  <svg xmlns=\"http://www.w3.org/2000/svg\" height=\"24px\"viewBox=\"0 0 24 24\"\n",
              "       width=\"24px\">\n",
              "    <path d=\"M0 0h24v24H0V0z\" fill=\"none\"/>\n",
              "    <path d=\"M18.56 5.44l.94 2.06.94-2.06 2.06-.94-2.06-.94-.94-2.06-.94 2.06-2.06.94zm-11 1L8.5 8.5l.94-2.06 2.06-.94-2.06-.94L8.5 2.5l-.94 2.06-2.06.94zm10 10l.94 2.06.94-2.06 2.06-.94-2.06-.94-.94-2.06-.94 2.06-2.06.94z\"/><path d=\"M17.41 7.96l-1.37-1.37c-.4-.4-.92-.59-1.43-.59-.52 0-1.04.2-1.43.59L10.3 9.45l-7.72 7.72c-.78.78-.78 2.05 0 2.83L4 21.41c.39.39.9.59 1.41.59.51 0 1.02-.2 1.41-.59l7.78-7.78 2.81-2.81c.8-.78.8-2.07 0-2.86zM5.41 20L4 18.59l7.72-7.72 1.47 1.35L5.41 20z\"/>\n",
              "  </svg>\n",
              "      </button>\n",
              "      \n",
              "  <style>\n",
              "    .colab-df-container {\n",
              "      display:flex;\n",
              "      flex-wrap:wrap;\n",
              "      gap: 12px;\n",
              "    }\n",
              "\n",
              "    .colab-df-convert {\n",
              "      background-color: #E8F0FE;\n",
              "      border: none;\n",
              "      border-radius: 50%;\n",
              "      cursor: pointer;\n",
              "      display: none;\n",
              "      fill: #1967D2;\n",
              "      height: 32px;\n",
              "      padding: 0 0 0 0;\n",
              "      width: 32px;\n",
              "    }\n",
              "\n",
              "    .colab-df-convert:hover {\n",
              "      background-color: #E2EBFA;\n",
              "      box-shadow: 0px 1px 2px rgba(60, 64, 67, 0.3), 0px 1px 3px 1px rgba(60, 64, 67, 0.15);\n",
              "      fill: #174EA6;\n",
              "    }\n",
              "\n",
              "    [theme=dark] .colab-df-convert {\n",
              "      background-color: #3B4455;\n",
              "      fill: #D2E3FC;\n",
              "    }\n",
              "\n",
              "    [theme=dark] .colab-df-convert:hover {\n",
              "      background-color: #434B5C;\n",
              "      box-shadow: 0px 1px 3px 1px rgba(0, 0, 0, 0.15);\n",
              "      filter: drop-shadow(0px 1px 2px rgba(0, 0, 0, 0.3));\n",
              "      fill: #FFFFFF;\n",
              "    }\n",
              "  </style>\n",
              "\n",
              "      <script>\n",
              "        const buttonEl =\n",
              "          document.querySelector('#df-3f31933a-ea91-4699-971e-6a5314f2082c button.colab-df-convert');\n",
              "        buttonEl.style.display =\n",
              "          google.colab.kernel.accessAllowed ? 'block' : 'none';\n",
              "\n",
              "        async function convertToInteractive(key) {\n",
              "          const element = document.querySelector('#df-3f31933a-ea91-4699-971e-6a5314f2082c');\n",
              "          const dataTable =\n",
              "            await google.colab.kernel.invokeFunction('convertToInteractive',\n",
              "                                                     [key], {});\n",
              "          if (!dataTable) return;\n",
              "\n",
              "          const docLinkHtml = 'Like what you see? Visit the ' +\n",
              "            '<a target=\"_blank\" href=https://colab.research.google.com/notebooks/data_table.ipynb>data table notebook</a>'\n",
              "            + ' to learn more about interactive tables.';\n",
              "          element.innerHTML = '';\n",
              "          dataTable['output_type'] = 'display_data';\n",
              "          await google.colab.output.renderOutput(dataTable, element);\n",
              "          const docLink = document.createElement('div');\n",
              "          docLink.innerHTML = docLinkHtml;\n",
              "          element.appendChild(docLink);\n",
              "        }\n",
              "      </script>\n",
              "    </div>\n",
              "  </div>\n",
              "  "
            ]
          },
          "metadata": {},
          "execution_count": 171
        }
      ]
    },
    {
      "cell_type": "markdown",
      "source": [
        "# **Installs Data Analysis**\n",
        "\n",
        "-----"
      ],
      "metadata": {
        "id": "Bn-XoBENnOCe"
      }
    },
    {
      "cell_type": "markdown",
      "source": [
        "1. Understand relation of **'Installs' and 'App Reviews' - Free Apps**\n",
        "\n",
        "-----"
      ],
      "metadata": {
        "id": "spV16R7xnq0w"
      }
    },
    {
      "cell_type": "code",
      "source": [
        "insta_rev_free_df = free_app_df.groupby('Installs')['Reviews'].mean().reset_index().sort_values(by = ['Installs'], axis=0, ascending=[False], inplace=False)\n",
        "insta_rev_free_df"
      ],
      "metadata": {
        "colab": {
          "base_uri": "https://localhost:8080/",
          "height": 676
        },
        "id": "CS0oGAAxn9A7",
        "outputId": "e89d5b6a-bb74-45cc-c2fd-5e4e28783847"
      },
      "execution_count": 172,
      "outputs": [
        {
          "output_type": "execute_result",
          "data": {
            "text/plain": [
              "        Installs       Reviews\n",
              "19  1.000000e+09  2.000252e+07\n",
              "18  5.000000e+08  9.848708e+06\n",
              "17  1.000000e+08  4.032929e+06\n",
              "16  5.000000e+07  1.221054e+06\n",
              "15  1.000000e+07  3.482721e+05\n",
              "14  5.000000e+06  1.010718e+05\n",
              "13  1.000000e+06  3.222234e+04\n",
              "12  5.000000e+05  8.965377e+03\n",
              "11  1.000000e+05  2.535830e+03\n",
              "10  5.000000e+04  7.452867e+02\n",
              "9   1.000000e+04  2.406280e+02\n",
              "8   5.000000e+03  7.031266e+01\n",
              "7   1.000000e+03  2.551398e+01\n",
              "6   5.000000e+02  9.513889e+00\n",
              "5   1.000000e+02  4.806818e+00\n",
              "4   5.000000e+01  2.376471e+00\n",
              "3   1.000000e+01  9.460317e-01\n",
              "2   5.000000e+00  5.857143e-01\n",
              "1   1.000000e+00  2.826087e-01\n",
              "0   0.000000e+00  0.000000e+00"
            ],
            "text/html": [
              "\n",
              "  <div id=\"df-0a57dc2d-4146-4119-8f70-6b6b48dfb49c\">\n",
              "    <div class=\"colab-df-container\">\n",
              "      <div>\n",
              "<style scoped>\n",
              "    .dataframe tbody tr th:only-of-type {\n",
              "        vertical-align: middle;\n",
              "    }\n",
              "\n",
              "    .dataframe tbody tr th {\n",
              "        vertical-align: top;\n",
              "    }\n",
              "\n",
              "    .dataframe thead th {\n",
              "        text-align: right;\n",
              "    }\n",
              "</style>\n",
              "<table border=\"1\" class=\"dataframe\">\n",
              "  <thead>\n",
              "    <tr style=\"text-align: right;\">\n",
              "      <th></th>\n",
              "      <th>Installs</th>\n",
              "      <th>Reviews</th>\n",
              "    </tr>\n",
              "  </thead>\n",
              "  <tbody>\n",
              "    <tr>\n",
              "      <th>19</th>\n",
              "      <td>1.000000e+09</td>\n",
              "      <td>2.000252e+07</td>\n",
              "    </tr>\n",
              "    <tr>\n",
              "      <th>18</th>\n",
              "      <td>5.000000e+08</td>\n",
              "      <td>9.848708e+06</td>\n",
              "    </tr>\n",
              "    <tr>\n",
              "      <th>17</th>\n",
              "      <td>1.000000e+08</td>\n",
              "      <td>4.032929e+06</td>\n",
              "    </tr>\n",
              "    <tr>\n",
              "      <th>16</th>\n",
              "      <td>5.000000e+07</td>\n",
              "      <td>1.221054e+06</td>\n",
              "    </tr>\n",
              "    <tr>\n",
              "      <th>15</th>\n",
              "      <td>1.000000e+07</td>\n",
              "      <td>3.482721e+05</td>\n",
              "    </tr>\n",
              "    <tr>\n",
              "      <th>14</th>\n",
              "      <td>5.000000e+06</td>\n",
              "      <td>1.010718e+05</td>\n",
              "    </tr>\n",
              "    <tr>\n",
              "      <th>13</th>\n",
              "      <td>1.000000e+06</td>\n",
              "      <td>3.222234e+04</td>\n",
              "    </tr>\n",
              "    <tr>\n",
              "      <th>12</th>\n",
              "      <td>5.000000e+05</td>\n",
              "      <td>8.965377e+03</td>\n",
              "    </tr>\n",
              "    <tr>\n",
              "      <th>11</th>\n",
              "      <td>1.000000e+05</td>\n",
              "      <td>2.535830e+03</td>\n",
              "    </tr>\n",
              "    <tr>\n",
              "      <th>10</th>\n",
              "      <td>5.000000e+04</td>\n",
              "      <td>7.452867e+02</td>\n",
              "    </tr>\n",
              "    <tr>\n",
              "      <th>9</th>\n",
              "      <td>1.000000e+04</td>\n",
              "      <td>2.406280e+02</td>\n",
              "    </tr>\n",
              "    <tr>\n",
              "      <th>8</th>\n",
              "      <td>5.000000e+03</td>\n",
              "      <td>7.031266e+01</td>\n",
              "    </tr>\n",
              "    <tr>\n",
              "      <th>7</th>\n",
              "      <td>1.000000e+03</td>\n",
              "      <td>2.551398e+01</td>\n",
              "    </tr>\n",
              "    <tr>\n",
              "      <th>6</th>\n",
              "      <td>5.000000e+02</td>\n",
              "      <td>9.513889e+00</td>\n",
              "    </tr>\n",
              "    <tr>\n",
              "      <th>5</th>\n",
              "      <td>1.000000e+02</td>\n",
              "      <td>4.806818e+00</td>\n",
              "    </tr>\n",
              "    <tr>\n",
              "      <th>4</th>\n",
              "      <td>5.000000e+01</td>\n",
              "      <td>2.376471e+00</td>\n",
              "    </tr>\n",
              "    <tr>\n",
              "      <th>3</th>\n",
              "      <td>1.000000e+01</td>\n",
              "      <td>9.460317e-01</td>\n",
              "    </tr>\n",
              "    <tr>\n",
              "      <th>2</th>\n",
              "      <td>5.000000e+00</td>\n",
              "      <td>5.857143e-01</td>\n",
              "    </tr>\n",
              "    <tr>\n",
              "      <th>1</th>\n",
              "      <td>1.000000e+00</td>\n",
              "      <td>2.826087e-01</td>\n",
              "    </tr>\n",
              "    <tr>\n",
              "      <th>0</th>\n",
              "      <td>0.000000e+00</td>\n",
              "      <td>0.000000e+00</td>\n",
              "    </tr>\n",
              "  </tbody>\n",
              "</table>\n",
              "</div>\n",
              "      <button class=\"colab-df-convert\" onclick=\"convertToInteractive('df-0a57dc2d-4146-4119-8f70-6b6b48dfb49c')\"\n",
              "              title=\"Convert this dataframe to an interactive table.\"\n",
              "              style=\"display:none;\">\n",
              "        \n",
              "  <svg xmlns=\"http://www.w3.org/2000/svg\" height=\"24px\"viewBox=\"0 0 24 24\"\n",
              "       width=\"24px\">\n",
              "    <path d=\"M0 0h24v24H0V0z\" fill=\"none\"/>\n",
              "    <path d=\"M18.56 5.44l.94 2.06.94-2.06 2.06-.94-2.06-.94-.94-2.06-.94 2.06-2.06.94zm-11 1L8.5 8.5l.94-2.06 2.06-.94-2.06-.94L8.5 2.5l-.94 2.06-2.06.94zm10 10l.94 2.06.94-2.06 2.06-.94-2.06-.94-.94-2.06-.94 2.06-2.06.94z\"/><path d=\"M17.41 7.96l-1.37-1.37c-.4-.4-.92-.59-1.43-.59-.52 0-1.04.2-1.43.59L10.3 9.45l-7.72 7.72c-.78.78-.78 2.05 0 2.83L4 21.41c.39.39.9.59 1.41.59.51 0 1.02-.2 1.41-.59l7.78-7.78 2.81-2.81c.8-.78.8-2.07 0-2.86zM5.41 20L4 18.59l7.72-7.72 1.47 1.35L5.41 20z\"/>\n",
              "  </svg>\n",
              "      </button>\n",
              "      \n",
              "  <style>\n",
              "    .colab-df-container {\n",
              "      display:flex;\n",
              "      flex-wrap:wrap;\n",
              "      gap: 12px;\n",
              "    }\n",
              "\n",
              "    .colab-df-convert {\n",
              "      background-color: #E8F0FE;\n",
              "      border: none;\n",
              "      border-radius: 50%;\n",
              "      cursor: pointer;\n",
              "      display: none;\n",
              "      fill: #1967D2;\n",
              "      height: 32px;\n",
              "      padding: 0 0 0 0;\n",
              "      width: 32px;\n",
              "    }\n",
              "\n",
              "    .colab-df-convert:hover {\n",
              "      background-color: #E2EBFA;\n",
              "      box-shadow: 0px 1px 2px rgba(60, 64, 67, 0.3), 0px 1px 3px 1px rgba(60, 64, 67, 0.15);\n",
              "      fill: #174EA6;\n",
              "    }\n",
              "\n",
              "    [theme=dark] .colab-df-convert {\n",
              "      background-color: #3B4455;\n",
              "      fill: #D2E3FC;\n",
              "    }\n",
              "\n",
              "    [theme=dark] .colab-df-convert:hover {\n",
              "      background-color: #434B5C;\n",
              "      box-shadow: 0px 1px 3px 1px rgba(0, 0, 0, 0.15);\n",
              "      filter: drop-shadow(0px 1px 2px rgba(0, 0, 0, 0.3));\n",
              "      fill: #FFFFFF;\n",
              "    }\n",
              "  </style>\n",
              "\n",
              "      <script>\n",
              "        const buttonEl =\n",
              "          document.querySelector('#df-0a57dc2d-4146-4119-8f70-6b6b48dfb49c button.colab-df-convert');\n",
              "        buttonEl.style.display =\n",
              "          google.colab.kernel.accessAllowed ? 'block' : 'none';\n",
              "\n",
              "        async function convertToInteractive(key) {\n",
              "          const element = document.querySelector('#df-0a57dc2d-4146-4119-8f70-6b6b48dfb49c');\n",
              "          const dataTable =\n",
              "            await google.colab.kernel.invokeFunction('convertToInteractive',\n",
              "                                                     [key], {});\n",
              "          if (!dataTable) return;\n",
              "\n",
              "          const docLinkHtml = 'Like what you see? Visit the ' +\n",
              "            '<a target=\"_blank\" href=https://colab.research.google.com/notebooks/data_table.ipynb>data table notebook</a>'\n",
              "            + ' to learn more about interactive tables.';\n",
              "          element.innerHTML = '';\n",
              "          dataTable['output_type'] = 'display_data';\n",
              "          await google.colab.output.renderOutput(dataTable, element);\n",
              "          const docLink = document.createElement('div');\n",
              "          docLink.innerHTML = docLinkHtml;\n",
              "          element.appendChild(docLink);\n",
              "        }\n",
              "      </script>\n",
              "    </div>\n",
              "  </div>\n",
              "  "
            ]
          },
          "metadata": {},
          "execution_count": 172
        }
      ]
    },
    {
      "cell_type": "code",
      "source": [
        "# Let's undestand relation of Installs and Reviews of App by Graphical Visualtization\n",
        "\n",
        "# Lets understand the trend with hep of visualization\n",
        "\n",
        "fig=plt.figure(figsize=(12,8))                                                  #Giving height and width to the graph\n",
        "insta_rev_free_df['Installs']=insta_rev_free_df['Installs'].astype(int)         #convert year data to integer type\n",
        "sns.regplot(data=insta_rev_free_df,x='Installs',y='Reviews')"
      ],
      "metadata": {
        "colab": {
          "base_uri": "https://localhost:8080/",
          "height": 530
        },
        "id": "BUU3POdOoGZw",
        "outputId": "875889d6-3318-42fe-9b66-6a1fc5da8fda"
      },
      "execution_count": 173,
      "outputs": [
        {
          "output_type": "execute_result",
          "data": {
            "text/plain": [
              "<matplotlib.axes._subplots.AxesSubplot at 0x7f8409fe0550>"
            ]
          },
          "metadata": {},
          "execution_count": 173
        },
        {
          "output_type": "display_data",
          "data": {
            "text/plain": [
              "<Figure size 864x576 with 1 Axes>"
            ],
            "image/png": "[encoded data removed]"
          },
          "metadata": {}
        }
      ]
    },
    {
      "cell_type": "markdown",
      "source": [
        "2. Understand relation of **'Installs' and 'App Reviews' - Paid Apps**\n",
        "\n",
        "-----"
      ],
      "metadata": {
        "id": "8qyvGaPeocn0"
      }
    },
    {
      "cell_type": "code",
      "source": [
        "insta_rev_paid_df = paid_app_df.groupby('Installs')['Reviews'].mean().reset_index().sort_values(by = ['Installs'], axis=0, ascending=[False], inplace=False)\n",
        "insta_rev_paid_df"
      ],
      "metadata": {
        "colab": {
          "base_uri": "https://localhost:8080/",
          "height": 520
        },
        "id": "YipqAWTzo9Hc",
        "outputId": "2e9c9a1d-7f2c-4655-87a4-d36fa3ea6a4b"
      },
      "execution_count": 174,
      "outputs": [
        {
          "output_type": "execute_result",
          "data": {
            "text/plain": [
              "      Installs       Reviews\n",
              "14  10000000.0  1.391814e+06\n",
              "13   1000000.0  8.924740e+04\n",
              "12    500000.0  5.111982e+04\n",
              "11    100000.0  1.410835e+04\n",
              "10     50000.0  3.399975e+03\n",
              "9      10000.0  1.160137e+03\n",
              "8       5000.0  2.847692e+02\n",
              "7       1000.0  1.047080e+02\n",
              "6        500.0  3.220000e+01\n",
              "5        100.0  9.634409e+00\n",
              "4         50.0  2.411765e+00\n",
              "3         10.0  1.728571e+00\n",
              "2          5.0  2.500000e-01\n",
              "1          1.0  3.333333e-01\n",
              "0          0.0  0.000000e+00"
            ],
            "text/html": [
              "\n",
              "  <div id=\"df-09fc5544-58d7-4901-9caa-9d91b6d8edac\">\n",
              "    <div class=\"colab-df-container\">\n",
              "      <div>\n",
              "<style scoped>\n",
              "    .dataframe tbody tr th:only-of-type {\n",
              "        vertical-align: middle;\n",
              "    }\n",
              "\n",
              "    .dataframe tbody tr th {\n",
              "        vertical-align: top;\n",
              "    }\n",
              "\n",
              "    .dataframe thead th {\n",
              "        text-align: right;\n",
              "    }\n",
              "</style>\n",
              "<table border=\"1\" class=\"dataframe\">\n",
              "  <thead>\n",
              "    <tr style=\"text-align: right;\">\n",
              "      <th></th>\n",
              "      <th>Installs</th>\n",
              "      <th>Reviews</th>\n",
              "    </tr>\n",
              "  </thead>\n",
              "  <tbody>\n",
              "    <tr>\n",
              "      <th>14</th>\n",
              "      <td>10000000.0</td>\n",
              "      <td>1.391814e+06</td>\n",
              "    </tr>\n",
              "    <tr>\n",
              "      <th>13</th>\n",
              "      <td>1000000.0</td>\n",
              "      <td>8.924740e+04</td>\n",
              "    </tr>\n",
              "    <tr>\n",
              "      <th>12</th>\n",
              "      <td>500000.0</td>\n",
              "      <td>5.111982e+04</td>\n",
              "    </tr>\n",
              "    <tr>\n",
              "      <th>11</th>\n",
              "      <td>100000.0</td>\n",
              "      <td>1.410835e+04</td>\n",
              "    </tr>\n",
              "    <tr>\n",
              "      <th>10</th>\n",
              "      <td>50000.0</td>\n",
              "      <td>3.399975e+03</td>\n",
              "    </tr>\n",
              "    <tr>\n",
              "      <th>9</th>\n",
              "      <td>10000.0</td>\n",
              "      <td>1.160137e+03</td>\n",
              "    </tr>\n",
              "    <tr>\n",
              "      <th>8</th>\n",
              "      <td>5000.0</td>\n",
              "      <td>2.847692e+02</td>\n",
              "    </tr>\n",
              "    <tr>\n",
              "      <th>7</th>\n",
              "      <td>1000.0</td>\n",
              "      <td>1.047080e+02</td>\n",
              "    </tr>\n",
              "    <tr>\n",
              "      <th>6</th>\n",
              "      <td>500.0</td>\n",
              "      <td>3.220000e+01</td>\n",
              "    </tr>\n",
              "    <tr>\n",
              "      <th>5</th>\n",
              "      <td>100.0</td>\n",
              "      <td>9.634409e+00</td>\n",
              "    </tr>\n",
              "    <tr>\n",
              "      <th>4</th>\n",
              "      <td>50.0</td>\n",
              "      <td>2.411765e+00</td>\n",
              "    </tr>\n",
              "    <tr>\n",
              "      <th>3</th>\n",
              "      <td>10.0</td>\n",
              "      <td>1.728571e+00</td>\n",
              "    </tr>\n",
              "    <tr>\n",
              "      <th>2</th>\n",
              "      <td>5.0</td>\n",
              "      <td>2.500000e-01</td>\n",
              "    </tr>\n",
              "    <tr>\n",
              "      <th>1</th>\n",
              "      <td>1.0</td>\n",
              "      <td>3.333333e-01</td>\n",
              "    </tr>\n",
              "    <tr>\n",
              "      <th>0</th>\n",
              "      <td>0.0</td>\n",
              "      <td>0.000000e+00</td>\n",
              "    </tr>\n",
              "  </tbody>\n",
              "</table>\n",
              "</div>\n",
              "      <button class=\"colab-df-convert\" onclick=\"convertToInteractive('df-09fc5544-58d7-4901-9caa-9d91b6d8edac')\"\n",
              "              title=\"Convert this dataframe to an interactive table.\"\n",
              "              style=\"display:none;\">\n",
              "        \n",
              "  <svg xmlns=\"http://www.w3.org/2000/svg\" height=\"24px\"viewBox=\"0 0 24 24\"\n",
              "       width=\"24px\">\n",
              "    <path d=\"M0 0h24v24H0V0z\" fill=\"none\"/>\n",
              "    <path d=\"M18.56 5.44l.94 2.06.94-2.06 2.06-.94-2.06-.94-.94-2.06-.94 2.06-2.06.94zm-11 1L8.5 8.5l.94-2.06 2.06-.94-2.06-.94L8.5 2.5l-.94 2.06-2.06.94zm10 10l.94 2.06.94-2.06 2.06-.94-2.06-.94-.94-2.06-.94 2.06-2.06.94z\"/><path d=\"M17.41 7.96l-1.37-1.37c-.4-.4-.92-.59-1.43-.59-.52 0-1.04.2-1.43.59L10.3 9.45l-7.72 7.72c-.78.78-.78 2.05 0 2.83L4 21.41c.39.39.9.59 1.41.59.51 0 1.02-.2 1.41-.59l7.78-7.78 2.81-2.81c.8-.78.8-2.07 0-2.86zM5.41 20L4 18.59l7.72-7.72 1.47 1.35L5.41 20z\"/>\n",
              "  </svg>\n",
              "      </button>\n",
              "      \n",
              "  <style>\n",
              "    .colab-df-container {\n",
              "      display:flex;\n",
              "      flex-wrap:wrap;\n",
              "      gap: 12px;\n",
              "    }\n",
              "\n",
              "    .colab-df-convert {\n",
              "      background-color: #E8F0FE;\n",
              "      border: none;\n",
              "      border-radius: 50%;\n",
              "      cursor: pointer;\n",
              "      display: none;\n",
              "      fill: #1967D2;\n",
              "      height: 32px;\n",
              "      padding: 0 0 0 0;\n",
              "      width: 32px;\n",
              "    }\n",
              "\n",
              "    .colab-df-convert:hover {\n",
              "      background-color: #E2EBFA;\n",
              "      box-shadow: 0px 1px 2px rgba(60, 64, 67, 0.3), 0px 1px 3px 1px rgba(60, 64, 67, 0.15);\n",
              "      fill: #174EA6;\n",
              "    }\n",
              "\n",
              "    [theme=dark] .colab-df-convert {\n",
              "      background-color: #3B4455;\n",
              "      fill: #D2E3FC;\n",
              "    }\n",
              "\n",
              "    [theme=dark] .colab-df-convert:hover {\n",
              "      background-color: #434B5C;\n",
              "      box-shadow: 0px 1px 3px 1px rgba(0, 0, 0, 0.15);\n",
              "      filter: drop-shadow(0px 1px 2px rgba(0, 0, 0, 0.3));\n",
              "      fill: #FFFFFF;\n",
              "    }\n",
              "  </style>\n",
              "\n",
              "      <script>\n",
              "        const buttonEl =\n",
              "          document.querySelector('#df-09fc5544-58d7-4901-9caa-9d91b6d8edac button.colab-df-convert');\n",
              "        buttonEl.style.display =\n",
              "          google.colab.kernel.accessAllowed ? 'block' : 'none';\n",
              "\n",
              "        async function convertToInteractive(key) {\n",
              "          const element = document.querySelector('#df-09fc5544-58d7-4901-9caa-9d91b6d8edac');\n",
              "          const dataTable =\n",
              "            await google.colab.kernel.invokeFunction('convertToInteractive',\n",
              "                                                     [key], {});\n",
              "          if (!dataTable) return;\n",
              "\n",
              "          const docLinkHtml = 'Like what you see? Visit the ' +\n",
              "            '<a target=\"_blank\" href=https://colab.research.google.com/notebooks/data_table.ipynb>data table notebook</a>'\n",
              "            + ' to learn more about interactive tables.';\n",
              "          element.innerHTML = '';\n",
              "          dataTable['output_type'] = 'display_data';\n",
              "          await google.colab.output.renderOutput(dataTable, element);\n",
              "          const docLink = document.createElement('div');\n",
              "          docLink.innerHTML = docLinkHtml;\n",
              "          element.appendChild(docLink);\n",
              "        }\n",
              "      </script>\n",
              "    </div>\n",
              "  </div>\n",
              "  "
            ]
          },
          "metadata": {},
          "execution_count": 174
        }
      ]
    },
    {
      "cell_type": "code",
      "source": [
        "# Let's undestand relation of Installs and Reviews of App by Graphical Visualtization\n",
        "\n",
        "# Lets understand the trend with hep of visualization\n",
        "\n",
        "fig=plt.figure(figsize=(12,8))                                                  #Giving height and width to the graph\n",
        "insta_rev_paid_df['Installs']=insta_rev_paid_df['Installs'].astype(int)         #convert year data to integer type\n",
        "sns.regplot(data=insta_rev_paid_df,x='Installs',y='Reviews')"
      ],
      "metadata": {
        "colab": {
          "base_uri": "https://localhost:8080/",
          "height": 530
        },
        "id": "a55l6v7xpFqB",
        "outputId": "404fbfa3-bb06-473a-df60-9638538e87e9"
      },
      "execution_count": 175,
      "outputs": [
        {
          "output_type": "execute_result",
          "data": {
            "text/plain": [
              "<matplotlib.axes._subplots.AxesSubplot at 0x7f8409f60550>"
            ]
          },
          "metadata": {},
          "execution_count": 175
        },
        {
          "output_type": "display_data",
          "data": {
            "text/plain": [
              "<Figure size 864x576 with 1 Axes>"
            ],
            "image/png": "[encoded data removed]"
          },
          "metadata": {}
        }
      ]
    },
    {
      "cell_type": "markdown",
      "source": [
        "3. Understand relation of **'Installs' and 'Rating' - Free Apps**\n",
        "\n",
        "-----"
      ],
      "metadata": {
        "id": "M_2tXiVypu6v"
      }
    },
    {
      "cell_type": "code",
      "source": [
        "free_insta_rate_df = free_app_df.groupby(['Installs'])['Rating'].mean().reset_index().sort_values(by=['Installs'], ascending=False)\n",
        "free_insta_rate_df"
      ],
      "metadata": {
        "colab": {
          "base_uri": "https://localhost:8080/",
          "height": 676
        },
        "id": "H2fokjrmp2FM",
        "outputId": "24d38b77-214e-4ce0-d6f0-3f47f2531c31"
      },
      "execution_count": 176,
      "outputs": [
        {
          "output_type": "execute_result",
          "data": {
            "text/plain": [
              "        Installs    Rating\n",
              "19  1.000000e+09  4.215000\n",
              "18  5.000000e+08  4.375000\n",
              "17  1.000000e+08  4.386243\n",
              "16  5.000000e+07  4.333824\n",
              "15  1.000000e+07  4.297315\n",
              "14  5.000000e+06  4.227512\n",
              "13  1.000000e+06  4.213796\n",
              "12  5.000000e+05  4.161866\n",
              "11  1.000000e+05  4.092248\n",
              "10  5.000000e+04  4.025874\n",
              "9   1.000000e+04  4.013567\n",
              "8   5.000000e+03  4.037221\n",
              "7   1.000000e+03  4.105992\n",
              "6   5.000000e+02  4.232639\n",
              "5   1.000000e+02  4.339610\n",
              "4   5.000000e+01  4.367647\n",
              "3   1.000000e+01  4.359048\n",
              "2   5.000000e+00  4.340000\n",
              "1   1.000000e+00  4.315217\n",
              "0   0.000000e+00  4.300000"
            ],
            "text/html": [
              "\n",
              "  <div id=\"df-2df71910-4c0c-4162-badd-8431e8c1b4d3\">\n",
              "    <div class=\"colab-df-container\">\n",
              "      <div>\n",
              "<style scoped>\n",
              "    .dataframe tbody tr th:only-of-type {\n",
              "        vertical-align: middle;\n",
              "    }\n",
              "\n",
              "    .dataframe tbody tr th {\n",
              "        vertical-align: top;\n",
              "    }\n",
              "\n",
              "    .dataframe thead th {\n",
              "        text-align: right;\n",
              "    }\n",
              "</style>\n",
              "<table border=\"1\" class=\"dataframe\">\n",
              "  <thead>\n",
              "    <tr style=\"text-align: right;\">\n",
              "      <th></th>\n",
              "      <th>Installs</th>\n",
              "      <th>Rating</th>\n",
              "    </tr>\n",
              "  </thead>\n",
              "  <tbody>\n",
              "    <tr>\n",
              "      <th>19</th>\n",
              "      <td>1.000000e+09</td>\n",
              "      <td>4.215000</td>\n",
              "    </tr>\n",
              "    <tr>\n",
              "      <th>18</th>\n",
              "      <td>5.000000e+08</td>\n",
              "      <td>4.375000</td>\n",
              "    </tr>\n",
              "    <tr>\n",
              "      <th>17</th>\n",
              "      <td>1.000000e+08</td>\n",
              "      <td>4.386243</td>\n",
              "    </tr>\n",
              "    <tr>\n",
              "      <th>16</th>\n",
              "      <td>5.000000e+07</td>\n",
              "      <td>4.333824</td>\n",
              "    </tr>\n",
              "    <tr>\n",
              "      <th>15</th>\n",
              "      <td>1.000000e+07</td>\n",
              "      <td>4.297315</td>\n",
              "    </tr>\n",
              "    <tr>\n",
              "      <th>14</th>\n",
              "      <td>5.000000e+06</td>\n",
              "      <td>4.227512</td>\n",
              "    </tr>\n",
              "    <tr>\n",
              "      <th>13</th>\n",
              "      <td>1.000000e+06</td>\n",
              "      <td>4.213796</td>\n",
              "    </tr>\n",
              "    <tr>\n",
              "      <th>12</th>\n",
              "      <td>5.000000e+05</td>\n",
              "      <td>4.161866</td>\n",
              "    </tr>\n",
              "    <tr>\n",
              "      <th>11</th>\n",
              "      <td>1.000000e+05</td>\n",
              "      <td>4.092248</td>\n",
              "    </tr>\n",
              "    <tr>\n",
              "      <th>10</th>\n",
              "      <td>5.000000e+04</td>\n",
              "      <td>4.025874</td>\n",
              "    </tr>\n",
              "    <tr>\n",
              "      <th>9</th>\n",
              "      <td>1.000000e+04</td>\n",
              "      <td>4.013567</td>\n",
              "    </tr>\n",
              "    <tr>\n",
              "      <th>8</th>\n",
              "      <td>5.000000e+03</td>\n",
              "      <td>4.037221</td>\n",
              "    </tr>\n",
              "    <tr>\n",
              "      <th>7</th>\n",
              "      <td>1.000000e+03</td>\n",
              "      <td>4.105992</td>\n",
              "    </tr>\n",
              "    <tr>\n",
              "      <th>6</th>\n",
              "      <td>5.000000e+02</td>\n",
              "      <td>4.232639</td>\n",
              "    </tr>\n",
              "    <tr>\n",
              "      <th>5</th>\n",
              "      <td>1.000000e+02</td>\n",
              "      <td>4.339610</td>\n",
              "    </tr>\n",
              "    <tr>\n",
              "      <th>4</th>\n",
              "      <td>5.000000e+01</td>\n",
              "      <td>4.367647</td>\n",
              "    </tr>\n",
              "    <tr>\n",
              "      <th>3</th>\n",
              "      <td>1.000000e+01</td>\n",
              "      <td>4.359048</td>\n",
              "    </tr>\n",
              "    <tr>\n",
              "      <th>2</th>\n",
              "      <td>5.000000e+00</td>\n",
              "      <td>4.340000</td>\n",
              "    </tr>\n",
              "    <tr>\n",
              "      <th>1</th>\n",
              "      <td>1.000000e+00</td>\n",
              "      <td>4.315217</td>\n",
              "    </tr>\n",
              "    <tr>\n",
              "      <th>0</th>\n",
              "      <td>0.000000e+00</td>\n",
              "      <td>4.300000</td>\n",
              "    </tr>\n",
              "  </tbody>\n",
              "</table>\n",
              "</div>\n",
              "      <button class=\"colab-df-convert\" onclick=\"convertToInteractive('df-2df71910-4c0c-4162-badd-8431e8c1b4d3')\"\n",
              "              title=\"Convert this dataframe to an interactive table.\"\n",
              "              style=\"display:none;\">\n",
              "        \n",
              "  <svg xmlns=\"http://www.w3.org/2000/svg\" height=\"24px\"viewBox=\"0 0 24 24\"\n",
              "       width=\"24px\">\n",
              "    <path d=\"M0 0h24v24H0V0z\" fill=\"none\"/>\n",
              "    <path d=\"M18.56 5.44l.94 2.06.94-2.06 2.06-.94-2.06-.94-.94-2.06-.94 2.06-2.06.94zm-11 1L8.5 8.5l.94-2.06 2.06-.94-2.06-.94L8.5 2.5l-.94 2.06-2.06.94zm10 10l.94 2.06.94-2.06 2.06-.94-2.06-.94-.94-2.06-.94 2.06-2.06.94z\"/><path d=\"M17.41 7.96l-1.37-1.37c-.4-.4-.92-.59-1.43-.59-.52 0-1.04.2-1.43.59L10.3 9.45l-7.72 7.72c-.78.78-.78 2.05 0 2.83L4 21.41c.39.39.9.59 1.41.59.51 0 1.02-.2 1.41-.59l7.78-7.78 2.81-2.81c.8-.78.8-2.07 0-2.86zM5.41 20L4 18.59l7.72-7.72 1.47 1.35L5.41 20z\"/>\n",
              "  </svg>\n",
              "      </button>\n",
              "      \n",
              "  <style>\n",
              "    .colab-df-container {\n",
              "      display:flex;\n",
              "      flex-wrap:wrap;\n",
              "      gap: 12px;\n",
              "    }\n",
              "\n",
              "    .colab-df-convert {\n",
              "      background-color: #E8F0FE;\n",
              "      border: none;\n",
              "      border-radius: 50%;\n",
              "      cursor: pointer;\n",
              "      display: none;\n",
              "      fill: #1967D2;\n",
              "      height: 32px;\n",
              "      padding: 0 0 0 0;\n",
              "      width: 32px;\n",
              "    }\n",
              "\n",
              "    .colab-df-convert:hover {\n",
              "      background-color: #E2EBFA;\n",
              "      box-shadow: 0px 1px 2px rgba(60, 64, 67, 0.3), 0px 1px 3px 1px rgba(60, 64, 67, 0.15);\n",
              "      fill: #174EA6;\n",
              "    }\n",
              "\n",
              "    [theme=dark] .colab-df-convert {\n",
              "      background-color: #3B4455;\n",
              "      fill: #D2E3FC;\n",
              "    }\n",
              "\n",
              "    [theme=dark] .colab-df-convert:hover {\n",
              "      background-color: #434B5C;\n",
              "      box-shadow: 0px 1px 3px 1px rgba(0, 0, 0, 0.15);\n",
              "      filter: drop-shadow(0px 1px 2px rgba(0, 0, 0, 0.3));\n",
              "      fill: #FFFFFF;\n",
              "    }\n",
              "  </style>\n",
              "\n",
              "      <script>\n",
              "        const buttonEl =\n",
              "          document.querySelector('#df-2df71910-4c0c-4162-badd-8431e8c1b4d3 button.colab-df-convert');\n",
              "        buttonEl.style.display =\n",
              "          google.colab.kernel.accessAllowed ? 'block' : 'none';\n",
              "\n",
              "        async function convertToInteractive(key) {\n",
              "          const element = document.querySelector('#df-2df71910-4c0c-4162-badd-8431e8c1b4d3');\n",
              "          const dataTable =\n",
              "            await google.colab.kernel.invokeFunction('convertToInteractive',\n",
              "                                                     [key], {});\n",
              "          if (!dataTable) return;\n",
              "\n",
              "          const docLinkHtml = 'Like what you see? Visit the ' +\n",
              "            '<a target=\"_blank\" href=https://colab.research.google.com/notebooks/data_table.ipynb>data table notebook</a>'\n",
              "            + ' to learn more about interactive tables.';\n",
              "          element.innerHTML = '';\n",
              "          dataTable['output_type'] = 'display_data';\n",
              "          await google.colab.output.renderOutput(dataTable, element);\n",
              "          const docLink = document.createElement('div');\n",
              "          docLink.innerHTML = docLinkHtml;\n",
              "          element.appendChild(docLink);\n",
              "        }\n",
              "      </script>\n",
              "    </div>\n",
              "  </div>\n",
              "  "
            ]
          },
          "metadata": {},
          "execution_count": 176
        }
      ]
    },
    {
      "cell_type": "code",
      "source": [
        "trend_lines = [\"ols\"]\n",
        "for trend_line in trend_lines:\n",
        "    fig = px.scatter(\n",
        "        free_insta_rate_df, \n",
        "        x=\"Installs\",\n",
        "        y=\"Rating\",\n",
        "        trendline=trend_line,\n",
        "        title=f\"{trend_line} Trend Line\"\n",
        "    )\n",
        "    fig.show()"
      ],
      "metadata": {
        "colab": {
          "base_uri": "https://localhost:8080/",
          "height": 542
        },
        "id": "Fi6Cxo4rp808",
        "outputId": "9760ce2e-728a-4772-f1ff-52eecdb10690"
      },
      "execution_count": 177,
      "outputs": [
        {
          "output_type": "display_data",
          "data": {
            "text/html": [
              "<html>\n",
              "<head><meta charset=\"utf-8\" /></head>\n",
              "<body>\n",
              "    <div>            <script src=\"https://cdnjs.cloudflare.com/ajax/libs/mathjax/2.7.5/MathJax.js?config=TeX-AMS-MML_SVG\"></script><script type=\"text/javascript\">if (window.MathJax) {MathJax.Hub.Config({SVG: {font: \"STIX-Web\"}});}</script>                <script type=\"text/javascript\">window.PlotlyConfig = {MathJaxConfig: 'local'};</script>\n",
              "        <script src=\"https://cdn.plot.ly/plotly-2.8.3.min.js\"></script>                <div id=\"ccdb9dad-6c50-4773-b85f-c27a2e7798e7\" class=\"plotly-graph-div\" style=\"height:525px; width:100%;\"></div>            <script type=\"text/javascript\">                                    window.PLOTLYENV=window.PLOTLYENV || {};                                    if (document.getElementById(\"ccdb9dad-6c50-4773-b85f-c27a2e7798e7\")) {                    Plotly.newPlot(                        \"ccdb9dad-6c50-4773-b85f-c27a2e7798e7\",                        [{\"hovertemplate\":\"Installs=%{x}<br>Rating=%{y}<extra></extra>\",\"legendgroup\":\"\",\"marker\":{\"color\":\"#636efa\",\"symbol\":\"circle\"},\"mode\":\"markers\",\"name\":\"\",\"orientation\":\"v\",\"showlegend\":false,\"x\":[1000000000.0,500000000.0,100000000.0,50000000.0,10000000.0,5000000.0,1000000.0,500000.0,100000.0,50000.0,10000.0,5000.0,1000.0,500.0,100.0,50.0,10.0,5.0,1.0,0.0],\"xaxis\":\"x\",\"y\":[4.215,4.375,4.386243386243386,4.333823529411765,4.297314715359828,4.227512355848435,4.213795568263046,4.16186612576065,4.0922480620155035,4.025874125874125,4.013566739606127,4.037220843672457,4.105992010652463,4.232638888888889,4.33961038961039,4.367647058823529,4.359047619047619,4.34,4.315217391304348,4.3],\"yaxis\":\"y\",\"type\":\"scatter\"},{\"hovertemplate\":\"<b>OLS trendline</b><br>Rating = 5.98573e-11 * Installs + 4.23199<br>R<sup>2</sup>=0.013565<br><br>Installs=%{x}<br>Rating=%{y} <b>(trend)</b><extra></extra>\",\"legendgroup\":\"\",\"marker\":{\"color\":\"#636efa\",\"symbol\":\"circle\"},\"mode\":\"lines\",\"name\":\"\",\"showlegend\":false,\"x\":[0.0,1.0,5.0,10.0,50.0,100.0,500.0,1000.0,5000.0,10000.0,50000.0,100000.0,500000.0,1000000.0,5000000.0,10000000.0,50000000.0,100000000.0,500000000.0,1000000000.0],\"xaxis\":\"x\",\"y\":[4.23199283559492,4.231992835654777,4.231992835894206,4.231992836193493,4.231992838587783,4.231992841580646,4.23199286552355,4.231992895452179,4.231993134881216,4.231993434167512,4.231995828457876,4.231998821320832,4.232022764224477,4.232052692854035,4.2322921218904925,4.232591408186065,4.234985698550641,4.237978561506362,4.261921465152128,4.291850094709337],\"yaxis\":\"y\",\"type\":\"scatter\"}],                        {\"template\":{\"data\":{\"bar\":[{\"error_x\":{\"color\":\"#2a3f5f\"},\"error_y\":{\"color\":\"#2a3f5f\"},\"marker\":{\"line\":{\"color\":\"#E5ECF6\",\"width\":0.5},\"pattern\":{\"fillmode\":\"overlay\",\"size\":10,\"solidity\":0.2}},\"type\":\"bar\"}],\"barpolar\":[{\"marker\":{\"line\":{\"color\":\"#E5ECF6\",\"width\":0.5},\"pattern\":{\"fillmode\":\"overlay\",\"size\":10,\"solidity\":0.2}},\"type\":\"barpolar\"}],\"carpet\":[{\"aaxis\":{\"endlinecolor\":\"#2a3f5f\",\"gridcolor\":\"white\",\"linecolor\":\"white\",\"minorgridcolor\":\"white\",\"startlinecolor\":\"#2a3f5f\"},\"baxis\":{\"endlinecolor\":\"#2a3f5f\",\"gridcolor\":\"white\",\"linecolor\":\"white\",\"minorgridcolor\":\"white\",\"startlinecolor\":\"#2a3f5f\"},\"type\":\"carpet\"}],\"choropleth\":[{\"colorbar\":{\"outlinewidth\":0,\"ticks\":\"\"},\"type\":\"choropleth\"}],\"contour\":[{\"colorbar\":{\"outlinewidth\":0,\"ticks\":\"\"},\"colorscale\":[[0.0,\"#0d0887\"],[0.1111111111111111,\"#46039f\"],[0.2222222222222222,\"#7201a8\"],[0.3333333333333333,\"#9c179e\"],[0.4444444444444444,\"#bd3786\"],[0.5555555555555556,\"#d8576b\"],[0.6666666666666666,\"#ed7953\"],[0.7777777777777778,\"#fb9f3a\"],[0.8888888888888888,\"#fdca26\"],[1.0,\"#f0f921\"]],\"type\":\"contour\"}],\"contourcarpet\":[{\"colorbar\":{\"outlinewidth\":0,\"ticks\":\"\"},\"type\":\"contourcarpet\"}],\"heatmap\":[{\"colorbar\":{\"outlinewidth\":0,\"ticks\":\"\"},\"colorscale\":[[0.0,\"#0d0887\"],[0.1111111111111111,\"#46039f\"],[0.2222222222222222,\"#7201a8\"],[0.3333333333333333,\"#9c179e\"],[0.4444444444444444,\"#bd3786\"],[0.5555555555555556,\"#d8576b\"],[0.6666666666666666,\"#ed7953\"],[0.7777777777777778,\"#fb9f3a\"],[0.8888888888888888,\"#fdca26\"],[1.0,\"#f0f921\"]],\"type\":\"heatmap\"}],\"heatmapgl\":[{\"colorbar\":{\"outlinewidth\":0,\"ticks\":\"\"},\"colorscale\":[[0.0,\"#0d0887\"],[0.1111111111111111,\"#46039f\"],[0.2222222222222222,\"#7201a8\"],[0.3333333333333333,\"#9c179e\"],[0.4444444444444444,\"#bd3786\"],[0.5555555555555556,\"#d8576b\"],[0.6666666666666666,\"#ed7953\"],[0.7777777777777778,\"#fb9f3a\"],[0.8888888888888888,\"#fdca26\"],[1.0,\"#f0f921\"]],\"type\":\"heatmapgl\"}],\"histogram\":[{\"marker\":{\"pattern\":{\"fillmode\":\"overlay\",\"size\":10,\"solidity\":0.2}},\"type\":\"histogram\"}],\"histogram2d\":[{\"colorbar\":{\"outlinewidth\":0,\"ticks\":\"\"},\"colorscale\":[[0.0,\"#0d0887\"],[0.1111111111111111,\"#46039f\"],[0.2222222222222222,\"#7201a8\"],[0.3333333333333333,\"#9c179e\"],[0.4444444444444444,\"#bd3786\"],[0.5555555555555556,\"#d8576b\"],[0.6666666666666666,\"#ed7953\"],[0.7777777777777778,\"#fb9f3a\"],[0.8888888888888888,\"#fdca26\"],[1.0,\"#f0f921\"]],\"type\":\"histogram2d\"}],\"histogram2dcontour\":[{\"colorbar\":{\"outlinewidth\":0,\"ticks\":\"\"},\"colorscale\":[[0.0,\"#0d0887\"],[0.1111111111111111,\"#46039f\"],[0.2222222222222222,\"#7201a8\"],[0.3333333333333333,\"#9c179e\"],[0.4444444444444444,\"#bd3786\"],[0.5555555555555556,\"#d8576b\"],[0.6666666666666666,\"#ed7953\"],[0.7777777777777778,\"#fb9f3a\"],[0.8888888888888888,\"#fdca26\"],[1.0,\"#f0f921\"]],\"type\":\"histogram2dcontour\"}],\"mesh3d\":[{\"colorbar\":{\"outlinewidth\":0,\"ticks\":\"\"},\"type\":\"mesh3d\"}],\"parcoords\":[{\"line\":{\"colorbar\":{\"outlinewidth\":0,\"ticks\":\"\"}},\"type\":\"parcoords\"}],\"pie\":[{\"automargin\":true,\"type\":\"pie\"}],\"scatter\":[{\"marker\":{\"colorbar\":{\"outlinewidth\":0,\"ticks\":\"\"}},\"type\":\"scatter\"}],\"scatter3d\":[{\"line\":{\"colorbar\":{\"outlinewidth\":0,\"ticks\":\"\"}},\"marker\":{\"colorbar\":{\"outlinewidth\":0,\"ticks\":\"\"}},\"type\":\"scatter3d\"}],\"scattercarpet\":[{\"marker\":{\"colorbar\":{\"outlinewidth\":0,\"ticks\":\"\"}},\"type\":\"scattercarpet\"}],\"scattergeo\":[{\"marker\":{\"colorbar\":{\"outlinewidth\":0,\"ticks\":\"\"}},\"type\":\"scattergeo\"}],\"scattergl\":[{\"marker\":{\"colorbar\":{\"outlinewidth\":0,\"ticks\":\"\"}},\"type\":\"scattergl\"}],\"scattermapbox\":[{\"marker\":{\"colorbar\":{\"outlinewidth\":0,\"ticks\":\"\"}},\"type\":\"scattermapbox\"}],\"scatterpolar\":[{\"marker\":{\"colorbar\":{\"outlinewidth\":0,\"ticks\":\"\"}},\"type\":\"scatterpolar\"}],\"scatterpolargl\":[{\"marker\":{\"colorbar\":{\"outlinewidth\":0,\"ticks\":\"\"}},\"type\":\"scatterpolargl\"}],\"scatterternary\":[{\"marker\":{\"colorbar\":{\"outlinewidth\":0,\"ticks\":\"\"}},\"type\":\"scatterternary\"}],\"surface\":[{\"colorbar\":{\"outlinewidth\":0,\"ticks\":\"\"},\"colorscale\":[[0.0,\"#0d0887\"],[0.1111111111111111,\"#46039f\"],[0.2222222222222222,\"#7201a8\"],[0.3333333333333333,\"#9c179e\"],[0.4444444444444444,\"#bd3786\"],[0.5555555555555556,\"#d8576b\"],[0.6666666666666666,\"#ed7953\"],[0.7777777777777778,\"#fb9f3a\"],[0.8888888888888888,\"#fdca26\"],[1.0,\"#f0f921\"]],\"type\":\"surface\"}],\"table\":[{\"cells\":{\"fill\":{\"color\":\"#EBF0F8\"},\"line\":{\"color\":\"white\"}},\"header\":{\"fill\":{\"color\":\"#C8D4E3\"},\"line\":{\"color\":\"white\"}},\"type\":\"table\"}]},\"layout\":{\"annotationdefaults\":{\"arrowcolor\":\"#2a3f5f\",\"arrowhead\":0,\"arrowwidth\":1},\"autotypenumbers\":\"strict\",\"coloraxis\":{\"colorbar\":{\"outlinewidth\":0,\"ticks\":\"\"}},\"colorscale\":{\"diverging\":[[0,\"#8e0152\"],[0.1,\"#c51b7d\"],[0.2,\"#de77ae\"],[0.3,\"#f1b6da\"],[0.4,\"#fde0ef\"],[0.5,\"#f7f7f7\"],[0.6,\"#e6f5d0\"],[0.7,\"#b8e186\"],[0.8,\"#7fbc41\"],[0.9,\"#4d9221\"],[1,\"#276419\"]],\"sequential\":[[0.0,\"#0d0887\"],[0.1111111111111111,\"#46039f\"],[0.2222222222222222,\"#7201a8\"],[0.3333333333333333,\"#9c179e\"],[0.4444444444444444,\"#bd3786\"],[0.5555555555555556,\"#d8576b\"],[0.6666666666666666,\"#ed7953\"],[0.7777777777777778,\"#fb9f3a\"],[0.8888888888888888,\"#fdca26\"],[1.0,\"#f0f921\"]],\"sequentialminus\":[[0.0,\"#0d0887\"],[0.1111111111111111,\"#46039f\"],[0.2222222222222222,\"#7201a8\"],[0.3333333333333333,\"#9c179e\"],[0.4444444444444444,\"#bd3786\"],[0.5555555555555556,\"#d8576b\"],[0.6666666666666666,\"#ed7953\"],[0.7777777777777778,\"#fb9f3a\"],[0.8888888888888888,\"#fdca26\"],[1.0,\"#f0f921\"]]},\"colorway\":[\"#636efa\",\"#EF553B\",\"#00cc96\",\"#ab63fa\",\"#FFA15A\",\"#19d3f3\",\"#FF6692\",\"#B6E880\",\"#FF97FF\",\"#FECB52\"],\"font\":{\"color\":\"#2a3f5f\"},\"geo\":{\"bgcolor\":\"white\",\"lakecolor\":\"white\",\"landcolor\":\"#E5ECF6\",\"showlakes\":true,\"showland\":true,\"subunitcolor\":\"white\"},\"hoverlabel\":{\"align\":\"left\"},\"hovermode\":\"closest\",\"mapbox\":{\"style\":\"light\"},\"paper_bgcolor\":\"white\",\"plot_bgcolor\":\"#E5ECF6\",\"polar\":{\"angularaxis\":{\"gridcolor\":\"white\",\"linecolor\":\"white\",\"ticks\":\"\"},\"bgcolor\":\"#E5ECF6\",\"radialaxis\":{\"gridcolor\":\"white\",\"linecolor\":\"white\",\"ticks\":\"\"}},\"scene\":{\"xaxis\":{\"backgroundcolor\":\"#E5ECF6\",\"gridcolor\":\"white\",\"gridwidth\":2,\"linecolor\":\"white\",\"showbackground\":true,\"ticks\":\"\",\"zerolinecolor\":\"white\"},\"yaxis\":{\"backgroundcolor\":\"#E5ECF6\",\"gridcolor\":\"white\",\"gridwidth\":2,\"linecolor\":\"white\",\"showbackground\":true,\"ticks\":\"\",\"zerolinecolor\":\"white\"},\"zaxis\":{\"backgroundcolor\":\"#E5ECF6\",\"gridcolor\":\"white\",\"gridwidth\":2,\"linecolor\":\"white\",\"showbackground\":true,\"ticks\":\"\",\"zerolinecolor\":\"white\"}},\"shapedefaults\":{\"line\":{\"color\":\"#2a3f5f\"}},\"ternary\":{\"aaxis\":{\"gridcolor\":\"white\",\"linecolor\":\"white\",\"ticks\":\"\"},\"baxis\":{\"gridcolor\":\"white\",\"linecolor\":\"white\",\"ticks\":\"\"},\"bgcolor\":\"#E5ECF6\",\"caxis\":{\"gridcolor\":\"white\",\"linecolor\":\"white\",\"ticks\":\"\"}},\"title\":{\"x\":0.05},\"xaxis\":{\"automargin\":true,\"gridcolor\":\"white\",\"linecolor\":\"white\",\"ticks\":\"\",\"title\":{\"standoff\":15},\"zerolinecolor\":\"white\",\"zerolinewidth\":2},\"yaxis\":{\"automargin\":true,\"gridcolor\":\"white\",\"linecolor\":\"white\",\"ticks\":\"\",\"title\":{\"standoff\":15},\"zerolinecolor\":\"white\",\"zerolinewidth\":2}}},\"xaxis\":{\"anchor\":\"y\",\"domain\":[0.0,1.0],\"title\":{\"text\":\"Installs\"}},\"yaxis\":{\"anchor\":\"x\",\"domain\":[0.0,1.0],\"title\":{\"text\":\"Rating\"}},\"legend\":{\"tracegroupgap\":0},\"title\":{\"text\":\"ols Trend Line\"}},                        {\"responsive\": true}                    ).then(function(){\n",
              "                            \n",
              "var gd = document.getElementById('ccdb9dad-6c50-4773-b85f-c27a2e7798e7');\n",
              "var x = new MutationObserver(function (mutations, observer) {{\n",
              "        var display = window.getComputedStyle(gd).display;\n",
              "        if (!display || display === 'none') {{\n",
              "            console.log([gd, 'removed!']);\n",
              "            Plotly.purge(gd);\n",
              "            observer.disconnect();\n",
              "        }}\n",
              "}});\n",
              "\n",
              "// Listen for the removal of the full notebook cells\n",
              "var notebookContainer = gd.closest('#notebook-container');\n",
              "if (notebookContainer) {{\n",
              "    x.observe(notebookContainer, {childList: true});\n",
              "}}\n",
              "\n",
              "// Listen for the clearing of the current output cell\n",
              "var outputEl = gd.closest('.output');\n",
              "if (outputEl) {{\n",
              "    x.observe(outputEl, {childList: true});\n",
              "}}\n",
              "\n",
              "                        })                };                            </script>        </div>\n",
              "</body>\n",
              "</html>"
            ]
          },
          "metadata": {}
        }
      ]
    },
    {
      "cell_type": "markdown",
      "source": [
        "4. Understand relation of **'Installs' and 'Rating' - Paid Apps**\n",
        "\n",
        "-----"
      ],
      "metadata": {
        "id": "WC3qTgcaqWx6"
      }
    },
    {
      "cell_type": "code",
      "source": [
        "paid_insta_rate_df = paid_app_df.groupby(['Installs'])['Rating'].mean().reset_index().sort_values(by=['Installs'], ascending=False)\n",
        "paid_insta_rate_df"
      ],
      "metadata": {
        "colab": {
          "base_uri": "https://localhost:8080/",
          "height": 520
        },
        "id": "dgb4Z-IYqJdO",
        "outputId": "8cc1beb7-524a-45ae-b0fe-1bfafa9624b3"
      },
      "execution_count": 178,
      "outputs": [
        {
          "output_type": "execute_result",
          "data": {
            "text/plain": [
              "      Installs    Rating\n",
              "14  10000000.0  4.550000\n",
              "13   1000000.0  4.445000\n",
              "12    500000.0  4.418182\n",
              "11    100000.0  4.462195\n",
              "10     50000.0  4.327500\n",
              "9      10000.0  4.303419\n",
              "8       5000.0  4.107692\n",
              "7       1000.0  4.153285\n",
              "6        500.0  4.177500\n",
              "5        100.0  4.244086\n",
              "4         50.0  4.158824\n",
              "3         10.0  4.354286\n",
              "2          5.0  4.300000\n",
              "1          1.0  4.366667\n",
              "0          0.0  4.300000"
            ],
            "text/html": [
              "\n",
              "  <div id=\"df-67528d68-ba27-4ce9-abbe-610f7ee36ad6\">\n",
              "    <div class=\"colab-df-container\">\n",
              "      <div>\n",
              "<style scoped>\n",
              "    .dataframe tbody tr th:only-of-type {\n",
              "        vertical-align: middle;\n",
              "    }\n",
              "\n",
              "    .dataframe tbody tr th {\n",
              "        vertical-align: top;\n",
              "    }\n",
              "\n",
              "    .dataframe thead th {\n",
              "        text-align: right;\n",
              "    }\n",
              "</style>\n",
              "<table border=\"1\" class=\"dataframe\">\n",
              "  <thead>\n",
              "    <tr style=\"text-align: right;\">\n",
              "      <th></th>\n",
              "      <th>Installs</th>\n",
              "      <th>Rating</th>\n",
              "    </tr>\n",
              "  </thead>\n",
              "  <tbody>\n",
              "    <tr>\n",
              "      <th>14</th>\n",
              "      <td>10000000.0</td>\n",
              "      <td>4.550000</td>\n",
              "    </tr>\n",
              "    <tr>\n",
              "      <th>13</th>\n",
              "      <td>1000000.0</td>\n",
              "      <td>4.445000</td>\n",
              "    </tr>\n",
              "    <tr>\n",
              "      <th>12</th>\n",
              "      <td>500000.0</td>\n",
              "      <td>4.418182</td>\n",
              "    </tr>\n",
              "    <tr>\n",
              "      <th>11</th>\n",
              "      <td>100000.0</td>\n",
              "      <td>4.462195</td>\n",
              "    </tr>\n",
              "    <tr>\n",
              "      <th>10</th>\n",
              "      <td>50000.0</td>\n",
              "      <td>4.327500</td>\n",
              "    </tr>\n",
              "    <tr>\n",
              "      <th>9</th>\n",
              "      <td>10000.0</td>\n",
              "      <td>4.303419</td>\n",
              "    </tr>\n",
              "    <tr>\n",
              "      <th>8</th>\n",
              "      <td>5000.0</td>\n",
              "      <td>4.107692</td>\n",
              "    </tr>\n",
              "    <tr>\n",
              "      <th>7</th>\n",
              "      <td>1000.0</td>\n",
              "      <td>4.153285</td>\n",
              "    </tr>\n",
              "    <tr>\n",
              "      <th>6</th>\n",
              "      <td>500.0</td>\n",
              "      <td>4.177500</td>\n",
              "    </tr>\n",
              "    <tr>\n",
              "      <th>5</th>\n",
              "      <td>100.0</td>\n",
              "      <td>4.244086</td>\n",
              "    </tr>\n",
              "    <tr>\n",
              "      <th>4</th>\n",
              "      <td>50.0</td>\n",
              "      <td>4.158824</td>\n",
              "    </tr>\n",
              "    <tr>\n",
              "      <th>3</th>\n",
              "      <td>10.0</td>\n",
              "      <td>4.354286</td>\n",
              "    </tr>\n",
              "    <tr>\n",
              "      <th>2</th>\n",
              "      <td>5.0</td>\n",
              "      <td>4.300000</td>\n",
              "    </tr>\n",
              "    <tr>\n",
              "      <th>1</th>\n",
              "      <td>1.0</td>\n",
              "      <td>4.366667</td>\n",
              "    </tr>\n",
              "    <tr>\n",
              "      <th>0</th>\n",
              "      <td>0.0</td>\n",
              "      <td>4.300000</td>\n",
              "    </tr>\n",
              "  </tbody>\n",
              "</table>\n",
              "</div>\n",
              "      <button class=\"colab-df-convert\" onclick=\"convertToInteractive('df-67528d68-ba27-4ce9-abbe-610f7ee36ad6')\"\n",
              "              title=\"Convert this dataframe to an interactive table.\"\n",
              "              style=\"display:none;\">\n",
              "        \n",
              "  <svg xmlns=\"http://www.w3.org/2000/svg\" height=\"24px\"viewBox=\"0 0 24 24\"\n",
              "       width=\"24px\">\n",
              "    <path d=\"M0 0h24v24H0V0z\" fill=\"none\"/>\n",
              "    <path d=\"M18.56 5.44l.94 2.06.94-2.06 2.06-.94-2.06-.94-.94-2.06-.94 2.06-2.06.94zm-11 1L8.5 8.5l.94-2.06 2.06-.94-2.06-.94L8.5 2.5l-.94 2.06-2.06.94zm10 10l.94 2.06.94-2.06 2.06-.94-2.06-.94-.94-2.06-.94 2.06-2.06.94z\"/><path d=\"M17.41 7.96l-1.37-1.37c-.4-.4-.92-.59-1.43-.59-.52 0-1.04.2-1.43.59L10.3 9.45l-7.72 7.72c-.78.78-.78 2.05 0 2.83L4 21.41c.39.39.9.59 1.41.59.51 0 1.02-.2 1.41-.59l7.78-7.78 2.81-2.81c.8-.78.8-2.07 0-2.86zM5.41 20L4 18.59l7.72-7.72 1.47 1.35L5.41 20z\"/>\n",
              "  </svg>\n",
              "      </button>\n",
              "      \n",
              "  <style>\n",
              "    .colab-df-container {\n",
              "      display:flex;\n",
              "      flex-wrap:wrap;\n",
              "      gap: 12px;\n",
              "    }\n",
              "\n",
              "    .colab-df-convert {\n",
              "      background-color: #E8F0FE;\n",
              "      border: none;\n",
              "      border-radius: 50%;\n",
              "      cursor: pointer;\n",
              "      display: none;\n",
              "      fill: #1967D2;\n",
              "      height: 32px;\n",
              "      padding: 0 0 0 0;\n",
              "      width: 32px;\n",
              "    }\n",
              "\n",
              "    .colab-df-convert:hover {\n",
              "      background-color: #E2EBFA;\n",
              "      box-shadow: 0px 1px 2px rgba(60, 64, 67, 0.3), 0px 1px 3px 1px rgba(60, 64, 67, 0.15);\n",
              "      fill: #174EA6;\n",
              "    }\n",
              "\n",
              "    [theme=dark] .colab-df-convert {\n",
              "      background-color: #3B4455;\n",
              "      fill: #D2E3FC;\n",
              "    }\n",
              "\n",
              "    [theme=dark] .colab-df-convert:hover {\n",
              "      background-color: #434B5C;\n",
              "      box-shadow: 0px 1px 3px 1px rgba(0, 0, 0, 0.15);\n",
              "      filter: drop-shadow(0px 1px 2px rgba(0, 0, 0, 0.3));\n",
              "      fill: #FFFFFF;\n",
              "    }\n",
              "  </style>\n",
              "\n",
              "      <script>\n",
              "        const buttonEl =\n",
              "          document.querySelector('#df-67528d68-ba27-4ce9-abbe-610f7ee36ad6 button.colab-df-convert');\n",
              "        buttonEl.style.display =\n",
              "          google.colab.kernel.accessAllowed ? 'block' : 'none';\n",
              "\n",
              "        async function convertToInteractive(key) {\n",
              "          const element = document.querySelector('#df-67528d68-ba27-4ce9-abbe-610f7ee36ad6');\n",
              "          const dataTable =\n",
              "            await google.colab.kernel.invokeFunction('convertToInteractive',\n",
              "                                                     [key], {});\n",
              "          if (!dataTable) return;\n",
              "\n",
              "          const docLinkHtml = 'Like what you see? Visit the ' +\n",
              "            '<a target=\"_blank\" href=https://colab.research.google.com/notebooks/data_table.ipynb>data table notebook</a>'\n",
              "            + ' to learn more about interactive tables.';\n",
              "          element.innerHTML = '';\n",
              "          dataTable['output_type'] = 'display_data';\n",
              "          await google.colab.output.renderOutput(dataTable, element);\n",
              "          const docLink = document.createElement('div');\n",
              "          docLink.innerHTML = docLinkHtml;\n",
              "          element.appendChild(docLink);\n",
              "        }\n",
              "      </script>\n",
              "    </div>\n",
              "  </div>\n",
              "  "
            ]
          },
          "metadata": {},
          "execution_count": 178
        }
      ]
    },
    {
      "cell_type": "code",
      "source": [
        "trend_lines = [\"ols\"]\n",
        "for trend_line in trend_lines:\n",
        "    fig = px.scatter(\n",
        "        paid_insta_rate_df, \n",
        "        x=\"Installs\",\n",
        "        y=\"Rating\",\n",
        "        trendline=trend_line,\n",
        "        title=f\"{trend_line} Trend Line\"\n",
        "    )\n",
        "    fig.show()"
      ],
      "metadata": {
        "colab": {
          "base_uri": "https://localhost:8080/",
          "height": 542
        },
        "id": "CLOHjOe7qNRU",
        "outputId": "1214f1d2-b280-4b74-e3cd-236f10324777"
      },
      "execution_count": 179,
      "outputs": [
        {
          "output_type": "display_data",
          "data": {
            "text/html": [
              "<html>\n",
              "<head><meta charset=\"utf-8\" /></head>\n",
              "<body>\n",
              "    <div>            <script src=\"https://cdnjs.cloudflare.com/ajax/libs/mathjax/2.7.5/MathJax.js?config=TeX-AMS-MML_SVG\"></script><script type=\"text/javascript\">if (window.MathJax) {MathJax.Hub.Config({SVG: {font: \"STIX-Web\"}});}</script>                <script type=\"text/javascript\">window.PlotlyConfig = {MathJaxConfig: 'local'};</script>\n",
              "        <script src=\"https://cdn.plot.ly/plotly-2.8.3.min.js\"></script>                <div id=\"c3e08195-28fa-4e0f-a9cb-21679a88b65a\" class=\"plotly-graph-div\" style=\"height:525px; width:100%;\"></div>            <script type=\"text/javascript\">                                    window.PLOTLYENV=window.PLOTLYENV || {};                                    if (document.getElementById(\"c3e08195-28fa-4e0f-a9cb-21679a88b65a\")) {                    Plotly.newPlot(                        \"c3e08195-28fa-4e0f-a9cb-21679a88b65a\",                        [{\"hovertemplate\":\"Installs=%{x}<br>Rating=%{y}<extra></extra>\",\"legendgroup\":\"\",\"marker\":{\"color\":\"#636efa\",\"symbol\":\"circle\"},\"mode\":\"markers\",\"name\":\"\",\"orientation\":\"v\",\"showlegend\":false,\"x\":[10000000.0,1000000.0,500000.0,100000.0,50000.0,10000.0,5000.0,1000.0,500.0,100.0,50.0,10.0,5.0,1.0,0.0],\"xaxis\":\"x\",\"y\":[4.55,4.445,4.418181818181818,4.462195121951219,4.3275,4.303418803418803,4.107692307692307,4.153284671532846,4.1775,4.244086021505376,4.158823529411765,4.354285714285714,4.3,4.366666666666667,4.3],\"yaxis\":\"y\",\"type\":\"scatter\"},{\"hovertemplate\":\"<b>OLS trendline</b><br>Rating = 2.80878e-08 * Installs + 4.2894<br>R<sup>2</sup>=0.320914<br><br>Installs=%{x}<br>Rating=%{y} <b>(trend)</b><extra></extra>\",\"legendgroup\":\"\",\"marker\":{\"color\":\"#636efa\",\"symbol\":\"circle\"},\"mode\":\"lines\",\"name\":\"\",\"showlegend\":false,\"x\":[0.0,1.0,5.0,10.0,50.0,100.0,500.0,1000.0,5000.0,10000.0,50000.0,100000.0,500000.0,1000000.0,10000000.0],\"xaxis\":\"x\",\"y\":[4.2893962099622716,4.2893962380501165,4.289396350401496,4.289396490840721,4.289397614354517,4.289399018746763,4.289410253884726,4.28942429780718,4.289536649186816,4.289677088411361,4.290800602207718,4.292204994453166,4.3034401324167435,4.317484054871215,4.570274659051705],\"yaxis\":\"y\",\"type\":\"scatter\"}],                        {\"template\":{\"data\":{\"bar\":[{\"error_x\":{\"color\":\"#2a3f5f\"},\"error_y\":{\"color\":\"#2a3f5f\"},\"marker\":{\"line\":{\"color\":\"#E5ECF6\",\"width\":0.5},\"pattern\":{\"fillmode\":\"overlay\",\"size\":10,\"solidity\":0.2}},\"type\":\"bar\"}],\"barpolar\":[{\"marker\":{\"line\":{\"color\":\"#E5ECF6\",\"width\":0.5},\"pattern\":{\"fillmode\":\"overlay\",\"size\":10,\"solidity\":0.2}},\"type\":\"barpolar\"}],\"carpet\":[{\"aaxis\":{\"endlinecolor\":\"#2a3f5f\",\"gridcolor\":\"white\",\"linecolor\":\"white\",\"minorgridcolor\":\"white\",\"startlinecolor\":\"#2a3f5f\"},\"baxis\":{\"endlinecolor\":\"#2a3f5f\",\"gridcolor\":\"white\",\"linecolor\":\"white\",\"minorgridcolor\":\"white\",\"startlinecolor\":\"#2a3f5f\"},\"type\":\"carpet\"}],\"choropleth\":[{\"colorbar\":{\"outlinewidth\":0,\"ticks\":\"\"},\"type\":\"choropleth\"}],\"contour\":[{\"colorbar\":{\"outlinewidth\":0,\"ticks\":\"\"},\"colorscale\":[[0.0,\"#0d0887\"],[0.1111111111111111,\"#46039f\"],[0.2222222222222222,\"#7201a8\"],[0.3333333333333333,\"#9c179e\"],[0.4444444444444444,\"#bd3786\"],[0.5555555555555556,\"#d8576b\"],[0.6666666666666666,\"#ed7953\"],[0.7777777777777778,\"#fb9f3a\"],[0.8888888888888888,\"#fdca26\"],[1.0,\"#f0f921\"]],\"type\":\"contour\"}],\"contourcarpet\":[{\"colorbar\":{\"outlinewidth\":0,\"ticks\":\"\"},\"type\":\"contourcarpet\"}],\"heatmap\":[{\"colorbar\":{\"outlinewidth\":0,\"ticks\":\"\"},\"colorscale\":[[0.0,\"#0d0887\"],[0.1111111111111111,\"#46039f\"],[0.2222222222222222,\"#7201a8\"],[0.3333333333333333,\"#9c179e\"],[0.4444444444444444,\"#bd3786\"],[0.5555555555555556,\"#d8576b\"],[0.6666666666666666,\"#ed7953\"],[0.7777777777777778,\"#fb9f3a\"],[0.8888888888888888,\"#fdca26\"],[1.0,\"#f0f921\"]],\"type\":\"heatmap\"}],\"heatmapgl\":[{\"colorbar\":{\"outlinewidth\":0,\"ticks\":\"\"},\"colorscale\":[[0.0,\"#0d0887\"],[0.1111111111111111,\"#46039f\"],[0.2222222222222222,\"#7201a8\"],[0.3333333333333333,\"#9c179e\"],[0.4444444444444444,\"#bd3786\"],[0.5555555555555556,\"#d8576b\"],[0.6666666666666666,\"#ed7953\"],[0.7777777777777778,\"#fb9f3a\"],[0.8888888888888888,\"#fdca26\"],[1.0,\"#f0f921\"]],\"type\":\"heatmapgl\"}],\"histogram\":[{\"marker\":{\"pattern\":{\"fillmode\":\"overlay\",\"size\":10,\"solidity\":0.2}},\"type\":\"histogram\"}],\"histogram2d\":[{\"colorbar\":{\"outlinewidth\":0,\"ticks\":\"\"},\"colorscale\":[[0.0,\"#0d0887\"],[0.1111111111111111,\"#46039f\"],[0.2222222222222222,\"#7201a8\"],[0.3333333333333333,\"#9c179e\"],[0.4444444444444444,\"#bd3786\"],[0.5555555555555556,\"#d8576b\"],[0.6666666666666666,\"#ed7953\"],[0.7777777777777778,\"#fb9f3a\"],[0.8888888888888888,\"#fdca26\"],[1.0,\"#f0f921\"]],\"type\":\"histogram2d\"}],\"histogram2dcontour\":[{\"colorbar\":{\"outlinewidth\":0,\"ticks\":\"\"},\"colorscale\":[[0.0,\"#0d0887\"],[0.1111111111111111,\"#46039f\"],[0.2222222222222222,\"#7201a8\"],[0.3333333333333333,\"#9c179e\"],[0.4444444444444444,\"#bd3786\"],[0.5555555555555556,\"#d8576b\"],[0.6666666666666666,\"#ed7953\"],[0.7777777777777778,\"#fb9f3a\"],[0.8888888888888888,\"#fdca26\"],[1.0,\"#f0f921\"]],\"type\":\"histogram2dcontour\"}],\"mesh3d\":[{\"colorbar\":{\"outlinewidth\":0,\"ticks\":\"\"},\"type\":\"mesh3d\"}],\"parcoords\":[{\"line\":{\"colorbar\":{\"outlinewidth\":0,\"ticks\":\"\"}},\"type\":\"parcoords\"}],\"pie\":[{\"automargin\":true,\"type\":\"pie\"}],\"scatter\":[{\"marker\":{\"colorbar\":{\"outlinewidth\":0,\"ticks\":\"\"}},\"type\":\"scatter\"}],\"scatter3d\":[{\"line\":{\"colorbar\":{\"outlinewidth\":0,\"ticks\":\"\"}},\"marker\":{\"colorbar\":{\"outlinewidth\":0,\"ticks\":\"\"}},\"type\":\"scatter3d\"}],\"scattercarpet\":[{\"marker\":{\"colorbar\":{\"outlinewidth\":0,\"ticks\":\"\"}},\"type\":\"scattercarpet\"}],\"scattergeo\":[{\"marker\":{\"colorbar\":{\"outlinewidth\":0,\"ticks\":\"\"}},\"type\":\"scattergeo\"}],\"scattergl\":[{\"marker\":{\"colorbar\":{\"outlinewidth\":0,\"ticks\":\"\"}},\"type\":\"scattergl\"}],\"scattermapbox\":[{\"marker\":{\"colorbar\":{\"outlinewidth\":0,\"ticks\":\"\"}},\"type\":\"scattermapbox\"}],\"scatterpolar\":[{\"marker\":{\"colorbar\":{\"outlinewidth\":0,\"ticks\":\"\"}},\"type\":\"scatterpolar\"}],\"scatterpolargl\":[{\"marker\":{\"colorbar\":{\"outlinewidth\":0,\"ticks\":\"\"}},\"type\":\"scatterpolargl\"}],\"scatterternary\":[{\"marker\":{\"colorbar\":{\"outlinewidth\":0,\"ticks\":\"\"}},\"type\":\"scatterternary\"}],\"surface\":[{\"colorbar\":{\"outlinewidth\":0,\"ticks\":\"\"},\"colorscale\":[[0.0,\"#0d0887\"],[0.1111111111111111,\"#46039f\"],[0.2222222222222222,\"#7201a8\"],[0.3333333333333333,\"#9c179e\"],[0.4444444444444444,\"#bd3786\"],[0.5555555555555556,\"#d8576b\"],[0.6666666666666666,\"#ed7953\"],[0.7777777777777778,\"#fb9f3a\"],[0.8888888888888888,\"#fdca26\"],[1.0,\"#f0f921\"]],\"type\":\"surface\"}],\"table\":[{\"cells\":{\"fill\":{\"color\":\"#EBF0F8\"},\"line\":{\"color\":\"white\"}},\"header\":{\"fill\":{\"color\":\"#C8D4E3\"},\"line\":{\"color\":\"white\"}},\"type\":\"table\"}]},\"layout\":{\"annotationdefaults\":{\"arrowcolor\":\"#2a3f5f\",\"arrowhead\":0,\"arrowwidth\":1},\"autotypenumbers\":\"strict\",\"coloraxis\":{\"colorbar\":{\"outlinewidth\":0,\"ticks\":\"\"}},\"colorscale\":{\"diverging\":[[0,\"#8e0152\"],[0.1,\"#c51b7d\"],[0.2,\"#de77ae\"],[0.3,\"#f1b6da\"],[0.4,\"#fde0ef\"],[0.5,\"#f7f7f7\"],[0.6,\"#e6f5d0\"],[0.7,\"#b8e186\"],[0.8,\"#7fbc41\"],[0.9,\"#4d9221\"],[1,\"#276419\"]],\"sequential\":[[0.0,\"#0d0887\"],[0.1111111111111111,\"#46039f\"],[0.2222222222222222,\"#7201a8\"],[0.3333333333333333,\"#9c179e\"],[0.4444444444444444,\"#bd3786\"],[0.5555555555555556,\"#d8576b\"],[0.6666666666666666,\"#ed7953\"],[0.7777777777777778,\"#fb9f3a\"],[0.8888888888888888,\"#fdca26\"],[1.0,\"#f0f921\"]],\"sequentialminus\":[[0.0,\"#0d0887\"],[0.1111111111111111,\"#46039f\"],[0.2222222222222222,\"#7201a8\"],[0.3333333333333333,\"#9c179e\"],[0.4444444444444444,\"#bd3786\"],[0.5555555555555556,\"#d8576b\"],[0.6666666666666666,\"#ed7953\"],[0.7777777777777778,\"#fb9f3a\"],[0.8888888888888888,\"#fdca26\"],[1.0,\"#f0f921\"]]},\"colorway\":[\"#636efa\",\"#EF553B\",\"#00cc96\",\"#ab63fa\",\"#FFA15A\",\"#19d3f3\",\"#FF6692\",\"#B6E880\",\"#FF97FF\",\"#FECB52\"],\"font\":{\"color\":\"#2a3f5f\"},\"geo\":{\"bgcolor\":\"white\",\"lakecolor\":\"white\",\"landcolor\":\"#E5ECF6\",\"showlakes\":true,\"showland\":true,\"subunitcolor\":\"white\"},\"hoverlabel\":{\"align\":\"left\"},\"hovermode\":\"closest\",\"mapbox\":{\"style\":\"light\"},\"paper_bgcolor\":\"white\",\"plot_bgcolor\":\"#E5ECF6\",\"polar\":{\"angularaxis\":{\"gridcolor\":\"white\",\"linecolor\":\"white\",\"ticks\":\"\"},\"bgcolor\":\"#E5ECF6\",\"radialaxis\":{\"gridcolor\":\"white\",\"linecolor\":\"white\",\"ticks\":\"\"}},\"scene\":{\"xaxis\":{\"backgroundcolor\":\"#E5ECF6\",\"gridcolor\":\"white\",\"gridwidth\":2,\"linecolor\":\"white\",\"showbackground\":true,\"ticks\":\"\",\"zerolinecolor\":\"white\"},\"yaxis\":{\"backgroundcolor\":\"#E5ECF6\",\"gridcolor\":\"white\",\"gridwidth\":2,\"linecolor\":\"white\",\"showbackground\":true,\"ticks\":\"\",\"zerolinecolor\":\"white\"},\"zaxis\":{\"backgroundcolor\":\"#E5ECF6\",\"gridcolor\":\"white\",\"gridwidth\":2,\"linecolor\":\"white\",\"showbackground\":true,\"ticks\":\"\",\"zerolinecolor\":\"white\"}},\"shapedefaults\":{\"line\":{\"color\":\"#2a3f5f\"}},\"ternary\":{\"aaxis\":{\"gridcolor\":\"white\",\"linecolor\":\"white\",\"ticks\":\"\"},\"baxis\":{\"gridcolor\":\"white\",\"linecolor\":\"white\",\"ticks\":\"\"},\"bgcolor\":\"#E5ECF6\",\"caxis\":{\"gridcolor\":\"white\",\"linecolor\":\"white\",\"ticks\":\"\"}},\"title\":{\"x\":0.05},\"xaxis\":{\"automargin\":true,\"gridcolor\":\"white\",\"linecolor\":\"white\",\"ticks\":\"\",\"title\":{\"standoff\":15},\"zerolinecolor\":\"white\",\"zerolinewidth\":2},\"yaxis\":{\"automargin\":true,\"gridcolor\":\"white\",\"linecolor\":\"white\",\"ticks\":\"\",\"title\":{\"standoff\":15},\"zerolinecolor\":\"white\",\"zerolinewidth\":2}}},\"xaxis\":{\"anchor\":\"y\",\"domain\":[0.0,1.0],\"title\":{\"text\":\"Installs\"}},\"yaxis\":{\"anchor\":\"x\",\"domain\":[0.0,1.0],\"title\":{\"text\":\"Rating\"}},\"legend\":{\"tracegroupgap\":0},\"title\":{\"text\":\"ols Trend Line\"}},                        {\"responsive\": true}                    ).then(function(){\n",
              "                            \n",
              "var gd = document.getElementById('c3e08195-28fa-4e0f-a9cb-21679a88b65a');\n",
              "var x = new MutationObserver(function (mutations, observer) {{\n",
              "        var display = window.getComputedStyle(gd).display;\n",
              "        if (!display || display === 'none') {{\n",
              "            console.log([gd, 'removed!']);\n",
              "            Plotly.purge(gd);\n",
              "            observer.disconnect();\n",
              "        }}\n",
              "}});\n",
              "\n",
              "// Listen for the removal of the full notebook cells\n",
              "var notebookContainer = gd.closest('#notebook-container');\n",
              "if (notebookContainer) {{\n",
              "    x.observe(notebookContainer, {childList: true});\n",
              "}}\n",
              "\n",
              "// Listen for the clearing of the current output cell\n",
              "var outputEl = gd.closest('.output');\n",
              "if (outputEl) {{\n",
              "    x.observe(outputEl, {childList: true});\n",
              "}}\n",
              "\n",
              "                        })                };                            </script>        </div>\n",
              "</body>\n",
              "</html>"
            ]
          },
          "metadata": {}
        }
      ]
    }
  ]
}