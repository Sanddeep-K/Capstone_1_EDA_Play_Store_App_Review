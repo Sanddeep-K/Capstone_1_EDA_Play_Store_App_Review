{
  "nbformat": 4,
  "nbformat_minor": 0,
  "metadata": {
    "colab": {
      "provenance": [],
      "collapsed_sections": [],
      "authorship_tag": "ABX9TyMemaNA0vPazzWHwo7kM5GE",
      "include_colab_link": true
    },
    "kernelspec": {
      "name": "python3",
      "display_name": "Python 3"
    },
    "language_info": {
      "name": "python"
    }
  },
  "cells": [
    {
      "cell_type": "markdown",
      "metadata": {
        "id": "view-in-github",
        "colab_type": "text"
      },
      "source": [
        "<a href=\"https://colab.research.google.com/github/Sanddeep-K/Capstone_1_EDA_Play_Store_App_Review/blob/main/Sandeep_K_Capstone_1_EDA_Play_Store_App_Review.ipynb\" target=\"_parent\"><img src=\"https://colab.research.google.com/assets/colab-badge.svg\" alt=\"Open In Colab\"/></a>"
      ]
    },
    {
      "cell_type": "markdown",
      "source": [
        "# **Project Title : EDA of Play Store App Reviews**"
      ],
      "metadata": {
        "id": "CYbXZIkOw3-p"
      }
    },
    {
      "cell_type": "markdown",
      "source": [
        "## <b> Problem Description </b>\n",
        "\n",
        "The Play Store apps data has enormous potential to drive app-making businesses to success.\n",
        "\n",
        "New app maker company want to build a successful Mobile App, which should be accepted by huge customer base of Play Store and creatre a positive Brand Image among customers.\n",
        "\n",
        "This company has given this assignment to me and asked me to have a detailed EDA of given Play Store Data and submit a report to the Management with my Recommendations on below,\n",
        "\n",
        "1. Most Successful Genres, Categories & Apps on the Play Store\n",
        "2. Customer Segment wise most preferred App Categories\n",
        "3. Most reviewed and positively endorsed Genres / Categories & Apps\n",
        "4. Important factors leads to the success of Mobile App\n",
        "5. Technology, Specifications & Support requirements\n",
        "6. Things to be avoided by App Makers\n",
        "7. Actionable insights for the developers to work on and capture the Android market."
      ],
      "metadata": {
        "id": "3cYt3sphxJ-x"
      }
    },
    {
      "cell_type": "markdown",
      "source": [
        "# **Let's Start**"
      ],
      "metadata": {
        "id": "PCufhrYZxRwZ"
      }
    },
    {
      "cell_type": "markdown",
      "source": [
        "### First of all, let's mount the drive and import libraries those are required throughout the course of our analysis."
      ],
      "metadata": {
        "id": "IS1r2Ko3xajZ"
      }
    },
    {
      "cell_type": "code",
      "source": [
        "# Let's mount Google Drive first\n",
        "\n",
        "from google.colab import drive\n",
        "drive.mount('/content/drive/', force_remount=True)"
      ],
      "metadata": {
        "colab": {
          "base_uri": "https://localhost:8080/"
        },
        "id": "hbRbcppWxidL",
        "outputId": "def58a19-c4b3-4f5e-de4d-d3e05c88a3fb"
      },
      "execution_count": null,
      "outputs": [
        {
          "output_type": "stream",
          "name": "stdout",
          "text": [
            "Mounted at /content/drive/\n"
          ]
        }
      ]
    },
    {
      "cell_type": "code",
      "source": [
        "# Let's import required libraries to process data analysis and visualization\n",
        "\n",
        "import numpy as np\n",
        "import pandas as pd\n",
        "import seaborn as sns\n",
        "import matplotlib.pyplot as plt\n",
        "%matplotlib inline"
      ],
      "metadata": {
        "id": "nBRHm9j9yCAF"
      },
      "execution_count": null,
      "outputs": []
    }
  ]
}